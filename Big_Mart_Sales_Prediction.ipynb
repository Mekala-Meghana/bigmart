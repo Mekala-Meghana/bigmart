{
 "cells": [
  {
   "cell_type": "markdown",
   "metadata": {
    "colab_type": "text",
    "id": "view-in-github"
   },
   "source": [
    "<a href=\"https://colab.research.google.com/github/manashpratim/Big-Mart-Sales-Prediction/blob/master/Big_Mart_Sales_Prediction.ipynb\" target=\"_parent\"><img src=\"https://colab.research.google.com/assets/colab-badge.svg\" alt=\"Open In Colab\"/></a>"
   ]
  },
  {
   "cell_type": "code",
   "execution_count": 1,
   "metadata": {
    "colab": {},
    "colab_type": "code",
    "id": "7sIHaN1zjLI6"
   },
   "outputs": [],
   "source": [
    "import pandas as pd\n",
    "df1=pd.read_csv('train.csv') #loading the train set\n",
    "df2=pd.read_csv('test.csv')  #loading the test set"
   ]
  },
  {
   "cell_type": "code",
   "execution_count": 2,
   "metadata": {
    "colab": {
     "base_uri": "https://localhost:8080/",
     "height": 216
    },
    "colab_type": "code",
    "id": "k-apLbQLjo69",
    "outputId": "31214031-2307-4abd-bd85-2474c38af936"
   },
   "outputs": [
    {
     "data": {
      "text/html": [
       "<div>\n",
       "<style scoped>\n",
       "    .dataframe tbody tr th:only-of-type {\n",
       "        vertical-align: middle;\n",
       "    }\n",
       "\n",
       "    .dataframe tbody tr th {\n",
       "        vertical-align: top;\n",
       "    }\n",
       "\n",
       "    .dataframe thead th {\n",
       "        text-align: right;\n",
       "    }\n",
       "</style>\n",
       "<table border=\"1\" class=\"dataframe\">\n",
       "  <thead>\n",
       "    <tr style=\"text-align: right;\">\n",
       "      <th></th>\n",
       "      <th>Item_Identifier</th>\n",
       "      <th>Item_Weight</th>\n",
       "      <th>Item_Fat_Content</th>\n",
       "      <th>Item_Visibility</th>\n",
       "      <th>Item_Type</th>\n",
       "      <th>Item_MRP</th>\n",
       "      <th>Outlet_Identifier</th>\n",
       "      <th>Outlet_Establishment_Year</th>\n",
       "      <th>Outlet_Size</th>\n",
       "      <th>Outlet_Location_Type</th>\n",
       "      <th>Outlet_Type</th>\n",
       "      <th>Item_Outlet_Sales</th>\n",
       "    </tr>\n",
       "  </thead>\n",
       "  <tbody>\n",
       "    <tr>\n",
       "      <th>0</th>\n",
       "      <td>FDA15</td>\n",
       "      <td>9.30</td>\n",
       "      <td>Low Fat</td>\n",
       "      <td>0.016047</td>\n",
       "      <td>Dairy</td>\n",
       "      <td>249.8092</td>\n",
       "      <td>OUT049</td>\n",
       "      <td>1999</td>\n",
       "      <td>Medium</td>\n",
       "      <td>Tier 1</td>\n",
       "      <td>Supermarket Type1</td>\n",
       "      <td>3735.1380</td>\n",
       "    </tr>\n",
       "    <tr>\n",
       "      <th>1</th>\n",
       "      <td>DRC01</td>\n",
       "      <td>5.92</td>\n",
       "      <td>Regular</td>\n",
       "      <td>0.019278</td>\n",
       "      <td>Soft Drinks</td>\n",
       "      <td>48.2692</td>\n",
       "      <td>OUT018</td>\n",
       "      <td>2009</td>\n",
       "      <td>Medium</td>\n",
       "      <td>Tier 3</td>\n",
       "      <td>Supermarket Type2</td>\n",
       "      <td>443.4228</td>\n",
       "    </tr>\n",
       "    <tr>\n",
       "      <th>2</th>\n",
       "      <td>FDN15</td>\n",
       "      <td>17.50</td>\n",
       "      <td>Low Fat</td>\n",
       "      <td>0.016760</td>\n",
       "      <td>Meat</td>\n",
       "      <td>141.6180</td>\n",
       "      <td>OUT049</td>\n",
       "      <td>1999</td>\n",
       "      <td>Medium</td>\n",
       "      <td>Tier 1</td>\n",
       "      <td>Supermarket Type1</td>\n",
       "      <td>2097.2700</td>\n",
       "    </tr>\n",
       "    <tr>\n",
       "      <th>3</th>\n",
       "      <td>FDX07</td>\n",
       "      <td>19.20</td>\n",
       "      <td>Regular</td>\n",
       "      <td>0.000000</td>\n",
       "      <td>Fruits and Vegetables</td>\n",
       "      <td>182.0950</td>\n",
       "      <td>OUT010</td>\n",
       "      <td>1998</td>\n",
       "      <td>NaN</td>\n",
       "      <td>Tier 3</td>\n",
       "      <td>Grocery Store</td>\n",
       "      <td>732.3800</td>\n",
       "    </tr>\n",
       "    <tr>\n",
       "      <th>4</th>\n",
       "      <td>NCD19</td>\n",
       "      <td>8.93</td>\n",
       "      <td>Low Fat</td>\n",
       "      <td>0.000000</td>\n",
       "      <td>Household</td>\n",
       "      <td>53.8614</td>\n",
       "      <td>OUT013</td>\n",
       "      <td>1987</td>\n",
       "      <td>High</td>\n",
       "      <td>Tier 3</td>\n",
       "      <td>Supermarket Type1</td>\n",
       "      <td>994.7052</td>\n",
       "    </tr>\n",
       "  </tbody>\n",
       "</table>\n",
       "</div>"
      ],
      "text/plain": [
       "  Item_Identifier  Item_Weight Item_Fat_Content  Item_Visibility  \\\n",
       "0           FDA15         9.30          Low Fat         0.016047   \n",
       "1           DRC01         5.92          Regular         0.019278   \n",
       "2           FDN15        17.50          Low Fat         0.016760   \n",
       "3           FDX07        19.20          Regular         0.000000   \n",
       "4           NCD19         8.93          Low Fat         0.000000   \n",
       "\n",
       "               Item_Type  Item_MRP Outlet_Identifier  \\\n",
       "0                  Dairy  249.8092            OUT049   \n",
       "1            Soft Drinks   48.2692            OUT018   \n",
       "2                   Meat  141.6180            OUT049   \n",
       "3  Fruits and Vegetables  182.0950            OUT010   \n",
       "4              Household   53.8614            OUT013   \n",
       "\n",
       "   Outlet_Establishment_Year Outlet_Size Outlet_Location_Type  \\\n",
       "0                       1999      Medium               Tier 1   \n",
       "1                       2009      Medium               Tier 3   \n",
       "2                       1999      Medium               Tier 1   \n",
       "3                       1998         NaN               Tier 3   \n",
       "4                       1987        High               Tier 3   \n",
       "\n",
       "         Outlet_Type  Item_Outlet_Sales  \n",
       "0  Supermarket Type1          3735.1380  \n",
       "1  Supermarket Type2           443.4228  \n",
       "2  Supermarket Type1          2097.2700  \n",
       "3      Grocery Store           732.3800  \n",
       "4  Supermarket Type1           994.7052  "
      ]
     },
     "execution_count": 2,
     "metadata": {},
     "output_type": "execute_result"
    }
   ],
   "source": [
    "df1.head(5)"
   ]
  },
  {
   "cell_type": "code",
   "execution_count": 3,
   "metadata": {
    "colab": {
     "base_uri": "https://localhost:8080/",
     "height": 256
    },
    "colab_type": "code",
    "id": "kcTh_VSskAGl",
    "outputId": "716c5ded-ceb3-4b24-ec9a-6a1de3588e52"
   },
   "outputs": [
    {
     "data": {
      "text/plain": [
       "Item_Identifier                 0\n",
       "Item_Weight                  1463\n",
       "Item_Fat_Content                0\n",
       "Item_Visibility                 0\n",
       "Item_Type                       0\n",
       "Item_MRP                        0\n",
       "Outlet_Identifier               0\n",
       "Outlet_Establishment_Year       0\n",
       "Outlet_Size                  2410\n",
       "Outlet_Location_Type            0\n",
       "Outlet_Type                     0\n",
       "Item_Outlet_Sales               0\n",
       "dtype: int64"
      ]
     },
     "execution_count": 3,
     "metadata": {},
     "output_type": "execute_result"
    }
   ],
   "source": [
    "# Checking Null values in Train Set\n",
    "df1.isnull().sum()"
   ]
  },
  {
   "cell_type": "code",
   "execution_count": 4,
   "metadata": {
    "colab": {
     "base_uri": "https://localhost:8080/",
     "height": 237
    },
    "colab_type": "code",
    "id": "Bt13zF_ekfCH",
    "outputId": "3f5b1253-ec75-492e-c56c-6525e4828f57"
   },
   "outputs": [
    {
     "data": {
      "text/plain": [
       "Item_Identifier                 0\n",
       "Item_Weight                   976\n",
       "Item_Fat_Content                0\n",
       "Item_Visibility                 0\n",
       "Item_Type                       0\n",
       "Item_MRP                        0\n",
       "Outlet_Identifier               0\n",
       "Outlet_Establishment_Year       0\n",
       "Outlet_Size                  1606\n",
       "Outlet_Location_Type            0\n",
       "Outlet_Type                     0\n",
       "dtype: int64"
      ]
     },
     "execution_count": 4,
     "metadata": {},
     "output_type": "execute_result"
    }
   ],
   "source": [
    "# Checking Null values in Test Set\n",
    "df2.isnull().sum()"
   ]
  },
  {
   "cell_type": "code",
   "execution_count": 5,
   "metadata": {
    "colab": {},
    "colab_type": "code",
    "id": "smVao9LEkqhM"
   },
   "outputs": [],
   "source": [
    "#Filling the Null values in 'Item_Weight' column with the average weight \n",
    "df1['Item_Weight'].fillna(value=df1['Item_Weight'].mean(),inplace=True)\n",
    "df2['Item_Weight'].fillna(value=df2['Item_Weight'].mean(),inplace=True)\n",
    "\n",
    "#Filling the Null values in 'Outlet_Size' column with \"Unknown\"\n",
    "df1['Outlet_Size'].fillna(value='Unknown',inplace=True)\n",
    "df2['Outlet_Size'].fillna(value='Unknown',inplace=True)"
   ]
  },
  {
   "cell_type": "code",
   "execution_count": 6,
   "metadata": {
    "colab": {
     "base_uri": "https://localhost:8080/",
     "height": 256
    },
    "colab_type": "code",
    "id": "KDXRTgxbnQ8O",
    "outputId": "f6ceede1-3764-458a-d6ad-9dfe56297028"
   },
   "outputs": [
    {
     "data": {
      "text/plain": [
       "Item_Identifier              0\n",
       "Item_Weight                  0\n",
       "Item_Fat_Content             0\n",
       "Item_Visibility              0\n",
       "Item_Type                    0\n",
       "Item_MRP                     0\n",
       "Outlet_Identifier            0\n",
       "Outlet_Establishment_Year    0\n",
       "Outlet_Size                  0\n",
       "Outlet_Location_Type         0\n",
       "Outlet_Type                  0\n",
       "Item_Outlet_Sales            0\n",
       "dtype: int64"
      ]
     },
     "execution_count": 6,
     "metadata": {},
     "output_type": "execute_result"
    }
   ],
   "source": [
    "#Checking the Null values in Train set\n",
    "df1.isnull().sum()"
   ]
  },
  {
   "cell_type": "code",
   "execution_count": 7,
   "metadata": {
    "colab": {
     "base_uri": "https://localhost:8080/",
     "height": 237
    },
    "colab_type": "code",
    "id": "zZwaOI6Tn-w5",
    "outputId": "b536c509-4152-4bea-ba73-f12d325e987e"
   },
   "outputs": [
    {
     "data": {
      "text/plain": [
       "Item_Identifier              0\n",
       "Item_Weight                  0\n",
       "Item_Fat_Content             0\n",
       "Item_Visibility              0\n",
       "Item_Type                    0\n",
       "Item_MRP                     0\n",
       "Outlet_Identifier            0\n",
       "Outlet_Establishment_Year    0\n",
       "Outlet_Size                  0\n",
       "Outlet_Location_Type         0\n",
       "Outlet_Type                  0\n",
       "dtype: int64"
      ]
     },
     "execution_count": 7,
     "metadata": {},
     "output_type": "execute_result"
    }
   ],
   "source": [
    "#Checking the Null values in Test set\n",
    "df2.isnull().sum()"
   ]
  },
  {
   "cell_type": "code",
   "execution_count": 8,
   "metadata": {
    "colab": {
     "base_uri": "https://localhost:8080/",
     "height": 727
    },
    "colab_type": "code",
    "id": "txnDsh-5sRyX",
    "outputId": "a4135594-d838-450e-c6f7-3fd6ebcd6111"
   },
   "outputs": [
    {
     "name": "stdout",
     "output_type": "stream",
     "text": [
      "Item_Type:\n",
      " Fruits and Vegetables    1232\n",
      "Snack Foods              1200\n",
      "Household                 910\n",
      "Frozen Foods              856\n",
      "Dairy                     682\n",
      "Canned                    649\n",
      "Baking Goods              648\n",
      "Health and Hygiene        520\n",
      "Soft Drinks               445\n",
      "Meat                      425\n",
      "Breads                    251\n",
      "Hard Drinks               214\n",
      "Others                    169\n",
      "Starchy Foods             148\n",
      "Breakfast                 110\n",
      "Seafood                    64\n",
      "Name: Item_Type, dtype: int64\n"
     ]
    },
    {
     "data": {
      "image/png": "[encoded data removed]",
      "text/plain": [
       "<Figure size 432x288 with 1 Axes>"
      ]
     },
     "metadata": {
      "needs_background": "light"
     },
     "output_type": "display_data"
    }
   ],
   "source": [
    "df1['Item_Type'].value_counts()\n",
    "import numpy as np\n",
    "import matplotlib.pyplot as plt\n",
    "plt.bar(df1['Item_Type'].value_counts().index, df1['Item_Type'].value_counts(), width=0.5, bottom=None, align='center', data=df1)\n",
    "plt.title('Item_Type Distribution')\n",
    "plt.xticks(rotation='vertical')\n",
    "plt.xlabel('Item_Type')\n",
    "plt.ylabel('Frequency')\n",
    "print('Item_Type:\\n',df1['Item_Type'].value_counts())"
   ]
  },
  {
   "cell_type": "code",
   "execution_count": 9,
   "metadata": {
    "colab": {},
    "colab_type": "code",
    "id": "DtAG-MDmoi3n"
   },
   "outputs": [],
   "source": [
    "# Let's categorize 'Item_Type' into 'Non consumables', 'Drinks' and 'Foods' according to the 'Item_Identifier'\n",
    "def item_identify(cols):\n",
    "  item_id=cols[0]\n",
    "  item_type=cols[1]\n",
    "  \n",
    "  if item_id[:2] == 'NC':\n",
    "    return 'Non Consumables'\n",
    "  elif item_id[:2] == 'DR':\n",
    "    return 'Drinks'\n",
    "  else:\n",
    "    return 'Foods'"
   ]
  },
  {
   "cell_type": "code",
   "execution_count": 10,
   "metadata": {
    "colab": {},
    "colab_type": "code",
    "id": "02dLOWnDnuJ6"
   },
   "outputs": [],
   "source": [
    "df1['Item_Type']=df1[['Item_Identifier','Item_Type']].apply(item_identify,axis=1)\n",
    "df2['Item_Type']=df2[['Item_Identifier','Item_Type']].apply(item_identify,axis=1)"
   ]
  },
  {
   "cell_type": "code",
   "execution_count": 11,
   "metadata": {
    "colab": {
     "base_uri": "https://localhost:8080/",
     "height": 388
    },
    "colab_type": "code",
    "id": "meO8duRgrjBi",
    "outputId": "308d59fe-a58e-4355-93c1-c383cb54f13d"
   },
   "outputs": [
    {
     "name": "stdout",
     "output_type": "stream",
     "text": [
      "Item_Type:\n",
      " Foods              6125\n",
      "Non Consumables    1599\n",
      "Drinks              799\n",
      "Name: Item_Type, dtype: int64\n"
     ]
    },
    {
     "data": {
      "image/png": "[encoded data removed]",
      "text/plain": [
       "<Figure size 432x288 with 1 Axes>"
      ]
     },
     "metadata": {
      "needs_background": "light"
     },
     "output_type": "display_data"
    }
   ],
   "source": [
    "df1['Item_Type'].value_counts()\n",
    "import numpy as np\n",
    "import matplotlib.pyplot as plt\n",
    "plt.bar(df1['Item_Type'].value_counts().index, df1['Item_Type'].value_counts(), width=0.5, bottom=None, align='center', data=df1)\n",
    "plt.title('Item_Type Distribution')\n",
    "#plt.xticks(rotation='vertical')\n",
    "plt.xlabel('Item_Type')\n",
    "plt.ylabel('Frequency')\n",
    "print('Item_Type:\\n',df1['Item_Type'].value_counts())"
   ]
  },
  {
   "cell_type": "code",
   "execution_count": 12,
   "metadata": {
    "colab": {
     "base_uri": "https://localhost:8080/",
     "height": 425
    },
    "colab_type": "code",
    "id": "tP47jncxoLQW",
    "outputId": "c4d7026d-ddb6-4f43-abe4-efe36f0a2fa6"
   },
   "outputs": [
    {
     "name": "stdout",
     "output_type": "stream",
     "text": [
      "Item_Fat_Content:\n",
      " Low Fat    5089\n",
      "Regular    2889\n",
      "LF          316\n",
      "reg         117\n",
      "low fat     112\n",
      "Name: Item_Fat_Content, dtype: int64\n"
     ]
    },
    {
     "data": {
      "image/png": "[encoded data removed]",
      "text/plain": [
       "<Figure size 432x288 with 1 Axes>"
      ]
     },
     "metadata": {
      "needs_background": "light"
     },
     "output_type": "display_data"
    }
   ],
   "source": [
    "import numpy as np\n",
    "import matplotlib.pyplot as plt\n",
    "plt.bar(df1['Item_Fat_Content'].value_counts().index, df1['Item_Fat_Content'].value_counts(), width=0.5, bottom=None, align='center', data=df1)\n",
    "plt.title('Item_Fat_Content Distribution')\n",
    "plt.xlabel('Item_Fat_Content')\n",
    "plt.ylabel('Frequency')\n",
    "print('Item_Fat_Content:\\n',df1['Item_Fat_Content'].value_counts())\n",
    "#df1['Item_Fat_Content'].value_counts()"
   ]
  },
  {
   "cell_type": "code",
   "execution_count": 13,
   "metadata": {
    "colab": {},
    "colab_type": "code",
    "id": "STQtuaWUq1S_"
   },
   "outputs": [],
   "source": [
    "# From the above graph we can see that there are actually two classes in 'Item_Fat_Content'. But some of the items are non consumables.  \n",
    "def item_fat(cols):\n",
    "  fat=cols[0]\n",
    "  typ=cols[1]\n",
    "  \n",
    "  if (fat=='Low Fat' or fat=='LF' or fat=='low fat') and (typ=='Foods' or typ=='Drinks'):\n",
    "    return 'Low Fat'\n",
    "  elif (fat=='Regular' or fat=='reg') and (typ=='Foods' or typ=='Drinks'):\n",
    "    return 'Regular'\n",
    "  else:\n",
    "    return 'Non Edible'\n",
    "    "
   ]
  },
  {
   "cell_type": "code",
   "execution_count": 14,
   "metadata": {
    "colab": {},
    "colab_type": "code",
    "id": "jJD1elSTrPLb"
   },
   "outputs": [],
   "source": [
    "df1['Item_Fat_Content']=df1[['Item_Fat_Content','Item_Type']].apply(item_fat,axis=1)\n",
    "df2['Item_Fat_Content']=df2[['Item_Fat_Content','Item_Type']].apply(item_fat,axis=1)"
   ]
  },
  {
   "cell_type": "code",
   "execution_count": 15,
   "metadata": {
    "colab": {
     "base_uri": "https://localhost:8080/",
     "height": 388
    },
    "colab_type": "code",
    "id": "SZ1Gy63gsIL8",
    "outputId": "392d9d79-2754-40e5-930d-1a7b8e0c80ae"
   },
   "outputs": [
    {
     "name": "stdout",
     "output_type": "stream",
     "text": [
      "Item_Fat_Content:\n",
      " Low Fat       3918\n",
      "Regular       3006\n",
      "Non Edible    1599\n",
      "Name: Item_Fat_Content, dtype: int64\n"
     ]
    },
    {
     "data": {
      "image/png": "[encoded data removed]",
      "text/plain": [
       "<Figure size 432x288 with 1 Axes>"
      ]
     },
     "metadata": {
      "needs_background": "light"
     },
     "output_type": "display_data"
    }
   ],
   "source": [
    "import numpy as np\n",
    "import matplotlib.pyplot as plt\n",
    "plt.bar(df1['Item_Fat_Content'].unique(), df1['Item_Fat_Content'].value_counts(), width=0.5, bottom=None, align='center', data=df1)\n",
    "plt.title('Item_Fat_Content Distribution')\n",
    "plt.xlabel('Item_Fat_Content')\n",
    "plt.ylabel('Frequency')\n",
    "print('Item_Fat_Content:\\n',df1['Item_Fat_Content'].value_counts())"
   ]
  },
  {
   "cell_type": "code",
   "execution_count": 16,
   "metadata": {
    "colab": {
     "base_uri": "https://localhost:8080/",
     "height": 314
    },
    "colab_type": "code",
    "id": "V0x4-38rvnn3",
    "outputId": "0d76a0a1-071a-4c75-8c8d-8710c7bc8f49"
   },
   "outputs": [
    {
     "data": {
      "text/plain": [
       "Text(0, 0.5, 'Frequency')"
      ]
     },
     "execution_count": 16,
     "metadata": {},
     "output_type": "execute_result"
    },
    {
     "data": {
      "image/png": "[encoded data removed]",
      "text/plain": [
       "<Figure size 432x288 with 1 Axes>"
      ]
     },
     "metadata": {
      "needs_background": "light"
     },
     "output_type": "display_data"
    }
   ],
   "source": [
    "df1['Outlet_Size'].value_counts()\n",
    "import numpy as np\n",
    "import matplotlib.pyplot as plt\n",
    "plt.bar(df1['Outlet_Size'].value_counts().index, df1['Outlet_Size'].value_counts(), width=0.5, bottom=None, align='center', data=df1)\n",
    "plt.title('Outlet_Size')\n",
    "#plt.xticks(rotation='vertical')\n",
    "plt.xlabel('Outlet_Size')\n",
    "plt.ylabel('Frequency')"
   ]
  },
  {
   "cell_type": "code",
   "execution_count": 17,
   "metadata": {
    "colab": {
     "base_uri": "https://localhost:8080/",
     "height": 314
    },
    "colab_type": "code",
    "id": "eSv1S9lEtYDM",
    "outputId": "c259d8af-bec4-431a-d053-f4c8ee50554f"
   },
   "outputs": [
    {
     "data": {
      "text/plain": [
       "Text(0, 0.5, 'Frequency')"
      ]
     },
     "execution_count": 17,
     "metadata": {},
     "output_type": "execute_result"
    },
    {
     "data": {
      "image/png": "[encoded data removed]",
      "text/plain": [
       "<Figure size 432x288 with 1 Axes>"
      ]
     },
     "metadata": {
      "needs_background": "light"
     },
     "output_type": "display_data"
    }
   ],
   "source": [
    "df1['Outlet_Location_Type'].value_counts()\n",
    "import numpy as np\n",
    "import matplotlib.pyplot as plt\n",
    "plt.bar(df1['Outlet_Location_Type'].value_counts().index, df1['Outlet_Location_Type'].value_counts(), width=0.5, bottom=None, align='center', data=df1)\n",
    "plt.title('Outlet_Location_Type Distribution')\n",
    "#plt.xticks(rotation='vertical')\n",
    "plt.xlabel('Outlet_Location_Type')\n",
    "plt.ylabel('Frequency')"
   ]
  },
  {
   "cell_type": "code",
   "execution_count": 18,
   "metadata": {
    "colab": {
     "base_uri": "https://localhost:8080/",
     "height": 403
    },
    "colab_type": "code",
    "id": "ubaaqOJ3wMWc",
    "outputId": "4d018b8b-60fc-4595-9121-5b0e7e5af039"
   },
   "outputs": [
    {
     "data": {
      "text/plain": [
       "Text(0, 0.5, 'Frequency')"
      ]
     },
     "execution_count": 18,
     "metadata": {},
     "output_type": "execute_result"
    },
    {
     "data": {
      "image/png": "[encoded data removed]",
      "text/plain": [
       "<Figure size 432x288 with 1 Axes>"
      ]
     },
     "metadata": {
      "needs_background": "light"
     },
     "output_type": "display_data"
    }
   ],
   "source": [
    "df1['Outlet_Type'].value_counts()\n",
    "import numpy as np\n",
    "import matplotlib.pyplot as plt\n",
    "plt.bar(df1['Outlet_Type'].value_counts().index, df1['Outlet_Type'].value_counts(), width=0.5, bottom=None, align='center', data=df1)\n",
    "plt.title('Outlet_Type')\n",
    "plt.xticks(rotation='vertical')\n",
    "plt.xlabel('Outlet_Type')\n",
    "plt.ylabel('Frequency')"
   ]
  },
  {
   "cell_type": "code",
   "execution_count": 19,
   "metadata": {
    "colab": {
     "base_uri": "https://localhost:8080/",
     "height": 90
    },
    "colab_type": "code",
    "id": "kF8oGMm-z0TI",
    "outputId": "151faf69-460c-4aa6-aa86-5aae7f63bfbe"
   },
   "outputs": [
    {
     "data": {
      "text/plain": [
       "0.000000    526\n",
       "0.076975      3\n",
       "0.041283      2\n",
       "Name: Item_Visibility, dtype: int64"
      ]
     },
     "execution_count": 19,
     "metadata": {},
     "output_type": "execute_result"
    }
   ],
   "source": [
    "df1['Item_Visibility'].value_counts().head(3)"
   ]
  },
  {
   "cell_type": "code",
   "execution_count": 20,
   "metadata": {
    "colab": {},
    "colab_type": "code",
    "id": "pKzzDeC0xlei"
   },
   "outputs": [],
   "source": [
    "#The column 'Item_Visibility' has lots of 0 values. Let's fill this values with the mean value\n",
    "df1['Item_Visibility'].mask(df1['Item_Visibility']== 0,df1['Item_Visibility'].mean(),inplace=True)\n",
    "df2['Item_Visibility'].mask(df2['Item_Visibility']== 0,df2['Item_Visibility'].mean(),inplace=True)"
   ]
  },
  {
   "cell_type": "code",
   "execution_count": 21,
   "metadata": {
    "colab": {},
    "colab_type": "code",
    "id": "olWdkDIR11WC"
   },
   "outputs": [],
   "source": [
    "#Let's add a new feature that would have the number of years the outlet has been in operation till 2013. (This dataset is from 2013). \n",
    "def num_years(col):\n",
    "  return 2013-col"
   ]
  },
  {
   "cell_type": "code",
   "execution_count": 22,
   "metadata": {
    "colab": {},
    "colab_type": "code",
    "id": "3-A1COuw1-Hf"
   },
   "outputs": [],
   "source": [
    "df1['Years_of_Operation']=df1['Outlet_Establishment_Year'].apply(num_years)\n",
    "df2['Years_of_Operation']=df2['Outlet_Establishment_Year'].apply(num_years)"
   ]
  },
  {
   "cell_type": "code",
   "execution_count": 23,
   "metadata": {
    "colab": {},
    "colab_type": "code",
    "id": "R9gV1tJmjPAZ"
   },
   "outputs": [],
   "source": [
    "# One hot encoding the categorical variables in both train and test set\n",
    "item_fat_content=pd.get_dummies(df1['Item_Fat_Content'])\n",
    "item_type=pd.get_dummies(df1['Item_Type'])\n",
    "outlet_size=pd.get_dummies(df1['Outlet_Size'])\n",
    "outlet_location_type=pd.get_dummies(df1['Outlet_Location_Type'])\n",
    "output_type=pd.get_dummies(df1['Outlet_Type'])\n",
    "\n",
    "item_fat_content_test=pd.get_dummies(df2['Item_Fat_Content'])\n",
    "item_type_test=pd.get_dummies(df2['Item_Type'])\n",
    "outlet_size_test=pd.get_dummies(df2['Outlet_Size'])\n",
    "outlet_location_type_test=pd.get_dummies(df2['Outlet_Location_Type'])\n",
    "output_type_test=pd.get_dummies(df2['Outlet_Type'])"
   ]
  },
  {
   "cell_type": "code",
   "execution_count": 24,
   "metadata": {},
   "outputs": [
    {
     "data": {
      "text/html": [
       "<div>\n",
       "<style scoped>\n",
       "    .dataframe tbody tr th:only-of-type {\n",
       "        vertical-align: middle;\n",
       "    }\n",
       "\n",
       "    .dataframe tbody tr th {\n",
       "        vertical-align: top;\n",
       "    }\n",
       "\n",
       "    .dataframe thead th {\n",
       "        text-align: right;\n",
       "    }\n",
       "</style>\n",
       "<table border=\"1\" class=\"dataframe\">\n",
       "  <thead>\n",
       "    <tr style=\"text-align: right;\">\n",
       "      <th></th>\n",
       "      <th>Item_Identifier</th>\n",
       "      <th>Item_Weight</th>\n",
       "      <th>Item_Fat_Content</th>\n",
       "      <th>Item_Visibility</th>\n",
       "      <th>Item_Type</th>\n",
       "      <th>Item_MRP</th>\n",
       "      <th>Outlet_Identifier</th>\n",
       "      <th>Outlet_Establishment_Year</th>\n",
       "      <th>Outlet_Size</th>\n",
       "      <th>Outlet_Location_Type</th>\n",
       "      <th>Outlet_Type</th>\n",
       "      <th>Item_Outlet_Sales</th>\n",
       "      <th>Years_of_Operation</th>\n",
       "    </tr>\n",
       "  </thead>\n",
       "  <tbody>\n",
       "    <tr>\n",
       "      <th>0</th>\n",
       "      <td>FDA15</td>\n",
       "      <td>9.300</td>\n",
       "      <td>Low Fat</td>\n",
       "      <td>0.016047</td>\n",
       "      <td>Foods</td>\n",
       "      <td>249.8092</td>\n",
       "      <td>OUT049</td>\n",
       "      <td>1999</td>\n",
       "      <td>Medium</td>\n",
       "      <td>Tier 1</td>\n",
       "      <td>Supermarket Type1</td>\n",
       "      <td>3735.1380</td>\n",
       "      <td>14</td>\n",
       "    </tr>\n",
       "    <tr>\n",
       "      <th>1</th>\n",
       "      <td>DRC01</td>\n",
       "      <td>5.920</td>\n",
       "      <td>Regular</td>\n",
       "      <td>0.019278</td>\n",
       "      <td>Drinks</td>\n",
       "      <td>48.2692</td>\n",
       "      <td>OUT018</td>\n",
       "      <td>2009</td>\n",
       "      <td>Medium</td>\n",
       "      <td>Tier 3</td>\n",
       "      <td>Supermarket Type2</td>\n",
       "      <td>443.4228</td>\n",
       "      <td>4</td>\n",
       "    </tr>\n",
       "    <tr>\n",
       "      <th>2</th>\n",
       "      <td>FDN15</td>\n",
       "      <td>17.500</td>\n",
       "      <td>Low Fat</td>\n",
       "      <td>0.016760</td>\n",
       "      <td>Foods</td>\n",
       "      <td>141.6180</td>\n",
       "      <td>OUT049</td>\n",
       "      <td>1999</td>\n",
       "      <td>Medium</td>\n",
       "      <td>Tier 1</td>\n",
       "      <td>Supermarket Type1</td>\n",
       "      <td>2097.2700</td>\n",
       "      <td>14</td>\n",
       "    </tr>\n",
       "    <tr>\n",
       "      <th>3</th>\n",
       "      <td>FDX07</td>\n",
       "      <td>19.200</td>\n",
       "      <td>Regular</td>\n",
       "      <td>0.066132</td>\n",
       "      <td>Foods</td>\n",
       "      <td>182.0950</td>\n",
       "      <td>OUT010</td>\n",
       "      <td>1998</td>\n",
       "      <td>Unknown</td>\n",
       "      <td>Tier 3</td>\n",
       "      <td>Grocery Store</td>\n",
       "      <td>732.3800</td>\n",
       "      <td>15</td>\n",
       "    </tr>\n",
       "    <tr>\n",
       "      <th>4</th>\n",
       "      <td>NCD19</td>\n",
       "      <td>8.930</td>\n",
       "      <td>Non Edible</td>\n",
       "      <td>0.066132</td>\n",
       "      <td>Non Consumables</td>\n",
       "      <td>53.8614</td>\n",
       "      <td>OUT013</td>\n",
       "      <td>1987</td>\n",
       "      <td>High</td>\n",
       "      <td>Tier 3</td>\n",
       "      <td>Supermarket Type1</td>\n",
       "      <td>994.7052</td>\n",
       "      <td>26</td>\n",
       "    </tr>\n",
       "    <tr>\n",
       "      <th>...</th>\n",
       "      <td>...</td>\n",
       "      <td>...</td>\n",
       "      <td>...</td>\n",
       "      <td>...</td>\n",
       "      <td>...</td>\n",
       "      <td>...</td>\n",
       "      <td>...</td>\n",
       "      <td>...</td>\n",
       "      <td>...</td>\n",
       "      <td>...</td>\n",
       "      <td>...</td>\n",
       "      <td>...</td>\n",
       "      <td>...</td>\n",
       "    </tr>\n",
       "    <tr>\n",
       "      <th>8518</th>\n",
       "      <td>FDF22</td>\n",
       "      <td>6.865</td>\n",
       "      <td>Low Fat</td>\n",
       "      <td>0.056783</td>\n",
       "      <td>Foods</td>\n",
       "      <td>214.5218</td>\n",
       "      <td>OUT013</td>\n",
       "      <td>1987</td>\n",
       "      <td>High</td>\n",
       "      <td>Tier 3</td>\n",
       "      <td>Supermarket Type1</td>\n",
       "      <td>2778.3834</td>\n",
       "      <td>26</td>\n",
       "    </tr>\n",
       "    <tr>\n",
       "      <th>8519</th>\n",
       "      <td>FDS36</td>\n",
       "      <td>8.380</td>\n",
       "      <td>Regular</td>\n",
       "      <td>0.046982</td>\n",
       "      <td>Foods</td>\n",
       "      <td>108.1570</td>\n",
       "      <td>OUT045</td>\n",
       "      <td>2002</td>\n",
       "      <td>Unknown</td>\n",
       "      <td>Tier 2</td>\n",
       "      <td>Supermarket Type1</td>\n",
       "      <td>549.2850</td>\n",
       "      <td>11</td>\n",
       "    </tr>\n",
       "    <tr>\n",
       "      <th>8520</th>\n",
       "      <td>NCJ29</td>\n",
       "      <td>10.600</td>\n",
       "      <td>Non Edible</td>\n",
       "      <td>0.035186</td>\n",
       "      <td>Non Consumables</td>\n",
       "      <td>85.1224</td>\n",
       "      <td>OUT035</td>\n",
       "      <td>2004</td>\n",
       "      <td>Small</td>\n",
       "      <td>Tier 2</td>\n",
       "      <td>Supermarket Type1</td>\n",
       "      <td>1193.1136</td>\n",
       "      <td>9</td>\n",
       "    </tr>\n",
       "    <tr>\n",
       "      <th>8521</th>\n",
       "      <td>FDN46</td>\n",
       "      <td>7.210</td>\n",
       "      <td>Regular</td>\n",
       "      <td>0.145221</td>\n",
       "      <td>Foods</td>\n",
       "      <td>103.1332</td>\n",
       "      <td>OUT018</td>\n",
       "      <td>2009</td>\n",
       "      <td>Medium</td>\n",
       "      <td>Tier 3</td>\n",
       "      <td>Supermarket Type2</td>\n",
       "      <td>1845.5976</td>\n",
       "      <td>4</td>\n",
       "    </tr>\n",
       "    <tr>\n",
       "      <th>8522</th>\n",
       "      <td>DRG01</td>\n",
       "      <td>14.800</td>\n",
       "      <td>Low Fat</td>\n",
       "      <td>0.044878</td>\n",
       "      <td>Drinks</td>\n",
       "      <td>75.4670</td>\n",
       "      <td>OUT046</td>\n",
       "      <td>1997</td>\n",
       "      <td>Small</td>\n",
       "      <td>Tier 1</td>\n",
       "      <td>Supermarket Type1</td>\n",
       "      <td>765.6700</td>\n",
       "      <td>16</td>\n",
       "    </tr>\n",
       "  </tbody>\n",
       "</table>\n",
       "<p>8523 rows × 13 columns</p>\n",
       "</div>"
      ],
      "text/plain": [
       "     Item_Identifier  Item_Weight Item_Fat_Content  Item_Visibility  \\\n",
       "0              FDA15        9.300          Low Fat         0.016047   \n",
       "1              DRC01        5.920          Regular         0.019278   \n",
       "2              FDN15       17.500          Low Fat         0.016760   \n",
       "3              FDX07       19.200          Regular         0.066132   \n",
       "4              NCD19        8.930       Non Edible         0.066132   \n",
       "...              ...          ...              ...              ...   \n",
       "8518           FDF22        6.865          Low Fat         0.056783   \n",
       "8519           FDS36        8.380          Regular         0.046982   \n",
       "8520           NCJ29       10.600       Non Edible         0.035186   \n",
       "8521           FDN46        7.210          Regular         0.145221   \n",
       "8522           DRG01       14.800          Low Fat         0.044878   \n",
       "\n",
       "            Item_Type  Item_MRP Outlet_Identifier  Outlet_Establishment_Year  \\\n",
       "0               Foods  249.8092            OUT049                       1999   \n",
       "1              Drinks   48.2692            OUT018                       2009   \n",
       "2               Foods  141.6180            OUT049                       1999   \n",
       "3               Foods  182.0950            OUT010                       1998   \n",
       "4     Non Consumables   53.8614            OUT013                       1987   \n",
       "...               ...       ...               ...                        ...   \n",
       "8518            Foods  214.5218            OUT013                       1987   \n",
       "8519            Foods  108.1570            OUT045                       2002   \n",
       "8520  Non Consumables   85.1224            OUT035                       2004   \n",
       "8521            Foods  103.1332            OUT018                       2009   \n",
       "8522           Drinks   75.4670            OUT046                       1997   \n",
       "\n",
       "     Outlet_Size Outlet_Location_Type        Outlet_Type  Item_Outlet_Sales  \\\n",
       "0         Medium               Tier 1  Supermarket Type1          3735.1380   \n",
       "1         Medium               Tier 3  Supermarket Type2           443.4228   \n",
       "2         Medium               Tier 1  Supermarket Type1          2097.2700   \n",
       "3        Unknown               Tier 3      Grocery Store           732.3800   \n",
       "4           High               Tier 3  Supermarket Type1           994.7052   \n",
       "...          ...                  ...                ...                ...   \n",
       "8518        High               Tier 3  Supermarket Type1          2778.3834   \n",
       "8519     Unknown               Tier 2  Supermarket Type1           549.2850   \n",
       "8520       Small               Tier 2  Supermarket Type1          1193.1136   \n",
       "8521      Medium               Tier 3  Supermarket Type2          1845.5976   \n",
       "8522       Small               Tier 1  Supermarket Type1           765.6700   \n",
       "\n",
       "      Years_of_Operation  \n",
       "0                     14  \n",
       "1                      4  \n",
       "2                     14  \n",
       "3                     15  \n",
       "4                     26  \n",
       "...                  ...  \n",
       "8518                  26  \n",
       "8519                  11  \n",
       "8520                   9  \n",
       "8521                   4  \n",
       "8522                  16  \n",
       "\n",
       "[8523 rows x 13 columns]"
      ]
     },
     "execution_count": 24,
     "metadata": {},
     "output_type": "execute_result"
    }
   ],
   "source": [
    "df1"
   ]
  },
  {
   "cell_type": "code",
   "execution_count": 25,
   "metadata": {
    "colab": {},
    "colab_type": "code",
    "id": "sMgvsYcoopms"
   },
   "outputs": [],
   "source": [
    "train=df1\n",
    "train=pd.concat([train,item_fat_content,item_type,outlet_size,outlet_location_type,output_type],axis=1)\n",
    "train.drop(['Item_Identifier','Item_Fat_Content','Item_Type','Outlet_Identifier','Outlet_Establishment_Year','Outlet_Size', 'Outlet_Location_Type',\n",
    "       'Outlet_Type'],axis=1,inplace=True)\n",
    "test=df2\n",
    "test=pd.concat([test,item_fat_content_test,item_type_test,outlet_size_test,outlet_location_type_test,output_type_test],axis=1)\n",
    "test.drop(['Item_Identifier','Item_Fat_Content','Item_Type','Outlet_Identifier','Outlet_Establishment_Year','Outlet_Size', 'Outlet_Location_Type',\n",
    "       'Outlet_Type'],axis=1,inplace=True)"
   ]
  },
  {
   "cell_type": "code",
   "execution_count": 26,
   "metadata": {
    "colab": {},
    "colab_type": "code",
    "id": "N8FW2ywRb2gv"
   },
   "outputs": [],
   "source": [
    "x=train.drop(['Item_Outlet_Sales'],axis=1)\n",
    "y=train['Item_Outlet_Sales']\n",
    "x_test=test"
   ]
  },
  {
   "cell_type": "code",
   "execution_count": 27,
   "metadata": {},
   "outputs": [
    {
     "data": {
      "text/html": [
       "<div>\n",
       "<style scoped>\n",
       "    .dataframe tbody tr th:only-of-type {\n",
       "        vertical-align: middle;\n",
       "    }\n",
       "\n",
       "    .dataframe tbody tr th {\n",
       "        vertical-align: top;\n",
       "    }\n",
       "\n",
       "    .dataframe thead th {\n",
       "        text-align: right;\n",
       "    }\n",
       "</style>\n",
       "<table border=\"1\" class=\"dataframe\">\n",
       "  <thead>\n",
       "    <tr style=\"text-align: right;\">\n",
       "      <th></th>\n",
       "      <th>Item_Weight</th>\n",
       "      <th>Item_Visibility</th>\n",
       "      <th>Item_MRP</th>\n",
       "      <th>Years_of_Operation</th>\n",
       "      <th>Low Fat</th>\n",
       "      <th>Non Edible</th>\n",
       "      <th>Regular</th>\n",
       "      <th>Drinks</th>\n",
       "      <th>Foods</th>\n",
       "      <th>Non Consumables</th>\n",
       "      <th>...</th>\n",
       "      <th>Medium</th>\n",
       "      <th>Small</th>\n",
       "      <th>Unknown</th>\n",
       "      <th>Tier 1</th>\n",
       "      <th>Tier 2</th>\n",
       "      <th>Tier 3</th>\n",
       "      <th>Grocery Store</th>\n",
       "      <th>Supermarket Type1</th>\n",
       "      <th>Supermarket Type2</th>\n",
       "      <th>Supermarket Type3</th>\n",
       "    </tr>\n",
       "  </thead>\n",
       "  <tbody>\n",
       "    <tr>\n",
       "      <th>0</th>\n",
       "      <td>9.300</td>\n",
       "      <td>0.016047</td>\n",
       "      <td>249.8092</td>\n",
       "      <td>14</td>\n",
       "      <td>1</td>\n",
       "      <td>0</td>\n",
       "      <td>0</td>\n",
       "      <td>0</td>\n",
       "      <td>1</td>\n",
       "      <td>0</td>\n",
       "      <td>...</td>\n",
       "      <td>1</td>\n",
       "      <td>0</td>\n",
       "      <td>0</td>\n",
       "      <td>1</td>\n",
       "      <td>0</td>\n",
       "      <td>0</td>\n",
       "      <td>0</td>\n",
       "      <td>1</td>\n",
       "      <td>0</td>\n",
       "      <td>0</td>\n",
       "    </tr>\n",
       "    <tr>\n",
       "      <th>1</th>\n",
       "      <td>5.920</td>\n",
       "      <td>0.019278</td>\n",
       "      <td>48.2692</td>\n",
       "      <td>4</td>\n",
       "      <td>0</td>\n",
       "      <td>0</td>\n",
       "      <td>1</td>\n",
       "      <td>1</td>\n",
       "      <td>0</td>\n",
       "      <td>0</td>\n",
       "      <td>...</td>\n",
       "      <td>1</td>\n",
       "      <td>0</td>\n",
       "      <td>0</td>\n",
       "      <td>0</td>\n",
       "      <td>0</td>\n",
       "      <td>1</td>\n",
       "      <td>0</td>\n",
       "      <td>0</td>\n",
       "      <td>1</td>\n",
       "      <td>0</td>\n",
       "    </tr>\n",
       "    <tr>\n",
       "      <th>2</th>\n",
       "      <td>17.500</td>\n",
       "      <td>0.016760</td>\n",
       "      <td>141.6180</td>\n",
       "      <td>14</td>\n",
       "      <td>1</td>\n",
       "      <td>0</td>\n",
       "      <td>0</td>\n",
       "      <td>0</td>\n",
       "      <td>1</td>\n",
       "      <td>0</td>\n",
       "      <td>...</td>\n",
       "      <td>1</td>\n",
       "      <td>0</td>\n",
       "      <td>0</td>\n",
       "      <td>1</td>\n",
       "      <td>0</td>\n",
       "      <td>0</td>\n",
       "      <td>0</td>\n",
       "      <td>1</td>\n",
       "      <td>0</td>\n",
       "      <td>0</td>\n",
       "    </tr>\n",
       "    <tr>\n",
       "      <th>3</th>\n",
       "      <td>19.200</td>\n",
       "      <td>0.066132</td>\n",
       "      <td>182.0950</td>\n",
       "      <td>15</td>\n",
       "      <td>0</td>\n",
       "      <td>0</td>\n",
       "      <td>1</td>\n",
       "      <td>0</td>\n",
       "      <td>1</td>\n",
       "      <td>0</td>\n",
       "      <td>...</td>\n",
       "      <td>0</td>\n",
       "      <td>0</td>\n",
       "      <td>1</td>\n",
       "      <td>0</td>\n",
       "      <td>0</td>\n",
       "      <td>1</td>\n",
       "      <td>1</td>\n",
       "      <td>0</td>\n",
       "      <td>0</td>\n",
       "      <td>0</td>\n",
       "    </tr>\n",
       "    <tr>\n",
       "      <th>4</th>\n",
       "      <td>8.930</td>\n",
       "      <td>0.066132</td>\n",
       "      <td>53.8614</td>\n",
       "      <td>26</td>\n",
       "      <td>0</td>\n",
       "      <td>1</td>\n",
       "      <td>0</td>\n",
       "      <td>0</td>\n",
       "      <td>0</td>\n",
       "      <td>1</td>\n",
       "      <td>...</td>\n",
       "      <td>0</td>\n",
       "      <td>0</td>\n",
       "      <td>0</td>\n",
       "      <td>0</td>\n",
       "      <td>0</td>\n",
       "      <td>1</td>\n",
       "      <td>0</td>\n",
       "      <td>1</td>\n",
       "      <td>0</td>\n",
       "      <td>0</td>\n",
       "    </tr>\n",
       "    <tr>\n",
       "      <th>...</th>\n",
       "      <td>...</td>\n",
       "      <td>...</td>\n",
       "      <td>...</td>\n",
       "      <td>...</td>\n",
       "      <td>...</td>\n",
       "      <td>...</td>\n",
       "      <td>...</td>\n",
       "      <td>...</td>\n",
       "      <td>...</td>\n",
       "      <td>...</td>\n",
       "      <td>...</td>\n",
       "      <td>...</td>\n",
       "      <td>...</td>\n",
       "      <td>...</td>\n",
       "      <td>...</td>\n",
       "      <td>...</td>\n",
       "      <td>...</td>\n",
       "      <td>...</td>\n",
       "      <td>...</td>\n",
       "      <td>...</td>\n",
       "      <td>...</td>\n",
       "    </tr>\n",
       "    <tr>\n",
       "      <th>8518</th>\n",
       "      <td>6.865</td>\n",
       "      <td>0.056783</td>\n",
       "      <td>214.5218</td>\n",
       "      <td>26</td>\n",
       "      <td>1</td>\n",
       "      <td>0</td>\n",
       "      <td>0</td>\n",
       "      <td>0</td>\n",
       "      <td>1</td>\n",
       "      <td>0</td>\n",
       "      <td>...</td>\n",
       "      <td>0</td>\n",
       "      <td>0</td>\n",
       "      <td>0</td>\n",
       "      <td>0</td>\n",
       "      <td>0</td>\n",
       "      <td>1</td>\n",
       "      <td>0</td>\n",
       "      <td>1</td>\n",
       "      <td>0</td>\n",
       "      <td>0</td>\n",
       "    </tr>\n",
       "    <tr>\n",
       "      <th>8519</th>\n",
       "      <td>8.380</td>\n",
       "      <td>0.046982</td>\n",
       "      <td>108.1570</td>\n",
       "      <td>11</td>\n",
       "      <td>0</td>\n",
       "      <td>0</td>\n",
       "      <td>1</td>\n",
       "      <td>0</td>\n",
       "      <td>1</td>\n",
       "      <td>0</td>\n",
       "      <td>...</td>\n",
       "      <td>0</td>\n",
       "      <td>0</td>\n",
       "      <td>1</td>\n",
       "      <td>0</td>\n",
       "      <td>1</td>\n",
       "      <td>0</td>\n",
       "      <td>0</td>\n",
       "      <td>1</td>\n",
       "      <td>0</td>\n",
       "      <td>0</td>\n",
       "    </tr>\n",
       "    <tr>\n",
       "      <th>8520</th>\n",
       "      <td>10.600</td>\n",
       "      <td>0.035186</td>\n",
       "      <td>85.1224</td>\n",
       "      <td>9</td>\n",
       "      <td>0</td>\n",
       "      <td>1</td>\n",
       "      <td>0</td>\n",
       "      <td>0</td>\n",
       "      <td>0</td>\n",
       "      <td>1</td>\n",
       "      <td>...</td>\n",
       "      <td>0</td>\n",
       "      <td>1</td>\n",
       "      <td>0</td>\n",
       "      <td>0</td>\n",
       "      <td>1</td>\n",
       "      <td>0</td>\n",
       "      <td>0</td>\n",
       "      <td>1</td>\n",
       "      <td>0</td>\n",
       "      <td>0</td>\n",
       "    </tr>\n",
       "    <tr>\n",
       "      <th>8521</th>\n",
       "      <td>7.210</td>\n",
       "      <td>0.145221</td>\n",
       "      <td>103.1332</td>\n",
       "      <td>4</td>\n",
       "      <td>0</td>\n",
       "      <td>0</td>\n",
       "      <td>1</td>\n",
       "      <td>0</td>\n",
       "      <td>1</td>\n",
       "      <td>0</td>\n",
       "      <td>...</td>\n",
       "      <td>1</td>\n",
       "      <td>0</td>\n",
       "      <td>0</td>\n",
       "      <td>0</td>\n",
       "      <td>0</td>\n",
       "      <td>1</td>\n",
       "      <td>0</td>\n",
       "      <td>0</td>\n",
       "      <td>1</td>\n",
       "      <td>0</td>\n",
       "    </tr>\n",
       "    <tr>\n",
       "      <th>8522</th>\n",
       "      <td>14.800</td>\n",
       "      <td>0.044878</td>\n",
       "      <td>75.4670</td>\n",
       "      <td>16</td>\n",
       "      <td>1</td>\n",
       "      <td>0</td>\n",
       "      <td>0</td>\n",
       "      <td>1</td>\n",
       "      <td>0</td>\n",
       "      <td>0</td>\n",
       "      <td>...</td>\n",
       "      <td>0</td>\n",
       "      <td>1</td>\n",
       "      <td>0</td>\n",
       "      <td>1</td>\n",
       "      <td>0</td>\n",
       "      <td>0</td>\n",
       "      <td>0</td>\n",
       "      <td>1</td>\n",
       "      <td>0</td>\n",
       "      <td>0</td>\n",
       "    </tr>\n",
       "  </tbody>\n",
       "</table>\n",
       "<p>8523 rows × 21 columns</p>\n",
       "</div>"
      ],
      "text/plain": [
       "      Item_Weight  Item_Visibility  Item_MRP  Years_of_Operation  Low Fat  \\\n",
       "0           9.300         0.016047  249.8092                  14        1   \n",
       "1           5.920         0.019278   48.2692                   4        0   \n",
       "2          17.500         0.016760  141.6180                  14        1   \n",
       "3          19.200         0.066132  182.0950                  15        0   \n",
       "4           8.930         0.066132   53.8614                  26        0   \n",
       "...           ...              ...       ...                 ...      ...   \n",
       "8518        6.865         0.056783  214.5218                  26        1   \n",
       "8519        8.380         0.046982  108.1570                  11        0   \n",
       "8520       10.600         0.035186   85.1224                   9        0   \n",
       "8521        7.210         0.145221  103.1332                   4        0   \n",
       "8522       14.800         0.044878   75.4670                  16        1   \n",
       "\n",
       "      Non Edible  Regular  Drinks  Foods  Non Consumables  ...  Medium  Small  \\\n",
       "0              0        0       0      1                0  ...       1      0   \n",
       "1              0        1       1      0                0  ...       1      0   \n",
       "2              0        0       0      1                0  ...       1      0   \n",
       "3              0        1       0      1                0  ...       0      0   \n",
       "4              1        0       0      0                1  ...       0      0   \n",
       "...          ...      ...     ...    ...              ...  ...     ...    ...   \n",
       "8518           0        0       0      1                0  ...       0      0   \n",
       "8519           0        1       0      1                0  ...       0      0   \n",
       "8520           1        0       0      0                1  ...       0      1   \n",
       "8521           0        1       0      1                0  ...       1      0   \n",
       "8522           0        0       1      0                0  ...       0      1   \n",
       "\n",
       "      Unknown  Tier 1  Tier 2  Tier 3  Grocery Store  Supermarket Type1  \\\n",
       "0           0       1       0       0              0                  1   \n",
       "1           0       0       0       1              0                  0   \n",
       "2           0       1       0       0              0                  1   \n",
       "3           1       0       0       1              1                  0   \n",
       "4           0       0       0       1              0                  1   \n",
       "...       ...     ...     ...     ...            ...                ...   \n",
       "8518        0       0       0       1              0                  1   \n",
       "8519        1       0       1       0              0                  1   \n",
       "8520        0       0       1       0              0                  1   \n",
       "8521        0       0       0       1              0                  0   \n",
       "8522        0       1       0       0              0                  1   \n",
       "\n",
       "      Supermarket Type2  Supermarket Type3  \n",
       "0                     0                  0  \n",
       "1                     1                  0  \n",
       "2                     0                  0  \n",
       "3                     0                  0  \n",
       "4                     0                  0  \n",
       "...                 ...                ...  \n",
       "8518                  0                  0  \n",
       "8519                  0                  0  \n",
       "8520                  0                  0  \n",
       "8521                  1                  0  \n",
       "8522                  0                  0  \n",
       "\n",
       "[8523 rows x 21 columns]"
      ]
     },
     "execution_count": 27,
     "metadata": {},
     "output_type": "execute_result"
    }
   ],
   "source": [
    "x"
   ]
  },
  {
   "cell_type": "code",
   "execution_count": 28,
   "metadata": {},
   "outputs": [
    {
     "data": {
      "text/plain": [
       "(8523, 21)"
      ]
     },
     "execution_count": 28,
     "metadata": {},
     "output_type": "execute_result"
    }
   ],
   "source": [
    "x.shape"
   ]
  },
  {
   "cell_type": "code",
   "execution_count": 29,
   "metadata": {},
   "outputs": [
    {
     "data": {
      "text/plain": [
       "Index(['Item_Weight', 'Item_Visibility', 'Item_MRP', 'Years_of_Operation',\n",
       "       'Low Fat', 'Non Edible', 'Regular', 'Drinks', 'Foods',\n",
       "       'Non Consumables', 'High', 'Medium', 'Small', 'Unknown', 'Tier 1',\n",
       "       'Tier 2', 'Tier 3', 'Grocery Store', 'Supermarket Type1',\n",
       "       'Supermarket Type2', 'Supermarket Type3'],\n",
       "      dtype='object')"
      ]
     },
     "execution_count": 29,
     "metadata": {},
     "output_type": "execute_result"
    }
   ],
   "source": [
    "x.columns"
   ]
  },
  {
   "cell_type": "code",
   "execution_count": 30,
   "metadata": {
    "colab": {},
    "colab_type": "code",
    "id": "V0-tMNTgcjbt"
   },
   "outputs": [],
   "source": [
    "#Feature Scaling\n",
    "from sklearn.preprocessing import StandardScaler\n",
    "sc_x=StandardScaler()\n",
    "x=sc_x.fit_transform(x)\n",
    "\n",
    "x_test=sc_x.fit_transform(x_test)"
   ]
  },
  {
   "cell_type": "code",
   "execution_count": 31,
   "metadata": {
    "colab": {},
    "colab_type": "code",
    "id": "XfYyuuW3eIUx"
   },
   "outputs": [],
   "source": [
    "from sklearn.model_selection import train_test_split\n",
    "x_train,x_val,y_train,y_val=train_test_split(x,y,test_size=0.1,random_state=42)"
   ]
  },
  {
   "cell_type": "markdown",
   "metadata": {
    "colab_type": "text",
    "id": "WdQNLUKBihZ6"
   },
   "source": [
    "## **Linear Regression**"
   ]
  },
  {
   "cell_type": "code",
   "execution_count": 32,
   "metadata": {
    "colab": {
     "base_uri": "https://localhost:8080/",
     "height": 35
    },
    "colab_type": "code",
    "id": "8RxW9IpIeNbq",
    "outputId": "c1833fde-a809-4727-c976-c9957da9557c"
   },
   "outputs": [
    {
     "data": {
      "text/plain": [
       "LinearRegression()"
      ]
     },
     "execution_count": 32,
     "metadata": {},
     "output_type": "execute_result"
    }
   ],
   "source": [
    "from sklearn.linear_model import LinearRegression\n",
    "lm=LinearRegression()\n",
    "lm.fit(x_train,y_train)"
   ]
  },
  {
   "cell_type": "code",
   "execution_count": 33,
   "metadata": {
    "colab": {},
    "colab_type": "code",
    "id": "rWYXYx3pfp7i"
   },
   "outputs": [],
   "source": [
    "predictions=lm.predict(x_val)"
   ]
  },
  {
   "cell_type": "raw",
   "metadata": {},
   "source": [
    "lm.score(x_test,y_test)"
   ]
  },
  {
   "cell_type": "code",
   "execution_count": 34,
   "metadata": {
    "colab": {
     "base_uri": "https://localhost:8080/",
     "height": 341
    },
    "colab_type": "code",
    "id": "wplXJCbnf0sM",
    "outputId": "6f4774fa-2203-451e-ea3a-77dfca3c1737"
   },
   "outputs": [
    {
     "data": {
      "text/plain": [
       "<matplotlib.collections.PathCollection at 0x1ca8d32dd68>"
      ]
     },
     "execution_count": 34,
     "metadata": {},
     "output_type": "execute_result"
    },
    {
     "data": {
      "image/png": "[encoded data removed]",
      "text/plain": [
       "<Figure size 432x288 with 1 Axes>"
      ]
     },
     "metadata": {
      "needs_background": "light"
     },
     "output_type": "display_data"
    }
   ],
   "source": [
    "plt.scatter(y_val,predictions)"
   ]
  },
  {
   "cell_type": "code",
   "execution_count": 35,
   "metadata": {
    "colab": {
     "base_uri": "https://localhost:8080/",
     "height": 356
    },
    "colab_type": "code",
    "id": "2obISphof9j6",
    "outputId": "e5400022-af7e-43cc-a729-7fe841a5981a"
   },
   "outputs": [
    {
     "name": "stderr",
     "output_type": "stream",
     "text": [
      "C:\\Users\\hp\\anaconda3\\envs\\project\\lib\\site-packages\\seaborn\\distributions.py:2619: FutureWarning: `distplot` is a deprecated function and will be removed in a future version. Please adapt your code to use either `displot` (a figure-level function with similar flexibility) or `histplot` (an axes-level function for histograms).\n",
      "  warnings.warn(msg, FutureWarning)\n"
     ]
    },
    {
     "data": {
      "text/plain": [
       "<AxesSubplot:xlabel='Item_Outlet_Sales', ylabel='Density'>"
      ]
     },
     "execution_count": 35,
     "metadata": {},
     "output_type": "execute_result"
    },
    {
     "data": {
      "image/png": "[encoded data removed]",
      "text/plain": [
       "<Figure size 432x288 with 1 Axes>"
      ]
     },
     "metadata": {
      "needs_background": "light"
     },
     "output_type": "display_data"
    }
   ],
   "source": [
    "import seaborn as sns\n",
    "sns.distplot((y_val-predictions))"
   ]
  },
  {
   "cell_type": "code",
   "execution_count": 36,
   "metadata": {
    "colab": {
     "base_uri": "https://localhost:8080/",
     "height": 90
    },
    "colab_type": "code",
    "id": "sHX4v8rMgNpt",
    "outputId": "786a9cb0-2d2b-4d7a-d5d8-eb8b6f9f0300"
   },
   "outputs": [
    {
     "name": "stdout",
     "output_type": "stream",
     "text": [
      "Mean Absolute Error:  805.7882206431791\n",
      "Mean Squared Error:  1180793.8069158655\n",
      "Root Mean Squared Error:  1086.6433669405365\n",
      "Explained Variance Score:  0.577696935211464\n"
     ]
    }
   ],
   "source": [
    "import numpy as np\n",
    "from sklearn import metrics\n",
    "print('Mean Absolute Error: ',metrics.mean_absolute_error(y_val,predictions))\n",
    "print('Mean Squared Error: ',metrics.mean_squared_error(y_val,predictions))\n",
    "print('Root Mean Squared Error: ',np.sqrt(metrics.mean_squared_error(y_val,predictions)))\n",
    "print('Explained Variance Score: ',metrics.explained_variance_score(y_val,predictions))"
   ]
  },
  {
   "cell_type": "markdown",
   "metadata": {
    "colab_type": "text",
    "id": "P7gRz-DT35T0"
   },
   "source": [
    "## **XGBoost**"
   ]
  },
  {
   "cell_type": "code",
   "execution_count": 44,
   "metadata": {
    "colab": {
     "base_uri": "https://localhost:8080/",
     "height": 219
    },
    "colab_type": "code",
    "id": "brvTLx3doiVi",
    "outputId": "0383efb7-d067-4e3e-f30d-33ab4d2a0a2c"
   },
   "outputs": [
    {
     "data": {
      "text/plain": [
       "XGBRegressor(base_score=0.5, booster='gbtree', colsample_bylevel=1,\n",
       "             colsample_bynode=1, colsample_bytree=0.95, gamma=0, gpu_id=-1,\n",
       "             importance_type='gain', interaction_constraints='',\n",
       "             learning_rate=0.1, max_delta_step=0, max_depth=3,\n",
       "             min_child_weight=5, missing=nan, monotone_constraints='()',\n",
       "             n_estimators=41, n_jobs=4, nthread=4, num_parallel_tree=1,\n",
       "             random_state=42, reg_alpha=0.021, reg_lambda=1, scale_pos_weight=1,\n",
       "             seed=42, subsample=0.75, tree_method='exact',\n",
       "             validate_parameters=1, verbosity=None)"
      ]
     },
     "execution_count": 44,
     "metadata": {},
     "output_type": "execute_result"
    }
   ],
   "source": [
    "import xgboost as xgb\n",
    "data_dmatrix = xgb.DMatrix(data=x,label=y)\n",
    "xg_reg = xgb.XGBRegressor(objective ='reg:squarederror', \n",
    "                          learning_rate =0.1,\n",
    "                          n_estimators=41,\n",
    "                          max_depth=3,\n",
    "                          min_child_weight=5,\n",
    "                          gamma=0,\n",
    "                          subsample=0.75,\n",
    "                          colsample_bytree=0.95,\n",
    "                          nthread=4,\n",
    "                          scale_pos_weight=1,\n",
    "                          reg_alpha=0.021,\n",
    "                          seed=42,\n",
    "                          )\n",
    "xg_reg.fit(x_train,y_train)"
   ]
  },
  {
   "cell_type": "code",
   "execution_count": 45,
   "metadata": {
    "colab": {},
    "colab_type": "code",
    "id": "PvdvsF_tpJoq"
   },
   "outputs": [],
   "source": [
    "predictions2 = xg_reg.predict(x_val)"
   ]
  },
  {
   "cell_type": "code",
   "execution_count": 46,
   "metadata": {
    "colab": {
     "base_uri": "https://localhost:8080/",
     "height": 90
    },
    "colab_type": "code",
    "id": "0wkc0Z6npVhM",
    "outputId": "bfa160de-9836-41a5-a958-6a869a207a88"
   },
   "outputs": [
    {
     "name": "stdout",
     "output_type": "stream",
     "text": [
      "Mean Absolute Error:  723.5140329964449\n",
      "Mean Squared Error:  1060635.6496552436\n",
      "Root Mean Squared Error:  1029.8716665950392\n",
      "Explained Variance Score:  0.6209176515306112\n"
     ]
    }
   ],
   "source": [
    "import numpy as np\n",
    "from sklearn import metrics\n",
    "print('Mean Absolute Error: ',metrics.mean_absolute_error(y_val,predictions2))\n",
    "print('Mean Squared Error: ',metrics.mean_squared_error(y_val,predictions2))\n",
    "print('Root Mean Squared Error: ',np.sqrt(metrics.mean_squared_error(y_val,predictions2)))\n",
    "print('Explained Variance Score: ',metrics.explained_variance_score(y_val,predictions2))"
   ]
  },
  {
   "cell_type": "markdown",
   "metadata": {
    "colab_type": "text",
    "id": "LbJAc6w6i4H3"
   },
   "source": [
    "### **Grid Search for best parameters**"
   ]
  },
  {
   "cell_type": "code",
   "execution_count": 47,
   "metadata": {
    "colab": {
     "base_uri": "https://localhost:8080/",
     "height": 109
    },
    "colab_type": "code",
    "id": "_MgFvi9cIWhL",
    "outputId": "99237e7a-a8e6-4328-fc3d-07f5f5176d00"
   },
   "outputs": [
    {
     "data": {
      "text/plain": [
       "({'max_depth': 3, 'min_child_weight': 5}, -758.6617346958484)"
      ]
     },
     "execution_count": 47,
     "metadata": {},
     "output_type": "execute_result"
    }
   ],
   "source": [
    "from sklearn.model_selection import GridSearchCV\n",
    "  \n",
    "#Tune max_depth and min_child_weight\n",
    "param_test1 = {\n",
    " 'max_depth':range(2,4,1),\n",
    " 'min_child_weight':range(3,6,1)\n",
    "}\n",
    "gsearch1 = GridSearchCV(estimator = xg_reg,\n",
    "                        param_grid = param_test1, \n",
    "                        scoring='neg_mean_absolute_error',\n",
    "                        n_jobs=4, cv=10)\n",
    "gsearch1.fit(x,y)\n",
    "gsearch1.best_params_, gsearch1.best_score_"
   ]
  },
  {
   "cell_type": "code",
   "execution_count": 48,
   "metadata": {
    "colab": {
     "base_uri": "https://localhost:8080/",
     "height": 109
    },
    "colab_type": "code",
    "id": "5fgEZB-wSQHt",
    "outputId": "ad105312-3f61-43f9-a2dc-e43e875d4493"
   },
   "outputs": [
    {
     "data": {
      "text/plain": [
       "({'gamma': 0.0}, -758.6617346958484)"
      ]
     },
     "execution_count": 48,
     "metadata": {},
     "output_type": "execute_result"
    }
   ],
   "source": [
    "#Tuning Gamma\n",
    "param_test2 = {\n",
    " 'gamma':[i/10.0 for i in range(0,10)]\n",
    "}\n",
    "gsearch2 = GridSearchCV(estimator = xg_reg,\n",
    "                        param_grid = param_test2, \n",
    "                        scoring='neg_mean_absolute_error',\n",
    "                        n_jobs=4, cv=10)\n",
    "\n",
    "gsearch2.fit(x,y)\n",
    "gsearch2.best_params_, gsearch2.best_score_"
   ]
  },
  {
   "cell_type": "code",
   "execution_count": 49,
   "metadata": {
    "colab": {
     "base_uri": "https://localhost:8080/",
     "height": 109
    },
    "colab_type": "code",
    "id": "bWp925s3W2aL",
    "outputId": "6d938351-4425-4206-8536-c0c48a80853b"
   },
   "outputs": [
    {
     "data": {
      "text/plain": [
       "({'colsample_bytree': 0.95, 'subsample': 0.8}, -758.5011729482087)"
      ]
     },
     "execution_count": 49,
     "metadata": {},
     "output_type": "execute_result"
    }
   ],
   "source": [
    "#Tune subsample and colsample_bytree\n",
    "param_test3 = {\n",
    " 'subsample':[i/100.0 for i in range(75,100,5)],\n",
    " 'colsample_bytree':[i/100.0 for i in range(75,100,5)]\n",
    "}\n",
    "\n",
    "gsearch3 = GridSearchCV(estimator = xg_reg,\n",
    "                        param_grid = param_test3, \n",
    "                        scoring='neg_mean_absolute_error',\n",
    "                        n_jobs=4, cv=10)\n",
    "gsearch3.fit(x,y)\n",
    "gsearch3.best_params_, gsearch3.best_score_"
   ]
  },
  {
   "cell_type": "code",
   "execution_count": 50,
   "metadata": {
    "colab": {
     "base_uri": "https://localhost:8080/",
     "height": 109
    },
    "colab_type": "code",
    "id": "6GXU8dJNcZW3",
    "outputId": "a072a483-8c86-46db-e8cd-97ef2f9e2e1a"
   },
   "outputs": [
    {
     "data": {
      "text/plain": [
       "({'reg_alpha': 0.026}, -758.661734043155)"
      ]
     },
     "execution_count": 50,
     "metadata": {},
     "output_type": "execute_result"
    }
   ],
   "source": [
    "# Tuning Regularization Parameters\n",
    "param_test4 = {\n",
    " 'reg_alpha':[0.011,0.012,0.013,0.014,0.015,0.016,0.017,0.018,0.019,0.02,0.021,0.022,0.023,0.24,0.025,0.026]\n",
    "}\n",
    "gsearch4 = GridSearchCV(estimator = xg_reg,\n",
    "                        param_grid = param_test4, \n",
    "                        scoring='neg_mean_absolute_error',\n",
    "                        n_jobs=4, cv=10)\n",
    "gsearch4.fit(x,y)\n",
    "gsearch4.best_params_, gsearch4.best_score_"
   ]
  },
  {
   "cell_type": "code",
   "execution_count": 51,
   "metadata": {
    "colab": {
     "base_uri": "https://localhost:8080/",
     "height": 109
    },
    "colab_type": "code",
    "id": "640MZDzheD69",
    "outputId": "56d750ef-453f-44b5-cbce-c521b56b60af"
   },
   "outputs": [
    {
     "data": {
      "text/plain": [
       "({'n_estimators': 38}, -758.4727135689355)"
      ]
     },
     "execution_count": 51,
     "metadata": {},
     "output_type": "execute_result"
    }
   ],
   "source": [
    "# Tuning No. of trees\n",
    "param_test5 = {\n",
    " 'n_estimators':range(30,50,1)\n",
    "}\n",
    "gsearch5 = GridSearchCV(estimator = xg_reg,\n",
    "                        param_grid = param_test5, \n",
    "                        scoring='neg_mean_absolute_error',\n",
    "                        n_jobs=4, cv=10)\n",
    "gsearch5.fit(x,y)\n",
    "gsearch5.best_params_, gsearch5.best_score_"
   ]
  },
  {
   "cell_type": "code",
   "execution_count": 52,
   "metadata": {
    "colab": {
     "base_uri": "https://localhost:8080/",
     "height": 350
    },
    "colab_type": "code",
    "id": "fkAZWNvlsp7F",
    "outputId": "7102a5c5-1d02-4b38-bc5c-ae8253bfb359"
   },
   "outputs": [
    {
     "data": {
      "image/png": "[encoded data removed]",
      "text/plain": [
       "<Figure size 432x288 with 1 Axes>"
      ]
     },
     "metadata": {
      "needs_background": "light"
     },
     "output_type": "display_data"
    }
   ],
   "source": [
    "xgb.plot_importance(xg_reg)\n",
    "plt.rcParams['figure.figsize'] = [5, 5]\n",
    "plt.show()"
   ]
  },
  {
   "cell_type": "code",
   "execution_count": 53,
   "metadata": {
    "colab": {},
    "colab_type": "code",
    "id": "500Y0uuckLdn"
   },
   "outputs": [
    {
     "ename": "PermissionError",
     "evalue": "[Errno 13] Permission denied: 'submission.csv'",
     "output_type": "error",
     "traceback": [
      "\u001b[1;31m---------------------------------------------------------------------------\u001b[0m",
      "\u001b[1;31mPermissionError\u001b[0m                           Traceback (most recent call last)",
      "\u001b[1;32m<ipython-input-53-bcabe6ee6316>\u001b[0m in \u001b[0;36m<module>\u001b[1;34m\u001b[0m\n\u001b[0;32m      3\u001b[0m \u001b[0mout_df\u001b[0m \u001b[1;33m=\u001b[0m \u001b[0mpd\u001b[0m\u001b[1;33m.\u001b[0m\u001b[0mDataFrame\u001b[0m\u001b[1;33m(\u001b[0m\u001b[1;33m{\u001b[0m\u001b[1;34m'Item_Identifier'\u001b[0m\u001b[1;33m:\u001b[0m\u001b[0mdf2\u001b[0m\u001b[1;33m[\u001b[0m\u001b[1;34m'Item_Identifier'\u001b[0m\u001b[1;33m]\u001b[0m\u001b[1;33m.\u001b[0m\u001b[0mvalues\u001b[0m\u001b[1;33m,\u001b[0m\u001b[1;34m'Outlet_Identifier'\u001b[0m\u001b[1;33m:\u001b[0m\u001b[0mdf2\u001b[0m\u001b[1;33m[\u001b[0m\u001b[1;34m'Outlet_Identifier'\u001b[0m\u001b[1;33m]\u001b[0m\u001b[1;33m.\u001b[0m\u001b[0mvalues\u001b[0m\u001b[1;33m}\u001b[0m\u001b[1;33m)\u001b[0m\u001b[1;33m\u001b[0m\u001b[1;33m\u001b[0m\u001b[0m\n\u001b[0;32m      4\u001b[0m \u001b[0mout_df\u001b[0m\u001b[1;33m[\u001b[0m\u001b[1;34m'Item_Outlet_Sales'\u001b[0m\u001b[1;33m]\u001b[0m \u001b[1;33m=\u001b[0m \u001b[0mpred_test\u001b[0m\u001b[1;33m\u001b[0m\u001b[1;33m\u001b[0m\u001b[0m\n\u001b[1;32m----> 5\u001b[1;33m \u001b[0mout_df\u001b[0m\u001b[1;33m.\u001b[0m\u001b[0mto_csv\u001b[0m\u001b[1;33m(\u001b[0m\u001b[1;34m'submission.csv'\u001b[0m\u001b[1;33m,\u001b[0m \u001b[0mindex\u001b[0m\u001b[1;33m=\u001b[0m\u001b[1;32mFalse\u001b[0m\u001b[1;33m)\u001b[0m\u001b[1;33m\u001b[0m\u001b[1;33m\u001b[0m\u001b[0m\n\u001b[0m",
      "\u001b[1;32m~\\anaconda3\\envs\\project\\lib\\site-packages\\pandas\\core\\generic.py\u001b[0m in \u001b[0;36mto_csv\u001b[1;34m(self, path_or_buf, sep, na_rep, float_format, columns, header, index, index_label, mode, encoding, compression, quoting, quotechar, line_terminator, chunksize, date_format, doublequote, escapechar, decimal, errors)\u001b[0m\n\u001b[0;32m   3168\u001b[0m             \u001b[0mdecimal\u001b[0m\u001b[1;33m=\u001b[0m\u001b[0mdecimal\u001b[0m\u001b[1;33m,\u001b[0m\u001b[1;33m\u001b[0m\u001b[1;33m\u001b[0m\u001b[0m\n\u001b[0;32m   3169\u001b[0m         )\n\u001b[1;32m-> 3170\u001b[1;33m         \u001b[0mformatter\u001b[0m\u001b[1;33m.\u001b[0m\u001b[0msave\u001b[0m\u001b[1;33m(\u001b[0m\u001b[1;33m)\u001b[0m\u001b[1;33m\u001b[0m\u001b[1;33m\u001b[0m\u001b[0m\n\u001b[0m\u001b[0;32m   3171\u001b[0m \u001b[1;33m\u001b[0m\u001b[0m\n\u001b[0;32m   3172\u001b[0m         \u001b[1;32mif\u001b[0m \u001b[0mpath_or_buf\u001b[0m \u001b[1;32mis\u001b[0m \u001b[1;32mNone\u001b[0m\u001b[1;33m:\u001b[0m\u001b[1;33m\u001b[0m\u001b[1;33m\u001b[0m\u001b[0m\n",
      "\u001b[1;32m~\\anaconda3\\envs\\project\\lib\\site-packages\\pandas\\io\\formats\\csvs.py\u001b[0m in \u001b[0;36msave\u001b[1;34m(self)\u001b[0m\n\u001b[0;32m    188\u001b[0m                 \u001b[0mencoding\u001b[0m\u001b[1;33m=\u001b[0m\u001b[0mself\u001b[0m\u001b[1;33m.\u001b[0m\u001b[0mencoding\u001b[0m\u001b[1;33m,\u001b[0m\u001b[1;33m\u001b[0m\u001b[1;33m\u001b[0m\u001b[0m\n\u001b[0;32m    189\u001b[0m                 \u001b[0merrors\u001b[0m\u001b[1;33m=\u001b[0m\u001b[0mself\u001b[0m\u001b[1;33m.\u001b[0m\u001b[0merrors\u001b[0m\u001b[1;33m,\u001b[0m\u001b[1;33m\u001b[0m\u001b[1;33m\u001b[0m\u001b[0m\n\u001b[1;32m--> 190\u001b[1;33m                 \u001b[0mcompression\u001b[0m\u001b[1;33m=\u001b[0m\u001b[0mdict\u001b[0m\u001b[1;33m(\u001b[0m\u001b[0mself\u001b[0m\u001b[1;33m.\u001b[0m\u001b[0mcompression_args\u001b[0m\u001b[1;33m,\u001b[0m \u001b[0mmethod\u001b[0m\u001b[1;33m=\u001b[0m\u001b[0mself\u001b[0m\u001b[1;33m.\u001b[0m\u001b[0mcompression\u001b[0m\u001b[1;33m)\u001b[0m\u001b[1;33m,\u001b[0m\u001b[1;33m\u001b[0m\u001b[1;33m\u001b[0m\u001b[0m\n\u001b[0m\u001b[0;32m    191\u001b[0m             )\n\u001b[0;32m    192\u001b[0m             \u001b[0mclose\u001b[0m \u001b[1;33m=\u001b[0m \u001b[1;32mTrue\u001b[0m\u001b[1;33m\u001b[0m\u001b[1;33m\u001b[0m\u001b[0m\n",
      "\u001b[1;32m~\\anaconda3\\envs\\project\\lib\\site-packages\\pandas\\io\\common.py\u001b[0m in \u001b[0;36mget_handle\u001b[1;34m(path_or_buf, mode, encoding, compression, memory_map, is_text, errors)\u001b[0m\n\u001b[0;32m    491\u001b[0m         \u001b[1;32mif\u001b[0m \u001b[0mencoding\u001b[0m\u001b[1;33m:\u001b[0m\u001b[1;33m\u001b[0m\u001b[1;33m\u001b[0m\u001b[0m\n\u001b[0;32m    492\u001b[0m             \u001b[1;31m# Encoding\u001b[0m\u001b[1;33m\u001b[0m\u001b[1;33m\u001b[0m\u001b[1;33m\u001b[0m\u001b[0m\n\u001b[1;32m--> 493\u001b[1;33m             \u001b[0mf\u001b[0m \u001b[1;33m=\u001b[0m \u001b[0mopen\u001b[0m\u001b[1;33m(\u001b[0m\u001b[0mpath_or_buf\u001b[0m\u001b[1;33m,\u001b[0m \u001b[0mmode\u001b[0m\u001b[1;33m,\u001b[0m \u001b[0mencoding\u001b[0m\u001b[1;33m=\u001b[0m\u001b[0mencoding\u001b[0m\u001b[1;33m,\u001b[0m \u001b[0merrors\u001b[0m\u001b[1;33m=\u001b[0m\u001b[0merrors\u001b[0m\u001b[1;33m,\u001b[0m \u001b[0mnewline\u001b[0m\u001b[1;33m=\u001b[0m\u001b[1;34m\"\"\u001b[0m\u001b[1;33m)\u001b[0m\u001b[1;33m\u001b[0m\u001b[1;33m\u001b[0m\u001b[0m\n\u001b[0m\u001b[0;32m    494\u001b[0m         \u001b[1;32melif\u001b[0m \u001b[0mis_text\u001b[0m\u001b[1;33m:\u001b[0m\u001b[1;33m\u001b[0m\u001b[1;33m\u001b[0m\u001b[0m\n\u001b[0;32m    495\u001b[0m             \u001b[1;31m# No explicit encoding\u001b[0m\u001b[1;33m\u001b[0m\u001b[1;33m\u001b[0m\u001b[1;33m\u001b[0m\u001b[0m\n",
      "\u001b[1;31mPermissionError\u001b[0m: [Errno 13] Permission denied: 'submission.csv'"
     ]
    }
   ],
   "source": [
    "#Generating the Sales for the Test set and saving in a .csv file\n",
    "pred_test = xg_reg.predict(x_test)\n",
    "out_df = pd.DataFrame({'Item_Identifier':df2['Item_Identifier'].values,'Outlet_Identifier':df2['Outlet_Identifier'].values})\n",
    "out_df['Item_Outlet_Sales'] = pred_test\n",
    "out_df.to_csv('submission.csv', index=False)"
   ]
  },
  {
   "cell_type": "code",
   "execution_count": 54,
   "metadata": {},
   "outputs": [
    {
     "name": "stdout",
     "output_type": "stream",
     "text": [
      "[ 1.08188867e+03  6.43390259e+02  8.00606018e+02  4.76854736e+03\n",
      "  1.95154016e+03  5.91191589e+02  6.01784863e+03  1.53535950e+03\n",
      "  1.30913403e+03  3.54556201e+03  1.00418030e+02  1.21366138e+03\n",
      "  4.65248584e+03  7.05703064e+02  8.22574219e+02  5.83602441e+03\n",
      "  1.66284912e+03  2.06961865e+03  2.13744678e+03  2.72125781e+03\n",
      "  3.15712817e+03  2.97778198e+03  3.58097681e+03  2.22224927e+03\n",
      "  3.18457324e+03  1.49115234e+03  3.21189758e+02  4.74977100e+03\n",
      "  3.48299634e+03  4.97637158e+03  5.22920471e+02  2.63935938e+03\n",
      "  2.11359473e+03  2.30600195e+03  2.74222839e+02  1.39372913e+03\n",
      "  9.51813782e+02  2.30183325e+03  1.39229553e+03  2.23137744e+03\n",
      "  2.38917923e+02  2.20056812e+03  1.48711108e+03  1.50152466e+03\n",
      "  2.56779907e+03  1.35942126e+03  8.05586121e+02  9.16114319e+02\n",
      "  4.23693652e+03  2.22035620e+03  9.09771118e+02  2.13693384e+03\n",
      "  8.38225342e+02  2.12141205e+02  4.26214203e+02  1.95203247e+03\n",
      "  2.96183911e+03  1.72493628e+03  3.43590027e+02  4.49198535e+03\n",
      "  1.04722949e+03  7.64197998e+02  2.20471094e+03  2.09424487e+03\n",
      "  3.04812061e+03  2.39918774e+03  5.48433716e+02  4.35200049e+03\n",
      "  5.29762878e+02  1.85313025e+03  8.61072205e+02  2.57746613e+02\n",
      "  4.31265674e+03  2.60847266e+03  1.45831104e+03  1.26314734e+03\n",
      "  2.59788916e+03  1.34636108e+03  2.95296265e+03  2.65485767e+03\n",
      "  6.75029724e+02  3.54533911e+03  3.23828931e+03  2.29171948e+03\n",
      "  3.27834497e+03  2.75516235e+03  3.08144531e+03  1.81530884e+03\n",
      "  3.10264673e+03  2.57545581e+03  5.07595801e+03  9.40067688e+02\n",
      "  1.13228467e+03  1.76848425e+03  7.52078735e+02  7.72036682e+02\n",
      "  6.78509399e+02  5.34621521e+02  1.31756665e+03 -1.66547501e+02\n",
      "  2.75361328e+03  4.10429932e+03  3.11895044e+03  7.60105591e+02\n",
      "  2.42449829e+03  1.01609729e+03  1.14908337e+03  3.12915649e+03\n",
      "  7.44401306e+02  1.45873132e+03  6.15476074e+02  2.74951636e+03\n",
      "  1.43653650e+03  2.58106519e+03  1.51437881e+02  6.28040710e+02\n",
      "  6.46376562e+03  6.71222229e+02  1.86445276e+03  3.06163745e+03\n",
      "  2.60655225e+03  3.35713867e+03  2.01194983e+03  9.95081909e+02\n",
      "  3.37321753e+03  1.71677075e+03 -3.18309212e+01  2.98814307e+03\n",
      "  5.69997803e+02  4.04048877e+03  7.64959229e+02  1.00517804e+03\n",
      "  1.84276831e+03  3.13228784e+03  1.86252209e+03  1.78559265e+03\n",
      "  1.97857373e+03  3.84697852e+03  2.23347974e+03  3.57478174e+03\n",
      "  4.75567969e+03  4.55078027e+03  1.82721240e+03  2.67604468e+03\n",
      "  2.49150122e+03  2.40275122e+03  2.47947900e+03  3.59741064e+03\n",
      "  2.51533716e+03  2.02667859e+03  4.43710968e+02  5.61543518e+02\n",
      "  9.30799805e+02  2.77906348e+03  1.72712570e+02  2.74341431e+03\n",
      "  7.79618225e+01  4.04416211e+03  2.29432959e+03  2.98930151e+03\n",
      "  9.96652679e+01  1.75096838e+03  2.16591064e+03  2.06806421e+03\n",
      "  2.85014844e+03  4.17898193e+02  5.22946045e+03  8.93924133e+02\n",
      "  1.50376404e+03  1.79682275e+03  2.66423999e+03  1.73118945e+03\n",
      "  2.57804858e+03  5.63750122e+02  2.07086548e+03  2.91131665e+03\n",
      "  1.46197070e+03  2.80877051e+03  3.42427612e+03  7.29637878e+02\n",
      "  7.66588135e+02  1.96904816e+02  1.46578052e+03  2.62002588e+03\n",
      "  1.70761169e+03  2.62096265e+03  3.89735291e+02  6.33223999e+02\n",
      "  3.16467944e+03  4.54407318e+02  1.14531055e+03  2.55476978e+03\n",
      "  2.81663672e+03  8.06847290e+02  1.91189819e+03  1.89826611e+03\n",
      "  2.46356030e+03  1.87539197e+03  3.10492798e+03  2.26400854e+03\n",
      "  2.76786987e+03  1.88894617e+03  2.55760742e+03  2.53262500e+03\n",
      "  1.75958521e+03  2.23017749e+03  6.52735596e+02  1.40599939e+03\n",
      "  1.44452332e+03  3.14980054e+03  2.38838696e+03  1.26492920e+03\n",
      "  1.55182935e+03  1.51051111e+03  1.18518677e+03  1.60386551e+02\n",
      "  4.46025098e+03  3.76034619e+03  1.20478271e+03  3.77063330e+03\n",
      "  2.02202112e+03  3.92204053e+03  3.58232007e+03  1.18017224e+03\n",
      "  1.48529565e+03  5.22136670e+03  2.45646265e+03  3.74356689e+03\n",
      "  1.21020630e+03  4.37318018e+03  3.72224609e+03  1.43887476e+03\n",
      "  1.85399292e+03  5.00412903e+02  4.47424463e+03  1.94291016e+03\n",
      "  1.41473914e+03  1.79691748e+03  1.86919214e+03  2.48163867e+03\n",
      "  2.01408264e+03  1.89277307e+03  1.86776025e+03  6.43711365e+02\n",
      "  3.15028833e+03  2.94816016e+03  1.74594604e+03  1.36655930e+02\n",
      "  3.11287769e+03  6.10646790e+02  1.04976270e+03  1.98624414e+03\n",
      "  3.88266235e+03  6.88492798e+02  1.95810669e+03  3.27847876e+03\n",
      "  4.39917236e+03  9.63825195e+02  1.46181030e+03  3.35370880e+02\n",
      "  2.50150171e+03  4.79527051e+03  3.06966357e+03  2.38458740e+02\n",
      "  1.94363660e+03  5.89703003e+02  1.72725159e+03  2.12455518e+03\n",
      "  1.94995935e+03  2.75518359e+03  2.42085986e+03  1.04995251e+03\n",
      "  3.59107520e+03  1.14668739e+02  2.61166724e+03  2.48370825e+03\n",
      "  2.62856018e+02  3.01196289e+03  3.19722974e+03  8.79082886e+02\n",
      "  3.11737573e+03  3.39860864e+03  4.89104980e+03  1.82794495e+03\n",
      "  3.53053027e+03  1.73550989e+03  5.42549683e+02  2.33359863e+03\n",
      "  6.51928040e+02  2.01181824e+03  5.02029004e+03  1.27658582e+03\n",
      "  7.13973193e+03  1.57519885e+03  2.17015234e+03  3.17644775e+03\n",
      "  6.80751953e+02  2.78422095e+03  2.38606491e+02  1.36620605e+03\n",
      "  1.94376099e+02  1.47247266e+03  3.84591846e+03  3.45925342e+03\n",
      "  2.71837085e+03  3.06425830e+03  2.33068024e+02  5.48722107e+02\n",
      "  1.68037781e+03  7.40240784e+01  3.65968433e+03  2.50994507e+03\n",
      "  3.04708710e+02  2.50934189e+02  2.52616333e+02  2.37537427e+03\n",
      "  3.01920386e+03  8.89036316e+02  1.41983374e+03  1.33140332e+03\n",
      "  2.85573584e+03 -2.50249825e+01  3.60745621e+01  1.65560718e+03\n",
      "  1.50663818e+03  2.48957129e+03  2.65061572e+03  5.06859229e+03\n",
      "  1.85425623e+03  1.19122742e+03  3.35646301e+02  4.76367432e+03\n",
      "  1.06227710e+03  1.97065503e+03  3.00751221e+02  1.93248730e+03\n",
      "  2.25279077e+03  3.18453076e+03  3.74111237e+02  5.85198242e+03\n",
      "  3.20676782e+03  2.08024609e+03  8.67953491e+02  6.58931824e+02\n",
      "  4.96299902e+03  3.69950928e+03  4.16163525e+03  3.71920105e+02\n",
      "  4.92649414e+03  7.78921509e+02  6.75849304e+02  1.60982190e+03\n",
      "  8.90511719e+02  1.84676575e+03  1.92343311e+03  5.14980164e+02\n",
      "  1.25820300e+03  1.29299026e+02  2.13654419e+03  1.34166431e+03\n",
      " -4.68602753e+00  1.54670386e+03  8.40122803e+02  2.44263867e+03\n",
      "  1.68408508e+03  2.33024634e+03  3.24789526e+03  4.04419159e+02\n",
      "  4.37056641e+03  3.11271143e+03  3.57459961e+03  1.37562219e+03\n",
      "  1.42880396e+03  2.18243652e+03  1.56653503e+03  1.38641382e+03\n",
      "  2.90791650e+03  2.81671606e+03  1.54863086e+03  2.83022607e+03\n",
      "  3.00003198e+03  2.61924023e+03  4.24329004e+03  5.65275732e+03\n",
      "  2.96687866e+03  7.92244568e+02  4.85727637e+03  3.51876587e+03\n",
      "  1.05929041e+03  2.32370093e+03  9.88737244e+02  6.74984680e+02\n",
      "  3.01482080e+03  1.25285303e+03  4.49385742e+03  2.15706250e+03\n",
      "  3.34832959e+03  3.85966650e+03  1.45665222e+02  2.25520093e+03\n",
      "  9.17920410e+02  2.61781055e+03  1.75567139e+03  1.41001526e+02\n",
      " -3.18930626e+01  2.69456494e+03  7.30901489e+01  2.22485010e+03\n",
      "  2.51728442e+03  2.22375781e+03  1.95317688e+03  2.92641406e+03\n",
      "  1.23265186e+03  7.62894470e+02  2.85871899e+03  3.81898608e+03\n",
      "  2.57182129e+03  1.95453210e+03  5.54162646e+03  4.17341943e+03\n",
      "  2.61480298e+03  4.39917236e+03  1.16292944e+03  3.63424469e+02\n",
      "  3.72922668e+02  2.61396924e+03  1.47133240e+03  6.39343933e+02\n",
      "  1.04657764e+03  2.82204053e+03  2.45731934e+03  1.74584949e+03\n",
      "  3.98562231e+03  3.38851025e+03  1.51716782e+02  1.46966968e+03\n",
      "  5.10003564e+03  2.25988647e+03  3.04408478e+02  2.81555884e+03\n",
      "  1.03669666e+03  2.96652075e+03  7.53664551e+01  1.82601123e+03\n",
      "  4.63662598e+03  5.54776428e+02  5.52443604e+02  1.26178598e+01\n",
      "  2.11144995e+03  2.40230103e+02  2.68650488e+03  1.91852502e+03\n",
      "  4.86858398e+03  2.65648096e+03  2.44324585e+03  1.71433398e+03\n",
      "  6.56940137e+03  3.09220483e+03  5.10228027e+02  1.85721326e+03\n",
      "  1.52994452e+01  6.00953674e+02  2.05183594e+03  2.28436182e+03\n",
      "  4.90156787e+03  2.06318701e+03  1.34014185e+03  2.92633984e+03\n",
      "  1.90818896e+03  2.56360327e+03  3.07990649e+03  1.72330847e+03\n",
      "  1.28682959e+03  2.62199072e+03  3.38839282e+03  4.21214697e+03\n",
      "  3.62740112e+02  1.15279382e+03  6.30969336e+03  4.04292847e+03\n",
      "  3.06254364e+02  1.36728467e+03  7.92800476e+02  3.80749664e+02\n",
      "  8.72622375e+02  3.63712915e+03  3.73155640e+03  3.21031470e+03\n",
      "  7.22333313e+02  5.83690369e+02  1.39516504e+03  1.18330493e+03\n",
      "  5.59132324e+03  2.71078052e+03  2.60482812e+03  7.96686340e+02\n",
      "  1.65272815e+03  3.58670264e+03  4.08522485e+03  2.66406665e+03\n",
      "  4.26250830e+03  2.64147095e+03  2.15547656e+03  2.73798511e+03\n",
      "  1.90640222e+03 -2.57951145e+01  1.54050867e+03  4.78756989e+02\n",
      "  1.85150391e+03  3.15781342e+02  1.42176929e+03  2.01219995e+03\n",
      "  6.47158020e+02  2.39358081e+03  5.62484863e+02  1.29062439e+03\n",
      "  1.07207642e+03  1.01403284e+03  2.77956970e+02  1.15257849e+03\n",
      "  1.34757446e+03  1.64999719e+03  4.28023486e+03  2.59185986e+03\n",
      "  4.65536670e+03  1.37926636e+03  2.46475024e+03  3.11336206e+03\n",
      "  2.85307764e+03  2.16276929e+03  2.28790674e+03  3.97454468e+03\n",
      "  9.40562057e+01  5.90083545e+03  2.07841187e+03  1.66079272e+03\n",
      "  7.35482056e+02  1.47544116e+03  1.13066687e+03  2.69597070e+03\n",
      "  3.04070435e+03  3.08637231e+03  1.10089758e+03  1.18720215e+02\n",
      "  3.41830444e+03  1.44059778e+03  1.53067090e+03  3.28356616e+03\n",
      "  3.15904028e+03  2.60069507e+03  2.08518652e+03  5.63413147e+02\n",
      "  2.48377563e+03  5.12327393e+02  6.51921082e+02  9.81301025e+02\n",
      "  2.87707471e+03  1.03412036e+03  1.77627454e+03  2.64506250e+03\n",
      "  2.53285840e+03  2.82344336e+03  1.48706421e+03  3.41717383e+03\n",
      "  3.12802759e+03  5.33664795e+03  2.54761914e+03  2.16163843e+03\n",
      "  2.18181299e+03  3.53347339e+03  2.07053003e+03  4.16583069e+02\n",
      "  2.55582733e+02  2.10360962e+03  6.21343201e+02  2.07768750e+03\n",
      "  6.79023682e+02  2.91647412e+03 -1.68760025e+02  3.17854663e+03\n",
      "  4.61184277e+03  1.34790125e+03  9.16575500e+02  4.32369727e+03\n",
      "  5.31913721e+03  3.87887183e+03  3.03431763e+03  2.91675354e+02\n",
      "  2.51638037e+03  2.97146069e+03  2.62959082e+03  2.07674683e+03\n",
      "  1.58666296e+03  5.60275195e+03  1.02843604e+03  9.37610474e+02\n",
      "  3.36760889e+03  2.64946411e+03  2.01942517e+03  2.42087231e+03\n",
      "  9.39534851e+02  5.15080469e+03  1.39032715e+03  2.35071509e+03\n",
      "  3.35351074e+03  1.72301318e+03  2.85543164e+03  1.91403503e+03\n",
      "  1.74385791e+03  2.63461157e+03  9.51203857e+02  2.95072656e+03\n",
      "  8.96042114e+02  3.13752759e+03  2.74772217e+03  3.40486450e+03\n",
      " -3.77382774e+01  2.12939258e+03  1.26447498e+03  2.89031055e+03\n",
      "  2.58063940e+03  2.79697803e+03  2.08788525e+03  1.14707153e+03\n",
      "  2.15785303e+03  2.73306836e+03  2.03268262e+03  1.36336499e+03\n",
      "  2.78969775e+03  3.10875806e+03  4.28513965e+03  1.62040625e+03\n",
      "  1.60697339e+03  1.27064722e+03  3.45590649e+03  1.38345874e+03\n",
      "  2.04537878e+03  7.57973999e+02  2.78568512e+02  2.88791443e+02\n",
      "  2.78409717e+03  2.15494675e+02  2.30898364e+03  5.35564600e+03\n",
      "  2.31222977e+02  1.49701489e+03  3.38910596e+03 -1.73649235e+01\n",
      " -8.90380173e+01  2.04610583e+03  5.14766113e+03  2.35870532e+03\n",
      "  1.57292065e+03  2.82476758e+03  6.20538879e+02  1.02339117e+03\n",
      "  1.96228699e+03  1.85906543e+03  3.09619067e+03  6.25875122e+02\n",
      " -1.00406723e+01  5.35023340e+03  1.85917749e+03  2.05811304e+03\n",
      "  1.43646582e+03  1.63740759e+03  1.56635242e+03  2.10161353e+03\n",
      "  1.81211450e+03  5.75996216e+02  3.26223358e+02  6.65804321e+02\n",
      "  2.56601099e+03  1.52115198e+03  4.71014258e+03  2.55049121e+03\n",
      "  5.06033356e+02  1.58705054e+03  2.00866675e+03  4.50811084e+03\n",
      "  2.28730347e+03  2.56466992e+03  1.23208240e+03  1.48252734e+03\n",
      "  3.85472095e+03  1.74515466e+03  1.28602441e+03  2.58445898e+03\n",
      "  1.75746448e+03  1.95185059e+03  1.89809631e+02  2.41058325e+03\n",
      "  2.44317432e+03  2.43968170e+02  1.59913574e+03  8.41448547e+02\n",
      "  2.98587158e+03  3.02060547e+03  1.49765576e+03  2.71166772e+03\n",
      "  2.06957153e+03  4.55012158e+03  3.40890625e+03  1.87397156e+03\n",
      "  4.01329614e+03  2.76697052e+02  1.53729358e+03  1.36766638e+03\n",
      "  4.61956696e+02  6.84129700e+02  1.69728577e+03  6.02725098e+02\n",
      "  7.99981567e+02  5.24067188e+03  3.46516040e+03  3.51412793e+03\n",
      "  6.92753845e+02  1.96635254e+03  7.16458923e+02  2.12518823e+03\n",
      "  2.20560596e+03  2.21360474e+03  3.16701245e+03  4.85124359e+02\n",
      "  2.42898926e+02  1.16524426e+03  3.03629492e+03  1.81723853e+03\n",
      "  2.20943945e+03  2.70594165e+03  1.71850378e+03  6.70763184e+03\n",
      "  1.86273669e+03  6.04795947e+03  2.08503955e+03  2.15457544e+03\n",
      "  1.64749268e+02  2.70201562e+03  2.35343994e+03  3.45963257e+02\n",
      "  2.32938126e+02  4.53954053e+03  4.64838330e+03  2.61769440e+02\n",
      "  6.17388489e+02  2.44062817e+03  2.89513599e+03  1.05917981e+03\n",
      "  3.53491382e+03  1.57860632e+03  1.44886633e+03  6.88407910e+03\n",
      "  1.40585144e+03  4.07374487e+03  2.42217114e+03  7.14123154e+01\n",
      "  2.32469482e+03  3.12329175e+03  3.21126929e+03 -9.65126419e+01\n",
      "  3.67842358e+03  1.45549695e+03  4.23514795e+03  1.78566614e+03\n",
      "  1.71230237e+03  1.92403931e+03  6.35377930e+02  2.40969995e+03\n",
      "  5.98645459e+03  2.52936874e+02  1.41910278e+03  5.18360059e+03\n",
      "  2.22511987e+03  1.69245435e+03  3.16137769e+03  1.20321765e+03\n",
      "  3.21800903e+03  3.34877838e+02  8.72482666e+02  8.38175232e+02\n",
      "  1.05555286e+03  2.06900415e+03  3.31827734e+03  2.70537628e+02\n",
      "  2.06011157e+03  9.81595703e+02  4.30675146e+03  1.62186377e+03\n",
      "  2.44743970e+03  2.55007666e+03  2.03852490e+03  1.13924475e+03\n",
      "  2.21766528e+03  2.38203906e+03  7.27721875e+03  5.00934668e+03\n",
      "  4.54772530e+01  4.17134814e+03  1.54005035e+02  3.44021301e+02\n",
      "  4.32042023e+02  5.22495703e+03  2.26111914e+03  3.61980371e+03\n",
      "  2.05370972e+03  3.12143945e+03  1.78906604e+03  3.78041351e+02\n",
      "  4.26671729e+03  3.11007690e+03  1.65315342e+01  2.21576025e+03\n",
      "  2.30505591e+03  4.22051318e+03  1.59796606e+03  1.40738452e+03\n",
      "  3.53490308e+03  2.61581152e+03  3.40805127e+03  3.31079053e+03\n",
      "  9.64099915e+02  1.78738550e+03  2.50842554e+03  1.67370947e+03\n",
      "  1.60405652e+03  1.57880786e+03  2.06744263e+03  8.43143677e+02\n",
      "  9.65382019e+02  3.39794464e+02  2.73933301e+03  1.16071118e+03\n",
      "  1.38480789e+02  1.68282703e+03  1.94128564e+03  2.90088794e+03\n",
      "  1.65268701e+03  3.57131165e+02  2.84146094e+03  1.39129260e+03\n",
      "  7.57541138e+02  2.04242310e+03  4.28948669e+02 -1.91512543e+02\n",
      "  3.24498999e+03  6.60245361e+02  4.87066699e+03  3.58625439e+03\n",
      "  4.51312256e+03  2.42414014e+03  2.53940308e+03  9.80273865e+02\n",
      "  1.30248779e+03]\n"
     ]
    }
   ],
   "source": [
    "from xgboost import XGBRegressor\n",
    "regressor=XGBRegressor()\n",
    "regressor.fit(x_train,y_train)\n",
    "y_pred=regressor.predict(x_val)\n",
    "print(y_pred)"
   ]
  },
  {
   "cell_type": "code",
   "execution_count": 55,
   "metadata": {},
   "outputs": [
    {
     "data": {
      "text/plain": [
       "0.8276800021877323"
      ]
     },
     "execution_count": 55,
     "metadata": {},
     "output_type": "execute_result"
    }
   ],
   "source": [
    "regressor.score(x_train,y_train)\n"
   ]
  },
  {
   "cell_type": "code",
   "execution_count": 56,
   "metadata": {},
   "outputs": [
    {
     "ename": "ImportError",
     "evalue": "cannot import name 'LinearReagression'",
     "output_type": "error",
     "traceback": [
      "\u001b[1;31m---------------------------------------------------------------------------\u001b[0m",
      "\u001b[1;31mImportError\u001b[0m                               Traceback (most recent call last)",
      "\u001b[1;32m<ipython-input-56-680f806c5a72>\u001b[0m in \u001b[0;36m<module>\u001b[1;34m\u001b[0m\n\u001b[1;32m----> 1\u001b[1;33m \u001b[1;32mfrom\u001b[0m \u001b[0msklearn\u001b[0m\u001b[1;33m.\u001b[0m\u001b[0mlinear_model\u001b[0m \u001b[1;32mimport\u001b[0m \u001b[0mLinearReagression\u001b[0m\u001b[1;33m\u001b[0m\u001b[1;33m\u001b[0m\u001b[0m\n\u001b[0m\u001b[0;32m      2\u001b[0m \u001b[0mlm\u001b[0m\u001b[1;33m=\u001b[0m\u001b[0mLinearRegression\u001b[0m\u001b[1;33m(\u001b[0m\u001b[0mnormalize\u001b[0m\u001b[1;33m=\u001b[0m\u001b[1;32mTrue\u001b[0m\u001b[1;33m)\u001b[0m\u001b[1;33m\u001b[0m\u001b[1;33m\u001b[0m\u001b[0m\n\u001b[0;32m      3\u001b[0m \u001b[0mlm\u001b[0m\u001b[1;33m.\u001b[0m\u001b[0mfit\u001b[0m\u001b[1;33m(\u001b[0m\u001b[0mx_train\u001b[0m\u001b[1;33m,\u001b[0m\u001b[0my_train\u001b[0m\u001b[1;33m)\u001b[0m\u001b[1;33m\u001b[0m\u001b[1;33m\u001b[0m\u001b[0m\n",
      "\u001b[1;31mImportError\u001b[0m: cannot import name 'LinearReagression'"
     ]
    }
   ],
   "source": [
    "from sklearn.linear_model import LinearReagression\n",
    "lm=LinearRegression(normalize=True)\n",
    "lm.fit(x_train,y_train)"
   ]
  },
  {
   "cell_type": "code",
   "execution_count": 57,
   "metadata": {},
   "outputs": [
    {
     "data": {
      "text/plain": [
       "LinearRegression(normalize=True)"
      ]
     },
     "execution_count": 57,
     "metadata": {},
     "output_type": "execute_result"
    }
   ],
   "source": [
    "from sklearn.linear_model import LinearRegression\n",
    "lm=LinearRegression(normalize=True)\n",
    "lm.fit(x_train,y_train)"
   ]
  },
  {
   "cell_type": "code",
   "execution_count": 58,
   "metadata": {},
   "outputs": [
    {
     "name": "stdout",
     "output_type": "stream",
     "text": [
      "Score:\n"
     ]
    },
    {
     "ename": "AttributeError",
     "evalue": "'LinearRegression' object has no attribute 'Score'",
     "output_type": "error",
     "traceback": [
      "\u001b[1;31m---------------------------------------------------------------------------\u001b[0m",
      "\u001b[1;31mAttributeError\u001b[0m                            Traceback (most recent call last)",
      "\u001b[1;32m<ipython-input-58-25718d14adf8>\u001b[0m in \u001b[0;36m<module>\u001b[1;34m\u001b[0m\n\u001b[0;32m      1\u001b[0m \u001b[0mpredict\u001b[0m\u001b[1;33m=\u001b[0m\u001b[0mlm\u001b[0m\u001b[1;33m.\u001b[0m\u001b[0mpredict\u001b[0m\u001b[1;33m(\u001b[0m\u001b[0mx_val\u001b[0m\u001b[1;33m)\u001b[0m\u001b[1;33m\u001b[0m\u001b[1;33m\u001b[0m\u001b[0m\n\u001b[0;32m      2\u001b[0m \u001b[0mprint\u001b[0m\u001b[1;33m(\u001b[0m\u001b[1;34m'Score:'\u001b[0m\u001b[1;33m)\u001b[0m\u001b[1;33m\u001b[0m\u001b[1;33m\u001b[0m\u001b[0m\n\u001b[1;32m----> 3\u001b[1;33m \u001b[0mlm\u001b[0m\u001b[1;33m.\u001b[0m\u001b[0mScore\u001b[0m\u001b[1;33m(\u001b[0m\u001b[0mx_train\u001b[0m\u001b[1;33m,\u001b[0m\u001b[0my_test\u001b[0m\u001b[1;33m)\u001b[0m\u001b[1;33m\u001b[0m\u001b[1;33m\u001b[0m\u001b[0m\n\u001b[0m",
      "\u001b[1;31mAttributeError\u001b[0m: 'LinearRegression' object has no attribute 'Score'"
     ]
    }
   ],
   "source": [
    "predict=lm.predict(x_val)\n",
    "print('Score:')\n",
    "lm.Score(x_train,y_test)"
   ]
  },
  {
   "cell_type": "code",
   "execution_count": 59,
   "metadata": {},
   "outputs": [
    {
     "name": "stdout",
     "output_type": "stream",
     "text": [
      "Score:\n"
     ]
    },
    {
     "ename": "NameError",
     "evalue": "name 'y_test' is not defined",
     "output_type": "error",
     "traceback": [
      "\u001b[1;31m---------------------------------------------------------------------------\u001b[0m",
      "\u001b[1;31mNameError\u001b[0m                                 Traceback (most recent call last)",
      "\u001b[1;32m<ipython-input-59-264bd54691c4>\u001b[0m in \u001b[0;36m<module>\u001b[1;34m\u001b[0m\n\u001b[0;32m      1\u001b[0m \u001b[0mpredict\u001b[0m\u001b[1;33m=\u001b[0m\u001b[0mlm\u001b[0m\u001b[1;33m.\u001b[0m\u001b[0mpredict\u001b[0m\u001b[1;33m(\u001b[0m\u001b[0mx_val\u001b[0m\u001b[1;33m)\u001b[0m\u001b[1;33m\u001b[0m\u001b[1;33m\u001b[0m\u001b[0m\n\u001b[0;32m      2\u001b[0m \u001b[0mprint\u001b[0m\u001b[1;33m(\u001b[0m\u001b[1;34m'Score:'\u001b[0m\u001b[1;33m)\u001b[0m\u001b[1;33m\u001b[0m\u001b[1;33m\u001b[0m\u001b[0m\n\u001b[1;32m----> 3\u001b[1;33m \u001b[0mlm\u001b[0m\u001b[1;33m.\u001b[0m\u001b[0mscore\u001b[0m\u001b[1;33m(\u001b[0m\u001b[0mx_train\u001b[0m\u001b[1;33m,\u001b[0m\u001b[0my_test\u001b[0m\u001b[1;33m)\u001b[0m\u001b[1;33m\u001b[0m\u001b[1;33m\u001b[0m\u001b[0m\n\u001b[0m",
      "\u001b[1;31mNameError\u001b[0m: name 'y_test' is not defined"
     ]
    }
   ],
   "source": [
    "predict=lm.predict(x_val)\n",
    "print('Score:')\n",
    "lm.score(x_train,y_test)"
   ]
  },
  {
   "cell_type": "code",
   "execution_count": 60,
   "metadata": {},
   "outputs": [
    {
     "name": "stdout",
     "output_type": "stream",
     "text": [
      "Score:\n"
     ]
    },
    {
     "ename": "AttributeError",
     "evalue": "'LinearRegression' object has no attribute 'Score'",
     "output_type": "error",
     "traceback": [
      "\u001b[1;31m---------------------------------------------------------------------------\u001b[0m",
      "\u001b[1;31mAttributeError\u001b[0m                            Traceback (most recent call last)",
      "\u001b[1;32m<ipython-input-60-e116f9eda52a>\u001b[0m in \u001b[0;36m<module>\u001b[1;34m\u001b[0m\n\u001b[0;32m      1\u001b[0m \u001b[0mpredict\u001b[0m\u001b[1;33m=\u001b[0m\u001b[0mlm\u001b[0m\u001b[1;33m.\u001b[0m\u001b[0mpredict\u001b[0m\u001b[1;33m(\u001b[0m\u001b[0mx_val\u001b[0m\u001b[1;33m)\u001b[0m\u001b[1;33m\u001b[0m\u001b[1;33m\u001b[0m\u001b[0m\n\u001b[0;32m      2\u001b[0m \u001b[0mprint\u001b[0m\u001b[1;33m(\u001b[0m\u001b[1;34m'Score:'\u001b[0m\u001b[1;33m)\u001b[0m\u001b[1;33m\u001b[0m\u001b[1;33m\u001b[0m\u001b[0m\n\u001b[1;32m----> 3\u001b[1;33m \u001b[0mlm\u001b[0m\u001b[1;33m.\u001b[0m\u001b[0mScore\u001b[0m\u001b[1;33m(\u001b[0m\u001b[0mx_train\u001b[0m\u001b[1;33m,\u001b[0m\u001b[0my_train\u001b[0m\u001b[1;33m)\u001b[0m\u001b[1;33m\u001b[0m\u001b[1;33m\u001b[0m\u001b[0m\n\u001b[0m",
      "\u001b[1;31mAttributeError\u001b[0m: 'LinearRegression' object has no attribute 'Score'"
     ]
    }
   ],
   "source": [
    "predict=lm.predict(x_val)\n",
    "print('Score:')\n",
    "lm.Score(x_train,y_train)"
   ]
  },
  {
   "cell_type": "code",
   "execution_count": 61,
   "metadata": {},
   "outputs": [
    {
     "name": "stdout",
     "output_type": "stream",
     "text": [
      "predict\n"
     ]
    }
   ],
   "source": [
    "predict=lm.predict(x_val)\n",
    "print('predict')"
   ]
  },
  {
   "cell_type": "code",
   "execution_count": 62,
   "metadata": {},
   "outputs": [
    {
     "data": {
      "text/plain": [
       "LinearRegression(normalize=True)"
      ]
     },
     "execution_count": 62,
     "metadata": {},
     "output_type": "execute_result"
    }
   ],
   "source": [
    "from sklearn.linear_model import LinearRegression\n",
    "lm=LinearRegression(normalize=True)\n",
    "lm.fit(x_train,y_train)"
   ]
  },
  {
   "cell_type": "code",
   "execution_count": 63,
   "metadata": {},
   "outputs": [
    {
     "ename": "ValueError",
     "evalue": "feature_names mismatch: ['f0', 'f1', 'f2', 'f3', 'f4', 'f5', 'f6', 'f7', 'f8', 'f9', 'f10', 'f11', 'f12', 'f13', 'f14', 'f15', 'f16', 'f17', 'f18', 'f19', 'f20'] ['f0', 'f1', 'f2', 'f3', 'f4', 'f5', 'f6', 'f7', 'f8', 'f9', 'f10', 'f11', 'f12', 'f13', 'f14', 'f15', 'f16', 'f17', 'f18', 'f19', 'f20', 'f21', 'f22', 'f23', 'f24', 'f25', 'f26', 'f27', 'f28', 'f29', 'f30', 'f31', 'f32', 'f33', 'f34', 'f35', 'f36', 'f37', 'f38', 'f39', 'f40', 'f41', 'f42', 'f43', 'f44', 'f45', 'f46', 'f47', 'f48', 'f49', 'f50', 'f51', 'f52', 'f53', 'f54', 'f55', 'f56', 'f57', 'f58', 'f59', 'f60', 'f61', 'f62', 'f63', 'f64', 'f65', 'f66', 'f67', 'f68', 'f69', 'f70', 'f71', 'f72', 'f73', 'f74', 'f75', 'f76', 'f77', 'f78', 'f79', 'f80', 'f81', 'f82', 'f83', 'f84', 'f85', 'f86', 'f87', 'f88', 'f89', 'f90', 'f91', 'f92', 'f93', 'f94', 'f95', 'f96', 'f97', 'f98', 'f99', 'f100', 'f101', 'f102', 'f103', 'f104', 'f105', 'f106', 'f107', 'f108', 'f109', 'f110', 'f111', 'f112', 'f113', 'f114', 'f115', 'f116', 'f117', 'f118', 'f119', 'f120', 'f121', 'f122', 'f123', 'f124', 'f125', 'f126', 'f127', 'f128', 'f129', 'f130', 'f131', 'f132', 'f133', 'f134', 'f135', 'f136', 'f137', 'f138', 'f139', 'f140', 'f141', 'f142', 'f143', 'f144', 'f145', 'f146', 'f147', 'f148', 'f149', 'f150', 'f151', 'f152', 'f153', 'f154', 'f155', 'f156', 'f157', 'f158', 'f159', 'f160', 'f161', 'f162', 'f163', 'f164', 'f165', 'f166', 'f167', 'f168', 'f169', 'f170', 'f171', 'f172', 'f173', 'f174', 'f175', 'f176', 'f177', 'f178', 'f179', 'f180', 'f181', 'f182', 'f183', 'f184', 'f185', 'f186', 'f187', 'f188', 'f189', 'f190', 'f191', 'f192', 'f193', 'f194', 'f195', 'f196', 'f197', 'f198', 'f199', 'f200', 'f201', 'f202', 'f203', 'f204', 'f205', 'f206', 'f207', 'f208', 'f209', 'f210', 'f211', 'f212', 'f213', 'f214', 'f215', 'f216', 'f217', 'f218', 'f219', 'f220', 'f221', 'f222', 'f223', 'f224', 'f225', 'f226', 'f227', 'f228', 'f229', 'f230', 'f231', 'f232', 'f233', 'f234', 'f235', 'f236', 'f237', 'f238', 'f239', 'f240', 'f241', 'f242', 'f243', 'f244', 'f245', 'f246', 'f247', 'f248', 'f249', 'f250', 'f251', 'f252', 'f253', 'f254', 'f255', 'f256', 'f257', 'f258', 'f259', 'f260', 'f261', 'f262', 'f263', 'f264', 'f265', 'f266', 'f267', 'f268', 'f269', 'f270', 'f271', 'f272', 'f273', 'f274', 'f275', 'f276', 'f277', 'f278', 'f279', 'f280', 'f281', 'f282', 'f283', 'f284', 'f285', 'f286', 'f287', 'f288', 'f289', 'f290', 'f291', 'f292', 'f293', 'f294', 'f295', 'f296', 'f297', 'f298', 'f299', 'f300', 'f301', 'f302', 'f303', 'f304', 'f305', 'f306', 'f307', 'f308', 'f309', 'f310', 'f311', 'f312', 'f313', 'f314', 'f315', 'f316', 'f317', 'f318', 'f319', 'f320', 'f321', 'f322', 'f323', 'f324', 'f325', 'f326', 'f327', 'f328', 'f329', 'f330', 'f331', 'f332', 'f333', 'f334', 'f335', 'f336', 'f337', 'f338', 'f339', 'f340', 'f341', 'f342', 'f343', 'f344', 'f345', 'f346', 'f347', 'f348', 'f349', 'f350', 'f351', 'f352', 'f353', 'f354', 'f355', 'f356', 'f357', 'f358', 'f359', 'f360', 'f361', 'f362', 'f363', 'f364', 'f365', 'f366', 'f367', 'f368', 'f369', 'f370', 'f371', 'f372', 'f373', 'f374', 'f375', 'f376', 'f377', 'f378', 'f379', 'f380', 'f381', 'f382', 'f383', 'f384', 'f385', 'f386', 'f387', 'f388', 'f389', 'f390', 'f391', 'f392', 'f393', 'f394', 'f395', 'f396', 'f397', 'f398', 'f399', 'f400', 'f401', 'f402', 'f403', 'f404', 'f405', 'f406', 'f407', 'f408', 'f409', 'f410', 'f411', 'f412', 'f413', 'f414', 'f415', 'f416', 'f417', 'f418', 'f419', 'f420', 'f421', 'f422', 'f423', 'f424', 'f425', 'f426', 'f427', 'f428', 'f429', 'f430', 'f431', 'f432', 'f433', 'f434', 'f435', 'f436', 'f437', 'f438', 'f439', 'f440', 'f441', 'f442', 'f443', 'f444', 'f445', 'f446', 'f447', 'f448', 'f449', 'f450', 'f451', 'f452', 'f453', 'f454', 'f455', 'f456', 'f457', 'f458', 'f459', 'f460', 'f461', 'f462', 'f463', 'f464', 'f465', 'f466', 'f467', 'f468', 'f469', 'f470', 'f471', 'f472', 'f473', 'f474', 'f475', 'f476', 'f477', 'f478', 'f479', 'f480', 'f481', 'f482', 'f483', 'f484', 'f485', 'f486', 'f487', 'f488', 'f489', 'f490', 'f491', 'f492', 'f493', 'f494', 'f495', 'f496', 'f497', 'f498', 'f499', 'f500', 'f501', 'f502', 'f503', 'f504', 'f505', 'f506', 'f507', 'f508', 'f509', 'f510', 'f511', 'f512', 'f513', 'f514', 'f515', 'f516', 'f517', 'f518', 'f519', 'f520', 'f521', 'f522', 'f523', 'f524', 'f525', 'f526', 'f527', 'f528', 'f529', 'f530', 'f531', 'f532', 'f533', 'f534', 'f535', 'f536', 'f537', 'f538', 'f539', 'f540', 'f541', 'f542', 'f543', 'f544', 'f545', 'f546', 'f547', 'f548', 'f549', 'f550', 'f551', 'f552', 'f553', 'f554', 'f555', 'f556', 'f557', 'f558', 'f559', 'f560', 'f561', 'f562', 'f563', 'f564', 'f565', 'f566', 'f567', 'f568', 'f569', 'f570', 'f571', 'f572', 'f573', 'f574', 'f575', 'f576', 'f577', 'f578', 'f579', 'f580', 'f581', 'f582', 'f583', 'f584', 'f585', 'f586', 'f587', 'f588', 'f589', 'f590', 'f591', 'f592', 'f593', 'f594', 'f595', 'f596', 'f597', 'f598', 'f599', 'f600', 'f601', 'f602', 'f603', 'f604', 'f605', 'f606', 'f607', 'f608', 'f609', 'f610', 'f611', 'f612', 'f613', 'f614', 'f615', 'f616', 'f617', 'f618', 'f619', 'f620', 'f621', 'f622', 'f623', 'f624', 'f625', 'f626', 'f627', 'f628', 'f629', 'f630', 'f631', 'f632', 'f633', 'f634', 'f635', 'f636', 'f637', 'f638', 'f639', 'f640', 'f641', 'f642', 'f643', 'f644', 'f645', 'f646', 'f647', 'f648', 'f649', 'f650', 'f651', 'f652', 'f653', 'f654', 'f655', 'f656', 'f657', 'f658', 'f659', 'f660', 'f661', 'f662', 'f663', 'f664', 'f665', 'f666', 'f667', 'f668', 'f669', 'f670', 'f671', 'f672', 'f673', 'f674', 'f675', 'f676', 'f677', 'f678', 'f679', 'f680', 'f681', 'f682', 'f683', 'f684', 'f685', 'f686', 'f687', 'f688', 'f689', 'f690', 'f691', 'f692', 'f693', 'f694', 'f695', 'f696', 'f697', 'f698', 'f699', 'f700', 'f701', 'f702', 'f703', 'f704', 'f705', 'f706', 'f707', 'f708', 'f709', 'f710', 'f711', 'f712', 'f713', 'f714', 'f715', 'f716', 'f717', 'f718', 'f719', 'f720', 'f721', 'f722', 'f723', 'f724', 'f725', 'f726', 'f727', 'f728', 'f729', 'f730', 'f731', 'f732', 'f733', 'f734', 'f735', 'f736', 'f737', 'f738', 'f739', 'f740', 'f741', 'f742', 'f743', 'f744', 'f745', 'f746', 'f747', 'f748', 'f749', 'f750', 'f751', 'f752', 'f753', 'f754', 'f755', 'f756', 'f757', 'f758', 'f759', 'f760', 'f761', 'f762', 'f763', 'f764', 'f765', 'f766', 'f767', 'f768', 'f769', 'f770', 'f771', 'f772', 'f773', 'f774', 'f775', 'f776', 'f777', 'f778', 'f779', 'f780', 'f781', 'f782', 'f783', 'f784', 'f785', 'f786', 'f787', 'f788', 'f789', 'f790', 'f791', 'f792', 'f793', 'f794', 'f795', 'f796', 'f797', 'f798', 'f799', 'f800', 'f801', 'f802', 'f803', 'f804', 'f805', 'f806', 'f807', 'f808', 'f809', 'f810', 'f811', 'f812', 'f813', 'f814', 'f815', 'f816', 'f817', 'f818', 'f819', 'f820', 'f821', 'f822', 'f823', 'f824', 'f825', 'f826', 'f827', 'f828', 'f829', 'f830', 'f831', 'f832', 'f833', 'f834', 'f835', 'f836', 'f837', 'f838', 'f839', 'f840', 'f841', 'f842', 'f843', 'f844', 'f845', 'f846', 'f847', 'f848', 'f849', 'f850', 'f851', 'f852', 'f853', 'f854', 'f855', 'f856', 'f857', 'f858', 'f859', 'f860', 'f861', 'f862', 'f863', 'f864', 'f865', 'f866', 'f867', 'f868', 'f869', 'f870', 'f871', 'f872', 'f873', 'f874', 'f875', 'f876', 'f877', 'f878', 'f879', 'f880', 'f881', 'f882', 'f883', 'f884', 'f885', 'f886', 'f887', 'f888', 'f889', 'f890', 'f891', 'f892', 'f893', 'f894', 'f895', 'f896', 'f897', 'f898', 'f899', 'f900', 'f901', 'f902', 'f903', 'f904', 'f905', 'f906', 'f907', 'f908', 'f909', 'f910', 'f911', 'f912', 'f913', 'f914', 'f915', 'f916', 'f917', 'f918', 'f919', 'f920', 'f921', 'f922', 'f923', 'f924', 'f925', 'f926', 'f927', 'f928', 'f929', 'f930', 'f931', 'f932', 'f933', 'f934', 'f935', 'f936', 'f937', 'f938', 'f939', 'f940', 'f941', 'f942', 'f943', 'f944', 'f945', 'f946', 'f947', 'f948', 'f949', 'f950', 'f951', 'f952', 'f953', 'f954', 'f955', 'f956', 'f957', 'f958', 'f959', 'f960', 'f961', 'f962', 'f963', 'f964', 'f965', 'f966', 'f967', 'f968', 'f969', 'f970', 'f971', 'f972', 'f973', 'f974', 'f975', 'f976', 'f977', 'f978', 'f979', 'f980', 'f981', 'f982', 'f983', 'f984', 'f985', 'f986', 'f987', 'f988', 'f989', 'f990', 'f991', 'f992', 'f993', 'f994', 'f995', 'f996', 'f997', 'f998', 'f999', 'f1000', 'f1001', 'f1002', 'f1003', 'f1004', 'f1005', 'f1006', 'f1007', 'f1008', 'f1009', 'f1010', 'f1011', 'f1012', 'f1013', 'f1014', 'f1015', 'f1016', 'f1017', 'f1018', 'f1019', 'f1020', 'f1021', 'f1022', 'f1023', 'f1024', 'f1025', 'f1026', 'f1027', 'f1028', 'f1029', 'f1030', 'f1031', 'f1032', 'f1033', 'f1034', 'f1035', 'f1036', 'f1037', 'f1038', 'f1039', 'f1040', 'f1041', 'f1042', 'f1043', 'f1044', 'f1045', 'f1046', 'f1047', 'f1048', 'f1049', 'f1050', 'f1051', 'f1052', 'f1053', 'f1054', 'f1055', 'f1056', 'f1057', 'f1058', 'f1059', 'f1060', 'f1061', 'f1062', 'f1063', 'f1064', 'f1065', 'f1066', 'f1067', 'f1068', 'f1069', 'f1070', 'f1071', 'f1072', 'f1073', 'f1074', 'f1075', 'f1076', 'f1077', 'f1078', 'f1079', 'f1080', 'f1081', 'f1082', 'f1083', 'f1084', 'f1085', 'f1086', 'f1087', 'f1088', 'f1089', 'f1090', 'f1091', 'f1092', 'f1093', 'f1094', 'f1095', 'f1096', 'f1097', 'f1098', 'f1099', 'f1100', 'f1101', 'f1102', 'f1103', 'f1104', 'f1105', 'f1106', 'f1107', 'f1108', 'f1109', 'f1110', 'f1111', 'f1112', 'f1113', 'f1114', 'f1115', 'f1116', 'f1117', 'f1118', 'f1119', 'f1120', 'f1121', 'f1122', 'f1123', 'f1124', 'f1125', 'f1126', 'f1127', 'f1128', 'f1129', 'f1130', 'f1131', 'f1132', 'f1133', 'f1134', 'f1135', 'f1136', 'f1137', 'f1138', 'f1139', 'f1140', 'f1141', 'f1142', 'f1143', 'f1144', 'f1145', 'f1146', 'f1147', 'f1148', 'f1149', 'f1150', 'f1151', 'f1152', 'f1153', 'f1154', 'f1155', 'f1156', 'f1157', 'f1158', 'f1159', 'f1160', 'f1161', 'f1162', 'f1163', 'f1164', 'f1165', 'f1166', 'f1167', 'f1168', 'f1169', 'f1170', 'f1171', 'f1172', 'f1173', 'f1174', 'f1175', 'f1176', 'f1177', 'f1178', 'f1179', 'f1180', 'f1181', 'f1182', 'f1183', 'f1184', 'f1185', 'f1186', 'f1187', 'f1188', 'f1189', 'f1190', 'f1191', 'f1192', 'f1193', 'f1194', 'f1195', 'f1196', 'f1197', 'f1198', 'f1199', 'f1200', 'f1201', 'f1202', 'f1203', 'f1204', 'f1205', 'f1206', 'f1207', 'f1208', 'f1209', 'f1210', 'f1211', 'f1212', 'f1213', 'f1214', 'f1215', 'f1216', 'f1217', 'f1218', 'f1219', 'f1220', 'f1221', 'f1222', 'f1223', 'f1224', 'f1225', 'f1226', 'f1227', 'f1228', 'f1229', 'f1230', 'f1231', 'f1232', 'f1233', 'f1234', 'f1235', 'f1236', 'f1237', 'f1238', 'f1239', 'f1240', 'f1241', 'f1242', 'f1243', 'f1244', 'f1245', 'f1246', 'f1247', 'f1248', 'f1249', 'f1250', 'f1251', 'f1252', 'f1253', 'f1254', 'f1255', 'f1256', 'f1257', 'f1258', 'f1259', 'f1260', 'f1261', 'f1262', 'f1263', 'f1264', 'f1265', 'f1266', 'f1267', 'f1268', 'f1269', 'f1270', 'f1271', 'f1272', 'f1273', 'f1274', 'f1275', 'f1276', 'f1277', 'f1278', 'f1279', 'f1280', 'f1281', 'f1282', 'f1283', 'f1284', 'f1285', 'f1286', 'f1287', 'f1288', 'f1289', 'f1290', 'f1291', 'f1292', 'f1293', 'f1294', 'f1295', 'f1296', 'f1297', 'f1298', 'f1299', 'f1300', 'f1301', 'f1302', 'f1303', 'f1304', 'f1305', 'f1306', 'f1307', 'f1308', 'f1309', 'f1310', 'f1311', 'f1312', 'f1313', 'f1314', 'f1315', 'f1316', 'f1317', 'f1318', 'f1319', 'f1320', 'f1321', 'f1322', 'f1323', 'f1324', 'f1325', 'f1326', 'f1327', 'f1328', 'f1329', 'f1330', 'f1331', 'f1332', 'f1333', 'f1334', 'f1335', 'f1336', 'f1337', 'f1338', 'f1339', 'f1340', 'f1341', 'f1342', 'f1343', 'f1344', 'f1345', 'f1346', 'f1347', 'f1348', 'f1349', 'f1350', 'f1351', 'f1352', 'f1353', 'f1354', 'f1355', 'f1356', 'f1357', 'f1358', 'f1359', 'f1360', 'f1361', 'f1362', 'f1363', 'f1364', 'f1365', 'f1366', 'f1367', 'f1368', 'f1369', 'f1370', 'f1371', 'f1372', 'f1373', 'f1374', 'f1375', 'f1376', 'f1377', 'f1378', 'f1379', 'f1380', 'f1381', 'f1382', 'f1383', 'f1384', 'f1385', 'f1386', 'f1387', 'f1388', 'f1389', 'f1390', 'f1391', 'f1392', 'f1393', 'f1394', 'f1395', 'f1396', 'f1397', 'f1398', 'f1399', 'f1400', 'f1401', 'f1402', 'f1403', 'f1404', 'f1405', 'f1406', 'f1407', 'f1408', 'f1409', 'f1410', 'f1411', 'f1412', 'f1413', 'f1414', 'f1415', 'f1416', 'f1417', 'f1418', 'f1419', 'f1420', 'f1421', 'f1422', 'f1423', 'f1424', 'f1425', 'f1426', 'f1427', 'f1428', 'f1429', 'f1430', 'f1431', 'f1432', 'f1433', 'f1434', 'f1435', 'f1436', 'f1437', 'f1438', 'f1439', 'f1440', 'f1441', 'f1442', 'f1443', 'f1444', 'f1445', 'f1446', 'f1447', 'f1448', 'f1449', 'f1450', 'f1451', 'f1452', 'f1453', 'f1454', 'f1455', 'f1456', 'f1457', 'f1458', 'f1459', 'f1460', 'f1461', 'f1462', 'f1463', 'f1464', 'f1465', 'f1466', 'f1467', 'f1468', 'f1469', 'f1470', 'f1471', 'f1472', 'f1473', 'f1474', 'f1475', 'f1476', 'f1477', 'f1478', 'f1479', 'f1480', 'f1481', 'f1482', 'f1483', 'f1484', 'f1485', 'f1486', 'f1487', 'f1488', 'f1489', 'f1490', 'f1491', 'f1492', 'f1493', 'f1494', 'f1495', 'f1496', 'f1497', 'f1498', 'f1499', 'f1500', 'f1501', 'f1502', 'f1503', 'f1504', 'f1505', 'f1506', 'f1507', 'f1508', 'f1509', 'f1510', 'f1511', 'f1512', 'f1513', 'f1514', 'f1515', 'f1516', 'f1517', 'f1518', 'f1519', 'f1520', 'f1521', 'f1522', 'f1523', 'f1524', 'f1525', 'f1526', 'f1527', 'f1528', 'f1529', 'f1530', 'f1531', 'f1532', 'f1533', 'f1534', 'f1535', 'f1536', 'f1537', 'f1538', 'f1539', 'f1540', 'f1541', 'f1542', 'f1543', 'f1544', 'f1545', 'f1546', 'f1547', 'f1548', 'f1549', 'f1550', 'f1551', 'f1552', 'f1553', 'f1554', 'f1555', 'f1556', 'f1557', 'f1558', 'f1559', 'f1560', 'f1561', 'f1562', 'f1563', 'f1564', 'f1565', 'f1566', 'f1567', 'f1568', 'f1569', 'f1570', 'f1571', 'f1572', 'f1573', 'f1574', 'f1575', 'f1576', 'f1577', 'f1578', 'f1579', 'f1580', 'f1581', 'f1582', 'f1583', 'f1584', 'f1585', 'f1586', 'f1587', 'f1588', 'f1589', 'f1590', 'f1591', 'f1592', 'f1593', 'f1594', 'f1595', 'f1596', 'f1597', 'f1598', 'f1599', 'f1600', 'f1601', 'f1602', 'f1603', 'f1604', 'f1605', 'f1606', 'f1607', 'f1608', 'f1609', 'f1610', 'f1611', 'f1612', 'f1613', 'f1614', 'f1615', 'f1616', 'f1617', 'f1618', 'f1619', 'f1620', 'f1621', 'f1622', 'f1623', 'f1624', 'f1625', 'f1626', 'f1627', 'f1628', 'f1629', 'f1630', 'f1631', 'f1632', 'f1633', 'f1634', 'f1635', 'f1636', 'f1637', 'f1638', 'f1639', 'f1640', 'f1641', 'f1642', 'f1643', 'f1644', 'f1645', 'f1646', 'f1647', 'f1648', 'f1649', 'f1650', 'f1651', 'f1652', 'f1653', 'f1654', 'f1655', 'f1656', 'f1657', 'f1658', 'f1659', 'f1660', 'f1661', 'f1662', 'f1663', 'f1664', 'f1665', 'f1666', 'f1667', 'f1668', 'f1669', 'f1670', 'f1671', 'f1672', 'f1673', 'f1674', 'f1675', 'f1676', 'f1677', 'f1678', 'f1679', 'f1680', 'f1681', 'f1682', 'f1683', 'f1684', 'f1685', 'f1686', 'f1687', 'f1688', 'f1689', 'f1690', 'f1691', 'f1692', 'f1693', 'f1694', 'f1695', 'f1696', 'f1697', 'f1698', 'f1699', 'f1700', 'f1701', 'f1702', 'f1703', 'f1704', 'f1705', 'f1706', 'f1707', 'f1708', 'f1709', 'f1710', 'f1711', 'f1712', 'f1713', 'f1714', 'f1715', 'f1716', 'f1717', 'f1718', 'f1719', 'f1720', 'f1721', 'f1722', 'f1723', 'f1724', 'f1725', 'f1726', 'f1727', 'f1728', 'f1729', 'f1730', 'f1731', 'f1732', 'f1733', 'f1734', 'f1735', 'f1736', 'f1737', 'f1738', 'f1739', 'f1740', 'f1741', 'f1742', 'f1743', 'f1744', 'f1745', 'f1746', 'f1747', 'f1748', 'f1749', 'f1750', 'f1751', 'f1752', 'f1753', 'f1754', 'f1755', 'f1756', 'f1757', 'f1758', 'f1759', 'f1760', 'f1761', 'f1762', 'f1763', 'f1764', 'f1765', 'f1766', 'f1767', 'f1768', 'f1769', 'f1770', 'f1771', 'f1772', 'f1773', 'f1774', 'f1775', 'f1776', 'f1777', 'f1778', 'f1779', 'f1780', 'f1781', 'f1782', 'f1783', 'f1784', 'f1785', 'f1786', 'f1787', 'f1788', 'f1789', 'f1790', 'f1791', 'f1792', 'f1793', 'f1794', 'f1795', 'f1796', 'f1797', 'f1798', 'f1799', 'f1800', 'f1801', 'f1802', 'f1803', 'f1804', 'f1805', 'f1806', 'f1807', 'f1808', 'f1809', 'f1810', 'f1811', 'f1812', 'f1813', 'f1814', 'f1815', 'f1816', 'f1817', 'f1818', 'f1819', 'f1820', 'f1821', 'f1822', 'f1823', 'f1824', 'f1825', 'f1826', 'f1827', 'f1828', 'f1829', 'f1830', 'f1831', 'f1832', 'f1833', 'f1834', 'f1835', 'f1836', 'f1837', 'f1838', 'f1839', 'f1840', 'f1841', 'f1842', 'f1843', 'f1844', 'f1845', 'f1846', 'f1847', 'f1848', 'f1849', 'f1850', 'f1851', 'f1852', 'f1853', 'f1854', 'f1855', 'f1856', 'f1857', 'f1858', 'f1859', 'f1860', 'f1861', 'f1862', 'f1863', 'f1864', 'f1865', 'f1866', 'f1867', 'f1868', 'f1869', 'f1870', 'f1871', 'f1872', 'f1873', 'f1874', 'f1875', 'f1876', 'f1877', 'f1878', 'f1879', 'f1880', 'f1881', 'f1882', 'f1883', 'f1884', 'f1885', 'f1886', 'f1887', 'f1888', 'f1889', 'f1890', 'f1891', 'f1892', 'f1893', 'f1894', 'f1895', 'f1896', 'f1897', 'f1898', 'f1899', 'f1900', 'f1901', 'f1902', 'f1903', 'f1904', 'f1905', 'f1906', 'f1907', 'f1908', 'f1909', 'f1910', 'f1911', 'f1912', 'f1913', 'f1914', 'f1915', 'f1916', 'f1917', 'f1918', 'f1919', 'f1920', 'f1921', 'f1922', 'f1923', 'f1924', 'f1925', 'f1926', 'f1927', 'f1928', 'f1929', 'f1930', 'f1931', 'f1932', 'f1933', 'f1934', 'f1935', 'f1936', 'f1937', 'f1938', 'f1939', 'f1940', 'f1941', 'f1942', 'f1943', 'f1944', 'f1945', 'f1946', 'f1947', 'f1948', 'f1949', 'f1950', 'f1951', 'f1952', 'f1953', 'f1954', 'f1955', 'f1956', 'f1957', 'f1958', 'f1959', 'f1960', 'f1961', 'f1962', 'f1963', 'f1964', 'f1965', 'f1966', 'f1967', 'f1968', 'f1969', 'f1970', 'f1971', 'f1972', 'f1973', 'f1974', 'f1975', 'f1976', 'f1977', 'f1978', 'f1979', 'f1980', 'f1981', 'f1982', 'f1983', 'f1984', 'f1985', 'f1986', 'f1987', 'f1988', 'f1989', 'f1990', 'f1991', 'f1992', 'f1993', 'f1994', 'f1995', 'f1996', 'f1997', 'f1998', 'f1999', 'f2000', 'f2001', 'f2002', 'f2003', 'f2004', 'f2005', 'f2006', 'f2007', 'f2008', 'f2009', 'f2010', 'f2011', 'f2012', 'f2013', 'f2014', 'f2015', 'f2016', 'f2017', 'f2018', 'f2019', 'f2020', 'f2021', 'f2022', 'f2023', 'f2024', 'f2025', 'f2026', 'f2027', 'f2028', 'f2029', 'f2030', 'f2031', 'f2032', 'f2033', 'f2034', 'f2035', 'f2036', 'f2037', 'f2038', 'f2039', 'f2040', 'f2041', 'f2042', 'f2043', 'f2044', 'f2045', 'f2046', 'f2047', 'f2048', 'f2049', 'f2050', 'f2051', 'f2052', 'f2053', 'f2054', 'f2055', 'f2056', 'f2057', 'f2058', 'f2059', 'f2060', 'f2061', 'f2062', 'f2063', 'f2064', 'f2065', 'f2066', 'f2067', 'f2068', 'f2069', 'f2070', 'f2071', 'f2072', 'f2073', 'f2074', 'f2075', 'f2076', 'f2077', 'f2078', 'f2079', 'f2080', 'f2081', 'f2082', 'f2083', 'f2084', 'f2085', 'f2086', 'f2087', 'f2088', 'f2089', 'f2090', 'f2091', 'f2092', 'f2093', 'f2094', 'f2095', 'f2096', 'f2097', 'f2098', 'f2099', 'f2100', 'f2101', 'f2102', 'f2103', 'f2104', 'f2105', 'f2106', 'f2107', 'f2108', 'f2109', 'f2110', 'f2111', 'f2112', 'f2113', 'f2114', 'f2115', 'f2116', 'f2117', 'f2118', 'f2119', 'f2120', 'f2121', 'f2122', 'f2123', 'f2124', 'f2125', 'f2126', 'f2127', 'f2128', 'f2129', 'f2130', 'f2131', 'f2132', 'f2133', 'f2134', 'f2135', 'f2136', 'f2137', 'f2138', 'f2139', 'f2140', 'f2141', 'f2142', 'f2143', 'f2144', 'f2145', 'f2146', 'f2147', 'f2148', 'f2149', 'f2150', 'f2151', 'f2152', 'f2153', 'f2154', 'f2155', 'f2156', 'f2157', 'f2158', 'f2159', 'f2160', 'f2161', 'f2162', 'f2163', 'f2164', 'f2165', 'f2166', 'f2167', 'f2168', 'f2169', 'f2170', 'f2171', 'f2172', 'f2173', 'f2174', 'f2175', 'f2176', 'f2177', 'f2178', 'f2179', 'f2180', 'f2181', 'f2182', 'f2183', 'f2184', 'f2185', 'f2186', 'f2187', 'f2188', 'f2189', 'f2190', 'f2191', 'f2192', 'f2193', 'f2194', 'f2195', 'f2196', 'f2197', 'f2198', 'f2199', 'f2200', 'f2201', 'f2202', 'f2203', 'f2204', 'f2205', 'f2206', 'f2207', 'f2208', 'f2209', 'f2210', 'f2211', 'f2212', 'f2213', 'f2214', 'f2215', 'f2216', 'f2217', 'f2218', 'f2219', 'f2220', 'f2221', 'f2222', 'f2223', 'f2224', 'f2225', 'f2226', 'f2227', 'f2228', 'f2229', 'f2230', 'f2231', 'f2232', 'f2233', 'f2234', 'f2235', 'f2236', 'f2237', 'f2238', 'f2239', 'f2240', 'f2241', 'f2242', 'f2243', 'f2244', 'f2245', 'f2246', 'f2247', 'f2248', 'f2249', 'f2250', 'f2251', 'f2252', 'f2253', 'f2254', 'f2255', 'f2256', 'f2257', 'f2258', 'f2259', 'f2260', 'f2261', 'f2262', 'f2263', 'f2264', 'f2265', 'f2266', 'f2267', 'f2268', 'f2269', 'f2270', 'f2271', 'f2272', 'f2273', 'f2274', 'f2275', 'f2276', 'f2277', 'f2278', 'f2279', 'f2280', 'f2281', 'f2282', 'f2283', 'f2284', 'f2285', 'f2286', 'f2287', 'f2288', 'f2289', 'f2290', 'f2291', 'f2292', 'f2293', 'f2294', 'f2295', 'f2296', 'f2297', 'f2298', 'f2299', 'f2300', 'f2301', 'f2302', 'f2303', 'f2304', 'f2305', 'f2306', 'f2307', 'f2308', 'f2309', 'f2310', 'f2311', 'f2312', 'f2313', 'f2314', 'f2315', 'f2316', 'f2317', 'f2318', 'f2319', 'f2320', 'f2321', 'f2322', 'f2323', 'f2324', 'f2325', 'f2326', 'f2327', 'f2328', 'f2329', 'f2330', 'f2331', 'f2332', 'f2333', 'f2334', 'f2335', 'f2336', 'f2337', 'f2338', 'f2339', 'f2340', 'f2341', 'f2342', 'f2343', 'f2344', 'f2345', 'f2346', 'f2347', 'f2348', 'f2349', 'f2350', 'f2351', 'f2352', 'f2353', 'f2354', 'f2355', 'f2356', 'f2357', 'f2358', 'f2359', 'f2360', 'f2361', 'f2362', 'f2363', 'f2364', 'f2365', 'f2366', 'f2367', 'f2368', 'f2369', 'f2370', 'f2371', 'f2372', 'f2373', 'f2374', 'f2375', 'f2376', 'f2377', 'f2378', 'f2379', 'f2380', 'f2381', 'f2382', 'f2383', 'f2384', 'f2385', 'f2386', 'f2387', 'f2388', 'f2389', 'f2390', 'f2391', 'f2392', 'f2393', 'f2394', 'f2395', 'f2396', 'f2397', 'f2398', 'f2399', 'f2400', 'f2401', 'f2402', 'f2403', 'f2404', 'f2405', 'f2406', 'f2407', 'f2408', 'f2409', 'f2410', 'f2411', 'f2412', 'f2413', 'f2414', 'f2415', 'f2416', 'f2417', 'f2418', 'f2419', 'f2420', 'f2421', 'f2422', 'f2423', 'f2424', 'f2425', 'f2426', 'f2427', 'f2428', 'f2429', 'f2430', 'f2431', 'f2432', 'f2433', 'f2434', 'f2435', 'f2436', 'f2437', 'f2438', 'f2439', 'f2440', 'f2441', 'f2442', 'f2443', 'f2444', 'f2445', 'f2446', 'f2447', 'f2448', 'f2449', 'f2450', 'f2451', 'f2452', 'f2453', 'f2454', 'f2455', 'f2456', 'f2457', 'f2458', 'f2459', 'f2460', 'f2461', 'f2462', 'f2463', 'f2464', 'f2465', 'f2466', 'f2467', 'f2468', 'f2469', 'f2470', 'f2471', 'f2472', 'f2473', 'f2474', 'f2475', 'f2476', 'f2477', 'f2478', 'f2479', 'f2480', 'f2481', 'f2482', 'f2483', 'f2484', 'f2485', 'f2486', 'f2487', 'f2488', 'f2489', 'f2490', 'f2491', 'f2492', 'f2493', 'f2494', 'f2495', 'f2496', 'f2497', 'f2498', 'f2499', 'f2500', 'f2501', 'f2502', 'f2503', 'f2504', 'f2505', 'f2506', 'f2507', 'f2508', 'f2509', 'f2510', 'f2511', 'f2512', 'f2513', 'f2514', 'f2515', 'f2516', 'f2517', 'f2518', 'f2519', 'f2520', 'f2521', 'f2522', 'f2523', 'f2524', 'f2525', 'f2526', 'f2527', 'f2528', 'f2529', 'f2530', 'f2531', 'f2532', 'f2533', 'f2534', 'f2535', 'f2536', 'f2537', 'f2538', 'f2539', 'f2540', 'f2541', 'f2542', 'f2543', 'f2544', 'f2545', 'f2546', 'f2547', 'f2548', 'f2549', 'f2550', 'f2551', 'f2552', 'f2553', 'f2554', 'f2555', 'f2556', 'f2557', 'f2558', 'f2559', 'f2560', 'f2561', 'f2562', 'f2563', 'f2564', 'f2565', 'f2566', 'f2567', 'f2568', 'f2569', 'f2570', 'f2571', 'f2572', 'f2573', 'f2574', 'f2575', 'f2576', 'f2577', 'f2578', 'f2579', 'f2580', 'f2581', 'f2582', 'f2583', 'f2584', 'f2585', 'f2586', 'f2587', 'f2588', 'f2589', 'f2590', 'f2591', 'f2592', 'f2593', 'f2594', 'f2595', 'f2596', 'f2597', 'f2598', 'f2599', 'f2600', 'f2601', 'f2602', 'f2603', 'f2604', 'f2605', 'f2606', 'f2607', 'f2608', 'f2609', 'f2610', 'f2611', 'f2612', 'f2613', 'f2614', 'f2615', 'f2616', 'f2617', 'f2618', 'f2619', 'f2620', 'f2621', 'f2622', 'f2623', 'f2624', 'f2625', 'f2626', 'f2627', 'f2628', 'f2629', 'f2630', 'f2631', 'f2632', 'f2633', 'f2634', 'f2635', 'f2636', 'f2637', 'f2638', 'f2639', 'f2640', 'f2641', 'f2642', 'f2643', 'f2644', 'f2645', 'f2646', 'f2647', 'f2648', 'f2649', 'f2650', 'f2651', 'f2652', 'f2653', 'f2654', 'f2655', 'f2656', 'f2657', 'f2658', 'f2659', 'f2660', 'f2661', 'f2662', 'f2663', 'f2664', 'f2665', 'f2666', 'f2667', 'f2668', 'f2669', 'f2670', 'f2671', 'f2672', 'f2673', 'f2674', 'f2675', 'f2676', 'f2677', 'f2678', 'f2679', 'f2680', 'f2681', 'f2682', 'f2683', 'f2684', 'f2685', 'f2686', 'f2687', 'f2688', 'f2689', 'f2690', 'f2691', 'f2692', 'f2693', 'f2694', 'f2695', 'f2696', 'f2697', 'f2698', 'f2699', 'f2700', 'f2701', 'f2702', 'f2703', 'f2704', 'f2705', 'f2706', 'f2707', 'f2708', 'f2709', 'f2710', 'f2711', 'f2712', 'f2713', 'f2714', 'f2715', 'f2716', 'f2717', 'f2718', 'f2719', 'f2720', 'f2721', 'f2722', 'f2723', 'f2724', 'f2725', 'f2726', 'f2727', 'f2728', 'f2729', 'f2730', 'f2731', 'f2732', 'f2733', 'f2734', 'f2735', 'f2736', 'f2737', 'f2738', 'f2739', 'f2740', 'f2741', 'f2742', 'f2743', 'f2744', 'f2745', 'f2746', 'f2747', 'f2748', 'f2749', 'f2750', 'f2751', 'f2752', 'f2753', 'f2754', 'f2755', 'f2756', 'f2757', 'f2758', 'f2759', 'f2760', 'f2761', 'f2762', 'f2763', 'f2764', 'f2765', 'f2766', 'f2767', 'f2768', 'f2769', 'f2770', 'f2771', 'f2772', 'f2773', 'f2774', 'f2775', 'f2776', 'f2777', 'f2778', 'f2779', 'f2780', 'f2781', 'f2782', 'f2783', 'f2784', 'f2785', 'f2786', 'f2787', 'f2788', 'f2789', 'f2790', 'f2791', 'f2792', 'f2793', 'f2794', 'f2795', 'f2796', 'f2797', 'f2798', 'f2799', 'f2800', 'f2801', 'f2802', 'f2803', 'f2804', 'f2805', 'f2806', 'f2807', 'f2808', 'f2809', 'f2810', 'f2811', 'f2812', 'f2813', 'f2814', 'f2815', 'f2816', 'f2817', 'f2818', 'f2819', 'f2820', 'f2821', 'f2822', 'f2823', 'f2824', 'f2825', 'f2826', 'f2827', 'f2828', 'f2829', 'f2830', 'f2831', 'f2832', 'f2833', 'f2834', 'f2835', 'f2836', 'f2837', 'f2838', 'f2839', 'f2840', 'f2841', 'f2842', 'f2843', 'f2844', 'f2845', 'f2846', 'f2847', 'f2848', 'f2849', 'f2850', 'f2851', 'f2852', 'f2853', 'f2854', 'f2855', 'f2856', 'f2857', 'f2858', 'f2859', 'f2860', 'f2861', 'f2862', 'f2863', 'f2864', 'f2865', 'f2866', 'f2867', 'f2868', 'f2869', 'f2870', 'f2871', 'f2872', 'f2873', 'f2874', 'f2875', 'f2876', 'f2877', 'f2878', 'f2879', 'f2880', 'f2881', 'f2882', 'f2883', 'f2884', 'f2885', 'f2886', 'f2887', 'f2888', 'f2889', 'f2890', 'f2891', 'f2892', 'f2893', 'f2894', 'f2895', 'f2896', 'f2897', 'f2898', 'f2899', 'f2900', 'f2901', 'f2902', 'f2903', 'f2904', 'f2905', 'f2906', 'f2907', 'f2908', 'f2909', 'f2910', 'f2911', 'f2912', 'f2913', 'f2914', 'f2915', 'f2916', 'f2917', 'f2918', 'f2919', 'f2920', 'f2921', 'f2922', 'f2923', 'f2924', 'f2925', 'f2926', 'f2927', 'f2928', 'f2929', 'f2930', 'f2931', 'f2932', 'f2933', 'f2934', 'f2935', 'f2936', 'f2937', 'f2938', 'f2939', 'f2940', 'f2941', 'f2942', 'f2943', 'f2944', 'f2945', 'f2946', 'f2947', 'f2948', 'f2949', 'f2950', 'f2951', 'f2952', 'f2953', 'f2954', 'f2955', 'f2956', 'f2957', 'f2958', 'f2959', 'f2960', 'f2961', 'f2962', 'f2963', 'f2964', 'f2965', 'f2966', 'f2967', 'f2968', 'f2969', 'f2970', 'f2971', 'f2972', 'f2973', 'f2974', 'f2975', 'f2976', 'f2977', 'f2978', 'f2979', 'f2980', 'f2981', 'f2982', 'f2983', 'f2984', 'f2985', 'f2986', 'f2987', 'f2988', 'f2989', 'f2990', 'f2991', 'f2992', 'f2993', 'f2994', 'f2995', 'f2996', 'f2997', 'f2998', 'f2999', 'f3000', 'f3001', 'f3002', 'f3003', 'f3004', 'f3005', 'f3006', 'f3007', 'f3008', 'f3009', 'f3010', 'f3011', 'f3012', 'f3013', 'f3014', 'f3015', 'f3016', 'f3017', 'f3018', 'f3019', 'f3020', 'f3021', 'f3022', 'f3023', 'f3024', 'f3025', 'f3026', 'f3027', 'f3028', 'f3029', 'f3030', 'f3031', 'f3032', 'f3033', 'f3034', 'f3035', 'f3036', 'f3037', 'f3038', 'f3039', 'f3040', 'f3041', 'f3042', 'f3043', 'f3044', 'f3045', 'f3046', 'f3047', 'f3048', 'f3049', 'f3050', 'f3051', 'f3052', 'f3053', 'f3054', 'f3055', 'f3056', 'f3057', 'f3058', 'f3059', 'f3060', 'f3061', 'f3062', 'f3063', 'f3064', 'f3065', 'f3066', 'f3067', 'f3068', 'f3069', 'f3070', 'f3071', 'f3072', 'f3073', 'f3074', 'f3075', 'f3076', 'f3077', 'f3078', 'f3079', 'f3080', 'f3081', 'f3082', 'f3083', 'f3084', 'f3085', 'f3086', 'f3087', 'f3088', 'f3089', 'f3090', 'f3091', 'f3092', 'f3093', 'f3094', 'f3095', 'f3096', 'f3097', 'f3098', 'f3099', 'f3100', 'f3101', 'f3102', 'f3103', 'f3104', 'f3105', 'f3106', 'f3107', 'f3108', 'f3109', 'f3110', 'f3111', 'f3112', 'f3113', 'f3114', 'f3115', 'f3116', 'f3117', 'f3118', 'f3119', 'f3120', 'f3121', 'f3122', 'f3123', 'f3124', 'f3125', 'f3126', 'f3127', 'f3128', 'f3129', 'f3130', 'f3131', 'f3132', 'f3133', 'f3134', 'f3135', 'f3136', 'f3137', 'f3138', 'f3139', 'f3140', 'f3141', 'f3142', 'f3143', 'f3144', 'f3145', 'f3146', 'f3147', 'f3148', 'f3149', 'f3150', 'f3151', 'f3152', 'f3153', 'f3154', 'f3155', 'f3156', 'f3157', 'f3158', 'f3159', 'f3160', 'f3161', 'f3162', 'f3163', 'f3164', 'f3165', 'f3166', 'f3167', 'f3168', 'f3169', 'f3170', 'f3171', 'f3172', 'f3173', 'f3174', 'f3175', 'f3176', 'f3177', 'f3178', 'f3179', 'f3180', 'f3181', 'f3182', 'f3183', 'f3184', 'f3185', 'f3186', 'f3187', 'f3188', 'f3189', 'f3190', 'f3191', 'f3192', 'f3193', 'f3194', 'f3195', 'f3196', 'f3197', 'f3198', 'f3199', 'f3200', 'f3201', 'f3202', 'f3203', 'f3204', 'f3205', 'f3206', 'f3207', 'f3208', 'f3209', 'f3210', 'f3211', 'f3212', 'f3213', 'f3214', 'f3215', 'f3216', 'f3217', 'f3218', 'f3219', 'f3220', 'f3221', 'f3222', 'f3223', 'f3224', 'f3225', 'f3226', 'f3227', 'f3228', 'f3229', 'f3230', 'f3231', 'f3232', 'f3233', 'f3234', 'f3235', 'f3236', 'f3237', 'f3238', 'f3239', 'f3240', 'f3241', 'f3242', 'f3243', 'f3244', 'f3245', 'f3246', 'f3247', 'f3248', 'f3249', 'f3250', 'f3251', 'f3252', 'f3253', 'f3254', 'f3255', 'f3256', 'f3257', 'f3258', 'f3259', 'f3260', 'f3261', 'f3262', 'f3263', 'f3264', 'f3265', 'f3266', 'f3267', 'f3268', 'f3269', 'f3270', 'f3271', 'f3272', 'f3273', 'f3274', 'f3275', 'f3276', 'f3277', 'f3278', 'f3279', 'f3280', 'f3281', 'f3282', 'f3283', 'f3284', 'f3285', 'f3286', 'f3287', 'f3288', 'f3289', 'f3290', 'f3291', 'f3292', 'f3293', 'f3294', 'f3295', 'f3296', 'f3297', 'f3298', 'f3299', 'f3300', 'f3301', 'f3302', 'f3303', 'f3304', 'f3305', 'f3306', 'f3307', 'f3308', 'f3309', 'f3310', 'f3311', 'f3312', 'f3313', 'f3314', 'f3315', 'f3316', 'f3317', 'f3318', 'f3319', 'f3320', 'f3321', 'f3322', 'f3323', 'f3324', 'f3325', 'f3326', 'f3327', 'f3328', 'f3329', 'f3330', 'f3331', 'f3332', 'f3333', 'f3334', 'f3335', 'f3336', 'f3337', 'f3338', 'f3339', 'f3340', 'f3341', 'f3342', 'f3343', 'f3344', 'f3345', 'f3346', 'f3347', 'f3348', 'f3349', 'f3350', 'f3351', 'f3352', 'f3353', 'f3354', 'f3355', 'f3356', 'f3357', 'f3358', 'f3359', 'f3360', 'f3361', 'f3362', 'f3363', 'f3364', 'f3365', 'f3366', 'f3367', 'f3368', 'f3369', 'f3370', 'f3371', 'f3372', 'f3373', 'f3374', 'f3375', 'f3376', 'f3377', 'f3378', 'f3379', 'f3380', 'f3381', 'f3382', 'f3383', 'f3384', 'f3385', 'f3386', 'f3387', 'f3388', 'f3389', 'f3390', 'f3391', 'f3392', 'f3393', 'f3394', 'f3395', 'f3396', 'f3397', 'f3398', 'f3399', 'f3400', 'f3401', 'f3402', 'f3403', 'f3404', 'f3405', 'f3406', 'f3407', 'f3408', 'f3409', 'f3410', 'f3411', 'f3412', 'f3413', 'f3414', 'f3415', 'f3416', 'f3417', 'f3418', 'f3419', 'f3420', 'f3421', 'f3422', 'f3423', 'f3424', 'f3425', 'f3426', 'f3427', 'f3428', 'f3429', 'f3430', 'f3431', 'f3432', 'f3433', 'f3434', 'f3435', 'f3436', 'f3437', 'f3438', 'f3439', 'f3440', 'f3441', 'f3442', 'f3443', 'f3444', 'f3445', 'f3446', 'f3447', 'f3448', 'f3449', 'f3450', 'f3451', 'f3452', 'f3453', 'f3454', 'f3455', 'f3456', 'f3457', 'f3458', 'f3459', 'f3460', 'f3461', 'f3462', 'f3463', 'f3464', 'f3465', 'f3466', 'f3467', 'f3468', 'f3469', 'f3470', 'f3471', 'f3472', 'f3473', 'f3474', 'f3475', 'f3476', 'f3477', 'f3478', 'f3479', 'f3480', 'f3481', 'f3482', 'f3483', 'f3484', 'f3485', 'f3486', 'f3487', 'f3488', 'f3489', 'f3490', 'f3491', 'f3492', 'f3493', 'f3494', 'f3495', 'f3496', 'f3497', 'f3498', 'f3499', 'f3500', 'f3501', 'f3502', 'f3503', 'f3504', 'f3505', 'f3506', 'f3507', 'f3508', 'f3509', 'f3510', 'f3511', 'f3512', 'f3513', 'f3514', 'f3515', 'f3516', 'f3517', 'f3518', 'f3519', 'f3520', 'f3521', 'f3522', 'f3523', 'f3524', 'f3525', 'f3526', 'f3527', 'f3528', 'f3529', 'f3530', 'f3531', 'f3532', 'f3533', 'f3534', 'f3535', 'f3536', 'f3537', 'f3538', 'f3539', 'f3540', 'f3541', 'f3542', 'f3543', 'f3544', 'f3545', 'f3546', 'f3547', 'f3548', 'f3549', 'f3550', 'f3551', 'f3552', 'f3553', 'f3554', 'f3555', 'f3556', 'f3557', 'f3558', 'f3559', 'f3560', 'f3561', 'f3562', 'f3563', 'f3564', 'f3565', 'f3566', 'f3567', 'f3568', 'f3569', 'f3570', 'f3571', 'f3572', 'f3573', 'f3574', 'f3575', 'f3576', 'f3577', 'f3578', 'f3579', 'f3580', 'f3581', 'f3582', 'f3583', 'f3584', 'f3585', 'f3586', 'f3587', 'f3588', 'f3589', 'f3590', 'f3591', 'f3592', 'f3593', 'f3594', 'f3595', 'f3596', 'f3597', 'f3598', 'f3599', 'f3600', 'f3601', 'f3602', 'f3603', 'f3604', 'f3605', 'f3606', 'f3607', 'f3608', 'f3609', 'f3610', 'f3611', 'f3612', 'f3613', 'f3614', 'f3615', 'f3616', 'f3617', 'f3618', 'f3619', 'f3620', 'f3621', 'f3622', 'f3623', 'f3624', 'f3625', 'f3626', 'f3627', 'f3628', 'f3629', 'f3630', 'f3631', 'f3632', 'f3633', 'f3634', 'f3635', 'f3636', 'f3637', 'f3638', 'f3639', 'f3640', 'f3641', 'f3642', 'f3643', 'f3644', 'f3645', 'f3646', 'f3647', 'f3648', 'f3649', 'f3650', 'f3651', 'f3652', 'f3653', 'f3654', 'f3655', 'f3656', 'f3657', 'f3658', 'f3659', 'f3660', 'f3661', 'f3662', 'f3663', 'f3664', 'f3665', 'f3666', 'f3667', 'f3668', 'f3669', 'f3670', 'f3671', 'f3672', 'f3673', 'f3674', 'f3675', 'f3676', 'f3677', 'f3678', 'f3679', 'f3680', 'f3681', 'f3682', 'f3683', 'f3684', 'f3685', 'f3686', 'f3687', 'f3688', 'f3689', 'f3690', 'f3691', 'f3692', 'f3693', 'f3694', 'f3695', 'f3696', 'f3697', 'f3698', 'f3699', 'f3700', 'f3701', 'f3702', 'f3703', 'f3704', 'f3705', 'f3706', 'f3707', 'f3708', 'f3709', 'f3710', 'f3711', 'f3712', 'f3713', 'f3714', 'f3715', 'f3716', 'f3717', 'f3718', 'f3719', 'f3720', 'f3721', 'f3722', 'f3723', 'f3724', 'f3725', 'f3726', 'f3727', 'f3728', 'f3729', 'f3730', 'f3731', 'f3732', 'f3733', 'f3734', 'f3735', 'f3736', 'f3737', 'f3738', 'f3739', 'f3740', 'f3741', 'f3742', 'f3743', 'f3744', 'f3745', 'f3746', 'f3747', 'f3748', 'f3749', 'f3750', 'f3751', 'f3752', 'f3753', 'f3754', 'f3755', 'f3756', 'f3757', 'f3758', 'f3759', 'f3760', 'f3761', 'f3762', 'f3763', 'f3764', 'f3765', 'f3766', 'f3767', 'f3768', 'f3769', 'f3770', 'f3771', 'f3772', 'f3773', 'f3774', 'f3775', 'f3776', 'f3777', 'f3778', 'f3779', 'f3780', 'f3781', 'f3782', 'f3783', 'f3784', 'f3785', 'f3786', 'f3787', 'f3788', 'f3789', 'f3790', 'f3791', 'f3792', 'f3793', 'f3794', 'f3795', 'f3796', 'f3797', 'f3798', 'f3799', 'f3800', 'f3801', 'f3802', 'f3803', 'f3804', 'f3805', 'f3806', 'f3807', 'f3808', 'f3809', 'f3810', 'f3811', 'f3812', 'f3813', 'f3814', 'f3815', 'f3816', 'f3817', 'f3818', 'f3819', 'f3820', 'f3821', 'f3822', 'f3823', 'f3824', 'f3825', 'f3826', 'f3827', 'f3828', 'f3829', 'f3830', 'f3831', 'f3832', 'f3833', 'f3834', 'f3835', 'f3836', 'f3837', 'f3838', 'f3839', 'f3840', 'f3841', 'f3842', 'f3843', 'f3844', 'f3845', 'f3846', 'f3847', 'f3848', 'f3849', 'f3850', 'f3851', 'f3852', 'f3853', 'f3854', 'f3855', 'f3856', 'f3857', 'f3858', 'f3859', 'f3860', 'f3861', 'f3862', 'f3863', 'f3864', 'f3865', 'f3866', 'f3867', 'f3868', 'f3869', 'f3870', 'f3871', 'f3872', 'f3873', 'f3874', 'f3875', 'f3876', 'f3877', 'f3878', 'f3879', 'f3880', 'f3881', 'f3882', 'f3883', 'f3884', 'f3885', 'f3886', 'f3887', 'f3888', 'f3889', 'f3890', 'f3891', 'f3892', 'f3893', 'f3894', 'f3895', 'f3896', 'f3897', 'f3898', 'f3899', 'f3900', 'f3901', 'f3902', 'f3903', 'f3904', 'f3905', 'f3906', 'f3907', 'f3908', 'f3909', 'f3910', 'f3911', 'f3912', 'f3913', 'f3914', 'f3915', 'f3916', 'f3917', 'f3918', 'f3919', 'f3920', 'f3921', 'f3922', 'f3923', 'f3924', 'f3925', 'f3926', 'f3927', 'f3928', 'f3929', 'f3930', 'f3931', 'f3932', 'f3933', 'f3934', 'f3935', 'f3936', 'f3937', 'f3938', 'f3939', 'f3940', 'f3941', 'f3942', 'f3943', 'f3944', 'f3945', 'f3946', 'f3947', 'f3948', 'f3949', 'f3950', 'f3951', 'f3952', 'f3953', 'f3954', 'f3955', 'f3956', 'f3957', 'f3958', 'f3959', 'f3960', 'f3961', 'f3962', 'f3963', 'f3964', 'f3965', 'f3966', 'f3967', 'f3968', 'f3969', 'f3970', 'f3971', 'f3972', 'f3973', 'f3974', 'f3975', 'f3976', 'f3977', 'f3978', 'f3979', 'f3980', 'f3981', 'f3982', 'f3983', 'f3984', 'f3985', 'f3986', 'f3987', 'f3988', 'f3989', 'f3990', 'f3991', 'f3992', 'f3993', 'f3994', 'f3995', 'f3996', 'f3997', 'f3998', 'f3999', 'f4000', 'f4001', 'f4002', 'f4003', 'f4004', 'f4005', 'f4006', 'f4007', 'f4008', 'f4009', 'f4010', 'f4011', 'f4012', 'f4013', 'f4014', 'f4015', 'f4016', 'f4017', 'f4018', 'f4019', 'f4020', 'f4021', 'f4022', 'f4023', 'f4024', 'f4025', 'f4026', 'f4027', 'f4028', 'f4029', 'f4030', 'f4031', 'f4032', 'f4033', 'f4034', 'f4035', 'f4036', 'f4037', 'f4038', 'f4039', 'f4040', 'f4041', 'f4042', 'f4043', 'f4044', 'f4045', 'f4046', 'f4047', 'f4048', 'f4049', 'f4050', 'f4051', 'f4052', 'f4053', 'f4054', 'f4055', 'f4056', 'f4057', 'f4058', 'f4059', 'f4060', 'f4061', 'f4062', 'f4063', 'f4064', 'f4065', 'f4066', 'f4067', 'f4068', 'f4069', 'f4070', 'f4071', 'f4072', 'f4073', 'f4074', 'f4075', 'f4076', 'f4077', 'f4078', 'f4079', 'f4080', 'f4081', 'f4082', 'f4083', 'f4084', 'f4085', 'f4086', 'f4087', 'f4088', 'f4089', 'f4090', 'f4091', 'f4092', 'f4093', 'f4094', 'f4095', 'f4096', 'f4097', 'f4098', 'f4099', 'f4100', 'f4101', 'f4102', 'f4103', 'f4104', 'f4105', 'f4106', 'f4107', 'f4108', 'f4109', 'f4110', 'f4111', 'f4112', 'f4113', 'f4114', 'f4115', 'f4116', 'f4117', 'f4118', 'f4119', 'f4120', 'f4121', 'f4122', 'f4123', 'f4124', 'f4125', 'f4126', 'f4127', 'f4128', 'f4129', 'f4130', 'f4131', 'f4132', 'f4133', 'f4134', 'f4135', 'f4136', 'f4137', 'f4138', 'f4139', 'f4140', 'f4141', 'f4142', 'f4143', 'f4144', 'f4145', 'f4146', 'f4147', 'f4148', 'f4149', 'f4150', 'f4151', 'f4152', 'f4153', 'f4154', 'f4155', 'f4156', 'f4157', 'f4158', 'f4159', 'f4160', 'f4161', 'f4162', 'f4163', 'f4164', 'f4165', 'f4166', 'f4167', 'f4168', 'f4169', 'f4170', 'f4171', 'f4172', 'f4173', 'f4174', 'f4175', 'f4176', 'f4177', 'f4178', 'f4179', 'f4180', 'f4181', 'f4182', 'f4183', 'f4184', 'f4185', 'f4186', 'f4187', 'f4188', 'f4189', 'f4190', 'f4191', 'f4192', 'f4193', 'f4194', 'f4195', 'f4196', 'f4197', 'f4198', 'f4199', 'f4200', 'f4201', 'f4202', 'f4203', 'f4204', 'f4205', 'f4206', 'f4207', 'f4208', 'f4209', 'f4210', 'f4211', 'f4212', 'f4213', 'f4214', 'f4215', 'f4216', 'f4217', 'f4218', 'f4219', 'f4220', 'f4221', 'f4222', 'f4223', 'f4224', 'f4225', 'f4226', 'f4227', 'f4228', 'f4229', 'f4230', 'f4231', 'f4232', 'f4233', 'f4234', 'f4235', 'f4236', 'f4237', 'f4238', 'f4239', 'f4240', 'f4241', 'f4242', 'f4243', 'f4244', 'f4245', 'f4246', 'f4247', 'f4248', 'f4249', 'f4250', 'f4251', 'f4252', 'f4253', 'f4254', 'f4255', 'f4256', 'f4257', 'f4258', 'f4259', 'f4260', 'f4261', 'f4262', 'f4263', 'f4264', 'f4265', 'f4266', 'f4267', 'f4268', 'f4269', 'f4270', 'f4271', 'f4272', 'f4273', 'f4274', 'f4275', 'f4276', 'f4277', 'f4278', 'f4279', 'f4280', 'f4281', 'f4282', 'f4283', 'f4284', 'f4285', 'f4286', 'f4287', 'f4288', 'f4289', 'f4290', 'f4291', 'f4292', 'f4293', 'f4294', 'f4295', 'f4296', 'f4297', 'f4298', 'f4299', 'f4300', 'f4301', 'f4302', 'f4303', 'f4304', 'f4305', 'f4306', 'f4307', 'f4308', 'f4309', 'f4310', 'f4311', 'f4312', 'f4313', 'f4314', 'f4315', 'f4316', 'f4317', 'f4318', 'f4319', 'f4320', 'f4321', 'f4322', 'f4323', 'f4324', 'f4325', 'f4326', 'f4327', 'f4328', 'f4329', 'f4330', 'f4331', 'f4332', 'f4333', 'f4334', 'f4335', 'f4336', 'f4337', 'f4338', 'f4339', 'f4340', 'f4341', 'f4342', 'f4343', 'f4344', 'f4345', 'f4346', 'f4347', 'f4348', 'f4349', 'f4350', 'f4351', 'f4352', 'f4353', 'f4354', 'f4355', 'f4356', 'f4357', 'f4358', 'f4359', 'f4360', 'f4361', 'f4362', 'f4363', 'f4364', 'f4365', 'f4366', 'f4367', 'f4368', 'f4369', 'f4370', 'f4371', 'f4372', 'f4373', 'f4374', 'f4375', 'f4376', 'f4377', 'f4378', 'f4379', 'f4380', 'f4381', 'f4382', 'f4383', 'f4384', 'f4385', 'f4386', 'f4387', 'f4388', 'f4389', 'f4390', 'f4391', 'f4392', 'f4393', 'f4394', 'f4395', 'f4396', 'f4397', 'f4398', 'f4399', 'f4400', 'f4401', 'f4402', 'f4403', 'f4404', 'f4405', 'f4406', 'f4407', 'f4408', 'f4409', 'f4410', 'f4411', 'f4412', 'f4413', 'f4414', 'f4415', 'f4416', 'f4417', 'f4418', 'f4419', 'f4420', 'f4421', 'f4422', 'f4423', 'f4424', 'f4425', 'f4426', 'f4427', 'f4428', 'f4429', 'f4430', 'f4431', 'f4432', 'f4433', 'f4434', 'f4435', 'f4436', 'f4437', 'f4438', 'f4439', 'f4440', 'f4441', 'f4442', 'f4443', 'f4444', 'f4445', 'f4446', 'f4447', 'f4448', 'f4449', 'f4450', 'f4451', 'f4452', 'f4453', 'f4454', 'f4455', 'f4456', 'f4457', 'f4458', 'f4459', 'f4460', 'f4461', 'f4462', 'f4463', 'f4464', 'f4465', 'f4466', 'f4467', 'f4468', 'f4469', 'f4470', 'f4471', 'f4472', 'f4473', 'f4474', 'f4475', 'f4476', 'f4477', 'f4478', 'f4479', 'f4480', 'f4481', 'f4482', 'f4483', 'f4484', 'f4485', 'f4486', 'f4487', 'f4488', 'f4489', 'f4490', 'f4491', 'f4492', 'f4493', 'f4494', 'f4495', 'f4496', 'f4497', 'f4498', 'f4499', 'f4500', 'f4501', 'f4502', 'f4503', 'f4504', 'f4505', 'f4506', 'f4507', 'f4508', 'f4509', 'f4510', 'f4511', 'f4512', 'f4513', 'f4514', 'f4515', 'f4516', 'f4517', 'f4518', 'f4519', 'f4520', 'f4521', 'f4522', 'f4523', 'f4524', 'f4525', 'f4526', 'f4527', 'f4528', 'f4529', 'f4530', 'f4531', 'f4532', 'f4533', 'f4534', 'f4535', 'f4536', 'f4537', 'f4538', 'f4539', 'f4540', 'f4541', 'f4542', 'f4543', 'f4544', 'f4545', 'f4546', 'f4547', 'f4548', 'f4549', 'f4550', 'f4551', 'f4552', 'f4553', 'f4554', 'f4555', 'f4556', 'f4557', 'f4558', 'f4559', 'f4560', 'f4561', 'f4562', 'f4563', 'f4564', 'f4565', 'f4566', 'f4567', 'f4568', 'f4569', 'f4570', 'f4571', 'f4572', 'f4573', 'f4574', 'f4575', 'f4576', 'f4577', 'f4578', 'f4579', 'f4580', 'f4581', 'f4582', 'f4583', 'f4584', 'f4585', 'f4586', 'f4587', 'f4588', 'f4589', 'f4590', 'f4591', 'f4592', 'f4593', 'f4594', 'f4595', 'f4596', 'f4597', 'f4598', 'f4599', 'f4600', 'f4601', 'f4602', 'f4603', 'f4604', 'f4605', 'f4606', 'f4607', 'f4608', 'f4609', 'f4610', 'f4611', 'f4612', 'f4613', 'f4614', 'f4615', 'f4616', 'f4617', 'f4618', 'f4619', 'f4620', 'f4621', 'f4622', 'f4623', 'f4624', 'f4625', 'f4626', 'f4627', 'f4628', 'f4629', 'f4630', 'f4631', 'f4632', 'f4633', 'f4634', 'f4635', 'f4636', 'f4637', 'f4638', 'f4639', 'f4640', 'f4641', 'f4642', 'f4643', 'f4644', 'f4645', 'f4646', 'f4647', 'f4648', 'f4649', 'f4650', 'f4651', 'f4652', 'f4653', 'f4654', 'f4655', 'f4656', 'f4657', 'f4658', 'f4659', 'f4660', 'f4661', 'f4662', 'f4663', 'f4664', 'f4665', 'f4666', 'f4667', 'f4668', 'f4669', 'f4670', 'f4671', 'f4672', 'f4673', 'f4674', 'f4675', 'f4676', 'f4677', 'f4678', 'f4679', 'f4680', 'f4681', 'f4682', 'f4683', 'f4684', 'f4685', 'f4686', 'f4687', 'f4688', 'f4689', 'f4690', 'f4691', 'f4692', 'f4693', 'f4694', 'f4695', 'f4696', 'f4697', 'f4698', 'f4699', 'f4700', 'f4701', 'f4702', 'f4703', 'f4704', 'f4705', 'f4706', 'f4707', 'f4708', 'f4709', 'f4710', 'f4711', 'f4712', 'f4713', 'f4714', 'f4715', 'f4716', 'f4717', 'f4718', 'f4719', 'f4720', 'f4721', 'f4722', 'f4723', 'f4724', 'f4725', 'f4726', 'f4727', 'f4728', 'f4729', 'f4730', 'f4731', 'f4732', 'f4733', 'f4734', 'f4735', 'f4736', 'f4737', 'f4738', 'f4739', 'f4740', 'f4741', 'f4742', 'f4743', 'f4744', 'f4745', 'f4746', 'f4747', 'f4748', 'f4749', 'f4750', 'f4751', 'f4752', 'f4753', 'f4754', 'f4755', 'f4756', 'f4757', 'f4758', 'f4759', 'f4760', 'f4761', 'f4762', 'f4763', 'f4764', 'f4765', 'f4766', 'f4767', 'f4768', 'f4769', 'f4770', 'f4771', 'f4772', 'f4773', 'f4774', 'f4775', 'f4776', 'f4777', 'f4778', 'f4779', 'f4780', 'f4781', 'f4782', 'f4783', 'f4784', 'f4785', 'f4786', 'f4787', 'f4788', 'f4789', 'f4790', 'f4791', 'f4792', 'f4793', 'f4794', 'f4795', 'f4796', 'f4797', 'f4798', 'f4799', 'f4800', 'f4801', 'f4802', 'f4803', 'f4804', 'f4805', 'f4806', 'f4807', 'f4808', 'f4809', 'f4810', 'f4811', 'f4812', 'f4813', 'f4814', 'f4815', 'f4816', 'f4817', 'f4818', 'f4819', 'f4820', 'f4821', 'f4822', 'f4823', 'f4824', 'f4825', 'f4826', 'f4827', 'f4828', 'f4829', 'f4830', 'f4831', 'f4832', 'f4833', 'f4834', 'f4835', 'f4836', 'f4837', 'f4838', 'f4839', 'f4840', 'f4841', 'f4842', 'f4843', 'f4844', 'f4845', 'f4846', 'f4847', 'f4848', 'f4849', 'f4850', 'f4851', 'f4852', 'f4853', 'f4854', 'f4855', 'f4856', 'f4857', 'f4858', 'f4859', 'f4860', 'f4861', 'f4862', 'f4863', 'f4864', 'f4865', 'f4866', 'f4867', 'f4868', 'f4869', 'f4870', 'f4871', 'f4872', 'f4873', 'f4874', 'f4875', 'f4876', 'f4877', 'f4878', 'f4879', 'f4880', 'f4881', 'f4882', 'f4883', 'f4884', 'f4885', 'f4886', 'f4887', 'f4888', 'f4889', 'f4890', 'f4891', 'f4892', 'f4893', 'f4894', 'f4895', 'f4896', 'f4897', 'f4898', 'f4899', 'f4900', 'f4901', 'f4902', 'f4903', 'f4904', 'f4905', 'f4906', 'f4907', 'f4908', 'f4909', 'f4910', 'f4911', 'f4912', 'f4913', 'f4914', 'f4915', 'f4916', 'f4917', 'f4918', 'f4919', 'f4920', 'f4921', 'f4922', 'f4923', 'f4924', 'f4925', 'f4926', 'f4927', 'f4928', 'f4929', 'f4930', 'f4931', 'f4932', 'f4933', 'f4934', 'f4935', 'f4936', 'f4937', 'f4938', 'f4939', 'f4940', 'f4941', 'f4942', 'f4943', 'f4944', 'f4945', 'f4946', 'f4947', 'f4948', 'f4949', 'f4950', 'f4951', 'f4952', 'f4953', 'f4954', 'f4955', 'f4956', 'f4957', 'f4958', 'f4959', 'f4960', 'f4961', 'f4962', 'f4963', 'f4964', 'f4965', 'f4966', 'f4967', 'f4968', 'f4969', 'f4970', 'f4971', 'f4972', 'f4973', 'f4974', 'f4975', 'f4976', 'f4977', 'f4978', 'f4979', 'f4980', 'f4981', 'f4982', 'f4983', 'f4984', 'f4985', 'f4986', 'f4987', 'f4988', 'f4989', 'f4990', 'f4991', 'f4992', 'f4993', 'f4994', 'f4995', 'f4996', 'f4997', 'f4998', 'f4999', 'f5000', 'f5001', 'f5002', 'f5003', 'f5004', 'f5005', 'f5006', 'f5007', 'f5008', 'f5009', 'f5010', 'f5011', 'f5012', 'f5013', 'f5014', 'f5015', 'f5016', 'f5017', 'f5018', 'f5019', 'f5020', 'f5021', 'f5022', 'f5023', 'f5024', 'f5025', 'f5026', 'f5027', 'f5028', 'f5029', 'f5030', 'f5031', 'f5032', 'f5033', 'f5034', 'f5035', 'f5036', 'f5037', 'f5038', 'f5039', 'f5040', 'f5041', 'f5042', 'f5043', 'f5044', 'f5045', 'f5046', 'f5047', 'f5048', 'f5049', 'f5050', 'f5051', 'f5052', 'f5053', 'f5054', 'f5055', 'f5056', 'f5057', 'f5058', 'f5059', 'f5060', 'f5061', 'f5062', 'f5063', 'f5064', 'f5065', 'f5066', 'f5067', 'f5068', 'f5069', 'f5070', 'f5071', 'f5072', 'f5073', 'f5074', 'f5075', 'f5076', 'f5077', 'f5078', 'f5079', 'f5080', 'f5081', 'f5082', 'f5083', 'f5084', 'f5085', 'f5086', 'f5087', 'f5088', 'f5089', 'f5090', 'f5091', 'f5092', 'f5093', 'f5094', 'f5095', 'f5096', 'f5097', 'f5098', 'f5099', 'f5100', 'f5101', 'f5102', 'f5103', 'f5104', 'f5105', 'f5106', 'f5107', 'f5108', 'f5109', 'f5110', 'f5111', 'f5112', 'f5113', 'f5114', 'f5115', 'f5116', 'f5117', 'f5118', 'f5119', 'f5120', 'f5121', 'f5122', 'f5123', 'f5124', 'f5125', 'f5126', 'f5127', 'f5128', 'f5129', 'f5130', 'f5131', 'f5132', 'f5133', 'f5134', 'f5135', 'f5136', 'f5137', 'f5138', 'f5139', 'f5140', 'f5141', 'f5142', 'f5143', 'f5144', 'f5145', 'f5146', 'f5147', 'f5148', 'f5149', 'f5150', 'f5151', 'f5152', 'f5153', 'f5154', 'f5155', 'f5156', 'f5157', 'f5158', 'f5159', 'f5160', 'f5161', 'f5162', 'f5163', 'f5164', 'f5165', 'f5166', 'f5167', 'f5168', 'f5169', 'f5170', 'f5171', 'f5172', 'f5173', 'f5174', 'f5175', 'f5176', 'f5177', 'f5178', 'f5179', 'f5180', 'f5181', 'f5182', 'f5183', 'f5184', 'f5185', 'f5186', 'f5187', 'f5188', 'f5189', 'f5190', 'f5191', 'f5192', 'f5193', 'f5194', 'f5195', 'f5196', 'f5197', 'f5198', 'f5199', 'f5200', 'f5201', 'f5202', 'f5203', 'f5204', 'f5205', 'f5206', 'f5207', 'f5208', 'f5209', 'f5210', 'f5211', 'f5212', 'f5213', 'f5214', 'f5215', 'f5216', 'f5217', 'f5218', 'f5219', 'f5220', 'f5221', 'f5222', 'f5223', 'f5224', 'f5225', 'f5226', 'f5227', 'f5228', 'f5229', 'f5230', 'f5231', 'f5232', 'f5233', 'f5234', 'f5235', 'f5236', 'f5237', 'f5238', 'f5239', 'f5240', 'f5241', 'f5242', 'f5243', 'f5244', 'f5245', 'f5246', 'f5247', 'f5248', 'f5249', 'f5250', 'f5251', 'f5252', 'f5253', 'f5254', 'f5255', 'f5256', 'f5257', 'f5258', 'f5259', 'f5260', 'f5261', 'f5262', 'f5263', 'f5264', 'f5265', 'f5266', 'f5267', 'f5268', 'f5269', 'f5270', 'f5271', 'f5272', 'f5273', 'f5274', 'f5275', 'f5276', 'f5277', 'f5278', 'f5279', 'f5280', 'f5281', 'f5282', 'f5283', 'f5284', 'f5285', 'f5286', 'f5287', 'f5288', 'f5289', 'f5290', 'f5291', 'f5292', 'f5293', 'f5294', 'f5295', 'f5296', 'f5297', 'f5298', 'f5299', 'f5300', 'f5301', 'f5302', 'f5303', 'f5304', 'f5305', 'f5306', 'f5307', 'f5308', 'f5309', 'f5310', 'f5311', 'f5312', 'f5313', 'f5314', 'f5315', 'f5316', 'f5317', 'f5318', 'f5319', 'f5320', 'f5321', 'f5322', 'f5323', 'f5324', 'f5325', 'f5326', 'f5327', 'f5328', 'f5329', 'f5330', 'f5331', 'f5332', 'f5333', 'f5334', 'f5335', 'f5336', 'f5337', 'f5338', 'f5339', 'f5340', 'f5341', 'f5342', 'f5343', 'f5344', 'f5345', 'f5346', 'f5347', 'f5348', 'f5349', 'f5350', 'f5351', 'f5352', 'f5353', 'f5354', 'f5355', 'f5356', 'f5357', 'f5358', 'f5359', 'f5360', 'f5361', 'f5362', 'f5363', 'f5364', 'f5365', 'f5366', 'f5367', 'f5368', 'f5369', 'f5370', 'f5371', 'f5372', 'f5373', 'f5374', 'f5375', 'f5376', 'f5377', 'f5378', 'f5379', 'f5380', 'f5381', 'f5382', 'f5383', 'f5384', 'f5385', 'f5386', 'f5387', 'f5388', 'f5389', 'f5390', 'f5391', 'f5392', 'f5393', 'f5394', 'f5395', 'f5396', 'f5397', 'f5398', 'f5399', 'f5400', 'f5401', 'f5402', 'f5403', 'f5404', 'f5405', 'f5406', 'f5407', 'f5408', 'f5409', 'f5410', 'f5411', 'f5412', 'f5413', 'f5414', 'f5415', 'f5416', 'f5417', 'f5418', 'f5419', 'f5420', 'f5421', 'f5422', 'f5423', 'f5424', 'f5425', 'f5426', 'f5427', 'f5428', 'f5429', 'f5430', 'f5431', 'f5432', 'f5433', 'f5434', 'f5435', 'f5436', 'f5437', 'f5438', 'f5439', 'f5440', 'f5441', 'f5442', 'f5443', 'f5444', 'f5445', 'f5446', 'f5447', 'f5448', 'f5449', 'f5450', 'f5451', 'f5452', 'f5453', 'f5454', 'f5455', 'f5456', 'f5457', 'f5458', 'f5459', 'f5460', 'f5461', 'f5462', 'f5463', 'f5464', 'f5465', 'f5466', 'f5467', 'f5468', 'f5469', 'f5470', 'f5471', 'f5472', 'f5473', 'f5474', 'f5475', 'f5476', 'f5477', 'f5478', 'f5479', 'f5480', 'f5481', 'f5482', 'f5483', 'f5484', 'f5485', 'f5486', 'f5487', 'f5488', 'f5489', 'f5490', 'f5491', 'f5492', 'f5493', 'f5494', 'f5495', 'f5496', 'f5497', 'f5498', 'f5499', 'f5500', 'f5501', 'f5502', 'f5503', 'f5504', 'f5505', 'f5506', 'f5507', 'f5508', 'f5509', 'f5510', 'f5511', 'f5512', 'f5513', 'f5514', 'f5515', 'f5516', 'f5517', 'f5518', 'f5519', 'f5520', 'f5521', 'f5522', 'f5523', 'f5524', 'f5525', 'f5526', 'f5527', 'f5528', 'f5529', 'f5530', 'f5531', 'f5532', 'f5533', 'f5534', 'f5535', 'f5536', 'f5537', 'f5538', 'f5539', 'f5540', 'f5541', 'f5542', 'f5543', 'f5544', 'f5545', 'f5546', 'f5547', 'f5548', 'f5549', 'f5550', 'f5551', 'f5552', 'f5553', 'f5554', 'f5555', 'f5556', 'f5557', 'f5558', 'f5559', 'f5560', 'f5561', 'f5562', 'f5563', 'f5564', 'f5565', 'f5566', 'f5567', 'f5568', 'f5569', 'f5570', 'f5571', 'f5572', 'f5573', 'f5574', 'f5575', 'f5576', 'f5577', 'f5578', 'f5579', 'f5580', 'f5581', 'f5582', 'f5583', 'f5584', 'f5585', 'f5586', 'f5587', 'f5588', 'f5589', 'f5590', 'f5591', 'f5592', 'f5593', 'f5594', 'f5595', 'f5596', 'f5597', 'f5598', 'f5599', 'f5600', 'f5601', 'f5602', 'f5603', 'f5604', 'f5605', 'f5606', 'f5607', 'f5608', 'f5609', 'f5610', 'f5611', 'f5612', 'f5613', 'f5614', 'f5615', 'f5616', 'f5617', 'f5618', 'f5619', 'f5620', 'f5621', 'f5622', 'f5623', 'f5624', 'f5625', 'f5626', 'f5627', 'f5628', 'f5629', 'f5630', 'f5631', 'f5632', 'f5633', 'f5634', 'f5635', 'f5636', 'f5637', 'f5638', 'f5639', 'f5640', 'f5641', 'f5642', 'f5643', 'f5644', 'f5645', 'f5646', 'f5647', 'f5648', 'f5649', 'f5650', 'f5651', 'f5652', 'f5653', 'f5654', 'f5655', 'f5656', 'f5657', 'f5658', 'f5659', 'f5660', 'f5661', 'f5662', 'f5663', 'f5664', 'f5665', 'f5666', 'f5667', 'f5668', 'f5669', 'f5670', 'f5671', 'f5672', 'f5673', 'f5674', 'f5675', 'f5676', 'f5677', 'f5678', 'f5679', 'f5680', 'f5681', 'f5682', 'f5683', 'f5684', 'f5685', 'f5686', 'f5687', 'f5688', 'f5689', 'f5690', 'f5691', 'f5692', 'f5693', 'f5694', 'f5695', 'f5696', 'f5697', 'f5698', 'f5699', 'f5700', 'f5701', 'f5702', 'f5703', 'f5704', 'f5705', 'f5706', 'f5707', 'f5708', 'f5709', 'f5710', 'f5711', 'f5712', 'f5713', 'f5714', 'f5715', 'f5716', 'f5717', 'f5718', 'f5719', 'f5720', 'f5721', 'f5722', 'f5723', 'f5724', 'f5725', 'f5726', 'f5727', 'f5728', 'f5729', 'f5730', 'f5731', 'f5732', 'f5733', 'f5734', 'f5735', 'f5736', 'f5737', 'f5738', 'f5739', 'f5740', 'f5741', 'f5742', 'f5743', 'f5744', 'f5745', 'f5746', 'f5747', 'f5748', 'f5749', 'f5750', 'f5751', 'f5752', 'f5753', 'f5754', 'f5755', 'f5756', 'f5757', 'f5758', 'f5759', 'f5760', 'f5761', 'f5762', 'f5763', 'f5764', 'f5765', 'f5766', 'f5767', 'f5768', 'f5769', 'f5770', 'f5771', 'f5772', 'f5773', 'f5774', 'f5775', 'f5776', 'f5777', 'f5778', 'f5779', 'f5780', 'f5781', 'f5782', 'f5783', 'f5784', 'f5785', 'f5786', 'f5787', 'f5788', 'f5789', 'f5790', 'f5791', 'f5792', 'f5793', 'f5794', 'f5795', 'f5796', 'f5797', 'f5798', 'f5799', 'f5800', 'f5801', 'f5802', 'f5803', 'f5804', 'f5805', 'f5806', 'f5807', 'f5808', 'f5809', 'f5810', 'f5811', 'f5812', 'f5813', 'f5814', 'f5815', 'f5816', 'f5817', 'f5818', 'f5819', 'f5820', 'f5821', 'f5822', 'f5823', 'f5824', 'f5825', 'f5826', 'f5827', 'f5828', 'f5829', 'f5830', 'f5831', 'f5832', 'f5833', 'f5834', 'f5835', 'f5836', 'f5837', 'f5838', 'f5839', 'f5840', 'f5841', 'f5842', 'f5843', 'f5844', 'f5845', 'f5846', 'f5847', 'f5848', 'f5849', 'f5850', 'f5851', 'f5852', 'f5853', 'f5854', 'f5855', 'f5856', 'f5857', 'f5858', 'f5859', 'f5860', 'f5861', 'f5862', 'f5863', 'f5864', 'f5865', 'f5866', 'f5867', 'f5868', 'f5869', 'f5870', 'f5871', 'f5872', 'f5873', 'f5874', 'f5875', 'f5876', 'f5877', 'f5878', 'f5879', 'f5880', 'f5881', 'f5882', 'f5883', 'f5884', 'f5885', 'f5886', 'f5887', 'f5888', 'f5889', 'f5890', 'f5891', 'f5892', 'f5893', 'f5894', 'f5895', 'f5896', 'f5897', 'f5898', 'f5899', 'f5900', 'f5901', 'f5902', 'f5903', 'f5904', 'f5905', 'f5906', 'f5907', 'f5908', 'f5909', 'f5910', 'f5911', 'f5912', 'f5913', 'f5914', 'f5915', 'f5916', 'f5917', 'f5918', 'f5919', 'f5920', 'f5921', 'f5922', 'f5923', 'f5924', 'f5925', 'f5926', 'f5927', 'f5928', 'f5929', 'f5930', 'f5931', 'f5932', 'f5933', 'f5934', 'f5935', 'f5936', 'f5937', 'f5938', 'f5939', 'f5940', 'f5941', 'f5942', 'f5943', 'f5944', 'f5945', 'f5946', 'f5947', 'f5948', 'f5949', 'f5950', 'f5951', 'f5952', 'f5953', 'f5954', 'f5955', 'f5956', 'f5957', 'f5958', 'f5959', 'f5960', 'f5961', 'f5962', 'f5963', 'f5964', 'f5965', 'f5966', 'f5967', 'f5968', 'f5969', 'f5970', 'f5971', 'f5972', 'f5973', 'f5974', 'f5975', 'f5976', 'f5977', 'f5978', 'f5979', 'f5980', 'f5981', 'f5982', 'f5983', 'f5984', 'f5985', 'f5986', 'f5987', 'f5988', 'f5989', 'f5990', 'f5991', 'f5992', 'f5993', 'f5994', 'f5995', 'f5996', 'f5997', 'f5998', 'f5999', 'f6000', 'f6001', 'f6002', 'f6003', 'f6004', 'f6005', 'f6006', 'f6007', 'f6008', 'f6009', 'f6010', 'f6011', 'f6012', 'f6013', 'f6014', 'f6015', 'f6016', 'f6017', 'f6018', 'f6019', 'f6020', 'f6021', 'f6022', 'f6023', 'f6024', 'f6025', 'f6026', 'f6027', 'f6028', 'f6029', 'f6030', 'f6031', 'f6032', 'f6033', 'f6034', 'f6035', 'f6036', 'f6037', 'f6038', 'f6039', 'f6040', 'f6041', 'f6042', 'f6043', 'f6044', 'f6045', 'f6046', 'f6047', 'f6048', 'f6049', 'f6050', 'f6051', 'f6052', 'f6053', 'f6054', 'f6055', 'f6056', 'f6057', 'f6058', 'f6059', 'f6060', 'f6061', 'f6062', 'f6063', 'f6064', 'f6065', 'f6066', 'f6067', 'f6068', 'f6069', 'f6070', 'f6071', 'f6072', 'f6073', 'f6074', 'f6075', 'f6076', 'f6077', 'f6078', 'f6079', 'f6080', 'f6081', 'f6082', 'f6083', 'f6084', 'f6085', 'f6086', 'f6087', 'f6088', 'f6089', 'f6090', 'f6091', 'f6092', 'f6093', 'f6094', 'f6095', 'f6096', 'f6097', 'f6098', 'f6099', 'f6100', 'f6101', 'f6102', 'f6103', 'f6104', 'f6105', 'f6106', 'f6107', 'f6108', 'f6109', 'f6110', 'f6111', 'f6112', 'f6113', 'f6114', 'f6115', 'f6116', 'f6117', 'f6118', 'f6119', 'f6120', 'f6121', 'f6122', 'f6123', 'f6124', 'f6125', 'f6126', 'f6127', 'f6128', 'f6129', 'f6130', 'f6131', 'f6132', 'f6133', 'f6134', 'f6135', 'f6136', 'f6137', 'f6138', 'f6139', 'f6140', 'f6141', 'f6142', 'f6143', 'f6144', 'f6145', 'f6146', 'f6147', 'f6148', 'f6149', 'f6150', 'f6151', 'f6152', 'f6153', 'f6154', 'f6155', 'f6156', 'f6157', 'f6158', 'f6159', 'f6160', 'f6161', 'f6162', 'f6163', 'f6164', 'f6165', 'f6166', 'f6167', 'f6168', 'f6169', 'f6170', 'f6171', 'f6172', 'f6173', 'f6174', 'f6175', 'f6176', 'f6177', 'f6178', 'f6179', 'f6180', 'f6181', 'f6182', 'f6183', 'f6184', 'f6185', 'f6186', 'f6187', 'f6188', 'f6189', 'f6190', 'f6191', 'f6192', 'f6193', 'f6194', 'f6195', 'f6196', 'f6197', 'f6198', 'f6199', 'f6200', 'f6201', 'f6202', 'f6203', 'f6204', 'f6205', 'f6206', 'f6207', 'f6208', 'f6209', 'f6210', 'f6211', 'f6212', 'f6213', 'f6214', 'f6215', 'f6216', 'f6217', 'f6218', 'f6219', 'f6220', 'f6221', 'f6222', 'f6223', 'f6224', 'f6225', 'f6226', 'f6227', 'f6228', 'f6229', 'f6230', 'f6231', 'f6232', 'f6233', 'f6234', 'f6235', 'f6236', 'f6237', 'f6238', 'f6239', 'f6240', 'f6241', 'f6242', 'f6243', 'f6244', 'f6245', 'f6246', 'f6247', 'f6248', 'f6249', 'f6250', 'f6251', 'f6252', 'f6253', 'f6254', 'f6255', 'f6256', 'f6257', 'f6258', 'f6259', 'f6260', 'f6261', 'f6262', 'f6263', 'f6264', 'f6265', 'f6266', 'f6267', 'f6268', 'f6269', 'f6270', 'f6271', 'f6272', 'f6273', 'f6274', 'f6275', 'f6276', 'f6277', 'f6278', 'f6279', 'f6280', 'f6281', 'f6282', 'f6283', 'f6284', 'f6285', 'f6286', 'f6287', 'f6288', 'f6289', 'f6290', 'f6291', 'f6292', 'f6293', 'f6294', 'f6295', 'f6296', 'f6297', 'f6298', 'f6299', 'f6300', 'f6301', 'f6302', 'f6303', 'f6304', 'f6305', 'f6306', 'f6307', 'f6308', 'f6309', 'f6310', 'f6311', 'f6312', 'f6313', 'f6314', 'f6315', 'f6316', 'f6317', 'f6318', 'f6319', 'f6320', 'f6321', 'f6322', 'f6323', 'f6324', 'f6325', 'f6326', 'f6327', 'f6328', 'f6329', 'f6330', 'f6331', 'f6332', 'f6333', 'f6334', 'f6335', 'f6336', 'f6337', 'f6338', 'f6339', 'f6340', 'f6341', 'f6342', 'f6343', 'f6344', 'f6345', 'f6346', 'f6347', 'f6348', 'f6349', 'f6350', 'f6351', 'f6352', 'f6353', 'f6354', 'f6355', 'f6356', 'f6357', 'f6358', 'f6359', 'f6360', 'f6361', 'f6362', 'f6363', 'f6364', 'f6365', 'f6366', 'f6367', 'f6368', 'f6369', 'f6370', 'f6371', 'f6372', 'f6373', 'f6374', 'f6375', 'f6376', 'f6377', 'f6378', 'f6379', 'f6380', 'f6381', 'f6382', 'f6383', 'f6384', 'f6385', 'f6386', 'f6387', 'f6388', 'f6389', 'f6390', 'f6391', 'f6392', 'f6393', 'f6394', 'f6395', 'f6396', 'f6397', 'f6398', 'f6399', 'f6400', 'f6401', 'f6402', 'f6403', 'f6404', 'f6405', 'f6406', 'f6407', 'f6408', 'f6409', 'f6410', 'f6411', 'f6412', 'f6413', 'f6414', 'f6415', 'f6416', 'f6417', 'f6418', 'f6419', 'f6420', 'f6421', 'f6422', 'f6423', 'f6424', 'f6425', 'f6426', 'f6427', 'f6428', 'f6429', 'f6430', 'f6431', 'f6432', 'f6433', 'f6434', 'f6435', 'f6436', 'f6437', 'f6438', 'f6439', 'f6440', 'f6441', 'f6442', 'f6443', 'f6444', 'f6445', 'f6446', 'f6447', 'f6448', 'f6449', 'f6450', 'f6451', 'f6452', 'f6453', 'f6454', 'f6455', 'f6456', 'f6457', 'f6458', 'f6459', 'f6460', 'f6461', 'f6462', 'f6463', 'f6464', 'f6465', 'f6466', 'f6467', 'f6468', 'f6469', 'f6470', 'f6471', 'f6472', 'f6473', 'f6474', 'f6475', 'f6476', 'f6477', 'f6478', 'f6479', 'f6480', 'f6481', 'f6482', 'f6483', 'f6484', 'f6485', 'f6486', 'f6487', 'f6488', 'f6489', 'f6490', 'f6491', 'f6492', 'f6493', 'f6494', 'f6495', 'f6496', 'f6497', 'f6498', 'f6499', 'f6500', 'f6501', 'f6502', 'f6503', 'f6504', 'f6505', 'f6506', 'f6507', 'f6508', 'f6509', 'f6510', 'f6511', 'f6512', 'f6513', 'f6514', 'f6515', 'f6516', 'f6517', 'f6518', 'f6519', 'f6520', 'f6521', 'f6522', 'f6523', 'f6524', 'f6525', 'f6526', 'f6527', 'f6528', 'f6529', 'f6530', 'f6531', 'f6532', 'f6533', 'f6534', 'f6535', 'f6536', 'f6537', 'f6538', 'f6539', 'f6540', 'f6541', 'f6542', 'f6543', 'f6544', 'f6545', 'f6546', 'f6547', 'f6548', 'f6549', 'f6550', 'f6551', 'f6552', 'f6553', 'f6554', 'f6555', 'f6556', 'f6557', 'f6558', 'f6559', 'f6560', 'f6561', 'f6562', 'f6563', 'f6564', 'f6565', 'f6566', 'f6567', 'f6568', 'f6569', 'f6570', 'f6571', 'f6572', 'f6573', 'f6574', 'f6575', 'f6576', 'f6577', 'f6578', 'f6579', 'f6580', 'f6581', 'f6582', 'f6583', 'f6584', 'f6585', 'f6586', 'f6587', 'f6588', 'f6589', 'f6590', 'f6591', 'f6592', 'f6593', 'f6594', 'f6595', 'f6596', 'f6597', 'f6598', 'f6599', 'f6600', 'f6601', 'f6602', 'f6603', 'f6604', 'f6605', 'f6606', 'f6607', 'f6608', 'f6609', 'f6610', 'f6611', 'f6612', 'f6613', 'f6614', 'f6615', 'f6616', 'f6617', 'f6618', 'f6619', 'f6620', 'f6621', 'f6622', 'f6623', 'f6624', 'f6625', 'f6626', 'f6627', 'f6628', 'f6629', 'f6630', 'f6631', 'f6632', 'f6633', 'f6634', 'f6635', 'f6636', 'f6637', 'f6638', 'f6639', 'f6640', 'f6641', 'f6642', 'f6643', 'f6644', 'f6645', 'f6646', 'f6647', 'f6648', 'f6649', 'f6650', 'f6651', 'f6652', 'f6653', 'f6654', 'f6655', 'f6656', 'f6657', 'f6658', 'f6659', 'f6660', 'f6661', 'f6662', 'f6663', 'f6664', 'f6665', 'f6666', 'f6667', 'f6668', 'f6669', 'f6670', 'f6671', 'f6672', 'f6673', 'f6674', 'f6675', 'f6676', 'f6677', 'f6678', 'f6679', 'f6680', 'f6681', 'f6682', 'f6683', 'f6684', 'f6685', 'f6686', 'f6687', 'f6688', 'f6689', 'f6690', 'f6691', 'f6692', 'f6693', 'f6694', 'f6695', 'f6696', 'f6697', 'f6698', 'f6699', 'f6700', 'f6701', 'f6702', 'f6703', 'f6704', 'f6705', 'f6706', 'f6707', 'f6708', 'f6709', 'f6710', 'f6711', 'f6712', 'f6713', 'f6714', 'f6715', 'f6716', 'f6717', 'f6718', 'f6719', 'f6720', 'f6721', 'f6722', 'f6723', 'f6724', 'f6725', 'f6726', 'f6727', 'f6728', 'f6729', 'f6730', 'f6731', 'f6732', 'f6733', 'f6734', 'f6735', 'f6736', 'f6737', 'f6738', 'f6739', 'f6740', 'f6741', 'f6742', 'f6743', 'f6744', 'f6745', 'f6746', 'f6747', 'f6748', 'f6749', 'f6750', 'f6751', 'f6752', 'f6753', 'f6754', 'f6755', 'f6756', 'f6757', 'f6758', 'f6759', 'f6760', 'f6761', 'f6762', 'f6763', 'f6764', 'f6765', 'f6766', 'f6767', 'f6768', 'f6769', 'f6770', 'f6771', 'f6772', 'f6773', 'f6774', 'f6775', 'f6776', 'f6777', 'f6778', 'f6779', 'f6780', 'f6781', 'f6782', 'f6783', 'f6784', 'f6785', 'f6786', 'f6787', 'f6788', 'f6789', 'f6790', 'f6791', 'f6792', 'f6793', 'f6794', 'f6795', 'f6796', 'f6797', 'f6798', 'f6799', 'f6800', 'f6801', 'f6802', 'f6803', 'f6804', 'f6805', 'f6806', 'f6807', 'f6808', 'f6809', 'f6810', 'f6811', 'f6812', 'f6813', 'f6814', 'f6815', 'f6816', 'f6817', 'f6818', 'f6819', 'f6820', 'f6821', 'f6822', 'f6823', 'f6824', 'f6825', 'f6826', 'f6827', 'f6828', 'f6829', 'f6830', 'f6831', 'f6832', 'f6833', 'f6834', 'f6835', 'f6836', 'f6837', 'f6838', 'f6839', 'f6840', 'f6841', 'f6842', 'f6843', 'f6844', 'f6845', 'f6846', 'f6847', 'f6848', 'f6849', 'f6850', 'f6851', 'f6852', 'f6853', 'f6854', 'f6855', 'f6856', 'f6857', 'f6858', 'f6859', 'f6860', 'f6861', 'f6862', 'f6863', 'f6864', 'f6865', 'f6866', 'f6867', 'f6868', 'f6869', 'f6870', 'f6871', 'f6872', 'f6873', 'f6874', 'f6875', 'f6876', 'f6877', 'f6878', 'f6879', 'f6880', 'f6881', 'f6882', 'f6883', 'f6884', 'f6885', 'f6886', 'f6887', 'f6888', 'f6889', 'f6890', 'f6891', 'f6892', 'f6893', 'f6894', 'f6895', 'f6896', 'f6897', 'f6898', 'f6899', 'f6900', 'f6901', 'f6902', 'f6903', 'f6904', 'f6905', 'f6906', 'f6907', 'f6908', 'f6909', 'f6910', 'f6911', 'f6912', 'f6913', 'f6914', 'f6915', 'f6916', 'f6917', 'f6918', 'f6919', 'f6920', 'f6921', 'f6922', 'f6923', 'f6924', 'f6925', 'f6926', 'f6927', 'f6928', 'f6929', 'f6930', 'f6931', 'f6932', 'f6933', 'f6934', 'f6935', 'f6936', 'f6937', 'f6938', 'f6939', 'f6940', 'f6941', 'f6942', 'f6943', 'f6944', 'f6945', 'f6946', 'f6947', 'f6948', 'f6949', 'f6950', 'f6951', 'f6952', 'f6953', 'f6954', 'f6955', 'f6956', 'f6957', 'f6958', 'f6959', 'f6960', 'f6961', 'f6962', 'f6963', 'f6964', 'f6965', 'f6966', 'f6967', 'f6968', 'f6969', 'f6970', 'f6971', 'f6972', 'f6973', 'f6974', 'f6975', 'f6976', 'f6977', 'f6978', 'f6979', 'f6980', 'f6981', 'f6982', 'f6983', 'f6984', 'f6985', 'f6986', 'f6987', 'f6988', 'f6989', 'f6990', 'f6991', 'f6992', 'f6993', 'f6994', 'f6995', 'f6996', 'f6997', 'f6998', 'f6999', 'f7000', 'f7001', 'f7002', 'f7003', 'f7004', 'f7005', 'f7006', 'f7007', 'f7008', 'f7009', 'f7010', 'f7011', 'f7012', 'f7013', 'f7014', 'f7015', 'f7016', 'f7017', 'f7018', 'f7019', 'f7020', 'f7021', 'f7022', 'f7023', 'f7024', 'f7025', 'f7026', 'f7027', 'f7028', 'f7029', 'f7030', 'f7031', 'f7032', 'f7033', 'f7034', 'f7035', 'f7036', 'f7037', 'f7038', 'f7039', 'f7040', 'f7041', 'f7042', 'f7043', 'f7044', 'f7045', 'f7046', 'f7047', 'f7048', 'f7049', 'f7050', 'f7051', 'f7052', 'f7053', 'f7054', 'f7055', 'f7056', 'f7057', 'f7058', 'f7059', 'f7060', 'f7061', 'f7062', 'f7063', 'f7064', 'f7065', 'f7066', 'f7067', 'f7068', 'f7069', 'f7070', 'f7071', 'f7072', 'f7073', 'f7074', 'f7075', 'f7076', 'f7077', 'f7078', 'f7079', 'f7080', 'f7081', 'f7082', 'f7083', 'f7084', 'f7085', 'f7086', 'f7087', 'f7088', 'f7089', 'f7090', 'f7091', 'f7092', 'f7093', 'f7094', 'f7095', 'f7096', 'f7097', 'f7098', 'f7099', 'f7100', 'f7101', 'f7102', 'f7103', 'f7104', 'f7105', 'f7106', 'f7107', 'f7108', 'f7109', 'f7110', 'f7111', 'f7112', 'f7113', 'f7114', 'f7115', 'f7116', 'f7117', 'f7118', 'f7119', 'f7120', 'f7121', 'f7122', 'f7123', 'f7124', 'f7125', 'f7126', 'f7127', 'f7128', 'f7129', 'f7130', 'f7131', 'f7132', 'f7133', 'f7134', 'f7135', 'f7136', 'f7137', 'f7138', 'f7139', 'f7140', 'f7141', 'f7142', 'f7143', 'f7144', 'f7145', 'f7146', 'f7147', 'f7148', 'f7149', 'f7150', 'f7151', 'f7152', 'f7153', 'f7154', 'f7155', 'f7156', 'f7157', 'f7158', 'f7159', 'f7160', 'f7161', 'f7162', 'f7163', 'f7164', 'f7165', 'f7166', 'f7167', 'f7168', 'f7169', 'f7170', 'f7171', 'f7172', 'f7173', 'f7174', 'f7175', 'f7176', 'f7177', 'f7178', 'f7179', 'f7180', 'f7181', 'f7182', 'f7183', 'f7184', 'f7185', 'f7186', 'f7187', 'f7188', 'f7189', 'f7190', 'f7191', 'f7192', 'f7193', 'f7194', 'f7195', 'f7196', 'f7197', 'f7198', 'f7199', 'f7200', 'f7201', 'f7202', 'f7203', 'f7204', 'f7205', 'f7206', 'f7207', 'f7208', 'f7209', 'f7210', 'f7211', 'f7212', 'f7213', 'f7214', 'f7215', 'f7216', 'f7217', 'f7218', 'f7219', 'f7220', 'f7221', 'f7222', 'f7223', 'f7224', 'f7225', 'f7226', 'f7227', 'f7228', 'f7229', 'f7230', 'f7231', 'f7232', 'f7233', 'f7234', 'f7235', 'f7236', 'f7237', 'f7238', 'f7239', 'f7240', 'f7241', 'f7242', 'f7243', 'f7244', 'f7245', 'f7246', 'f7247', 'f7248', 'f7249', 'f7250', 'f7251', 'f7252', 'f7253', 'f7254', 'f7255', 'f7256', 'f7257', 'f7258', 'f7259', 'f7260', 'f7261', 'f7262', 'f7263', 'f7264', 'f7265', 'f7266', 'f7267', 'f7268', 'f7269', 'f7270', 'f7271', 'f7272', 'f7273', 'f7274', 'f7275', 'f7276', 'f7277', 'f7278', 'f7279', 'f7280', 'f7281', 'f7282', 'f7283', 'f7284', 'f7285', 'f7286', 'f7287', 'f7288', 'f7289', 'f7290', 'f7291', 'f7292', 'f7293', 'f7294', 'f7295', 'f7296', 'f7297', 'f7298', 'f7299', 'f7300', 'f7301', 'f7302', 'f7303', 'f7304', 'f7305', 'f7306', 'f7307', 'f7308', 'f7309', 'f7310', 'f7311', 'f7312', 'f7313', 'f7314', 'f7315', 'f7316', 'f7317', 'f7318', 'f7319', 'f7320', 'f7321', 'f7322', 'f7323', 'f7324', 'f7325', 'f7326', 'f7327', 'f7328', 'f7329', 'f7330', 'f7331', 'f7332', 'f7333', 'f7334', 'f7335', 'f7336', 'f7337', 'f7338', 'f7339', 'f7340', 'f7341', 'f7342', 'f7343', 'f7344', 'f7345', 'f7346', 'f7347', 'f7348', 'f7349', 'f7350', 'f7351', 'f7352', 'f7353', 'f7354', 'f7355', 'f7356', 'f7357', 'f7358', 'f7359', 'f7360', 'f7361', 'f7362', 'f7363', 'f7364', 'f7365', 'f7366', 'f7367', 'f7368', 'f7369', 'f7370', 'f7371', 'f7372', 'f7373', 'f7374', 'f7375', 'f7376', 'f7377', 'f7378', 'f7379', 'f7380', 'f7381', 'f7382', 'f7383', 'f7384', 'f7385', 'f7386', 'f7387', 'f7388', 'f7389', 'f7390', 'f7391', 'f7392', 'f7393', 'f7394', 'f7395', 'f7396', 'f7397', 'f7398', 'f7399', 'f7400', 'f7401', 'f7402', 'f7403', 'f7404', 'f7405', 'f7406', 'f7407', 'f7408', 'f7409', 'f7410', 'f7411', 'f7412', 'f7413', 'f7414', 'f7415', 'f7416', 'f7417', 'f7418', 'f7419', 'f7420', 'f7421', 'f7422', 'f7423', 'f7424', 'f7425', 'f7426', 'f7427', 'f7428', 'f7429', 'f7430', 'f7431', 'f7432', 'f7433', 'f7434', 'f7435', 'f7436', 'f7437', 'f7438', 'f7439', 'f7440', 'f7441', 'f7442', 'f7443', 'f7444', 'f7445', 'f7446', 'f7447', 'f7448', 'f7449', 'f7450', 'f7451', 'f7452', 'f7453', 'f7454', 'f7455', 'f7456', 'f7457', 'f7458', 'f7459', 'f7460', 'f7461', 'f7462', 'f7463', 'f7464', 'f7465', 'f7466', 'f7467', 'f7468', 'f7469', 'f7470', 'f7471', 'f7472', 'f7473', 'f7474', 'f7475', 'f7476', 'f7477', 'f7478', 'f7479', 'f7480', 'f7481', 'f7482', 'f7483', 'f7484', 'f7485', 'f7486', 'f7487', 'f7488', 'f7489', 'f7490', 'f7491', 'f7492', 'f7493', 'f7494', 'f7495', 'f7496', 'f7497', 'f7498', 'f7499', 'f7500', 'f7501', 'f7502', 'f7503', 'f7504', 'f7505', 'f7506', 'f7507', 'f7508', 'f7509', 'f7510', 'f7511', 'f7512', 'f7513', 'f7514', 'f7515', 'f7516', 'f7517', 'f7518', 'f7519', 'f7520', 'f7521', 'f7522', 'f7523', 'f7524', 'f7525', 'f7526', 'f7527', 'f7528', 'f7529', 'f7530', 'f7531', 'f7532', 'f7533', 'f7534', 'f7535', 'f7536', 'f7537', 'f7538', 'f7539', 'f7540', 'f7541', 'f7542', 'f7543', 'f7544', 'f7545', 'f7546', 'f7547', 'f7548', 'f7549', 'f7550', 'f7551', 'f7552', 'f7553', 'f7554', 'f7555', 'f7556', 'f7557', 'f7558', 'f7559', 'f7560', 'f7561', 'f7562', 'f7563', 'f7564', 'f7565', 'f7566', 'f7567', 'f7568', 'f7569', 'f7570', 'f7571', 'f7572', 'f7573', 'f7574', 'f7575', 'f7576', 'f7577', 'f7578', 'f7579', 'f7580', 'f7581', 'f7582', 'f7583', 'f7584', 'f7585', 'f7586', 'f7587', 'f7588', 'f7589', 'f7590', 'f7591', 'f7592', 'f7593', 'f7594', 'f7595', 'f7596', 'f7597', 'f7598', 'f7599', 'f7600', 'f7601', 'f7602', 'f7603', 'f7604', 'f7605', 'f7606', 'f7607', 'f7608', 'f7609', 'f7610', 'f7611', 'f7612', 'f7613', 'f7614', 'f7615', 'f7616', 'f7617', 'f7618', 'f7619', 'f7620', 'f7621', 'f7622', 'f7623', 'f7624', 'f7625', 'f7626', 'f7627', 'f7628', 'f7629', 'f7630', 'f7631', 'f7632', 'f7633', 'f7634', 'f7635', 'f7636', 'f7637', 'f7638', 'f7639', 'f7640', 'f7641', 'f7642', 'f7643', 'f7644', 'f7645', 'f7646', 'f7647', 'f7648', 'f7649', 'f7650', 'f7651', 'f7652', 'f7653', 'f7654', 'f7655', 'f7656', 'f7657', 'f7658', 'f7659', 'f7660', 'f7661', 'f7662', 'f7663', 'f7664', 'f7665', 'f7666', 'f7667', 'f7668', 'f7669']\ntraining data did not have the following fields: f4150, f4973, f6194, f485, f7638, f1666, f503, f5028, f681, f6698, f2837, f4385, f6002, f165, f4479, f4709, f7656, f2305, f4892, f1586, f1659, f2465, f6449, f7615, f3757, f5768, f1126, f4409, f7084, f4739, f1931, f1324, f1437, f2386, f6500, f4852, f4024, f1752, f6447, f4111, f4713, f4776, f4755, f3633, f104, f3963, f2909, f247, f1823, f1870, f7511, f2360, f4335, f6616, f3972, f5939, f3863, f5174, f6208, f4617, f1238, f2525, f121, f3680, f1855, f4445, f3644, f636, f4388, f5020, f2897, f6201, f4543, f4991, f6827, f2524, f3627, f678, f5633, f6536, f3111, f1142, f1201, f5858, f4927, f6311, f7273, f2291, f2420, f6099, f5220, f6927, f3065, f3895, f5648, f7245, f1284, f595, f4443, f979, f2933, f3295, f5245, f7064, f6807, f4662, f1128, f1787, f1647, f7249, f324, f1694, f2241, f1574, f6488, f5236, f1950, f3235, f5807, f7404, f535, f3196, f234, f5843, f567, f1066, f6463, f6747, f217, f1019, f2039, f2373, f4937, f220, f2738, f517, f6164, f1725, f7230, f3750, f6859, f2261, f5985, f2335, f6712, f5401, f3109, f572, f7536, f3921, f3845, f6881, f2401, f5163, f6595, f2317, f2753, f6313, f5849, f6503, f2331, f3671, f998, f302, f4684, f5505, f4426, f1488, f1495, f3515, f6715, f684, f4827, f4447, f40, f5732, f4863, f3159, f6046, f1815, f3385, f6471, f805, f7454, f2882, f3700, f2681, f4440, f6034, f2789, f5557, f7289, f5643, f5571, f5528, f2209, f6151, f2610, f7039, f6443, f3978, f5269, f4290, f4105, f5157, f6112, f3439, f4768, f2810, f281, f1955, f2229, f4403, f2040, f1456, f1339, f4042, f2653, f5999, f1319, f6946, f5766, f5671, f7208, f1643, f4605, f606, f5655, f5916, f5392, f5810, f290, f5244, f5121, f1463, f5389, f7148, f4421, f5475, f1017, f4361, f6097, f499, f5988, f1254, f6394, f4814, f7034, f1777, f1232, f2085, f5032, f2599, f2272, f6234, f7341, f5920, f3068, f3445, f3150, f6591, f2308, f7544, f561, f1365, f727, f7311, f7549, f5103, f6430, f7254, f2203, f2691, f218, f814, f3975, f2467, f4034, f6803, f1399, f6934, f4441, f6140, f1287, f871, f2744, f2564, f4700, f6656, f4710, f6768, f2456, f1934, f2024, f3979, f2748, f6109, f1920, f3796, f2735, f1190, f7196, f3599, f5733, f1993, f7460, f346, f494, f5838, f5750, f4880, f6936, f5316, f3855, f3166, f86, f1064, f3516, f6053, f4539, f242, f1748, f1938, f6336, f2246, f7569, f7326, f7543, f5964, f3301, f995, f3587, f3940, f1002, f3948, f434, f6497, f6224, f5680, f4822, f6177, f4744, f3311, f5951, f445, f2943, f6461, f6892, f2138, f6340, f6664, f5826, f2435, f2670, f3649, f765, f1550, f4212, f3527, f2973, f7014, f4221, f1636, f70, f5495, f6077, f6136, f1943, f4562, f2047, f4794, f4132, f4651, f7279, f3984, f4848, f6899, f1500, f5187, f2059, f7428, f2569, f2474, f6577, f6948, f2731, f6409, f3139, f6952, f5205, f7191, f5110, f4845, f3145, f3851, f4459, f6071, f2829, f1298, f3950, f5568, f4609, f1642, f3776, f4674, f186, f6603, f5330, f555, f3030, f5248, f3283, f1961, f3735, f1255, f4779, f5280, f7490, f2035, f5119, f2413, f1059, f318, f5503, f6021, f4793, f7025, f67, f4728, f5263, f2106, f3347, f4492, f6412, f3070, f3701, f5255, f1370, f731, f117, f5130, f6024, f2471, f3746, f5652, f2343, f2140, f7267, f2464, f5721, f5752, f1148, f2590, f2491, f4337, f1417, f1880, f7169, f6389, f6117, f812, f450, f2226, f2578, f546, f6360, f2081, f4405, f2530, f1667, f6068, f3899, f2005, f906, f3047, f6937, f2931, f4549, f1391, f5707, f479, f2450, f6763, f3448, f2636, f6477, f6855, f163, f310, f2149, f4520, f4274, f3607, f5063, f5573, f2617, f6933, f5087, f1661, f1029, f5806, f7621, f455, f7443, f2893, f1301, f6023, f7053, f3029, f5344, f5410, f5963, f1280, f3764, f3252, f6015, f4060, f4758, f6863, f2191, f5443, f122, f736, f1472, f6278, f2341, f852, f4619, f5595, f7263, f4905, f5271, f4981, f4245, f7093, f5549, f6264, f947, f1529, f2415, f7059, f2018, f6297, f5261, f7396, f6239, f6970, f553, f6589, f3596, f1080, f5957, f298, f390, f1251, f4691, f183, f2188, f6369, f901, f7015, f5364, f4541, f2536, f3635, f1329, f6685, f1626, f746, f5274, f1428, f1822, f4394, f7474, f2070, f1402, f6230, f7136, f6181, f3125, f1604, f285, f6755, f6784, f7330, f230, f774, f5493, f1448, f6373, f2953, f3102, f6390, f6884, f3436, f7627, f5375, f5161, f7412, f3696, f7163, f425, f3937, f6523, f320, f7211, f6165, f1761, f3629, f1275, f443, f3797, f3559, f1267, f6098, f4265, f327, f2510, f2779, f6821, f3648, f401, f5295, f1211, f2214, f7420, f2760, f3188, f1514, f6060, f5124, f7275, f5192, f4875, f2634, f1695, f523, f5413, f5817, f4861, f3050, f3903, f5490, f987, f5961, f6746, f2938, f5544, f3678, f1523, f7003, f6135, f6225, f6547, f3673, f829, f4341, f2640, f1594, f7001, f3811, f1874, f4410, f4185, f1834, f2796, f2067, f4462, f5341, f772, f944, f672, f5079, f4275, f7130, f6335, f7642, f1916, f5259, f785, f5705, f3380, f974, f3638, f3664, f6328, f903, f6945, f5602, f4704, f7076, f1751, f6918, f5299, f1036, f4292, f5153, f414, f6992, f387, f1085, f7120, f4083, f1376, f7131, f5551, f1903, f141, f2183, f2231, f1521, f5026, f3990, f1517, f1800, f5429, f4847, f377, f3014, f3484, f2781, f2819, f714, f3621, f2325, f3476, f1269, f5349, f1587, f2469, f2538, f2961, f5837, f675, f2570, f6883, f4810, f3397, f6759, f5059, f865, f4749, f3521, f6359, f5411, f5890, f2842, f4577, f3219, f5681, f2820, f404, f2719, f5512, f1348, f2114, f6570, f4355, f7229, f6669, f1337, f2885, f7068, f3160, f1418, f1818, f6923, f3931, f2788, f2817, f1138, f2368, f1883, f7200, f4285, f1999, f1680, f5997, f1180, f6131, f3023, f5992, f1194, f2752, f1018, f5500, f5787, f4305, f6909, f3552, f7109, f3650, f2049, f877, f6025, f615, f3394, f3268, f1259, f1161, f1459, f5899, f2733, f5281, f2625, f3489, f7612, f6690, f4377, f7080, f6865, f2944, f4707, f2771, f2946, f2757, f6510, f7366, f322, f7175, f2593, f4286, f362, f5247, f6610, f2400, f685, f2033, f4026, f6275, f2230, f3749, f6605, f5635, f488, f4732, f7170, f7240, f739, f4770, f3083, f2589, f1213, f6432, f4791, f3754, f5828, f3570, f3246, f6593, f2981, f6147, f569, f1867, f2126, f7622, f4419, f6337, f7304, f4500, f712, f2289, f3247, f5270, f6529, f816, f6066, f1891, f4738, f3915, f522, f4826, f4277, f4311, f7448, f1479, f5371, f1675, f2894, f5894, f291, f1097, f6446, f2727, f6253, f5795, f5547, f3995, f6420, f3600, f3523, f2848, f3755, f6427, f5599, f7295, f983, f3234, f5301, f1600, f2962, f3294, f4948, f1981, f637, f1638, f2635, f6445, f3284, f351, f6845, f3783, f7662, f2726, f7629, f648, f818, f3692, f6411, f6791, f6199, f2332, f5730, f3844, f5716, f3007, f3325, f348, f374, f3426, f6057, f478, f7393, f6741, f6761, f881, f658, f976, f4016, f6646, f6545, f1037, f2356, f4872, f3450, f5446, f2869, f6102, f1734, f2468, f5581, f4011, f2434, f5781, f1615, f2233, f3123, f5841, f6740, f5073, f7153, f451, f435, f5764, f5592, f6598, f1026, f7215, f3869, f4612, f7061, f257, f1962, f820, f1032, f5726, f2234, f6010, f1885, f5929, f299, f6167, f3428, f4883, f1566, f3919, f7124, f2304, f2811, f4987, f3099, f5579, f3654, f1144, f6031, f1406, f5260, f4649, f4877, f6459, f3291, f7259, f6720, f3866, f4027, f2706, f969, f3037, f4989, f6560, f1848, f791, f2707, f2427, f6295, f7434, f2611, f4977, f2813, f1020, f6967, f738, f6114, f786, f2892, f1293, f274, f5372, f5395, f6520, f5809, f5065, f5090, f6163, f1224, f827, f1779, f6783, f7573, f4509, f6410, f1701, f7552, f7586, f1497, f4757, f7287, f2402, f6913, f2449, f4701, f1486, f831, f4930, f3383, f4052, f3280, f1415, f6688, f1547, f6841, f7424, f5532, f4309, f3537, f7632, f5710, f6357, f6306, f4511, f6606, f2485, f1593, f5337, f2074, f7312, f3401, f4135, f2060, f790, f7195, f2766, f4115, f5519, f6539, f6928, f2969, f1782, f5434, f4474, f5844, f1139, f1958, f3263, f4013, f766, f7086, f557, f7020, f1409, f5088, f7234, f5034, f1655, f1616, f2746, f4559, f129, f1716, f7221, f4300, f7359, f5060, f6764, f1720, f1737, f5958, f3912, f869, f6207, f6038, f7135, f735, f6011, f1989, f3372, f3788, f3737, f806, f1951, f7374, f4425, f5700, f224, f2831, f3170, f6622, f4719, f4544, f7334, f5339, f5991, f2989, f520, f3117, f2561, f6506, f2912, f2245, f4841, f2295, f6091, f2516, f863, f4846, f5025, f573, f4792, f4259, f5914, f263, f6172, f5597, f3729, f2734, f2960, f7252, f1101, f7189, f6830, f1165, f99, f1141, f1430, f1932, f2349, f7042, f303, f2891, f4650, f437, f5722, f7425, f3790, f1306, f1225, f3296, f7553, f4947, f2190, f4272, f301, f7026, f647, f6126, f6938, f7574, f5433, f5740, f1024, f1888, f6076, f4686, f5334, f4808, f7416, f600, f6962, f652, f4001, f173, f6734, f7439, f838, f5238, f948, f6087, f4157, f91, f3699, f5134, f2728, f2970, f6481, f2704, f1654, f1746, f6079, f4374, f4767, f7470, f2914, f2851, f4490, f3679, f1094, f6035, f487, f3982, f1516, f4241, f4428, f1210, f469, f677, f384, f6961, f6362, f1487, f7472, f3782, f7508, f1570, f5229, f1576, f2756, f2244, f6501, f3955, f1107, f171, f7546, f2863, f5702, f3573, f1316, f3121, f3519, f4639, f3475, f797, f1122, f4340, f6402, f6585, f3452, f6460, f143, f4554, f3261, f6363, f7074, f7635, f7019, f4101, f4735, f5302, f6517, f253, f3248, f5741, f4491, f1689, f6662, f3486, f1536, f6058, f7595, f6032, f6778, f7037, f787, f5926, f841, f1992, f6073, f3586, f5881, f110, f3107, f3318, f5598, f4047, f4130, f956, f2107, f7305, f7409, f7344, f4560, f3536, f3971, f7468, f1878, f5139, f446, f3206, f4901, f7465, f920, f5830, f4731, f75, f3314, f5935, f6941, f1705, f6121, f3550, f2120, f5955, f7235, f1394, f1504, f3427, f7000, f6986, f2058, f6993, f3702, f6259, f1784, f2071, f4211, f6256, f1152, f2323, f2952, f625, f5345, f7090, f5650, f3806, f6493, f7616, f7075, f1621, f1727, f3286, f4314, f5213, f2591, f2668, f6766, f5406, f6671, f4983, f3429, f4950, f6492, f4854, f1918, f4885, f3223, f209, f7010, f69, f3212, f3453, f1359, f4110, f3526, f4079, f6729, f2242, f2486, f526, f510, f5804, f3366, f688, f7174, f840, f4165, f2563, f1270, f6947, f5962, f6244, f6022, f1935, f7030, f7377, f2515, f1637, f2998, f4621, f4477, f1693, f562, f3593, f5556, f5367, f2388, f5204, f3186, f6437, f4811, f6919, f3194, f356, f6960, f6128, f1170, f2259, f5268, f2437, f6006, f6872, f3468, f2073, f2718, f941, f2109, f5550, f2547, f909, f2256, f6989, f287, f6797, f2217, f7498, f5877, f1983, f3738, f6817, f5546, f2807, f5374, f493, f4754, f42, f4858, f1477, f108, f6889, f5972, f6894, f2751, f4062, f5171, f655, f2967, f2856, f6145, f6553, f2404, f1098, f3146, f60, f981, f1879, f2097, f5092, f268, f1358, f6557, f6062, f1853, f2721, f3260, f2148, f3059, f4505, f3350, f6388, f665, f1578, f4081, f3241, f587, f717, f3767, f6288, f4495, f370, f1092, f283, f3739, f889, f5208, f879, f5502, f5668, f2418, f1426, f4103, f6466, f2007, f6976, f1850, f5739, f2664, f2048, f2240, f5285, f2155, f4626, f6511, f1797, f929, f1710, f119, f1372, f481, f821, f2566, f1431, f5878, f4344, f6737, f4224, f1168, f6846, f2818, f4665, f6227, f2004, f7643, f1712, f7657, f354, f3421, f4363, f5435, f4616, f4451, f7477, f3815, f5399, f3026, f4769, f2622, f6753, f249, f3624, f7181, f686, f3710, f4692, f776, f1025, f6532, f6453, f1653, f2955, f2708, f3472, f2157, f2075, f6904, f4600, f4878, f355, f5451, f6044, f1749, f704, f6312, f2460, f2030, f1804, f293, f3278, f1939, f420, f132, f5989, f2890, f5202, f6122, f634, f5167, f1004, f7581, f4251, f6494, f3209, f6633, f2576, f5577, f5664, f6458, f4484, f5361, f380, f5514, f408, f2063, f3307, f870, f7028, f5075, f3103, f1474, f6187, f4943, f5353, f416, f4680, f4924, f432, f7641, f3708, f5523, f4598, f1106, f4460, f7316, f5331, f4386, f504, f6971, f1183, f4312, f6339, f3807, f5669, f2895, f2309, f1925, f5013, f1624, f7394, f271, f7407, f6343, f5586, f7224, f2898, f74, f41, f3645, f3888, f6440, f1462, f2755, f2072, f1635, f6195, f671, f4904, f4521, f3343, f4664, f7276, f6206, f1512, f1602, f1090, f1000, f1466, f6684, f7418, f7140, f3133, f3458, f4667, f6632, f890, f7110, f6627, f5017, f4759, f3493, f1119, f4053, f2934, f3097, f1738, f2394, f4988, f6975, f1577, f7503, f5101, f2099, f1583, f3001, f4012, f3565, f1940, f4743, f4851, f982, f1702, f3518, f5108, f6850, f1866, f4164, f7373, f5780, f6289, f57, f130, f6573, f3424, f6265, f5126, f1134, f1283, f5540, f5335, f259, f6939, f762, f4602, f826, f5127, f33, f3839, f6902, f1112, f6886, f2546, f6125, f4147, f5978, f3017, f1344, f2605, f2608, f4761, f7504, f7389, f3774, f1079, f5043, f2832, f5409, f4940, f5774, f4548, f4392, f1408, f470, f3718, f7426, f1295, f2102, f1485, f657, f7308, f3018, f308, f4746, f4043, f4071, f4054, f3626, f3713, f645, f2419, f6047, f1802, f3932, f6050, f7567, f1058, f2192, f6738, f4698, f1664, f4556, f6802, f410, f1596, f6849, f632, f4161, f834, f1877, f6780, f7119, f6220, f6413, f1440, f3558, f4968, f7601, f3101, f2440, f2784, f3929, f4508, f223, f5010, f452, f6659, f1786, f1371, f3935, f5670, f2884, f1309, f6875, f7035, f4519, f2514, f2446, f7339, f7440, f922, f3400, f4945, f7363, f4092, f4342, f1532, f3916, f4551, f3233, f2713, f5651, f6267, f3684, f3485, f4825, f4729, f4176, f679, f1468, f4102, f7431, f495, f7534, f5431, f882, f6905, f813, f3257, f4376, f3353, f7213, f1290, f7605, f3689, f6450, f2076, f3917, f3329, f3391, f5834, f4992, f6137, f3113, f5421, f4571, f1619, f6055, f7154, f1558, f4720, f3052, f4383, f3905, f873, f1528, f1392, f4304, f80, f6569, f1374, f4829, f2996, f6052, f2441, f7489, f892, f676, f7380, f5971, f6871, f103, f5082, f2694, f6027, f261, f3185, f2409, f7660, f3760, f6452, f1109, f1531, f314, f1582, f1422, f6269, f3203, f3769, f6958, f368, f1078, f1838, f1062, f2642, f457, f3202, f602, f5177, f5048, f3808, f6051, f4607, f4675, f5677, f1217, f2942, f3756, f4396, f895, f6604, f4040, f5241, f7072, f4579, f7435, f7422, f5689, f5056, f570, f2742, f4517, f5300, f3555, f3192, f6191, f769, f2313, f6272, f1527, f313, f5516, f4244, f3723, f4946, f6929, f3892, f6581, f1793, f7491, f7405, f2122, f1226, f5145, f1438, f7319, f651, f3198, f6857, f1470, f1785, f5105, f4740, f7185, f6341, f6609, f2700, f6666, f25, f106, f2506, f2500, f932, f1087, f2011, f7484, f1105, f144, f3698, f6906, f835, f5064, f5936, f6742, f631, f939, f4975, f4676, f5232, f3768, f4044, f2405, f372, f3169, f429, f207, f5640, f145, f2146, f339, f3306, f6815, f4850, f2971, f3751, f7248, f39, f4532, f7139, f4437, f1453, f5767, f6661, f2041, f5683, f489, f2358, f3524, f2173, f2399, f7142, f2119, f5861, f7459, f1239, f5214, f5200, f5588, f5928, f3512, f2251, f3691, f2086, f23, f5055, f5791, f5903, f5298, f5333, f5627, f1050, f1325, f4657, f1706, f2197, f159, f2463, f2492, f3408, f5501, f424, f1584, f6723, f1044, f1407, f279, f4655, f5694, f7559, f3534, f7522, f6219, f2522, f3959, f4726, f2690, f1230, f3180, f2865, f1091, f5977, f5799, f6831, f5362, f6216, f6029, f4420, f4178, f3615, f6349, f3412, f6564, f3389, f7623, f6004, f6526, f6279, f6150, f1984, f48, f1483, f2922, f3055, f917, f1237, f1007, f3460, f7521, f4035, f5449, f7228, f6408, f395, f3290, f2277, f5513, f412, f254, f2284, f1444, f1755, f2319, f571, f1629, f4963, f531, f2936, f1732, f5304, f6748, f897, f5520, f2042, f5776, f2827, f591, f2579, f5486, f5530, f109, f4677, f2397, f1592, f2370, f5460, f2436, f7528, f195, f4751, f2112, f2519, f7066, f5738, f2026, f2915, f4557, f3364, f3838, f4702, f4632, f4416, f796, f2371, f5041, f3094, f4803, f264, f2939, f7023, f5111, f2177, f2535, f185, f4359, f6424, f7192, f752, f4446, f4303, f5829, f5879, f7270, f7241, f5937, f6750, f2314, f7180, f1154, f5983, f3048, f5855, f55, f2129, f2861, f2390, f1404, f2926, f3269, f2395, f4198, f65, f7291, f5566, f5253, f6485, f7532, f4222, f1511, f6775, f72, f4273, f1030, f3207, f5785, f2003, f6406, f2032, f4226, f6774, f1320, f4073, f3197, f6535, f7518, f500, f1791, f6522, f7168, f4568, f4118, f4197, f3027, f951, f5481, f169, f4137, f5980, f1929, f4620, f849, f7433, f3930, f5150, f3728, f3491, f800, f4708, f2117, f402, f4009, f4112, f689, f7062, f6302, f4586, f1258, f3933, f4773, f888, f92, f5275, f2993, f4133, f694, f2555, f3148, f6714, f5061, f4628, f596, f1436, f659, f6300, f4706, f6824, f1350, f1001, f5950, f6344, f240, f1188, f990, f538, f638, f1640, f5035, f6296, f4688, f4331, f2408, f4965, f2143, f6505, f5966, f2131, f5363, f862, f6679, f4653, f418, f5803, f3341, f1723, f5112, f5835, f3322, f1901, f4408, f2182, f3430, f3663, f6454, f1318, f6950, f7609, f4210, f4640, f5679, f3328, f1591, f2247, f6628, f2208, f472, f3483, f1721, f1040, f1575, f1544, f3243, f1745, f3387, f7091, f7226, f1770, f3682, f2411, f3138, f2628, f1162, f6237, f1979, f6426, f191, f2329, f4075, f845, f4984, f883, f7266, f1729, f275, f3945, f6733, f5455, f7290, f3802, f6400, f3267, f6752, f6290, f1913, f3944, f7415, f5488, f5303, f1257, f4217, f1271, f2987, f1209, f4764, f149, f5603, f3368, f1423, f32, f5902, f2083, f4051, f3612, f2384, f3511, f1332, f5932, f6683, f5717, f4235, f4785, f5396, f4716, f6701, f2265, f2844, f4114, f5086, f2816, f4123, f4288, f4952, f6367, f4247, f203, f2053, f6268, f3356, f6994, f6384, f5639, f4072, f5792, f7243, f7336, f5329, f4887, f1733, f5478, f2606, f6039, f2347, f3707, f3315, f1843, f7329, f4797, f524, f1567, f2218, f2587, f6133, f6309, f2550, f3229, f5918, f7178, f4015, f1469, f4603, f4444, f4109, f5382, f4399, f4450, f3827, f5074, f7558, f1338, f3095, f5718, f1222, f2001, f3398, f3217, f3351, f1159, f770, f3741, f1089, f1620, f358, f5179, f7562, f4561, f3832, f966, f945, f6065, f1731, f2815, f5062, f2478, f2776, f5083, f1218, f3043, f1127, f5996, f1388, f6907, f3925, f7102, f775, f3744, f2421, f771, f5168, f1130, f1124, f2496, f473, f6142, f633, f1539, f6677, f5014, f2490, f4980, f1976, f1685, f527, f2504, f3369, f4696, f6985, f611, f1088, f5542, f743, f2488, f6558, f3008, f3072, f7204, f5152, f885, f1814, f4173, f4107, f4939, f5469, f7164, f7206, f1847, f1887, f1844, f102, f2924, f722, f3110, f3697, f7046, f3693, f6730, f508, f4522, f5587, f1346, f2900, f6673, f2963, f2043, f757, f3201, f413, f2676, f2333, f5497, f459, f156, f7596, f986, f2740, f3506, f1278, f5019, f1750, f1540, f5008, f2224, f5393, f1400, f3694, f5915, f5642, f3320, f3470, f7608, f3174, f2982, f1310, f3273, f1805, f1212, f2780, f2875, f3977, f7453, f4606, f1243, f6129, f3841, f4985, f4228, f5273, f6229, f6642, f1796, f4163, f6036, f1355, f2302, f5570, f6826, f5288, f2267, f4618, f6550, f579, f7348, f6689, f1995, f335, f7517, f3344, f3181, f2802, f188, f3128, f3522, f5468, f1234, f1104, f3297, f2692, f5480, f1378, f5350, f5575, f6867, f7547, f7430, f1340, f6878, f1753, f3630, f2326, f2714, f3722, f5322, f7013, f6054, f5296, f4174, f3249, f2666, f639, f3598, f6439, f5201, f3228, f4223, f4252, f6617, f6320, f1435, f7044, f3583, f4316, f6103, f7397, f5256, f6966, f4820, f2917, f3451, f537, f3423, f3965, f729, f6614, f1286, f2945, f1735, f6110, f2336, f7603, f1491, f221, f2127, f2054, f4753, f1767, f5368, f7481, f3572, f552, f6425, f4086, f7024, f5616, f2353, f7126, f2352, f2288, f5634, f497, f2156, f400, f388, f436, f5974, f4645, f5823, f1276, f2337, f1328, f3991, f4833, f6042, f1651, f1442, f5922, f6186, f6263, f965, f5773, f4842, f2381, f4146, f213, f5000, f2986, f5309, f5580, f6228, f6999, f6218, f2674, f1697, f3177, f6590, f5797, f502, f6757, f783, f614, f3255, f6601, f6308, f1182, f4534, f3885, f2956, f3390, f6696, f3089, f912, f3980, f7262, f4260, f4248, f3231, f3406, f1321, f4596, f61, f5457, f360, f4483, f1333, f5771, f6943, f4238, f3371, f5365, f664, f2407, f2484, f7427, f6979, f2880, f3355, f6910, f2260, f7246, f2268, f3337, f6722, f2930, f1657, f6072, f4974, f3554, f5219, f7351, f781, f5851, f3256, f4179, f2737, f5756, f586, f2995, f4498, f1167, f2364, f239, f7548, f1425, f4216, f5380, f2036, f4182, f5892, f5225, f4550, f630, f4891, f1457, f3941, f6280, f6930, f331, f4365, f7133, f1645, f6113, f6944, f1970, f2899, f1068, f4996, f1560, f6630, f1688, f560, f6371, f4136, f5354, f5593, f6096, f4000, f7482, f1336, f6870, f7056, f4476, f788, f938, f244, f778, f3440, f1421, f3407, f2425, f5458, f4427, f7387, f2110, f6108, f5456, f7342, f7545, f2044, f1671, f3734, f3467, f5886, f2236, f3974, f6196, f5584, f4170, f6474, f3928, f7137, f6215, f2013, f1501, f3547, f999, f4046, f4866, f4069, f415, f3936, f4801, f1633, f4821, f4384, f1508, f2669, f4354, f6404, f1412, f7585, f3242, f5183, f3482, f7554, f6345, f6767, f3137, f5077, f5907, f5312, f6211, f6005, f4280, f6346, f2854, f3271, f6431, f7156, f789, f4555, f5723, f7507, f2803, f6169, f146, f359, f4014, f3531, f5769, f7362, f3416, f4689, f1736, f5931, f3053, f3479, f3603, f5104, f5708, f6231, f5388, f2873, f2772, f5613, f4951, f2213, f5138, f5444, f4896, f7531, f300, f4614, f4004, f7357, f5113, f4802, f2683, f4082, f4281, f669, f7117, f2271, f6316, f4417, f480, f2144, f6672, f1908, f801, f1458, f4908, f5666, f6914, f4838, f4470, f2703, f7081, f6840, f6940, f4472, f3240, f6744, f3996, f3071, f5763, f6822, f4868, f6193, f4583, f6843, f3010, f4099, f507, f245, f2594, f1841, f3784, f3873, f2495, f5044, f5933, f4387, f378, f5632, f6825, f3920, f7411, f3381, f5889, f5981, f4404, f5839, f27, f2448, f6381, f2678, f6618, f409, f6908, f2158, f4839, f1832, f6828, f6860, f6968, f7210, f5518, f4623, f5672, f3049, f1873, f5845, f2659, f6956, f5211, f4020, f7277, f4188, f6697, f7337, f574, f4748, f6338, f5109, f6444, f1033, f4190, f5224, f2312, f992, f2299, f5018, f2618, f3813, f6001, f3858, f5888, f872, f2365, f1632, f4438, f4715, f4432, f6809, f5658, f6143, f7205, f4319, f937, f7340, f764, f7392, f93, f6246, f3662, f3084, f6048, f4828, f2596, f5759, f5206, f2459, f3140, f532, f1518, f7352, f718, f4912, f1249, f1323, f1986, f6299, f4333, f124, f5614, f2804, f3096, f5507, f4587, f168, f506, f7166, f4271, f5477, f4402, f2847, f949, f4967, f2612, f6242, f6760, f1307, f1057, f3825, f5947, f516, f6405, f2045, f2607, f5704, f7297, f5320, f7212, f4158, f6877, f3658, f5122, f1865, f5196, f2958, f2202, f6291, f5913, f3250, f6728, f2280, f2805, f2274, f5195, f1630, f2147, f2207, f6686, f399, f4630, f5420, f2442, f2763, f4345, f2656, f2094, f2366, f5866, f2296, f4512, f2768, f4144, f4297, f4349, f6286, f5908, f3962, f4250, f4066, f1053, f7395, f542, f4644, f363, f3510, f5123, f2889, f7537, f3088, f5762, f7309, f1260, f4608, f7315, f4391, f4415, f621, f4488, f6533, f1803, f4078, f7307, f1476, f5308, f6448, f1443, f7165, f4393, f6089, f1393, f2725, f1160, f1617, f88, f7272, f6717, f1054, f2639, f5482, f448, f6178, f575, f4986, f5348, f1519, f2743, f6749, f3810, f5137, f3309, f3562, f5267, f2812, f2481, f2509, f4199, f4873, f407, f3156, f3422, f6579, f251, f7152, f7619, f1252, f5529, f817, f5673, f5534, f5605, f1410, f6682, f6175, f1173, f385, f3923, f2794, f1911, f343, f350, f2913, f2972, f4679, f5847, f187, f227, f7461, f7475, f2009, f5194, f3449, f691, f179, f2108, f751, f5782, f896, f6785, f1982, f3033, f1031, f5470, f3277, f6116, f7655, f2210, f716, f6462, f1854, f7097, f6378, f2834, f3619, f1781, f7184, f3285, f4899, f7239, f1353, f4056, f7564, f3986, f3120, f5875, f1858, f7565, f1375, f4467, f1439, f4019, f2828, f6814, f5715, f1116, f3064, f7524, f326, f3411, f2216, f4029, f1764, f2497, f3987, f5071, f208, f7587, f3871, f6612, f6455, f2923, f4501, f1200, f4021, f7146, f1545, f2433, f4339, f2990, f5465, f167, f7282, f1322, f2947, f5811, f5825, f4721, f309, f6260, f2558, f2822, f3122, f4266, f2795, f3733, f6588, f5737, f3190, f5114, f3681, f4591, f5070, f2911, f6876, f3504, f3620, f994, f1707, f237, f2992, f4712, f7391, f1820, f37, f7251, f3566, f3695, f4610, f1679, f7302, f47, f3251, f3528, f5758, f5867, f5827, f697, f4874, f4592, f1228, f700, f7509, f3886, f1022, f3326, f6111, f693, f4299, f1171, f305, f511, f612, f5151, f236, f4893, f4237, f1446, f2797, f4373, f6433, f7197, f4486, f116, f4296, f2800, f3056, f4338, f5959, f6347, f1899, f7438, f7069, f2903, f6271, f2050, f5686, f4923, f2282, f3005, f4317, f2595, f2855, f5701, f924, f276, f2940, f4257, f4276, f4957, f3545, f5842, f2206, f5117, f1048, f2688, f200, f3711, f3551, f4518, f1869, f2219, f1789, f4406, f5859, f5712, f3549, f2698, f199, f2439, f2502, f3927, f3590, f4658, f3237, f1049, f3773, f7614, f7497, f2385, f3799, f5612, f7584, f4368, f3794, f3012, f5610, f4663, f4771, f5509, f2862, f5294, f2770, f6998, f7283, f2571, f6852, f6468, f2722, f4121, f282, f4457, f6508, f2616, f3880, f1294, f2430, f1743, f6866, f3418, f1949, f2239, f2806, f1524, f7121, f4717, f3173, f5770, f5129, f5574, f133, f7011, f3024, f534, f4412, f7634, f1241, f3864, f2906, f3105, f4215, f3305, f1571, f3218, f6953, f7258, f6504, f231, f297, f1113, f5979, f3220, f3178, f4329, f6991, f3800, f3777, f4690, f6660, f3670, f1368, f6773, f4038, f28, f5166, f2585, f3669, f6965, f5943, f5287, f6674, f7354, f3434, f3613, f2732, f5438, f5692, f3067, f3340, f5390, f155, f6277, f1341, f6973, f4925, f4673, f2785, f5216, f4760, f1272, f6176, f4588, f6528, f6890, f7533, f2014, f6823, f6095, f6980, f2438, f3836, f3889, f2255, f4323, f461, f667, f1849, f4806, f5217, f6710, f876, f2028, f5862, f3561, f5630, f3224, f5262, f1261, f3791, f899, f5840, f3038, f3914, f392, f7141, f7048, f5340, f5938, f7031, f3082, f2354, f4424, f6364, f6964, f6490, f138, f5719, f3465, f4155, f5895, f1589, f3580, f1449, f3079, f5266, f2194, f908, f426, f6153, f6776, f7122, f3606, f6915, f5080, f1790, f1639, f1055, f1914, f2145, f7265, f4654, f43, f7222, f853, f7630, f1933, f1966, f421, f6037, f2443, f5912, f36, f3270, f2037, f3106, f6708, f604, f6370, f7288, f1980, f6056, f1072, f1264, f7463, f4192, f2263, f6236, f7138, f846, f2475, f2250, f3312, f1698, f2215, f3118, f4033, f4357, f6711, f515, f5793, f5784, f925, f6942, f6607, f4023, f2747, f603, f5029, f3222, f1216, f4849, f3574, f5391, f1564, f2101, f2684, f3119, f3134, f6154, f915, f6451, f466, f978, f4960, f205, f5624, f3466, f5185, f1842, f5973, f6247, f2483, f2196, f3507, f3399, f3647, f5210, f4302, f1628, f3539, f1915, f6563, f2852, f2540, f1385, f1573, f2479, f6200, f6480, f3477, f2477, f4253, f332, f5941, f2769, f7314, f2932, f7469, f7506, f5545, f5644, f5541, f6836, f7157, f238, f6525, f1206, f3997, f4668, f4871, f1715, f5250, f1728, f3661, f3345, f698, f702, f3968, f7571, f2602, f2278, f2531, f1067, f753, f1535, f4553, f5775, f7144, f1455, f1542, f323, f5242, f3714, f3687, f3081, f4070, f6882, f661, f5638, f83, f7597, f1845, f3947, f1801, f2858, f521, f833, f4570, f2528, f1475, f1196, f6901, f7452, f6597, f5338, f3883, f980, f4134, f296, f1189, f6716, f3594, f5148, f7108, f5820, f4195, f5405, f6202, f3814, f2328, f6174, f568, f7401, f536, f1247, f1821, f1009, f6575, f2205, f4752, f2836, f2300, f4458, f456, f31, f7065, f1605, f544, f352, f3324, f854, f161, f2629, f3183, f5448, f4077, f1768, f1147, f6621, f7346, f4148, f2565, f7177, f26, f2115, f5115, f961, f3332, f7219, f158, f1599, f6799, f2273, f2472, f7012, f1086, f2761, f7045, f3221, f7593, f3463, f1771, f4088, f3021, f5560, f4168, f6546, f4455, f3973, f4124, f3200, f756, f3236, f6436, f3730, f1900, f430, f3265, f1585, f2428, f7006, f2604, f2002, f2872, f4328, f7458, f5162, f38, f5370, f6365, f6912, f936, f2710, f2391, f1102, f1711, f5816, f2866, f5001, f3377, f3275, f6602, f3816, f7236, f3674, f5748, f1525, f5885, f2711, f3918, f6538, f3720, f6951, f3563, f4104, f6955, f7388, f1988, f1250, f442, f696, f1662, f4236, f1312, f3388, f641, f1143, f1296, f1403, f2223, f4395, f1864, f6166, f7350, f2929, f1175, f2709, f6959, f1242, f6331, f3618, f1546, f76, f3066, f2586, f4031, f2808, f5783, f7594, f2749, f4671, f6401, f5198, f5016, f3232, f2554, f6731, f7060, f3032, f7325, f856, f3158, f2266, f4624, f6063, f5942, f4041, f7216, f3454, f7659, f4061, f2297, f3557, f2603, f1347, f3911, f1691, f4117, f5436, f4159, f1503, f5982, f4074, f4473, f1998, f3517, f2174, f4547, f5430, f1930, f3077, f913, f3216, f1674, f5007, f2677, f1424, f1975, f2620, f1759, f6721, f7327, f7281, f5583, f1389, f6262, f3204, f3431, f2750, f1397, f6896, f548, f306, f4193, f605, f6192, f2786, f5494, f1131, f5453, f1204, f2412, f1541, f1012, f1897, f3076, f3367, f5893, f2301, f7271, f4325, f608, f3690, f946, f5311, f6873, f2357, f1799, f7095, f1533, f5165, f1859, f266, f2864, f5272, f3276, f5535, f5623, f1304, f139, f1936, f5772, f7432, f5085, f2896, f5854, f7071, f6350, f3289, f1927, f5852, f3281, f2133, f4233, f3763, f2764, f4094, f533, f5548, f1047, f2362, f1890, f2152, f4711, f2307, f6067, f6372, f2720, f2559, f4322, f2773, f1905, f6080, f2444, f1649, f7455, f440, f190, f7654, f4084, f6354, f5040, f7260, f3480, f6374, f3640, f1686, f559, f837, f5141, f3253, f6635, f7361, f4762, f5442, f894, f202, f1484, f4116, f3897, f4824, f7225, f6329, f4231, f6475, f5343, f4816, f5626, f3211, f2482, f5749, f7449, f3683, f4318, f3352, f5181, f5279, f767, f955, f5459, f123, f7413, f2166, f4175, f476, f5517, f509, f3179, f4093, f1197, f1994, f243, f1263, f2950, f7669, f3175, f3992, f6423, f4641, f6704, f2098, f6134, f6779, f5326, f6509, f6805, f5836, f5186, f111, f3659, f1125, f2025, f4131, f295, f2556, f45, f5934, f4800, f2902, f1335, f7085, f3331, f4203, f5872, f6678, f315, f5355, f4916, f5558, f7530, f564, f7118, f2826, f662, f2532, f1069, f3259, f2575, f3834, f7636, f3455, f3591, f984, f329, f2745, f7450, f2557, f6417, f7478, f319, f3264, f4584, f1836, f2248, f1928, f3846, f4990, f3409, f4513, f3785, f5905, f2480, f7519, f1765, f5724, f4786, f3144, f484, f1959, f2100, f6592, f4306, f4647, f5798, f6084, f1416, f7651, f3812, f6572, f1248, f7128, f6645, f577, f2846, f5207, f321, f6996, f3469, f864, f1052, f97, f2948, f5373, f728, f1016, f4993, f5552, f792, f5492, f3308, f2626, f3442, f644, f860, f5383, f4269, f272, f2287, f5096, f3820, f3208, f4694, f5647, f1006, f6838, f3165, f6261, f5606, f6900, f1700, f1926, f6600, f2123, f6257, f5615, f4659, f5094, f265, f3969, f1719, f6179, f2613, f4232, f6639, f935, f5944, f5154, f5290, f1568, f3879, f1902, f3538, f5805, f2178, f1137, f2632, f3703, f1155, f2285, f1895, f4243, f5559, f6019, f7625, f3623, f3004, f1837, f212, f4747, f5015, f1692, f394, f286, f5212, f7306, f3022, f2498, f3358, f5012, f3313, f2254, f6270, f1839, f2783, f4461, f964, f585, f2541, f1672, f6631, f3913, f2104, f673, f3130, f3875, f5286, f5819, f6574, f1039, f5276, f7036, f2609, f5696, f2118, f5801, f2162, f5258, f6014, f491, f3393, f5743, f3954, f1714, f5418, f6240, f5489, f3508, f5883, f4184, f174, f2686, f6670, f4995, f4194, f5665, f5609, f842, f1551, f5264, f4972, f381, f5155, f3363, f288, f3459, f6893, f2169, f5591, f2372, f1846, f2249, f2321, f5021, f3495, f3161, f6706, f6888, f3956, f3556, f2164, f406, f4742, f5818, f3817, f3660, f950, f7171, f1451, f4907, f5452, f7186, f4638, f6987, f7588, f2382, f2087, f307, f3392, f5564, f6415, f4724, f1852, f3981, f4590, f7158, f328, f3856, f3709, f7515, f2252, f4037, f6777, f1537, f7525, f1909, f1973, f5140, f4249, f6629, f1499, f7487, f5358, f5567, f3384, f3054, f5876, f6496, f5305, f1187, f4139, f6885, f334, f7244, f695, f3775, f2403, f5178, f7094, f7107, f4730, f4143, f2389, f5078, f113, f7358, f7610, f1099, f6868, f3685, f6527, f4510, f361, f878, f4594, f7386, f3496, f1549, f2976, f3601, f3542, f1954, f1236, f528, f5069, f2517, f4661, f2641, f2588, f1611, f4736, f6059, f2876, f4917, f2655, f7466, f3894, f1886, f1184, f2090, f4637, f6542, f2927, f6326, f1342, f3494, f680, f1163, f5313, f2270, f2910, f2954, f4894, f1641, f5199, f4196, f5424, f1941, f3535, f6739, f7379, f1507, f5473, f3464, f4656, f4058, f267, f1481, f7104, f5427, f3417, f2696, f7004, f2258, f3062, f4961, f5631, f4242, f6090, f4218, f1708, f7644, f2918, f732, f1898, f5031, f2979, f2712, f5645, f2069, f2644, f4929, f963, f4778, f5967, f6377, f4429, f1601, f3003, f6650, f6180, f3266, f7560, f3826, f3898, f3608, f4267, f744, f5175, f4897, f4119, f6304, f6101, f44, f6457, f1684, f2663, f2949, f2850, f6984, f3141, f617, f2264, f7335, f1274, f3028, f1129, f5045, f6214, f7667, f7116, f6380, f6512, f5385, f376, f3226, f5107, f566, f710, f7323, f3688, f444, f4741, f1465, f5310, f2128, f304, f3686, f1202, f1433, f5649, f2019, f3060, f1075, f1042, f3575, f6680, f1199, f1923, f1110, f6932, f3525, f1740, f1788, f6713, f1609, f1205, f6045, f2339, f4122, f7218, f2310, f2598, f1556, f5467, f1445, f3327, f6524, f1623, f3789, f2793, f2065, f7423, f7087, f4142, f3292, f2431, f1739, f4585, f7529, f2046, f2673, f2600, f4262, f7134, f7016, f3338, f5636, f5778, f3073, f6472, f6808, f1730, f4298, f4966, f4127, f4018, f6026, f989, f131, f2857, f3147, f3162, f7017, f930, f2592, f1773, f5292, f3046, f518, f6924, f3804, f2627, f6848, f7599, f3860, f3787, f6654, f5788, f1473, f2175, f2367, f5824, f4201, f6392, f3487, f2520, f5381, f1595, f3589, f589, f5324, f3274, f403, f910, f1203, f3854, f6732, f933, f3085, f2374, f554, f1910, f1772, f4076, f6880, f598, f5454, f2221, f3374, f4006, f3742, f7512, f464, f6969, f954, f2658, f5046, f2705, f1021, f2318, f2023, f5537, f166, f819, f1652, f3214, f3569, f3435, f6615, f5697, f2121, f6330, f6361, f6637, f1331, f2638, f4599, f2871, f3993, f1413, f2269, f519, f4580, f4898, f4723, f6864, f7032, f5417, f5735, f3712, f7190, f3039, f6217, f5555, f7058, f2730, f843, f1492, f3870, f3492, f4431, f4482, f3778, f50, f2167, f6782, f289, f7237, f619, f3994, f4922, f1411, f1937, f7355, f3035, f1282, f7203, f1990, f4918, f2984, f7471, f7589, f3225, f594, f379, f5661, f3793, f839, f1863, f1223, f3457, f2298, f3298, f3830, f6534, f768, f6314, f4635, f1268, f6266, f1427, f3706, f4255, f1663, f6583, f2661, f5871, f1387, f2941, f4971, f7033, f1754, f3847, f3114, f7083, f4564, f3042, f7456, f4683, f884, f6000, f5173, f5147, f851, f7447, f3520, f6858, f583, f4528, f5608, f4725, f844, f1971, f5504, f5042, f3402, f66, f3013, f4313, f4369, f6580, f7390, f1776, f7539, f6793, f5850, f7162, f4206, f7476, f4530, f6442, f4569, f584, f4378, f2792, f312, f3868, f1383, f4888, f1045, f2184, f4687, f4106, f7176, f1829, f5674, f3395, f2350, f2453, f6086, f1709, f2031, f1807, f2170, f4913, f1083, f2687, f4239, f5815, f349, f3447, f4911, f7663, f1775, f7198, f4400, f7485, f1607, f5084, f2887, f1169, f4718, f5522, f7661, f1957, f4881, f7300, f7646, f419, f592, f4832, f4772, f5675, f4465, f5189, f6305, f7047, f6895, f5864, f5896, f1538, f193, f2736, f7364, f6352, f4057, f7372, f7051, f3509, f7637, f5346, f3716, f993, f2088, f811, f1997, f1279, f7242, f4745, f784, f5049, f7021, f4475, f4889, f5857, f1454, f3126, f5176, f2513, f1011, f1774, f3034, f3821, f960, f2487, f3195, f1490, f1313, f7479, f3437, f5620, f127, f4067, f1240, f2630, f5068, f7115, f3108, f6009, f1875, f454, f1074, f2225, f4154, f3080, f3461, f2814, f5684, f197, f490, f7052, f126, f2462, f6995, f1369, f6157, f5464, f1906, f229, f1889, f4538, f3884, f6541, f3396, f4080, f1562, f6104, f7451, f1096, f2782, f5221, f4682, f1851, f3075, f4733, f4558, f1360, f7233, f6124, f6692, f7280, f3824, f2723, f4435, f7027, f1942, f3942, f3382, f4805, f4807, f4096, f2503, f3360, f2361, f2702, f2667, f1118, f1543, f760, f5600, f2012, f2545, f3677, f5093, f3478, f4381, f7402, f6926, f2867, f3605, f292, f623, f4128, f101, f4321, f5869, f2778, f6788, f6107, f2637, f6144, f2874, f1185, f1246, f609, f1117, f5432, f1384, f4100, f3675, f958, f6325, f7666, f4857, f2518, f5428, f6879, f5297, f6887, f874, f5954, f3983, f4502, f2414, f2473, f6438, f3333, f344, f2052, f2447, f3801, f3842, f7274, f2839, f4784, f3610, f1696, f5814, f2257, f4699, f2455, f52, f2567, f5009, f1683, f2111, f4804, f6586, f482, f7429, f6366, f7483, f3637, f1150, f4536, f6198, f5315, f6233, f2056, f7179, f6530, f5257, f7576, f1722, f2983, f5619, f4208, f5215, f5536, f6235, f6478, f5531, f2470, f3877, f6391, f6465, f1612, f3641, f2647, f1682, f3191, f7106, f7317, f6935, f1028, f2454, f5786, f4049, f1354, f2968, f4750, f373, f887, f1289, f4595, f1061, f3961, f6251, f6587, f5347, f1665, f311, f4351, f3124, f3639, f3823, f6385, f7368, f2232, f269, f7445, f1812, f4230, f5998, f7631, f5714, f5693, f1315, f2380, f618, f2507, f2105, f3045, f4844, f180, f6691, f2020, f6020, f7523, f2715, f3548, f4890, f7419, f6467, f3354, f2511, f2907, f3896, f1660, f1273, f3798, f4390, f2461, f7284, f1396, f7540, f3652, f6322, f549, f6643, f7591, f1198, f7147, f6854, f2327, f815, f5182, f6770, f2762, f2499, f4994, f4087, f6298, f6699, f1996, f3890, f89, f1345, f7442, f7604, f2422, f2754, f4813, f51, f7098, f2151, f3473, f1103, f2211, f2977, f4090, f2662, f2650, f5251, f6613, f7338, f422, f2581, f4693, f4722, f6540, f4593, f4324, f7526, f3653, f6514, f6141, f6898, f96, f4436, f7520, f79, f2883, f2113, f6119, f5004, f2741, f5746, f3136, f4777, f337, f6705, f7370, f724, f1362, f4098, f1215, f3878, f1810, f5965, f1963, f2843, f6658, f4295, f7151, f7331, f7414, f5277, f6552, f1235, f2315, f7278, f967, f7444, f5146, f2774, f1534, f107, f7556, f4017, f3900, f2103, f148, f750, f5654, f711, f5641, f3419, f2693, f7557, f1505, f6725, f725, f4326, f3172, f3432, f4919, f501, f4831, f1687, f4289, f3011, f5487, f3759, f7188, f5585, f5637, f1035, f6282, f1678, f4514, f6513, f540, f1676, f6197, f226, f7227, f1132, f2330, f5882, f859, f2765, f463, f3828, f7406, f201, f3168, f6158, f687, f1522, f5203, f438, f4350, f1494, f5102, f660, f547, f5909, f4227, f5695, f1872, f6334, f6578, f6382, f6250, f3732, f2849, f666, f699, f2489, f5960, f1219, f5357, f5563, f7172, f3541, f2137, f1892, f3578, f4141, f6624, f3752, f1041, f2583, f333, f5047, f7322, f6988, f54, f105, f2821, f5254, f4050, f5246, f3636, f795, f347, f2398, f5479, f6375, f7018, f6321, f6064, f5924, f627, f4902, f3891, f428, f5596, f6421, f3736, f4867, f6028, f3704, f1285, f2424, f4003, f4790, f7541, f7527, f1157, f6333, f5846, f2410, f3949, f1552, f2574, f1795, f5191, f5131, f6718, f6435, f6287, f1356, f3592, f3809, f4864, f620, f4375, f7579, f3668, f6651, f7639, f2695, f1828, f4454, f1291, f458, f2964, f22, f861, f2838, f2068, f2991, f7378, f3115, f5450, f5994, f2879, f1366, f3157, f799, f6156, f3415, f6833, f3444, f3533, f5234, f4909, f7578, f3874, f1056, f7127, f5466, f7624, f4876, f6283, f3667, f6829, f4799, f2548, f3346, f5917, f3184, f7400, f4330, f7583, f3770, f5927, f5484, f6184, f3051, f2116, f4604, f1498, f3420, f6061, f4089, f7202, f642, f1835, f2176, f5091, f4045, f2868, f1614, f2553, f7333, f1569, f2533, f720, f6787, f4327, f4366, f7626, f1881, f6498, f825, f4160, f4565, f2562, f5897, f5159, f1766, f5678, f5218, f3036, f640, f2379, f1343, f3831, f3092, f1747, f6516, f4202, f6483, f4516, f2172, f5193, f4903, f3090, f3378, f3171, f431, f4869, f4371, f997, f7356, f386, f7303, f6649, f6210, f539, f6205, f4670, f6515, f1580, f759, f7513, f3334, f6255, f5317, f5709, f1515, f7575, f4812, f137, f794, f2508, f5930, f1308, f5744, f6916, f6386, f398, f2568, f4125, f4234, f6414, f6355, f5853, f7231, f3906, f2672, f6348, f5578, f1713, f7214, f7349, f2619, f4503, f6798, f1861, f340, f934, f4487, f3471, f4870, f196, f1798, f1192, f3230, f902, f6681, f5172, f1478, f6168, f1813, f4452, f2079, f2186, f7617, f2853, f486, f3404, f5987, f4364, f6869, f4636, f7193, f4958, f4166, f616, f4468, f4843, f898, f6070, f5526, f5576, f5463, f2645, f3924, f1668, f7628, f5491, f7173, f5976, f1763, f3960, f6771, f2311, f656, f2904, f3349, f809, f198, f576, f258, f4336, f1093, f3584, f1013, f4379, f2348, f5662, f4681, f713, f2552, f2387, f7514, f5975, f810, f7647, f1051, f4567, f3215, f6851, f5984, f3019, f6183, f5685, f7320, f7500, f3762, f719, f6695, f3665, f6765, f748, f2124, f6834, f6327, f6813, f3529, f3413, f1597, f808, f4915, f3625, f7310, f1717, f1357, f3319, f5760, f505, f6489, f7620, f1381, f3009, f3926, f622, f151, f3717, f6486, f4187, f3149, f4533, f5291, f5659, f1303, f1108, f5414, f1178, f2560, f2951, f3904, f5904, f3213, f4048, f7182, f1115, f6274, f5755, f7495, f6800, f6379, f3205, f7441, f5687, f2601, f5278, f3058, f7096, f4214, f170, f496, f2286, f6502, f2657, f1581, f6499, f7592, f371, f125, f5249, f6719, f7383, f5022, f6806, f7365, f530, f3462, f1991, f1985, f5005, f1352, f3998, f6519, f4934, f1648, f4284, f4398, f6648, f3530, f6663, f5423, f5891, f5539, f136, f4525, f7652, f2920, f427, f6173, f2181, f4523, f6790, f2886, f5037, f5986, f6786, f4734, f5447, f4597, f2153, f3676, f3631, f5379, f2423, f3922, f1181, f1613, f77, f5106, f3837, f4818, f7132, f6594, f6160, f7217, f6835, f1136, f6041, f1610, f6356, f5569, f3951, f512, f850, f6795, f3282, f6249, f4320, f6434, f4456, f4576, f64, f5462, f3131, f4648, f4666, f7199, f150, f5543, f6874, f4039, f2185, f214, f4531, f6781, f2758, f4976, f6238, f971, f6376, f3386, f823, f6130, f4633, f1964, f1967, f2908, f6758, f5243, f2878, f5169, f4172, f5653, f2717, f5993, f4766, f4652, f6479, f294, f2375, f3781, f4414, f1673, f807, f4933, f6853, f2432, f7648, f4629, f5058, f95, f1349, f316, f232, f2840, f683, f2061, f2078, f5711, f6507, f2204, f6397, f5439, f3152, f7473, f417, f3069, f7502, f2660, f6982, f2363, f2573, f5747, f7516, f905, f4481, f1969, f4497, f6293, f6115, f1945, f628, f6170, f1882, f7264, f5323, f977, f1288, f2179, f4672, f3310, f1405, f1377, f5621, f1414, f1065, f2824, f7223, f4964, f5948, f7600, f6751, f5011, f246, f3761, f3176, f2529, f3481, f4413, f6911, f3656, f6620, f3976, f4181, f4765, f5384, f1077, f4856, f1191, f1177, f2095, f2195, f7155, f6735, f7238, f5511, f6396, f5440, f4572, f6582, f4884, f1207, f1510, f3849, f7070, f1008, f2396, f5003, f4246, f3745, f2549, f3602, f5731, f58, f4840, f1965, f4191, f4032, f3061, f4660, f7063, f2512, f1003, f3098, f891, f6974, f1718, f6258, f82, f3020, f927, f741, f2648, f5307, f708, f6789, f5230, f6398, f3513, f6013, f5282, f1193, f7467, f7002, f3758, f3611, f4953, f2338, f5136, f6634, f653, f2830, f2132, f6470, f1974, f3786, f4774, f4348, f706, f4796, f5884, f4789, f6161, f1060, f7410, f7286, f3127, f2791, f5360, f7590, f6093, f2937, f6428, f3272, f692, f926, f7488, f563, f84, f1760, f2294, f4705, f1922, f643, f2150, f1214, f7201, f2615, f7462, f558, f4213, f7088, f3833, f6832, f6891, f2290, f1496, f7360, f1245, f5848, f6949, f6551, f7029, f6456, f2055, f6839, f7403, f2200, f2393, f235, f4149, f7611, f7313, f6429, f4263, f565, f4959, f6568, f3604, f4005, f5397, f4036, f1380, f2716, f7022, f3299, f2082, f1811, f1622, f847, f5868, f6862, f2451, f178, f4837, f6667, f471, f2093, f6756, f590, f4423, f6556, f6123, f5352, f2739, f2220, f7561, f5027, f5252, f1111, f690, f6641, f2877, f5325, f3582, f5995, f6189, f341, f7399, f907, f3970, f4389, f1699, f6920, f7123, f3446, f2091, f6419, f181, f5164, f7078, f3091, f1792, f3843, f5990, f6315, f3245, f441, f3622, f6726, f3433, f1302, f7570, f6301, f157, f6644, f90, f745, f918, f5690, f5946, f6017, f804, f7499, f423, f4542, f3988, f2542, f2881, f4763, f6190, f904, f3359, f4315, f5318, f6816, f2165, f2729, f2551, f3853, f7367, f6623, f5461, f7256, f2378, f2136, f6094, f1262, f6693, f6254, f4301, f6088, f7582, f2798, f6549, f215, f5713, f6441, f73, f4941, f5499, f262, f4183, f7005, f6387, f4936, f6223, f7398, f1034, f6736, f4282, f3795, f6810, f182, f7550, f2135, f663, f4879, f7055, f7111, f1015, f1364, f233, f4283, f4278, f5404, f6148, f921, f393, f1082, f4756, f4982, f6543, f3966, f5293, f5657, f1956, f5812, f6562, f4944, f3726, f5072, f7159, f5188, f7050, f1856, f5314, f134, f1071, f6040, f3498, f3588, f2935, f7261, f6078, f6963, f4573, f970, f6596, f1513, f2062, f4969, f1292, f6092, f4835, f1565, f2523, f2860, f6310, f5921, f6559, f1195, f3852, f2823, f6319, f7555, f3721, f7114, f4430, f6243, f7385, f5319, f5386, f5135, f154, f5076, f4433, f7129, f4499, f5940, f6083, f6796, f782, f2521, f1145, f1960, f4552, f5098, f7640, f6281, f114, f4145, f1840, f5729, f4186, f3543, f3403, f6043, f593, f204, f2809, f551, f6561, f3238, f2159, f6647, f7092, f5761, f3154, f6675, f1506, f6769, f4310, f4200, f87, f1121, f1297, f2787, f7375, f465, f3553, f4063, f1010, f3908, f7332, f1334, f1135, f4526, f2759, f6657, f2038, f3304, f1509, f601, f1548, f5180, f914, f7232, f5949, f2238, f7382, f6303, f4264, f317, f4367, f4177, f3155, f6972, f260, f6324, f578, f2089, f7187, f957, f6707, f1904, f6273, f3348, f3375, f4931, f248, f1744, f1894, f1742, f4352, f747, f2160, f7572, f4524, f6544, f1806, f3490, f5190, f7371, f6082, f3293, f7149, f1014, f1244, f1703, f4540, f4956, f4932, f1783, f1670, f597, f2187, f1172, f3167, f7082, f112, f5142, f6185, f2537, f4480, f1084, f2999, f7618, f1076, f7125, f1860, f225, f4489, f1588, f5900, f6342, f5067, f4685, f383, f6978, f3765, f940, f3766, f3187, f624, f6844, f3724, f3002, f6132, f6772, f7650, f6847, f6248, f4582, f4097, f7183, f6138, f194, f278, f1924, f3057, f7160, f867, f3262, f3163, f280, f2180, f2092, f3719, f3771, f514, f3503, f4529, f391, f529, f1825, f6418, f3819, f2340, f4439, f985, f1896, f7292, f6812, f3616, f2919, f210, f1756, f3300, f4138, f6931, f2077, f4546, f1311, f4401, f4358, f270, f7150, f2974, f5910, f3655, f5144, f1482, f2283, f7665, f1447, f991, f3376, f7535, f2997, f7099, f34, f7301, f4788, f2985, f5802, f5688, f2452, f4380, f7566, f4332, f3597, f2416, f2344, f4627, f3540, f5038, f7043, f4942, f6069, f2142, f4921, f6754, f7606, f6819, f6599, f7089, f830, f6521, f6395, f6653, f1401, f2679, f62, f5527, f1741, f758, f3867, f4189, f1884, f2901, f1572, f4703, f5625, f4091, f5227, f2201, f3031, f3748, f2526, f7421, f4798, f3316, f3727, f1704, f2279, f6482, f2699, f6100, f7353, f1382, f3957, f5030, f336, f3672, f98, f7381, f5562, f5594, f7649, f4563, f5622, f6665, f172, f5646, f6476, f5328, f581, f4209, f5970, f2429, f4625, f773, f1419, f3361, f824, f2921, f5366, f2080, f3967, f152, f5691, f160, f5607, f5239, f164, f1489, f5099, f382, f389, f4113, f5408, f723, f1978, f4999, f6709, f4817, f6566, f4494, f2767, f5051, f3303, f4372, f7658, f4347, f4270, f4362, f2163, f2134, f5813, f7049, f1769, f1808, f4478, f2925, f2243, f5394, f3779, f4254, f4795, f3560, f2377, f2445, f2235, f3567, f3985, f1826, f2015, f7038, f2584, f4781, f707, f2649, f3805, f5757, f4169, f7161, f5589, f3953, f1650, f2631, f5617, f3865, f4504, f4360, f7257, f6332, f3564, f798, f4229, f1317, f6120, f5604, f1724, f1917, f4578, f1862, f996, f228, f6703, f85, f1690, f2006, f6085, f5572, f3142, f4566, f338, f3772, f6652, f1046, f241, f543, f1114, f2199, f5618, f1367, f880, f6171, f4308, f6997, f761, f4493, f449, f7294, f3651, f3881, f7105, f3581, f2000, f3579, f2682, f701, f3910, f7268, f886, f2476, f3373, f5376, f1561, f1618, f273, f1351, f3044, f4205, f780, f6232, f1153, f5553, f4697, f5223, f2680, f1314, f4095, f916, f7568, f2870, f6820, f1553, f5725, f357, f754, f3577, f325, f3199, f3634, f4978, f7633, f7343, f2966, f6584, f115, f1390, f2527, f1156, f7008, f3302, f2227, f3876, f256, f3189, f4979, f447, f1502, f5698, f3571, f5874, f2021, f5789, f3848, f5053, f6075, f5050, f4151, f2057, f7009, f6252, f5870, f7298, f2359, f6554, f4287, f4507, f1081, f6655, f4928, f7145, f3514, f5095, f4180, f4646, f5415, f1471, f1681, f6842, f4485, f3488, f3323, f7542, f4496, f29, f453, f2406, f3132, f4954, f1140, f3365, f5416, f4356, f7457, f6762, f1395, f5471, f5054, f4634, f1758, f3474, f5808, f2543, f5856, f1658, f2580, f1005, f5143, f3999, f832, f175, f2646, f5953, f5422, f1299, f7496, f462, f1120, f3287, f6162, f1919, f4900, f375, f973, f3643, f4601, f6213, f6990, f6954, f4120, f5525, f2928, f3244, f219, f5403, f610, f3646, f1608, f6118, f6611, f6636, f4859, f4809, f4294, f4935, f6407, f3934, f7492, f3410, f498, f5398, f3861, f2544, f3456, f4631, f7369, f2833, f2493, f4418, f7250, f3532, f2383, f6081, f3016, f3279, f5476, f857, f5611, f943, f4613, f2303, f6571, f2466, f5800, f6724, f5682, f4695, f7207, f162, f68, f7103, f1164, f2978, f7493, f2346, f629, f3254, f7436, f6049, f6983, f6977, f7220, f5901, f2262, f4279, f7501, f1266, f777, f6531, f942, f1816, f5426, f367, f1557, f2643, f7510, f177, f1095, f3901, f4055, f4886, f5023, f6393, f2539, f5128, f7486, f7112, f1281, f1968, f4515, f5703, f4126, f4834, f6702, f4949, f635, f5425, f5006, f5265, f3357, f397, f4382, f5184, f550, f5656, f206, f4204, f1158, f6358, f6743, f6922, f7057, f140, f5437, f3958, f1603, f1070, f2171, f5565, f2916, f7041, f5821, f6464, f7324, f3288, f5100, f1363, f3989, f5472, f4906, f5968, f4727, f5474, f2505, f7607, f5865, f793, f5402, f953, f6188, f1824, f5197, f3829, f6152, f4463, f2994, f2859, f5407, f5445, f6555, f1598, f3362, f189, f5057, f5024, f3872, f7293, f1563, f3595, f3438, f3116, f63, f6694, f5158, f7645, f6127, f2292, f5919, f1256, f3740, f3666, f2198, f5412, f5906, f7296, f1819, f5790, f900, f1831, f1133, f1625, f3715, f411, f2623, f3317, f5561, f4471, f6903, f3443, f7321, f911, f2577, f3441, f2494, f2957, f3025, f4643, f556, f7505, f7668, f5120, f3862, f6182, f5351, f7664, f4207, f3859, f1972, f4453, f6284, f3258, f4970, f4895, f6294, f345, f4855, f5956, f7253, f7446, f3227, f5911, f1520, f6285, f4140, f5149, f1606, f4448, f1579, f1452, f7167, f1149, f3193, f5209, f5332, f7437, f4219, f3370, f7255, f6030, f7285, f6403, f6473, f5925, f513, f4152, f3505, f2342, f5952, f2125, f2777, f3747, f7040, f5284, f2458, f7100, f7077, f5233, f1871, f1669, f6351, f49, f2689, f682, f7194, f2139, f5751, f1151, f467, f5538, f5822, f2965, f5369, f2316, f6745, f4830, f3151, f6687, f59, f71, f1677, f6548, f4028, f6155, f6383, f46, f5515, f5601, f2010, f1555, f6625, f525, f3086, f2355, f460, f3379, f2799, f35, f4307, f1480, f2624, f5796, f705, f147, f5400, f7613, f3100, f3822, f2066, f3642, f4787, f6007, f3501, f2835, f1646, f3952, f1830, f3835, f6727, f7577, f923, f646, f6318, f5342, f1530, f2582, f1946, f4397, f6033, f4422, f868, f176, f5356, f142, f5554, f5880, f7113, f2975, f1123, f1233, f439, f4466, f2825, f252, f353, f2212, f3074, f1043, f4938, f2022, f216, f6323, f2775, f6204, f3725, f1907, f649, f1221, f7538, f1947, f6537, f4642, f5228, f4156, f5734, f5116, f5706, f6399, f2701, f4611, f53, f4167, f545, f7299, f3946, f6608, f5156, f492, f2237, f6619, f2685, f2096, f3705, f4998, f1817, f919, f1231, f1778, f2130, f962, f5699, f6804, f802, f822, f2417, f1227, f7408, f4819, f250, f6307, f1186, f6469, f5629, f1726, f1441, f5066, f3893, f5118, f5081, f4823, f7376, f959, f3792, f4997, f5628, f5779, f4737, f2392, f7101, f1229, f2276, f1868, f4574, f580, f3743, f369, f1762, f1305, f4059, f3063, f3614, f5667, f6074, f4469, f4920, f4853, f3502, f7653, f1326, f763, f5132, f1590, f5663, f828, f5753, f2029, f6008, f1166, f5508, f4153, f3330, f4910, f5336, f3964, f3857, f1038, f7209, f4464, f3112, f120, f2905, f4865, f582, f4022, f5728, f211, f1944, f3938, f848, f6012, f5036, f1379, f972, f2008, f3909, f4171, f5521, f6792, f654, f477, f4025, f4007, f1526, f541, f6567, f2322, f1373, f5898, f396, f2351, f5873, f6292, f2051, f222, f4411, f6416, f78, f5831, f135, f1429, f4442, f6105, f2534, f4008, f733, f2306, f1174, f128, f3497, f2652, f5321, f4678, f2027, f1027, f3078, f3902, f3006, f2228, f4537, f2888, f2724, f7143, f670, f6638, f7580, f855, f2376, f4622, f4780, f715, f588, f1912, f2334, f2621, f5097, f474, f1461, f4581, f3943, f7494, f366, f56, f3628, f674, f6668, f3143, f5582, f5727, f1300, f3907, f3850, f2633, f2675, f5720, f6700, f1398, f1434, f4535, f6317, f3731, f4775, f1467, f3336, f742, f6491, f2369, f3164, f2671, f5226, f2665, f5378, f803, f4346, f192, f5133, f5742, f2988, f1876, f5777, f365, f1827, f4268, f5923, f5306, f3568, f5002, f5754, f483, f2654, f6203, f94, f342, f4914, f21, f2320, f3040, f24, f2501, f6921, f737, f255, f4449, f1208, f3041, f3780, f6495, f5359, f6353, f4162, f5485, f858, f5860, f4407, f3015, f1220, f1023, f607, f184, f6917, f4293, f6241, f7598, f3544, f1921, f4002, f1794, f5524, f433, f4353, f6925, f4065, f2426, f893, f6897, f5533, f3657, f4506, f3882, f2253, f1330, f1493, f5736, f6245, f5483, f5832, f1644, f4225, f5887, f968, f3818, f836, f2016, f7563, f6221, f1361, f2457, f5506, f4291, f5231, f1420, f153, f1780, f5387, f928, f4589, f734, f6981, f7007, f6801, f5052, f7480, f5033, f2293, f2597, f6209, f875, f730, f6794, f7079, f364, f4030, f1977, f2064, f4815, f4575, f5160, f330, f1893, f3087, f2841, f4860, f5510, f4434, f2572, f1464, f5125, f1953, f650, f5283, f2084, f5794, f5441, f3182, f468, f5289, f3335, f4129, f988, f2790, f5327, f1809, f1656, f931, f2845, f6139, f3129, f4882, f4926, f3342, f3414, f7328, f4256, f3339, f3104, f3000, f3609, f6626, f4370, f81, f7384, f4085, f2017, f1554, f2801, f4258, f6565, f2275, f4527, f4836, f5676, f6276, f2193, f5969, f1265, f1073, f7602, f2324, f2980, f5089, f6106, f5039, f2959, f613, f599, f6640, f5240, f4064, f5377, f740, f1948, f4714, f3499, f3500, f4334, f779, f7417, f749, f6226, f7464, f1146, f5945, f1063, f5170, f6016, f6837, f475, f3632, f7269, f5833, f277, f5660, f1952, f4240, f6856, f3546, f6957, f2281, f3135, f1634, f721, f7347, f6811, f7345, f6676, f4068, f6018, f1627, f6003, f6487, f2154, f3939, f1253, f4220, f3840, f5590, f7073, f405, f1100, f1987, f2189, f2168, f4669, f4955, f1857, f2697, f1277, f6576, f7247, f3887, f6422, f6159, f6518, f3753, f118, f626, f6368, f7551, f2034, f5863, f6146, f3153, f6149, f1757, f3093, f1327, f4108, f1460, f30, f4343, f7054, f1386, f4615, f5237, f6818, f2614, f952, f4782, f4862, f284, f6484, f3617, f6212, f1631, f1559, f3803, f2345, f1432, f2651, f3585, f2222, f1450, f3576, f668, f4010, f5496, f100, f6222, f5745, f3321, f866, f3405, f5498, f6861, f4545, f1176, f726, f3210, f5419, f1179, f1833, f755, f709, f5222, f703, f3239, f7318, f4783, f2141, f5765, f2161, f975, f4261, f4962, f7067, f5235, f3425",
     "output_type": "error",
     "traceback": [
      "\u001b[1;31m---------------------------------------------------------------------------\u001b[0m",
      "\u001b[1;31mValueError\u001b[0m                                Traceback (most recent call last)",
      "\u001b[1;32m<ipython-input-63-069319fd1466>\u001b[0m in \u001b[0;36m<module>\u001b[1;34m\u001b[0m\n\u001b[1;32m----> 1\u001b[1;33m \u001b[0my_pred\u001b[0m\u001b[1;33m=\u001b[0m\u001b[0mregressor\u001b[0m\u001b[1;33m.\u001b[0m\u001b[0mpredict\u001b[0m\u001b[1;33m(\u001b[0m\u001b[0my_train\u001b[0m\u001b[1;33m)\u001b[0m\u001b[1;33m\u001b[0m\u001b[1;33m\u001b[0m\u001b[0m\n\u001b[0m",
      "\u001b[1;32m~\\anaconda3\\envs\\project\\lib\\site-packages\\xgboost\\sklearn.py\u001b[0m in \u001b[0;36mpredict\u001b[1;34m(self, data, output_margin, ntree_limit, validate_features, base_margin)\u001b[0m\n\u001b[0;32m    598\u001b[0m                                           \u001b[0moutput_margin\u001b[0m\u001b[1;33m=\u001b[0m\u001b[0moutput_margin\u001b[0m\u001b[1;33m,\u001b[0m\u001b[1;33m\u001b[0m\u001b[1;33m\u001b[0m\u001b[0m\n\u001b[0;32m    599\u001b[0m                                           \u001b[0mntree_limit\u001b[0m\u001b[1;33m=\u001b[0m\u001b[0mntree_limit\u001b[0m\u001b[1;33m,\u001b[0m\u001b[1;33m\u001b[0m\u001b[1;33m\u001b[0m\u001b[0m\n\u001b[1;32m--> 600\u001b[1;33m                                           validate_features=validate_features)\n\u001b[0m\u001b[0;32m    601\u001b[0m \u001b[1;33m\u001b[0m\u001b[0m\n\u001b[0;32m    602\u001b[0m     \u001b[1;32mdef\u001b[0m \u001b[0mapply\u001b[0m\u001b[1;33m(\u001b[0m\u001b[0mself\u001b[0m\u001b[1;33m,\u001b[0m \u001b[0mX\u001b[0m\u001b[1;33m,\u001b[0m \u001b[0mntree_limit\u001b[0m\u001b[1;33m=\u001b[0m\u001b[1;36m0\u001b[0m\u001b[1;33m)\u001b[0m\u001b[1;33m:\u001b[0m\u001b[1;33m\u001b[0m\u001b[1;33m\u001b[0m\u001b[0m\n",
      "\u001b[1;32m~\\anaconda3\\envs\\project\\lib\\site-packages\\xgboost\\core.py\u001b[0m in \u001b[0;36mpredict\u001b[1;34m(self, data, output_margin, ntree_limit, pred_leaf, pred_contribs, approx_contribs, pred_interactions, validate_features, training)\u001b[0m\n\u001b[0;32m   1569\u001b[0m \u001b[1;33m\u001b[0m\u001b[0m\n\u001b[0;32m   1570\u001b[0m         \u001b[1;32mif\u001b[0m \u001b[0mvalidate_features\u001b[0m\u001b[1;33m:\u001b[0m\u001b[1;33m\u001b[0m\u001b[1;33m\u001b[0m\u001b[0m\n\u001b[1;32m-> 1571\u001b[1;33m             \u001b[0mself\u001b[0m\u001b[1;33m.\u001b[0m\u001b[0m_validate_features\u001b[0m\u001b[1;33m(\u001b[0m\u001b[0mdata\u001b[0m\u001b[1;33m)\u001b[0m\u001b[1;33m\u001b[0m\u001b[1;33m\u001b[0m\u001b[0m\n\u001b[0m\u001b[0;32m   1572\u001b[0m \u001b[1;33m\u001b[0m\u001b[0m\n\u001b[0;32m   1573\u001b[0m         \u001b[0mlength\u001b[0m \u001b[1;33m=\u001b[0m \u001b[0mc_bst_ulong\u001b[0m\u001b[1;33m(\u001b[0m\u001b[1;33m)\u001b[0m\u001b[1;33m\u001b[0m\u001b[1;33m\u001b[0m\u001b[0m\n",
      "\u001b[1;32m~\\anaconda3\\envs\\project\\lib\\site-packages\\xgboost\\core.py\u001b[0m in \u001b[0;36m_validate_features\u001b[1;34m(self, data)\u001b[0m\n\u001b[0;32m   2129\u001b[0m \u001b[1;33m\u001b[0m\u001b[0m\n\u001b[0;32m   2130\u001b[0m                 raise ValueError(msg.format(self.feature_names,\n\u001b[1;32m-> 2131\u001b[1;33m                                             data.feature_names))\n\u001b[0m\u001b[0;32m   2132\u001b[0m \u001b[1;33m\u001b[0m\u001b[0m\n\u001b[0;32m   2133\u001b[0m     def get_split_value_histogram(self, feature, fmap='', bins=None,\n",
      "\u001b[1;31mValueError\u001b[0m: feature_names mismatch: ['f0', 'f1', 'f2', 'f3', 'f4', 'f5', 'f6', 'f7', 'f8', 'f9', 'f10', 'f11', 'f12', 'f13', 'f14', 'f15', 'f16', 'f17', 'f18', 'f19', 'f20'] ['f0', 'f1', 'f2', 'f3', 'f4', 'f5', 'f6', 'f7', 'f8', 'f9', 'f10', 'f11', 'f12', 'f13', 'f14', 'f15', 'f16', 'f17', 'f18', 'f19', 'f20', 'f21', 'f22', 'f23', 'f24', 'f25', 'f26', 'f27', 'f28', 'f29', 'f30', 'f31', 'f32', 'f33', 'f34', 'f35', 'f36', 'f37', 'f38', 'f39', 'f40', 'f41', 'f42', 'f43', 'f44', 'f45', 'f46', 'f47', 'f48', 'f49', 'f50', 'f51', 'f52', 'f53', 'f54', 'f55', 'f56', 'f57', 'f58', 'f59', 'f60', 'f61', 'f62', 'f63', 'f64', 'f65', 'f66', 'f67', 'f68', 'f69', 'f70', 'f71', 'f72', 'f73', 'f74', 'f75', 'f76', 'f77', 'f78', 'f79', 'f80', 'f81', 'f82', 'f83', 'f84', 'f85', 'f86', 'f87', 'f88', 'f89', 'f90', 'f91', 'f92', 'f93', 'f94', 'f95', 'f96', 'f97', 'f98', 'f99', 'f100', 'f101', 'f102', 'f103', 'f104', 'f105', 'f106', 'f107', 'f108', 'f109', 'f110', 'f111', 'f112', 'f113', 'f114', 'f115', 'f116', 'f117', 'f118', 'f119', 'f120', 'f121', 'f122', 'f123', 'f124', 'f125', 'f126', 'f127', 'f128', 'f129', 'f130', 'f131', 'f132', 'f133', 'f134', 'f135', 'f136', 'f137', 'f138', 'f139', 'f140', 'f141', 'f142', 'f143', 'f144', 'f145', 'f146', 'f147', 'f148', 'f149', 'f150', 'f151', 'f152', 'f153', 'f154', 'f155', 'f156', 'f157', 'f158', 'f159', 'f160', 'f161', 'f162', 'f163', 'f164', 'f165', 'f166', 'f167', 'f168', 'f169', 'f170', 'f171', 'f172', 'f173', 'f174', 'f175', 'f176', 'f177', 'f178', 'f179', 'f180', 'f181', 'f182', 'f183', 'f184', 'f185', 'f186', 'f187', 'f188', 'f189', 'f190', 'f191', 'f192', 'f193', 'f194', 'f195', 'f196', 'f197', 'f198', 'f199', 'f200', 'f201', 'f202', 'f203', 'f204', 'f205', 'f206', 'f207', 'f208', 'f209', 'f210', 'f211', 'f212', 'f213', 'f214', 'f215', 'f216', 'f217', 'f218', 'f219', 'f220', 'f221', 'f222', 'f223', 'f224', 'f225', 'f226', 'f227', 'f228', 'f229', 'f230', 'f231', 'f232', 'f233', 'f234', 'f235', 'f236', 'f237', 'f238', 'f239', 'f240', 'f241', 'f242', 'f243', 'f244', 'f245', 'f246', 'f247', 'f248', 'f249', 'f250', 'f251', 'f252', 'f253', 'f254', 'f255', 'f256', 'f257', 'f258', 'f259', 'f260', 'f261', 'f262', 'f263', 'f264', 'f265', 'f266', 'f267', 'f268', 'f269', 'f270', 'f271', 'f272', 'f273', 'f274', 'f275', 'f276', 'f277', 'f278', 'f279', 'f280', 'f281', 'f282', 'f283', 'f284', 'f285', 'f286', 'f287', 'f288', 'f289', 'f290', 'f291', 'f292', 'f293', 'f294', 'f295', 'f296', 'f297', 'f298', 'f299', 'f300', 'f301', 'f302', 'f303', 'f304', 'f305', 'f306', 'f307', 'f308', 'f309', 'f310', 'f311', 'f312', 'f313', 'f314', 'f315', 'f316', 'f317', 'f318', 'f319', 'f320', 'f321', 'f322', 'f323', 'f324', 'f325', 'f326', 'f327', 'f328', 'f329', 'f330', 'f331', 'f332', 'f333', 'f334', 'f335', 'f336', 'f337', 'f338', 'f339', 'f340', 'f341', 'f342', 'f343', 'f344', 'f345', 'f346', 'f347', 'f348', 'f349', 'f350', 'f351', 'f352', 'f353', 'f354', 'f355', 'f356', 'f357', 'f358', 'f359', 'f360', 'f361', 'f362', 'f363', 'f364', 'f365', 'f366', 'f367', 'f368', 'f369', 'f370', 'f371', 'f372', 'f373', 'f374', 'f375', 'f376', 'f377', 'f378', 'f379', 'f380', 'f381', 'f382', 'f383', 'f384', 'f385', 'f386', 'f387', 'f388', 'f389', 'f390', 'f391', 'f392', 'f393', 'f394', 'f395', 'f396', 'f397', 'f398', 'f399', 'f400', 'f401', 'f402', 'f403', 'f404', 'f405', 'f406', 'f407', 'f408', 'f409', 'f410', 'f411', 'f412', 'f413', 'f414', 'f415', 'f416', 'f417', 'f418', 'f419', 'f420', 'f421', 'f422', 'f423', 'f424', 'f425', 'f426', 'f427', 'f428', 'f429', 'f430', 'f431', 'f432', 'f433', 'f434', 'f435', 'f436', 'f437', 'f438', 'f439', 'f440', 'f441', 'f442', 'f443', 'f444', 'f445', 'f446', 'f447', 'f448', 'f449', 'f450', 'f451', 'f452', 'f453', 'f454', 'f455', 'f456', 'f457', 'f458', 'f459', 'f460', 'f461', 'f462', 'f463', 'f464', 'f465', 'f466', 'f467', 'f468', 'f469', 'f470', 'f471', 'f472', 'f473', 'f474', 'f475', 'f476', 'f477', 'f478', 'f479', 'f480', 'f481', 'f482', 'f483', 'f484', 'f485', 'f486', 'f487', 'f488', 'f489', 'f490', 'f491', 'f492', 'f493', 'f494', 'f495', 'f496', 'f497', 'f498', 'f499', 'f500', 'f501', 'f502', 'f503', 'f504', 'f505', 'f506', 'f507', 'f508', 'f509', 'f510', 'f511', 'f512', 'f513', 'f514', 'f515', 'f516', 'f517', 'f518', 'f519', 'f520', 'f521', 'f522', 'f523', 'f524', 'f525', 'f526', 'f527', 'f528', 'f529', 'f530', 'f531', 'f532', 'f533', 'f534', 'f535', 'f536', 'f537', 'f538', 'f539', 'f540', 'f541', 'f542', 'f543', 'f544', 'f545', 'f546', 'f547', 'f548', 'f549', 'f550', 'f551', 'f552', 'f553', 'f554', 'f555', 'f556', 'f557', 'f558', 'f559', 'f560', 'f561', 'f562', 'f563', 'f564', 'f565', 'f566', 'f567', 'f568', 'f569', 'f570', 'f571', 'f572', 'f573', 'f574', 'f575', 'f576', 'f577', 'f578', 'f579', 'f580', 'f581', 'f582', 'f583', 'f584', 'f585', 'f586', 'f587', 'f588', 'f589', 'f590', 'f591', 'f592', 'f593', 'f594', 'f595', 'f596', 'f597', 'f598', 'f599', 'f600', 'f601', 'f602', 'f603', 'f604', 'f605', 'f606', 'f607', 'f608', 'f609', 'f610', 'f611', 'f612', 'f613', 'f614', 'f615', 'f616', 'f617', 'f618', 'f619', 'f620', 'f621', 'f622', 'f623', 'f624', 'f625', 'f626', 'f627', 'f628', 'f629', 'f630', 'f631', 'f632', 'f633', 'f634', 'f635', 'f636', 'f637', 'f638', 'f639', 'f640', 'f641', 'f642', 'f643', 'f644', 'f645', 'f646', 'f647', 'f648', 'f649', 'f650', 'f651', 'f652', 'f653', 'f654', 'f655', 'f656', 'f657', 'f658', 'f659', 'f660', 'f661', 'f662', 'f663', 'f664', 'f665', 'f666', 'f667', 'f668', 'f669', 'f670', 'f671', 'f672', 'f673', 'f674', 'f675', 'f676', 'f677', 'f678', 'f679', 'f680', 'f681', 'f682', 'f683', 'f684', 'f685', 'f686', 'f687', 'f688', 'f689', 'f690', 'f691', 'f692', 'f693', 'f694', 'f695', 'f696', 'f697', 'f698', 'f699', 'f700', 'f701', 'f702', 'f703', 'f704', 'f705', 'f706', 'f707', 'f708', 'f709', 'f710', 'f711', 'f712', 'f713', 'f714', 'f715', 'f716', 'f717', 'f718', 'f719', 'f720', 'f721', 'f722', 'f723', 'f724', 'f725', 'f726', 'f727', 'f728', 'f729', 'f730', 'f731', 'f732', 'f733', 'f734', 'f735', 'f736', 'f737', 'f738', 'f739', 'f740', 'f741', 'f742', 'f743', 'f744', 'f745', 'f746', 'f747', 'f748', 'f749', 'f750', 'f751', 'f752', 'f753', 'f754', 'f755', 'f756', 'f757', 'f758', 'f759', 'f760', 'f761', 'f762', 'f763', 'f764', 'f765', 'f766', 'f767', 'f768', 'f769', 'f770', 'f771', 'f772', 'f773', 'f774', 'f775', 'f776', 'f777', 'f778', 'f779', 'f780', 'f781', 'f782', 'f783', 'f784', 'f785', 'f786', 'f787', 'f788', 'f789', 'f790', 'f791', 'f792', 'f793', 'f794', 'f795', 'f796', 'f797', 'f798', 'f799', 'f800', 'f801', 'f802', 'f803', 'f804', 'f805', 'f806', 'f807', 'f808', 'f809', 'f810', 'f811', 'f812', 'f813', 'f814', 'f815', 'f816', 'f817', 'f818', 'f819', 'f820', 'f821', 'f822', 'f823', 'f824', 'f825', 'f826', 'f827', 'f828', 'f829', 'f830', 'f831', 'f832', 'f833', 'f834', 'f835', 'f836', 'f837', 'f838', 'f839', 'f840', 'f841', 'f842', 'f843', 'f844', 'f845', 'f846', 'f847', 'f848', 'f849', 'f850', 'f851', 'f852', 'f853', 'f854', 'f855', 'f856', 'f857', 'f858', 'f859', 'f860', 'f861', 'f862', 'f863', 'f864', 'f865', 'f866', 'f867', 'f868', 'f869', 'f870', 'f871', 'f872', 'f873', 'f874', 'f875', 'f876', 'f877', 'f878', 'f879', 'f880', 'f881', 'f882', 'f883', 'f884', 'f885', 'f886', 'f887', 'f888', 'f889', 'f890', 'f891', 'f892', 'f893', 'f894', 'f895', 'f896', 'f897', 'f898', 'f899', 'f900', 'f901', 'f902', 'f903', 'f904', 'f905', 'f906', 'f907', 'f908', 'f909', 'f910', 'f911', 'f912', 'f913', 'f914', 'f915', 'f916', 'f917', 'f918', 'f919', 'f920', 'f921', 'f922', 'f923', 'f924', 'f925', 'f926', 'f927', 'f928', 'f929', 'f930', 'f931', 'f932', 'f933', 'f934', 'f935', 'f936', 'f937', 'f938', 'f939', 'f940', 'f941', 'f942', 'f943', 'f944', 'f945', 'f946', 'f947', 'f948', 'f949', 'f950', 'f951', 'f952', 'f953', 'f954', 'f955', 'f956', 'f957', 'f958', 'f959', 'f960', 'f961', 'f962', 'f963', 'f964', 'f965', 'f966', 'f967', 'f968', 'f969', 'f970', 'f971', 'f972', 'f973', 'f974', 'f975', 'f976', 'f977', 'f978', 'f979', 'f980', 'f981', 'f982', 'f983', 'f984', 'f985', 'f986', 'f987', 'f988', 'f989', 'f990', 'f991', 'f992', 'f993', 'f994', 'f995', 'f996', 'f997', 'f998', 'f999', 'f1000', 'f1001', 'f1002', 'f1003', 'f1004', 'f1005', 'f1006', 'f1007', 'f1008', 'f1009', 'f1010', 'f1011', 'f1012', 'f1013', 'f1014', 'f1015', 'f1016', 'f1017', 'f1018', 'f1019', 'f1020', 'f1021', 'f1022', 'f1023', 'f1024', 'f1025', 'f1026', 'f1027', 'f1028', 'f1029', 'f1030', 'f1031', 'f1032', 'f1033', 'f1034', 'f1035', 'f1036', 'f1037', 'f1038', 'f1039', 'f1040', 'f1041', 'f1042', 'f1043', 'f1044', 'f1045', 'f1046', 'f1047', 'f1048', 'f1049', 'f1050', 'f1051', 'f1052', 'f1053', 'f1054', 'f1055', 'f1056', 'f1057', 'f1058', 'f1059', 'f1060', 'f1061', 'f1062', 'f1063', 'f1064', 'f1065', 'f1066', 'f1067', 'f1068', 'f1069', 'f1070', 'f1071', 'f1072', 'f1073', 'f1074', 'f1075', 'f1076', 'f1077', 'f1078', 'f1079', 'f1080', 'f1081', 'f1082', 'f1083', 'f1084', 'f1085', 'f1086', 'f1087', 'f1088', 'f1089', 'f1090', 'f1091', 'f1092', 'f1093', 'f1094', 'f1095', 'f1096', 'f1097', 'f1098', 'f1099', 'f1100', 'f1101', 'f1102', 'f1103', 'f1104', 'f1105', 'f1106', 'f1107', 'f1108', 'f1109', 'f1110', 'f1111', 'f1112', 'f1113', 'f1114', 'f1115', 'f1116', 'f1117', 'f1118', 'f1119', 'f1120', 'f1121', 'f1122', 'f1123', 'f1124', 'f1125', 'f1126', 'f1127', 'f1128', 'f1129', 'f1130', 'f1131', 'f1132', 'f1133', 'f1134', 'f1135', 'f1136', 'f1137', 'f1138', 'f1139', 'f1140', 'f1141', 'f1142', 'f1143', 'f1144', 'f1145', 'f1146', 'f1147', 'f1148', 'f1149', 'f1150', 'f1151', 'f1152', 'f1153', 'f1154', 'f1155', 'f1156', 'f1157', 'f1158', 'f1159', 'f1160', 'f1161', 'f1162', 'f1163', 'f1164', 'f1165', 'f1166', 'f1167', 'f1168', 'f1169', 'f1170', 'f1171', 'f1172', 'f1173', 'f1174', 'f1175', 'f1176', 'f1177', 'f1178', 'f1179', 'f1180', 'f1181', 'f1182', 'f1183', 'f1184', 'f1185', 'f1186', 'f1187', 'f1188', 'f1189', 'f1190', 'f1191', 'f1192', 'f1193', 'f1194', 'f1195', 'f1196', 'f1197', 'f1198', 'f1199', 'f1200', 'f1201', 'f1202', 'f1203', 'f1204', 'f1205', 'f1206', 'f1207', 'f1208', 'f1209', 'f1210', 'f1211', 'f1212', 'f1213', 'f1214', 'f1215', 'f1216', 'f1217', 'f1218', 'f1219', 'f1220', 'f1221', 'f1222', 'f1223', 'f1224', 'f1225', 'f1226', 'f1227', 'f1228', 'f1229', 'f1230', 'f1231', 'f1232', 'f1233', 'f1234', 'f1235', 'f1236', 'f1237', 'f1238', 'f1239', 'f1240', 'f1241', 'f1242', 'f1243', 'f1244', 'f1245', 'f1246', 'f1247', 'f1248', 'f1249', 'f1250', 'f1251', 'f1252', 'f1253', 'f1254', 'f1255', 'f1256', 'f1257', 'f1258', 'f1259', 'f1260', 'f1261', 'f1262', 'f1263', 'f1264', 'f1265', 'f1266', 'f1267', 'f1268', 'f1269', 'f1270', 'f1271', 'f1272', 'f1273', 'f1274', 'f1275', 'f1276', 'f1277', 'f1278', 'f1279', 'f1280', 'f1281', 'f1282', 'f1283', 'f1284', 'f1285', 'f1286', 'f1287', 'f1288', 'f1289', 'f1290', 'f1291', 'f1292', 'f1293', 'f1294', 'f1295', 'f1296', 'f1297', 'f1298', 'f1299', 'f1300', 'f1301', 'f1302', 'f1303', 'f1304', 'f1305', 'f1306', 'f1307', 'f1308', 'f1309', 'f1310', 'f1311', 'f1312', 'f1313', 'f1314', 'f1315', 'f1316', 'f1317', 'f1318', 'f1319', 'f1320', 'f1321', 'f1322', 'f1323', 'f1324', 'f1325', 'f1326', 'f1327', 'f1328', 'f1329', 'f1330', 'f1331', 'f1332', 'f1333', 'f1334', 'f1335', 'f1336', 'f1337', 'f1338', 'f1339', 'f1340', 'f1341', 'f1342', 'f1343', 'f1344', 'f1345', 'f1346', 'f1347', 'f1348', 'f1349', 'f1350', 'f1351', 'f1352', 'f1353', 'f1354', 'f1355', 'f1356', 'f1357', 'f1358', 'f1359', 'f1360', 'f1361', 'f1362', 'f1363', 'f1364', 'f1365', 'f1366', 'f1367', 'f1368', 'f1369', 'f1370', 'f1371', 'f1372', 'f1373', 'f1374', 'f1375', 'f1376', 'f1377', 'f1378', 'f1379', 'f1380', 'f1381', 'f1382', 'f1383', 'f1384', 'f1385', 'f1386', 'f1387', 'f1388', 'f1389', 'f1390', 'f1391', 'f1392', 'f1393', 'f1394', 'f1395', 'f1396', 'f1397', 'f1398', 'f1399', 'f1400', 'f1401', 'f1402', 'f1403', 'f1404', 'f1405', 'f1406', 'f1407', 'f1408', 'f1409', 'f1410', 'f1411', 'f1412', 'f1413', 'f1414', 'f1415', 'f1416', 'f1417', 'f1418', 'f1419', 'f1420', 'f1421', 'f1422', 'f1423', 'f1424', 'f1425', 'f1426', 'f1427', 'f1428', 'f1429', 'f1430', 'f1431', 'f1432', 'f1433', 'f1434', 'f1435', 'f1436', 'f1437', 'f1438', 'f1439', 'f1440', 'f1441', 'f1442', 'f1443', 'f1444', 'f1445', 'f1446', 'f1447', 'f1448', 'f1449', 'f1450', 'f1451', 'f1452', 'f1453', 'f1454', 'f1455', 'f1456', 'f1457', 'f1458', 'f1459', 'f1460', 'f1461', 'f1462', 'f1463', 'f1464', 'f1465', 'f1466', 'f1467', 'f1468', 'f1469', 'f1470', 'f1471', 'f1472', 'f1473', 'f1474', 'f1475', 'f1476', 'f1477', 'f1478', 'f1479', 'f1480', 'f1481', 'f1482', 'f1483', 'f1484', 'f1485', 'f1486', 'f1487', 'f1488', 'f1489', 'f1490', 'f1491', 'f1492', 'f1493', 'f1494', 'f1495', 'f1496', 'f1497', 'f1498', 'f1499', 'f1500', 'f1501', 'f1502', 'f1503', 'f1504', 'f1505', 'f1506', 'f1507', 'f1508', 'f1509', 'f1510', 'f1511', 'f1512', 'f1513', 'f1514', 'f1515', 'f1516', 'f1517', 'f1518', 'f1519', 'f1520', 'f1521', 'f1522', 'f1523', 'f1524', 'f1525', 'f1526', 'f1527', 'f1528', 'f1529', 'f1530', 'f1531', 'f1532', 'f1533', 'f1534', 'f1535', 'f1536', 'f1537', 'f1538', 'f1539', 'f1540', 'f1541', 'f1542', 'f1543', 'f1544', 'f1545', 'f1546', 'f1547', 'f1548', 'f1549', 'f1550', 'f1551', 'f1552', 'f1553', 'f1554', 'f1555', 'f1556', 'f1557', 'f1558', 'f1559', 'f1560', 'f1561', 'f1562', 'f1563', 'f1564', 'f1565', 'f1566', 'f1567', 'f1568', 'f1569', 'f1570', 'f1571', 'f1572', 'f1573', 'f1574', 'f1575', 'f1576', 'f1577', 'f1578', 'f1579', 'f1580', 'f1581', 'f1582', 'f1583', 'f1584', 'f1585', 'f1586', 'f1587', 'f1588', 'f1589', 'f1590', 'f1591', 'f1592', 'f1593', 'f1594', 'f1595', 'f1596', 'f1597', 'f1598', 'f1599', 'f1600', 'f1601', 'f1602', 'f1603', 'f1604', 'f1605', 'f1606', 'f1607', 'f1608', 'f1609', 'f1610', 'f1611', 'f1612', 'f1613', 'f1614', 'f1615', 'f1616', 'f1617', 'f1618', 'f1619', 'f1620', 'f1621', 'f1622', 'f1623', 'f1624', 'f1625', 'f1626', 'f1627', 'f1628', 'f1629', 'f1630', 'f1631', 'f1632', 'f1633', 'f1634', 'f1635', 'f1636', 'f1637', 'f1638', 'f1639', 'f1640', 'f1641', 'f1642', 'f1643', 'f1644', 'f1645', 'f1646', 'f1647', 'f1648', 'f1649', 'f1650', 'f1651', 'f1652', 'f1653', 'f1654', 'f1655', 'f1656', 'f1657', 'f1658', 'f1659', 'f1660', 'f1661', 'f1662', 'f1663', 'f1664', 'f1665', 'f1666', 'f1667', 'f1668', 'f1669', 'f1670', 'f1671', 'f1672', 'f1673', 'f1674', 'f1675', 'f1676', 'f1677', 'f1678', 'f1679', 'f1680', 'f1681', 'f1682', 'f1683', 'f1684', 'f1685', 'f1686', 'f1687', 'f1688', 'f1689', 'f1690', 'f1691', 'f1692', 'f1693', 'f1694', 'f1695', 'f1696', 'f1697', 'f1698', 'f1699', 'f1700', 'f1701', 'f1702', 'f1703', 'f1704', 'f1705', 'f1706', 'f1707', 'f1708', 'f1709', 'f1710', 'f1711', 'f1712', 'f1713', 'f1714', 'f1715', 'f1716', 'f1717', 'f1718', 'f1719', 'f1720', 'f1721', 'f1722', 'f1723', 'f1724', 'f1725', 'f1726', 'f1727', 'f1728', 'f1729', 'f1730', 'f1731', 'f1732', 'f1733', 'f1734', 'f1735', 'f1736', 'f1737', 'f1738', 'f1739', 'f1740', 'f1741', 'f1742', 'f1743', 'f1744', 'f1745', 'f1746', 'f1747', 'f1748', 'f1749', 'f1750', 'f1751', 'f1752', 'f1753', 'f1754', 'f1755', 'f1756', 'f1757', 'f1758', 'f1759', 'f1760', 'f1761', 'f1762', 'f1763', 'f1764', 'f1765', 'f1766', 'f1767', 'f1768', 'f1769', 'f1770', 'f1771', 'f1772', 'f1773', 'f1774', 'f1775', 'f1776', 'f1777', 'f1778', 'f1779', 'f1780', 'f1781', 'f1782', 'f1783', 'f1784', 'f1785', 'f1786', 'f1787', 'f1788', 'f1789', 'f1790', 'f1791', 'f1792', 'f1793', 'f1794', 'f1795', 'f1796', 'f1797', 'f1798', 'f1799', 'f1800', 'f1801', 'f1802', 'f1803', 'f1804', 'f1805', 'f1806', 'f1807', 'f1808', 'f1809', 'f1810', 'f1811', 'f1812', 'f1813', 'f1814', 'f1815', 'f1816', 'f1817', 'f1818', 'f1819', 'f1820', 'f1821', 'f1822', 'f1823', 'f1824', 'f1825', 'f1826', 'f1827', 'f1828', 'f1829', 'f1830', 'f1831', 'f1832', 'f1833', 'f1834', 'f1835', 'f1836', 'f1837', 'f1838', 'f1839', 'f1840', 'f1841', 'f1842', 'f1843', 'f1844', 'f1845', 'f1846', 'f1847', 'f1848', 'f1849', 'f1850', 'f1851', 'f1852', 'f1853', 'f1854', 'f1855', 'f1856', 'f1857', 'f1858', 'f1859', 'f1860', 'f1861', 'f1862', 'f1863', 'f1864', 'f1865', 'f1866', 'f1867', 'f1868', 'f1869', 'f1870', 'f1871', 'f1872', 'f1873', 'f1874', 'f1875', 'f1876', 'f1877', 'f1878', 'f1879', 'f1880', 'f1881', 'f1882', 'f1883', 'f1884', 'f1885', 'f1886', 'f1887', 'f1888', 'f1889', 'f1890', 'f1891', 'f1892', 'f1893', 'f1894', 'f1895', 'f1896', 'f1897', 'f1898', 'f1899', 'f1900', 'f1901', 'f1902', 'f1903', 'f1904', 'f1905', 'f1906', 'f1907', 'f1908', 'f1909', 'f1910', 'f1911', 'f1912', 'f1913', 'f1914', 'f1915', 'f1916', 'f1917', 'f1918', 'f1919', 'f1920', 'f1921', 'f1922', 'f1923', 'f1924', 'f1925', 'f1926', 'f1927', 'f1928', 'f1929', 'f1930', 'f1931', 'f1932', 'f1933', 'f1934', 'f1935', 'f1936', 'f1937', 'f1938', 'f1939', 'f1940', 'f1941', 'f1942', 'f1943', 'f1944', 'f1945', 'f1946', 'f1947', 'f1948', 'f1949', 'f1950', 'f1951', 'f1952', 'f1953', 'f1954', 'f1955', 'f1956', 'f1957', 'f1958', 'f1959', 'f1960', 'f1961', 'f1962', 'f1963', 'f1964', 'f1965', 'f1966', 'f1967', 'f1968', 'f1969', 'f1970', 'f1971', 'f1972', 'f1973', 'f1974', 'f1975', 'f1976', 'f1977', 'f1978', 'f1979', 'f1980', 'f1981', 'f1982', 'f1983', 'f1984', 'f1985', 'f1986', 'f1987', 'f1988', 'f1989', 'f1990', 'f1991', 'f1992', 'f1993', 'f1994', 'f1995', 'f1996', 'f1997', 'f1998', 'f1999', 'f2000', 'f2001', 'f2002', 'f2003', 'f2004', 'f2005', 'f2006', 'f2007', 'f2008', 'f2009', 'f2010', 'f2011', 'f2012', 'f2013', 'f2014', 'f2015', 'f2016', 'f2017', 'f2018', 'f2019', 'f2020', 'f2021', 'f2022', 'f2023', 'f2024', 'f2025', 'f2026', 'f2027', 'f2028', 'f2029', 'f2030', 'f2031', 'f2032', 'f2033', 'f2034', 'f2035', 'f2036', 'f2037', 'f2038', 'f2039', 'f2040', 'f2041', 'f2042', 'f2043', 'f2044', 'f2045', 'f2046', 'f2047', 'f2048', 'f2049', 'f2050', 'f2051', 'f2052', 'f2053', 'f2054', 'f2055', 'f2056', 'f2057', 'f2058', 'f2059', 'f2060', 'f2061', 'f2062', 'f2063', 'f2064', 'f2065', 'f2066', 'f2067', 'f2068', 'f2069', 'f2070', 'f2071', 'f2072', 'f2073', 'f2074', 'f2075', 'f2076', 'f2077', 'f2078', 'f2079', 'f2080', 'f2081', 'f2082', 'f2083', 'f2084', 'f2085', 'f2086', 'f2087', 'f2088', 'f2089', 'f2090', 'f2091', 'f2092', 'f2093', 'f2094', 'f2095', 'f2096', 'f2097', 'f2098', 'f2099', 'f2100', 'f2101', 'f2102', 'f2103', 'f2104', 'f2105', 'f2106', 'f2107', 'f2108', 'f2109', 'f2110', 'f2111', 'f2112', 'f2113', 'f2114', 'f2115', 'f2116', 'f2117', 'f2118', 'f2119', 'f2120', 'f2121', 'f2122', 'f2123', 'f2124', 'f2125', 'f2126', 'f2127', 'f2128', 'f2129', 'f2130', 'f2131', 'f2132', 'f2133', 'f2134', 'f2135', 'f2136', 'f2137', 'f2138', 'f2139', 'f2140', 'f2141', 'f2142', 'f2143', 'f2144', 'f2145', 'f2146', 'f2147', 'f2148', 'f2149', 'f2150', 'f2151', 'f2152', 'f2153', 'f2154', 'f2155', 'f2156', 'f2157', 'f2158', 'f2159', 'f2160', 'f2161', 'f2162', 'f2163', 'f2164', 'f2165', 'f2166', 'f2167', 'f2168', 'f2169', 'f2170', 'f2171', 'f2172', 'f2173', 'f2174', 'f2175', 'f2176', 'f2177', 'f2178', 'f2179', 'f2180', 'f2181', 'f2182', 'f2183', 'f2184', 'f2185', 'f2186', 'f2187', 'f2188', 'f2189', 'f2190', 'f2191', 'f2192', 'f2193', 'f2194', 'f2195', 'f2196', 'f2197', 'f2198', 'f2199', 'f2200', 'f2201', 'f2202', 'f2203', 'f2204', 'f2205', 'f2206', 'f2207', 'f2208', 'f2209', 'f2210', 'f2211', 'f2212', 'f2213', 'f2214', 'f2215', 'f2216', 'f2217', 'f2218', 'f2219', 'f2220', 'f2221', 'f2222', 'f2223', 'f2224', 'f2225', 'f2226', 'f2227', 'f2228', 'f2229', 'f2230', 'f2231', 'f2232', 'f2233', 'f2234', 'f2235', 'f2236', 'f2237', 'f2238', 'f2239', 'f2240', 'f2241', 'f2242', 'f2243', 'f2244', 'f2245', 'f2246', 'f2247', 'f2248', 'f2249', 'f2250', 'f2251', 'f2252', 'f2253', 'f2254', 'f2255', 'f2256', 'f2257', 'f2258', 'f2259', 'f2260', 'f2261', 'f2262', 'f2263', 'f2264', 'f2265', 'f2266', 'f2267', 'f2268', 'f2269', 'f2270', 'f2271', 'f2272', 'f2273', 'f2274', 'f2275', 'f2276', 'f2277', 'f2278', 'f2279', 'f2280', 'f2281', 'f2282', 'f2283', 'f2284', 'f2285', 'f2286', 'f2287', 'f2288', 'f2289', 'f2290', 'f2291', 'f2292', 'f2293', 'f2294', 'f2295', 'f2296', 'f2297', 'f2298', 'f2299', 'f2300', 'f2301', 'f2302', 'f2303', 'f2304', 'f2305', 'f2306', 'f2307', 'f2308', 'f2309', 'f2310', 'f2311', 'f2312', 'f2313', 'f2314', 'f2315', 'f2316', 'f2317', 'f2318', 'f2319', 'f2320', 'f2321', 'f2322', 'f2323', 'f2324', 'f2325', 'f2326', 'f2327', 'f2328', 'f2329', 'f2330', 'f2331', 'f2332', 'f2333', 'f2334', 'f2335', 'f2336', 'f2337', 'f2338', 'f2339', 'f2340', 'f2341', 'f2342', 'f2343', 'f2344', 'f2345', 'f2346', 'f2347', 'f2348', 'f2349', 'f2350', 'f2351', 'f2352', 'f2353', 'f2354', 'f2355', 'f2356', 'f2357', 'f2358', 'f2359', 'f2360', 'f2361', 'f2362', 'f2363', 'f2364', 'f2365', 'f2366', 'f2367', 'f2368', 'f2369', 'f2370', 'f2371', 'f2372', 'f2373', 'f2374', 'f2375', 'f2376', 'f2377', 'f2378', 'f2379', 'f2380', 'f2381', 'f2382', 'f2383', 'f2384', 'f2385', 'f2386', 'f2387', 'f2388', 'f2389', 'f2390', 'f2391', 'f2392', 'f2393', 'f2394', 'f2395', 'f2396', 'f2397', 'f2398', 'f2399', 'f2400', 'f2401', 'f2402', 'f2403', 'f2404', 'f2405', 'f2406', 'f2407', 'f2408', 'f2409', 'f2410', 'f2411', 'f2412', 'f2413', 'f2414', 'f2415', 'f2416', 'f2417', 'f2418', 'f2419', 'f2420', 'f2421', 'f2422', 'f2423', 'f2424', 'f2425', 'f2426', 'f2427', 'f2428', 'f2429', 'f2430', 'f2431', 'f2432', 'f2433', 'f2434', 'f2435', 'f2436', 'f2437', 'f2438', 'f2439', 'f2440', 'f2441', 'f2442', 'f2443', 'f2444', 'f2445', 'f2446', 'f2447', 'f2448', 'f2449', 'f2450', 'f2451', 'f2452', 'f2453', 'f2454', 'f2455', 'f2456', 'f2457', 'f2458', 'f2459', 'f2460', 'f2461', 'f2462', 'f2463', 'f2464', 'f2465', 'f2466', 'f2467', 'f2468', 'f2469', 'f2470', 'f2471', 'f2472', 'f2473', 'f2474', 'f2475', 'f2476', 'f2477', 'f2478', 'f2479', 'f2480', 'f2481', 'f2482', 'f2483', 'f2484', 'f2485', 'f2486', 'f2487', 'f2488', 'f2489', 'f2490', 'f2491', 'f2492', 'f2493', 'f2494', 'f2495', 'f2496', 'f2497', 'f2498', 'f2499', 'f2500', 'f2501', 'f2502', 'f2503', 'f2504', 'f2505', 'f2506', 'f2507', 'f2508', 'f2509', 'f2510', 'f2511', 'f2512', 'f2513', 'f2514', 'f2515', 'f2516', 'f2517', 'f2518', 'f2519', 'f2520', 'f2521', 'f2522', 'f2523', 'f2524', 'f2525', 'f2526', 'f2527', 'f2528', 'f2529', 'f2530', 'f2531', 'f2532', 'f2533', 'f2534', 'f2535', 'f2536', 'f2537', 'f2538', 'f2539', 'f2540', 'f2541', 'f2542', 'f2543', 'f2544', 'f2545', 'f2546', 'f2547', 'f2548', 'f2549', 'f2550', 'f2551', 'f2552', 'f2553', 'f2554', 'f2555', 'f2556', 'f2557', 'f2558', 'f2559', 'f2560', 'f2561', 'f2562', 'f2563', 'f2564', 'f2565', 'f2566', 'f2567', 'f2568', 'f2569', 'f2570', 'f2571', 'f2572', 'f2573', 'f2574', 'f2575', 'f2576', 'f2577', 'f2578', 'f2579', 'f2580', 'f2581', 'f2582', 'f2583', 'f2584', 'f2585', 'f2586', 'f2587', 'f2588', 'f2589', 'f2590', 'f2591', 'f2592', 'f2593', 'f2594', 'f2595', 'f2596', 'f2597', 'f2598', 'f2599', 'f2600', 'f2601', 'f2602', 'f2603', 'f2604', 'f2605', 'f2606', 'f2607', 'f2608', 'f2609', 'f2610', 'f2611', 'f2612', 'f2613', 'f2614', 'f2615', 'f2616', 'f2617', 'f2618', 'f2619', 'f2620', 'f2621', 'f2622', 'f2623', 'f2624', 'f2625', 'f2626', 'f2627', 'f2628', 'f2629', 'f2630', 'f2631', 'f2632', 'f2633', 'f2634', 'f2635', 'f2636', 'f2637', 'f2638', 'f2639', 'f2640', 'f2641', 'f2642', 'f2643', 'f2644', 'f2645', 'f2646', 'f2647', 'f2648', 'f2649', 'f2650', 'f2651', 'f2652', 'f2653', 'f2654', 'f2655', 'f2656', 'f2657', 'f2658', 'f2659', 'f2660', 'f2661', 'f2662', 'f2663', 'f2664', 'f2665', 'f2666', 'f2667', 'f2668', 'f2669', 'f2670', 'f2671', 'f2672', 'f2673', 'f2674', 'f2675', 'f2676', 'f2677', 'f2678', 'f2679', 'f2680', 'f2681', 'f2682', 'f2683', 'f2684', 'f2685', 'f2686', 'f2687', 'f2688', 'f2689', 'f2690', 'f2691', 'f2692', 'f2693', 'f2694', 'f2695', 'f2696', 'f2697', 'f2698', 'f2699', 'f2700', 'f2701', 'f2702', 'f2703', 'f2704', 'f2705', 'f2706', 'f2707', 'f2708', 'f2709', 'f2710', 'f2711', 'f2712', 'f2713', 'f2714', 'f2715', 'f2716', 'f2717', 'f2718', 'f2719', 'f2720', 'f2721', 'f2722', 'f2723', 'f2724', 'f2725', 'f2726', 'f2727', 'f2728', 'f2729', 'f2730', 'f2731', 'f2732', 'f2733', 'f2734', 'f2735', 'f2736', 'f2737', 'f2738', 'f2739', 'f2740', 'f2741', 'f2742', 'f2743', 'f2744', 'f2745', 'f2746', 'f2747', 'f2748', 'f2749', 'f2750', 'f2751', 'f2752', 'f2753', 'f2754', 'f2755', 'f2756', 'f2757', 'f2758', 'f2759', 'f2760', 'f2761', 'f2762', 'f2763', 'f2764', 'f2765', 'f2766', 'f2767', 'f2768', 'f2769', 'f2770', 'f2771', 'f2772', 'f2773', 'f2774', 'f2775', 'f2776', 'f2777', 'f2778', 'f2779', 'f2780', 'f2781', 'f2782', 'f2783', 'f2784', 'f2785', 'f2786', 'f2787', 'f2788', 'f2789', 'f2790', 'f2791', 'f2792', 'f2793', 'f2794', 'f2795', 'f2796', 'f2797', 'f2798', 'f2799', 'f2800', 'f2801', 'f2802', 'f2803', 'f2804', 'f2805', 'f2806', 'f2807', 'f2808', 'f2809', 'f2810', 'f2811', 'f2812', 'f2813', 'f2814', 'f2815', 'f2816', 'f2817', 'f2818', 'f2819', 'f2820', 'f2821', 'f2822', 'f2823', 'f2824', 'f2825', 'f2826', 'f2827', 'f2828', 'f2829', 'f2830', 'f2831', 'f2832', 'f2833', 'f2834', 'f2835', 'f2836', 'f2837', 'f2838', 'f2839', 'f2840', 'f2841', 'f2842', 'f2843', 'f2844', 'f2845', 'f2846', 'f2847', 'f2848', 'f2849', 'f2850', 'f2851', 'f2852', 'f2853', 'f2854', 'f2855', 'f2856', 'f2857', 'f2858', 'f2859', 'f2860', 'f2861', 'f2862', 'f2863', 'f2864', 'f2865', 'f2866', 'f2867', 'f2868', 'f2869', 'f2870', 'f2871', 'f2872', 'f2873', 'f2874', 'f2875', 'f2876', 'f2877', 'f2878', 'f2879', 'f2880', 'f2881', 'f2882', 'f2883', 'f2884', 'f2885', 'f2886', 'f2887', 'f2888', 'f2889', 'f2890', 'f2891', 'f2892', 'f2893', 'f2894', 'f2895', 'f2896', 'f2897', 'f2898', 'f2899', 'f2900', 'f2901', 'f2902', 'f2903', 'f2904', 'f2905', 'f2906', 'f2907', 'f2908', 'f2909', 'f2910', 'f2911', 'f2912', 'f2913', 'f2914', 'f2915', 'f2916', 'f2917', 'f2918', 'f2919', 'f2920', 'f2921', 'f2922', 'f2923', 'f2924', 'f2925', 'f2926', 'f2927', 'f2928', 'f2929', 'f2930', 'f2931', 'f2932', 'f2933', 'f2934', 'f2935', 'f2936', 'f2937', 'f2938', 'f2939', 'f2940', 'f2941', 'f2942', 'f2943', 'f2944', 'f2945', 'f2946', 'f2947', 'f2948', 'f2949', 'f2950', 'f2951', 'f2952', 'f2953', 'f2954', 'f2955', 'f2956', 'f2957', 'f2958', 'f2959', 'f2960', 'f2961', 'f2962', 'f2963', 'f2964', 'f2965', 'f2966', 'f2967', 'f2968', 'f2969', 'f2970', 'f2971', 'f2972', 'f2973', 'f2974', 'f2975', 'f2976', 'f2977', 'f2978', 'f2979', 'f2980', 'f2981', 'f2982', 'f2983', 'f2984', 'f2985', 'f2986', 'f2987', 'f2988', 'f2989', 'f2990', 'f2991', 'f2992', 'f2993', 'f2994', 'f2995', 'f2996', 'f2997', 'f2998', 'f2999', 'f3000', 'f3001', 'f3002', 'f3003', 'f3004', 'f3005', 'f3006', 'f3007', 'f3008', 'f3009', 'f3010', 'f3011', 'f3012', 'f3013', 'f3014', 'f3015', 'f3016', 'f3017', 'f3018', 'f3019', 'f3020', 'f3021', 'f3022', 'f3023', 'f3024', 'f3025', 'f3026', 'f3027', 'f3028', 'f3029', 'f3030', 'f3031', 'f3032', 'f3033', 'f3034', 'f3035', 'f3036', 'f3037', 'f3038', 'f3039', 'f3040', 'f3041', 'f3042', 'f3043', 'f3044', 'f3045', 'f3046', 'f3047', 'f3048', 'f3049', 'f3050', 'f3051', 'f3052', 'f3053', 'f3054', 'f3055', 'f3056', 'f3057', 'f3058', 'f3059', 'f3060', 'f3061', 'f3062', 'f3063', 'f3064', 'f3065', 'f3066', 'f3067', 'f3068', 'f3069', 'f3070', 'f3071', 'f3072', 'f3073', 'f3074', 'f3075', 'f3076', 'f3077', 'f3078', 'f3079', 'f3080', 'f3081', 'f3082', 'f3083', 'f3084', 'f3085', 'f3086', 'f3087', 'f3088', 'f3089', 'f3090', 'f3091', 'f3092', 'f3093', 'f3094', 'f3095', 'f3096', 'f3097', 'f3098', 'f3099', 'f3100', 'f3101', 'f3102', 'f3103', 'f3104', 'f3105', 'f3106', 'f3107', 'f3108', 'f3109', 'f3110', 'f3111', 'f3112', 'f3113', 'f3114', 'f3115', 'f3116', 'f3117', 'f3118', 'f3119', 'f3120', 'f3121', 'f3122', 'f3123', 'f3124', 'f3125', 'f3126', 'f3127', 'f3128', 'f3129', 'f3130', 'f3131', 'f3132', 'f3133', 'f3134', 'f3135', 'f3136', 'f3137', 'f3138', 'f3139', 'f3140', 'f3141', 'f3142', 'f3143', 'f3144', 'f3145', 'f3146', 'f3147', 'f3148', 'f3149', 'f3150', 'f3151', 'f3152', 'f3153', 'f3154', 'f3155', 'f3156', 'f3157', 'f3158', 'f3159', 'f3160', 'f3161', 'f3162', 'f3163', 'f3164', 'f3165', 'f3166', 'f3167', 'f3168', 'f3169', 'f3170', 'f3171', 'f3172', 'f3173', 'f3174', 'f3175', 'f3176', 'f3177', 'f3178', 'f3179', 'f3180', 'f3181', 'f3182', 'f3183', 'f3184', 'f3185', 'f3186', 'f3187', 'f3188', 'f3189', 'f3190', 'f3191', 'f3192', 'f3193', 'f3194', 'f3195', 'f3196', 'f3197', 'f3198', 'f3199', 'f3200', 'f3201', 'f3202', 'f3203', 'f3204', 'f3205', 'f3206', 'f3207', 'f3208', 'f3209', 'f3210', 'f3211', 'f3212', 'f3213', 'f3214', 'f3215', 'f3216', 'f3217', 'f3218', 'f3219', 'f3220', 'f3221', 'f3222', 'f3223', 'f3224', 'f3225', 'f3226', 'f3227', 'f3228', 'f3229', 'f3230', 'f3231', 'f3232', 'f3233', 'f3234', 'f3235', 'f3236', 'f3237', 'f3238', 'f3239', 'f3240', 'f3241', 'f3242', 'f3243', 'f3244', 'f3245', 'f3246', 'f3247', 'f3248', 'f3249', 'f3250', 'f3251', 'f3252', 'f3253', 'f3254', 'f3255', 'f3256', 'f3257', 'f3258', 'f3259', 'f3260', 'f3261', 'f3262', 'f3263', 'f3264', 'f3265', 'f3266', 'f3267', 'f3268', 'f3269', 'f3270', 'f3271', 'f3272', 'f3273', 'f3274', 'f3275', 'f3276', 'f3277', 'f3278', 'f3279', 'f3280', 'f3281', 'f3282', 'f3283', 'f3284', 'f3285', 'f3286', 'f3287', 'f3288', 'f3289', 'f3290', 'f3291', 'f3292', 'f3293', 'f3294', 'f3295', 'f3296', 'f3297', 'f3298', 'f3299', 'f3300', 'f3301', 'f3302', 'f3303', 'f3304', 'f3305', 'f3306', 'f3307', 'f3308', 'f3309', 'f3310', 'f3311', 'f3312', 'f3313', 'f3314', 'f3315', 'f3316', 'f3317', 'f3318', 'f3319', 'f3320', 'f3321', 'f3322', 'f3323', 'f3324', 'f3325', 'f3326', 'f3327', 'f3328', 'f3329', 'f3330', 'f3331', 'f3332', 'f3333', 'f3334', 'f3335', 'f3336', 'f3337', 'f3338', 'f3339', 'f3340', 'f3341', 'f3342', 'f3343', 'f3344', 'f3345', 'f3346', 'f3347', 'f3348', 'f3349', 'f3350', 'f3351', 'f3352', 'f3353', 'f3354', 'f3355', 'f3356', 'f3357', 'f3358', 'f3359', 'f3360', 'f3361', 'f3362', 'f3363', 'f3364', 'f3365', 'f3366', 'f3367', 'f3368', 'f3369', 'f3370', 'f3371', 'f3372', 'f3373', 'f3374', 'f3375', 'f3376', 'f3377', 'f3378', 'f3379', 'f3380', 'f3381', 'f3382', 'f3383', 'f3384', 'f3385', 'f3386', 'f3387', 'f3388', 'f3389', 'f3390', 'f3391', 'f3392', 'f3393', 'f3394', 'f3395', 'f3396', 'f3397', 'f3398', 'f3399', 'f3400', 'f3401', 'f3402', 'f3403', 'f3404', 'f3405', 'f3406', 'f3407', 'f3408', 'f3409', 'f3410', 'f3411', 'f3412', 'f3413', 'f3414', 'f3415', 'f3416', 'f3417', 'f3418', 'f3419', 'f3420', 'f3421', 'f3422', 'f3423', 'f3424', 'f3425', 'f3426', 'f3427', 'f3428', 'f3429', 'f3430', 'f3431', 'f3432', 'f3433', 'f3434', 'f3435', 'f3436', 'f3437', 'f3438', 'f3439', 'f3440', 'f3441', 'f3442', 'f3443', 'f3444', 'f3445', 'f3446', 'f3447', 'f3448', 'f3449', 'f3450', 'f3451', 'f3452', 'f3453', 'f3454', 'f3455', 'f3456', 'f3457', 'f3458', 'f3459', 'f3460', 'f3461', 'f3462', 'f3463', 'f3464', 'f3465', 'f3466', 'f3467', 'f3468', 'f3469', 'f3470', 'f3471', 'f3472', 'f3473', 'f3474', 'f3475', 'f3476', 'f3477', 'f3478', 'f3479', 'f3480', 'f3481', 'f3482', 'f3483', 'f3484', 'f3485', 'f3486', 'f3487', 'f3488', 'f3489', 'f3490', 'f3491', 'f3492', 'f3493', 'f3494', 'f3495', 'f3496', 'f3497', 'f3498', 'f3499', 'f3500', 'f3501', 'f3502', 'f3503', 'f3504', 'f3505', 'f3506', 'f3507', 'f3508', 'f3509', 'f3510', 'f3511', 'f3512', 'f3513', 'f3514', 'f3515', 'f3516', 'f3517', 'f3518', 'f3519', 'f3520', 'f3521', 'f3522', 'f3523', 'f3524', 'f3525', 'f3526', 'f3527', 'f3528', 'f3529', 'f3530', 'f3531', 'f3532', 'f3533', 'f3534', 'f3535', 'f3536', 'f3537', 'f3538', 'f3539', 'f3540', 'f3541', 'f3542', 'f3543', 'f3544', 'f3545', 'f3546', 'f3547', 'f3548', 'f3549', 'f3550', 'f3551', 'f3552', 'f3553', 'f3554', 'f3555', 'f3556', 'f3557', 'f3558', 'f3559', 'f3560', 'f3561', 'f3562', 'f3563', 'f3564', 'f3565', 'f3566', 'f3567', 'f3568', 'f3569', 'f3570', 'f3571', 'f3572', 'f3573', 'f3574', 'f3575', 'f3576', 'f3577', 'f3578', 'f3579', 'f3580', 'f3581', 'f3582', 'f3583', 'f3584', 'f3585', 'f3586', 'f3587', 'f3588', 'f3589', 'f3590', 'f3591', 'f3592', 'f3593', 'f3594', 'f3595', 'f3596', 'f3597', 'f3598', 'f3599', 'f3600', 'f3601', 'f3602', 'f3603', 'f3604', 'f3605', 'f3606', 'f3607', 'f3608', 'f3609', 'f3610', 'f3611', 'f3612', 'f3613', 'f3614', 'f3615', 'f3616', 'f3617', 'f3618', 'f3619', 'f3620', 'f3621', 'f3622', 'f3623', 'f3624', 'f3625', 'f3626', 'f3627', 'f3628', 'f3629', 'f3630', 'f3631', 'f3632', 'f3633', 'f3634', 'f3635', 'f3636', 'f3637', 'f3638', 'f3639', 'f3640', 'f3641', 'f3642', 'f3643', 'f3644', 'f3645', 'f3646', 'f3647', 'f3648', 'f3649', 'f3650', 'f3651', 'f3652', 'f3653', 'f3654', 'f3655', 'f3656', 'f3657', 'f3658', 'f3659', 'f3660', 'f3661', 'f3662', 'f3663', 'f3664', 'f3665', 'f3666', 'f3667', 'f3668', 'f3669', 'f3670', 'f3671', 'f3672', 'f3673', 'f3674', 'f3675', 'f3676', 'f3677', 'f3678', 'f3679', 'f3680', 'f3681', 'f3682', 'f3683', 'f3684', 'f3685', 'f3686', 'f3687', 'f3688', 'f3689', 'f3690', 'f3691', 'f3692', 'f3693', 'f3694', 'f3695', 'f3696', 'f3697', 'f3698', 'f3699', 'f3700', 'f3701', 'f3702', 'f3703', 'f3704', 'f3705', 'f3706', 'f3707', 'f3708', 'f3709', 'f3710', 'f3711', 'f3712', 'f3713', 'f3714', 'f3715', 'f3716', 'f3717', 'f3718', 'f3719', 'f3720', 'f3721', 'f3722', 'f3723', 'f3724', 'f3725', 'f3726', 'f3727', 'f3728', 'f3729', 'f3730', 'f3731', 'f3732', 'f3733', 'f3734', 'f3735', 'f3736', 'f3737', 'f3738', 'f3739', 'f3740', 'f3741', 'f3742', 'f3743', 'f3744', 'f3745', 'f3746', 'f3747', 'f3748', 'f3749', 'f3750', 'f3751', 'f3752', 'f3753', 'f3754', 'f3755', 'f3756', 'f3757', 'f3758', 'f3759', 'f3760', 'f3761', 'f3762', 'f3763', 'f3764', 'f3765', 'f3766', 'f3767', 'f3768', 'f3769', 'f3770', 'f3771', 'f3772', 'f3773', 'f3774', 'f3775', 'f3776', 'f3777', 'f3778', 'f3779', 'f3780', 'f3781', 'f3782', 'f3783', 'f3784', 'f3785', 'f3786', 'f3787', 'f3788', 'f3789', 'f3790', 'f3791', 'f3792', 'f3793', 'f3794', 'f3795', 'f3796', 'f3797', 'f3798', 'f3799', 'f3800', 'f3801', 'f3802', 'f3803', 'f3804', 'f3805', 'f3806', 'f3807', 'f3808', 'f3809', 'f3810', 'f3811', 'f3812', 'f3813', 'f3814', 'f3815', 'f3816', 'f3817', 'f3818', 'f3819', 'f3820', 'f3821', 'f3822', 'f3823', 'f3824', 'f3825', 'f3826', 'f3827', 'f3828', 'f3829', 'f3830', 'f3831', 'f3832', 'f3833', 'f3834', 'f3835', 'f3836', 'f3837', 'f3838', 'f3839', 'f3840', 'f3841', 'f3842', 'f3843', 'f3844', 'f3845', 'f3846', 'f3847', 'f3848', 'f3849', 'f3850', 'f3851', 'f3852', 'f3853', 'f3854', 'f3855', 'f3856', 'f3857', 'f3858', 'f3859', 'f3860', 'f3861', 'f3862', 'f3863', 'f3864', 'f3865', 'f3866', 'f3867', 'f3868', 'f3869', 'f3870', 'f3871', 'f3872', 'f3873', 'f3874', 'f3875', 'f3876', 'f3877', 'f3878', 'f3879', 'f3880', 'f3881', 'f3882', 'f3883', 'f3884', 'f3885', 'f3886', 'f3887', 'f3888', 'f3889', 'f3890', 'f3891', 'f3892', 'f3893', 'f3894', 'f3895', 'f3896', 'f3897', 'f3898', 'f3899', 'f3900', 'f3901', 'f3902', 'f3903', 'f3904', 'f3905', 'f3906', 'f3907', 'f3908', 'f3909', 'f3910', 'f3911', 'f3912', 'f3913', 'f3914', 'f3915', 'f3916', 'f3917', 'f3918', 'f3919', 'f3920', 'f3921', 'f3922', 'f3923', 'f3924', 'f3925', 'f3926', 'f3927', 'f3928', 'f3929', 'f3930', 'f3931', 'f3932', 'f3933', 'f3934', 'f3935', 'f3936', 'f3937', 'f3938', 'f3939', 'f3940', 'f3941', 'f3942', 'f3943', 'f3944', 'f3945', 'f3946', 'f3947', 'f3948', 'f3949', 'f3950', 'f3951', 'f3952', 'f3953', 'f3954', 'f3955', 'f3956', 'f3957', 'f3958', 'f3959', 'f3960', 'f3961', 'f3962', 'f3963', 'f3964', 'f3965', 'f3966', 'f3967', 'f3968', 'f3969', 'f3970', 'f3971', 'f3972', 'f3973', 'f3974', 'f3975', 'f3976', 'f3977', 'f3978', 'f3979', 'f3980', 'f3981', 'f3982', 'f3983', 'f3984', 'f3985', 'f3986', 'f3987', 'f3988', 'f3989', 'f3990', 'f3991', 'f3992', 'f3993', 'f3994', 'f3995', 'f3996', 'f3997', 'f3998', 'f3999', 'f4000', 'f4001', 'f4002', 'f4003', 'f4004', 'f4005', 'f4006', 'f4007', 'f4008', 'f4009', 'f4010', 'f4011', 'f4012', 'f4013', 'f4014', 'f4015', 'f4016', 'f4017', 'f4018', 'f4019', 'f4020', 'f4021', 'f4022', 'f4023', 'f4024', 'f4025', 'f4026', 'f4027', 'f4028', 'f4029', 'f4030', 'f4031', 'f4032', 'f4033', 'f4034', 'f4035', 'f4036', 'f4037', 'f4038', 'f4039', 'f4040', 'f4041', 'f4042', 'f4043', 'f4044', 'f4045', 'f4046', 'f4047', 'f4048', 'f4049', 'f4050', 'f4051', 'f4052', 'f4053', 'f4054', 'f4055', 'f4056', 'f4057', 'f4058', 'f4059', 'f4060', 'f4061', 'f4062', 'f4063', 'f4064', 'f4065', 'f4066', 'f4067', 'f4068', 'f4069', 'f4070', 'f4071', 'f4072', 'f4073', 'f4074', 'f4075', 'f4076', 'f4077', 'f4078', 'f4079', 'f4080', 'f4081', 'f4082', 'f4083', 'f4084', 'f4085', 'f4086', 'f4087', 'f4088', 'f4089', 'f4090', 'f4091', 'f4092', 'f4093', 'f4094', 'f4095', 'f4096', 'f4097', 'f4098', 'f4099', 'f4100', 'f4101', 'f4102', 'f4103', 'f4104', 'f4105', 'f4106', 'f4107', 'f4108', 'f4109', 'f4110', 'f4111', 'f4112', 'f4113', 'f4114', 'f4115', 'f4116', 'f4117', 'f4118', 'f4119', 'f4120', 'f4121', 'f4122', 'f4123', 'f4124', 'f4125', 'f4126', 'f4127', 'f4128', 'f4129', 'f4130', 'f4131', 'f4132', 'f4133', 'f4134', 'f4135', 'f4136', 'f4137', 'f4138', 'f4139', 'f4140', 'f4141', 'f4142', 'f4143', 'f4144', 'f4145', 'f4146', 'f4147', 'f4148', 'f4149', 'f4150', 'f4151', 'f4152', 'f4153', 'f4154', 'f4155', 'f4156', 'f4157', 'f4158', 'f4159', 'f4160', 'f4161', 'f4162', 'f4163', 'f4164', 'f4165', 'f4166', 'f4167', 'f4168', 'f4169', 'f4170', 'f4171', 'f4172', 'f4173', 'f4174', 'f4175', 'f4176', 'f4177', 'f4178', 'f4179', 'f4180', 'f4181', 'f4182', 'f4183', 'f4184', 'f4185', 'f4186', 'f4187', 'f4188', 'f4189', 'f4190', 'f4191', 'f4192', 'f4193', 'f4194', 'f4195', 'f4196', 'f4197', 'f4198', 'f4199', 'f4200', 'f4201', 'f4202', 'f4203', 'f4204', 'f4205', 'f4206', 'f4207', 'f4208', 'f4209', 'f4210', 'f4211', 'f4212', 'f4213', 'f4214', 'f4215', 'f4216', 'f4217', 'f4218', 'f4219', 'f4220', 'f4221', 'f4222', 'f4223', 'f4224', 'f4225', 'f4226', 'f4227', 'f4228', 'f4229', 'f4230', 'f4231', 'f4232', 'f4233', 'f4234', 'f4235', 'f4236', 'f4237', 'f4238', 'f4239', 'f4240', 'f4241', 'f4242', 'f4243', 'f4244', 'f4245', 'f4246', 'f4247', 'f4248', 'f4249', 'f4250', 'f4251', 'f4252', 'f4253', 'f4254', 'f4255', 'f4256', 'f4257', 'f4258', 'f4259', 'f4260', 'f4261', 'f4262', 'f4263', 'f4264', 'f4265', 'f4266', 'f4267', 'f4268', 'f4269', 'f4270', 'f4271', 'f4272', 'f4273', 'f4274', 'f4275', 'f4276', 'f4277', 'f4278', 'f4279', 'f4280', 'f4281', 'f4282', 'f4283', 'f4284', 'f4285', 'f4286', 'f4287', 'f4288', 'f4289', 'f4290', 'f4291', 'f4292', 'f4293', 'f4294', 'f4295', 'f4296', 'f4297', 'f4298', 'f4299', 'f4300', 'f4301', 'f4302', 'f4303', 'f4304', 'f4305', 'f4306', 'f4307', 'f4308', 'f4309', 'f4310', 'f4311', 'f4312', 'f4313', 'f4314', 'f4315', 'f4316', 'f4317', 'f4318', 'f4319', 'f4320', 'f4321', 'f4322', 'f4323', 'f4324', 'f4325', 'f4326', 'f4327', 'f4328', 'f4329', 'f4330', 'f4331', 'f4332', 'f4333', 'f4334', 'f4335', 'f4336', 'f4337', 'f4338', 'f4339', 'f4340', 'f4341', 'f4342', 'f4343', 'f4344', 'f4345', 'f4346', 'f4347', 'f4348', 'f4349', 'f4350', 'f4351', 'f4352', 'f4353', 'f4354', 'f4355', 'f4356', 'f4357', 'f4358', 'f4359', 'f4360', 'f4361', 'f4362', 'f4363', 'f4364', 'f4365', 'f4366', 'f4367', 'f4368', 'f4369', 'f4370', 'f4371', 'f4372', 'f4373', 'f4374', 'f4375', 'f4376', 'f4377', 'f4378', 'f4379', 'f4380', 'f4381', 'f4382', 'f4383', 'f4384', 'f4385', 'f4386', 'f4387', 'f4388', 'f4389', 'f4390', 'f4391', 'f4392', 'f4393', 'f4394', 'f4395', 'f4396', 'f4397', 'f4398', 'f4399', 'f4400', 'f4401', 'f4402', 'f4403', 'f4404', 'f4405', 'f4406', 'f4407', 'f4408', 'f4409', 'f4410', 'f4411', 'f4412', 'f4413', 'f4414', 'f4415', 'f4416', 'f4417', 'f4418', 'f4419', 'f4420', 'f4421', 'f4422', 'f4423', 'f4424', 'f4425', 'f4426', 'f4427', 'f4428', 'f4429', 'f4430', 'f4431', 'f4432', 'f4433', 'f4434', 'f4435', 'f4436', 'f4437', 'f4438', 'f4439', 'f4440', 'f4441', 'f4442', 'f4443', 'f4444', 'f4445', 'f4446', 'f4447', 'f4448', 'f4449', 'f4450', 'f4451', 'f4452', 'f4453', 'f4454', 'f4455', 'f4456', 'f4457', 'f4458', 'f4459', 'f4460', 'f4461', 'f4462', 'f4463', 'f4464', 'f4465', 'f4466', 'f4467', 'f4468', 'f4469', 'f4470', 'f4471', 'f4472', 'f4473', 'f4474', 'f4475', 'f4476', 'f4477', 'f4478', 'f4479', 'f4480', 'f4481', 'f4482', 'f4483', 'f4484', 'f4485', 'f4486', 'f4487', 'f4488', 'f4489', 'f4490', 'f4491', 'f4492', 'f4493', 'f4494', 'f4495', 'f4496', 'f4497', 'f4498', 'f4499', 'f4500', 'f4501', 'f4502', 'f4503', 'f4504', 'f4505', 'f4506', 'f4507', 'f4508', 'f4509', 'f4510', 'f4511', 'f4512', 'f4513', 'f4514', 'f4515', 'f4516', 'f4517', 'f4518', 'f4519', 'f4520', 'f4521', 'f4522', 'f4523', 'f4524', 'f4525', 'f4526', 'f4527', 'f4528', 'f4529', 'f4530', 'f4531', 'f4532', 'f4533', 'f4534', 'f4535', 'f4536', 'f4537', 'f4538', 'f4539', 'f4540', 'f4541', 'f4542', 'f4543', 'f4544', 'f4545', 'f4546', 'f4547', 'f4548', 'f4549', 'f4550', 'f4551', 'f4552', 'f4553', 'f4554', 'f4555', 'f4556', 'f4557', 'f4558', 'f4559', 'f4560', 'f4561', 'f4562', 'f4563', 'f4564', 'f4565', 'f4566', 'f4567', 'f4568', 'f4569', 'f4570', 'f4571', 'f4572', 'f4573', 'f4574', 'f4575', 'f4576', 'f4577', 'f4578', 'f4579', 'f4580', 'f4581', 'f4582', 'f4583', 'f4584', 'f4585', 'f4586', 'f4587', 'f4588', 'f4589', 'f4590', 'f4591', 'f4592', 'f4593', 'f4594', 'f4595', 'f4596', 'f4597', 'f4598', 'f4599', 'f4600', 'f4601', 'f4602', 'f4603', 'f4604', 'f4605', 'f4606', 'f4607', 'f4608', 'f4609', 'f4610', 'f4611', 'f4612', 'f4613', 'f4614', 'f4615', 'f4616', 'f4617', 'f4618', 'f4619', 'f4620', 'f4621', 'f4622', 'f4623', 'f4624', 'f4625', 'f4626', 'f4627', 'f4628', 'f4629', 'f4630', 'f4631', 'f4632', 'f4633', 'f4634', 'f4635', 'f4636', 'f4637', 'f4638', 'f4639', 'f4640', 'f4641', 'f4642', 'f4643', 'f4644', 'f4645', 'f4646', 'f4647', 'f4648', 'f4649', 'f4650', 'f4651', 'f4652', 'f4653', 'f4654', 'f4655', 'f4656', 'f4657', 'f4658', 'f4659', 'f4660', 'f4661', 'f4662', 'f4663', 'f4664', 'f4665', 'f4666', 'f4667', 'f4668', 'f4669', 'f4670', 'f4671', 'f4672', 'f4673', 'f4674', 'f4675', 'f4676', 'f4677', 'f4678', 'f4679', 'f4680', 'f4681', 'f4682', 'f4683', 'f4684', 'f4685', 'f4686', 'f4687', 'f4688', 'f4689', 'f4690', 'f4691', 'f4692', 'f4693', 'f4694', 'f4695', 'f4696', 'f4697', 'f4698', 'f4699', 'f4700', 'f4701', 'f4702', 'f4703', 'f4704', 'f4705', 'f4706', 'f4707', 'f4708', 'f4709', 'f4710', 'f4711', 'f4712', 'f4713', 'f4714', 'f4715', 'f4716', 'f4717', 'f4718', 'f4719', 'f4720', 'f4721', 'f4722', 'f4723', 'f4724', 'f4725', 'f4726', 'f4727', 'f4728', 'f4729', 'f4730', 'f4731', 'f4732', 'f4733', 'f4734', 'f4735', 'f4736', 'f4737', 'f4738', 'f4739', 'f4740', 'f4741', 'f4742', 'f4743', 'f4744', 'f4745', 'f4746', 'f4747', 'f4748', 'f4749', 'f4750', 'f4751', 'f4752', 'f4753', 'f4754', 'f4755', 'f4756', 'f4757', 'f4758', 'f4759', 'f4760', 'f4761', 'f4762', 'f4763', 'f4764', 'f4765', 'f4766', 'f4767', 'f4768', 'f4769', 'f4770', 'f4771', 'f4772', 'f4773', 'f4774', 'f4775', 'f4776', 'f4777', 'f4778', 'f4779', 'f4780', 'f4781', 'f4782', 'f4783', 'f4784', 'f4785', 'f4786', 'f4787', 'f4788', 'f4789', 'f4790', 'f4791', 'f4792', 'f4793', 'f4794', 'f4795', 'f4796', 'f4797', 'f4798', 'f4799', 'f4800', 'f4801', 'f4802', 'f4803', 'f4804', 'f4805', 'f4806', 'f4807', 'f4808', 'f4809', 'f4810', 'f4811', 'f4812', 'f4813', 'f4814', 'f4815', 'f4816', 'f4817', 'f4818', 'f4819', 'f4820', 'f4821', 'f4822', 'f4823', 'f4824', 'f4825', 'f4826', 'f4827', 'f4828', 'f4829', 'f4830', 'f4831', 'f4832', 'f4833', 'f4834', 'f4835', 'f4836', 'f4837', 'f4838', 'f4839', 'f4840', 'f4841', 'f4842', 'f4843', 'f4844', 'f4845', 'f4846', 'f4847', 'f4848', 'f4849', 'f4850', 'f4851', 'f4852', 'f4853', 'f4854', 'f4855', 'f4856', 'f4857', 'f4858', 'f4859', 'f4860', 'f4861', 'f4862', 'f4863', 'f4864', 'f4865', 'f4866', 'f4867', 'f4868', 'f4869', 'f4870', 'f4871', 'f4872', 'f4873', 'f4874', 'f4875', 'f4876', 'f4877', 'f4878', 'f4879', 'f4880', 'f4881', 'f4882', 'f4883', 'f4884', 'f4885', 'f4886', 'f4887', 'f4888', 'f4889', 'f4890', 'f4891', 'f4892', 'f4893', 'f4894', 'f4895', 'f4896', 'f4897', 'f4898', 'f4899', 'f4900', 'f4901', 'f4902', 'f4903', 'f4904', 'f4905', 'f4906', 'f4907', 'f4908', 'f4909', 'f4910', 'f4911', 'f4912', 'f4913', 'f4914', 'f4915', 'f4916', 'f4917', 'f4918', 'f4919', 'f4920', 'f4921', 'f4922', 'f4923', 'f4924', 'f4925', 'f4926', 'f4927', 'f4928', 'f4929', 'f4930', 'f4931', 'f4932', 'f4933', 'f4934', 'f4935', 'f4936', 'f4937', 'f4938', 'f4939', 'f4940', 'f4941', 'f4942', 'f4943', 'f4944', 'f4945', 'f4946', 'f4947', 'f4948', 'f4949', 'f4950', 'f4951', 'f4952', 'f4953', 'f4954', 'f4955', 'f4956', 'f4957', 'f4958', 'f4959', 'f4960', 'f4961', 'f4962', 'f4963', 'f4964', 'f4965', 'f4966', 'f4967', 'f4968', 'f4969', 'f4970', 'f4971', 'f4972', 'f4973', 'f4974', 'f4975', 'f4976', 'f4977', 'f4978', 'f4979', 'f4980', 'f4981', 'f4982', 'f4983', 'f4984', 'f4985', 'f4986', 'f4987', 'f4988', 'f4989', 'f4990', 'f4991', 'f4992', 'f4993', 'f4994', 'f4995', 'f4996', 'f4997', 'f4998', 'f4999', 'f5000', 'f5001', 'f5002', 'f5003', 'f5004', 'f5005', 'f5006', 'f5007', 'f5008', 'f5009', 'f5010', 'f5011', 'f5012', 'f5013', 'f5014', 'f5015', 'f5016', 'f5017', 'f5018', 'f5019', 'f5020', 'f5021', 'f5022', 'f5023', 'f5024', 'f5025', 'f5026', 'f5027', 'f5028', 'f5029', 'f5030', 'f5031', 'f5032', 'f5033', 'f5034', 'f5035', 'f5036', 'f5037', 'f5038', 'f5039', 'f5040', 'f5041', 'f5042', 'f5043', 'f5044', 'f5045', 'f5046', 'f5047', 'f5048', 'f5049', 'f5050', 'f5051', 'f5052', 'f5053', 'f5054', 'f5055', 'f5056', 'f5057', 'f5058', 'f5059', 'f5060', 'f5061', 'f5062', 'f5063', 'f5064', 'f5065', 'f5066', 'f5067', 'f5068', 'f5069', 'f5070', 'f5071', 'f5072', 'f5073', 'f5074', 'f5075', 'f5076', 'f5077', 'f5078', 'f5079', 'f5080', 'f5081', 'f5082', 'f5083', 'f5084', 'f5085', 'f5086', 'f5087', 'f5088', 'f5089', 'f5090', 'f5091', 'f5092', 'f5093', 'f5094', 'f5095', 'f5096', 'f5097', 'f5098', 'f5099', 'f5100', 'f5101', 'f5102', 'f5103', 'f5104', 'f5105', 'f5106', 'f5107', 'f5108', 'f5109', 'f5110', 'f5111', 'f5112', 'f5113', 'f5114', 'f5115', 'f5116', 'f5117', 'f5118', 'f5119', 'f5120', 'f5121', 'f5122', 'f5123', 'f5124', 'f5125', 'f5126', 'f5127', 'f5128', 'f5129', 'f5130', 'f5131', 'f5132', 'f5133', 'f5134', 'f5135', 'f5136', 'f5137', 'f5138', 'f5139', 'f5140', 'f5141', 'f5142', 'f5143', 'f5144', 'f5145', 'f5146', 'f5147', 'f5148', 'f5149', 'f5150', 'f5151', 'f5152', 'f5153', 'f5154', 'f5155', 'f5156', 'f5157', 'f5158', 'f5159', 'f5160', 'f5161', 'f5162', 'f5163', 'f5164', 'f5165', 'f5166', 'f5167', 'f5168', 'f5169', 'f5170', 'f5171', 'f5172', 'f5173', 'f5174', 'f5175', 'f5176', 'f5177', 'f5178', 'f5179', 'f5180', 'f5181', 'f5182', 'f5183', 'f5184', 'f5185', 'f5186', 'f5187', 'f5188', 'f5189', 'f5190', 'f5191', 'f5192', 'f5193', 'f5194', 'f5195', 'f5196', 'f5197', 'f5198', 'f5199', 'f5200', 'f5201', 'f5202', 'f5203', 'f5204', 'f5205', 'f5206', 'f5207', 'f5208', 'f5209', 'f5210', 'f5211', 'f5212', 'f5213', 'f5214', 'f5215', 'f5216', 'f5217', 'f5218', 'f5219', 'f5220', 'f5221', 'f5222', 'f5223', 'f5224', 'f5225', 'f5226', 'f5227', 'f5228', 'f5229', 'f5230', 'f5231', 'f5232', 'f5233', 'f5234', 'f5235', 'f5236', 'f5237', 'f5238', 'f5239', 'f5240', 'f5241', 'f5242', 'f5243', 'f5244', 'f5245', 'f5246', 'f5247', 'f5248', 'f5249', 'f5250', 'f5251', 'f5252', 'f5253', 'f5254', 'f5255', 'f5256', 'f5257', 'f5258', 'f5259', 'f5260', 'f5261', 'f5262', 'f5263', 'f5264', 'f5265', 'f5266', 'f5267', 'f5268', 'f5269', 'f5270', 'f5271', 'f5272', 'f5273', 'f5274', 'f5275', 'f5276', 'f5277', 'f5278', 'f5279', 'f5280', 'f5281', 'f5282', 'f5283', 'f5284', 'f5285', 'f5286', 'f5287', 'f5288', 'f5289', 'f5290', 'f5291', 'f5292', 'f5293', 'f5294', 'f5295', 'f5296', 'f5297', 'f5298', 'f5299', 'f5300', 'f5301', 'f5302', 'f5303', 'f5304', 'f5305', 'f5306', 'f5307', 'f5308', 'f5309', 'f5310', 'f5311', 'f5312', 'f5313', 'f5314', 'f5315', 'f5316', 'f5317', 'f5318', 'f5319', 'f5320', 'f5321', 'f5322', 'f5323', 'f5324', 'f5325', 'f5326', 'f5327', 'f5328', 'f5329', 'f5330', 'f5331', 'f5332', 'f5333', 'f5334', 'f5335', 'f5336', 'f5337', 'f5338', 'f5339', 'f5340', 'f5341', 'f5342', 'f5343', 'f5344', 'f5345', 'f5346', 'f5347', 'f5348', 'f5349', 'f5350', 'f5351', 'f5352', 'f5353', 'f5354', 'f5355', 'f5356', 'f5357', 'f5358', 'f5359', 'f5360', 'f5361', 'f5362', 'f5363', 'f5364', 'f5365', 'f5366', 'f5367', 'f5368', 'f5369', 'f5370', 'f5371', 'f5372', 'f5373', 'f5374', 'f5375', 'f5376', 'f5377', 'f5378', 'f5379', 'f5380', 'f5381', 'f5382', 'f5383', 'f5384', 'f5385', 'f5386', 'f5387', 'f5388', 'f5389', 'f5390', 'f5391', 'f5392', 'f5393', 'f5394', 'f5395', 'f5396', 'f5397', 'f5398', 'f5399', 'f5400', 'f5401', 'f5402', 'f5403', 'f5404', 'f5405', 'f5406', 'f5407', 'f5408', 'f5409', 'f5410', 'f5411', 'f5412', 'f5413', 'f5414', 'f5415', 'f5416', 'f5417', 'f5418', 'f5419', 'f5420', 'f5421', 'f5422', 'f5423', 'f5424', 'f5425', 'f5426', 'f5427', 'f5428', 'f5429', 'f5430', 'f5431', 'f5432', 'f5433', 'f5434', 'f5435', 'f5436', 'f5437', 'f5438', 'f5439', 'f5440', 'f5441', 'f5442', 'f5443', 'f5444', 'f5445', 'f5446', 'f5447', 'f5448', 'f5449', 'f5450', 'f5451', 'f5452', 'f5453', 'f5454', 'f5455', 'f5456', 'f5457', 'f5458', 'f5459', 'f5460', 'f5461', 'f5462', 'f5463', 'f5464', 'f5465', 'f5466', 'f5467', 'f5468', 'f5469', 'f5470', 'f5471', 'f5472', 'f5473', 'f5474', 'f5475', 'f5476', 'f5477', 'f5478', 'f5479', 'f5480', 'f5481', 'f5482', 'f5483', 'f5484', 'f5485', 'f5486', 'f5487', 'f5488', 'f5489', 'f5490', 'f5491', 'f5492', 'f5493', 'f5494', 'f5495', 'f5496', 'f5497', 'f5498', 'f5499', 'f5500', 'f5501', 'f5502', 'f5503', 'f5504', 'f5505', 'f5506', 'f5507', 'f5508', 'f5509', 'f5510', 'f5511', 'f5512', 'f5513', 'f5514', 'f5515', 'f5516', 'f5517', 'f5518', 'f5519', 'f5520', 'f5521', 'f5522', 'f5523', 'f5524', 'f5525', 'f5526', 'f5527', 'f5528', 'f5529', 'f5530', 'f5531', 'f5532', 'f5533', 'f5534', 'f5535', 'f5536', 'f5537', 'f5538', 'f5539', 'f5540', 'f5541', 'f5542', 'f5543', 'f5544', 'f5545', 'f5546', 'f5547', 'f5548', 'f5549', 'f5550', 'f5551', 'f5552', 'f5553', 'f5554', 'f5555', 'f5556', 'f5557', 'f5558', 'f5559', 'f5560', 'f5561', 'f5562', 'f5563', 'f5564', 'f5565', 'f5566', 'f5567', 'f5568', 'f5569', 'f5570', 'f5571', 'f5572', 'f5573', 'f5574', 'f5575', 'f5576', 'f5577', 'f5578', 'f5579', 'f5580', 'f5581', 'f5582', 'f5583', 'f5584', 'f5585', 'f5586', 'f5587', 'f5588', 'f5589', 'f5590', 'f5591', 'f5592', 'f5593', 'f5594', 'f5595', 'f5596', 'f5597', 'f5598', 'f5599', 'f5600', 'f5601', 'f5602', 'f5603', 'f5604', 'f5605', 'f5606', 'f5607', 'f5608', 'f5609', 'f5610', 'f5611', 'f5612', 'f5613', 'f5614', 'f5615', 'f5616', 'f5617', 'f5618', 'f5619', 'f5620', 'f5621', 'f5622', 'f5623', 'f5624', 'f5625', 'f5626', 'f5627', 'f5628', 'f5629', 'f5630', 'f5631', 'f5632', 'f5633', 'f5634', 'f5635', 'f5636', 'f5637', 'f5638', 'f5639', 'f5640', 'f5641', 'f5642', 'f5643', 'f5644', 'f5645', 'f5646', 'f5647', 'f5648', 'f5649', 'f5650', 'f5651', 'f5652', 'f5653', 'f5654', 'f5655', 'f5656', 'f5657', 'f5658', 'f5659', 'f5660', 'f5661', 'f5662', 'f5663', 'f5664', 'f5665', 'f5666', 'f5667', 'f5668', 'f5669', 'f5670', 'f5671', 'f5672', 'f5673', 'f5674', 'f5675', 'f5676', 'f5677', 'f5678', 'f5679', 'f5680', 'f5681', 'f5682', 'f5683', 'f5684', 'f5685', 'f5686', 'f5687', 'f5688', 'f5689', 'f5690', 'f5691', 'f5692', 'f5693', 'f5694', 'f5695', 'f5696', 'f5697', 'f5698', 'f5699', 'f5700', 'f5701', 'f5702', 'f5703', 'f5704', 'f5705', 'f5706', 'f5707', 'f5708', 'f5709', 'f5710', 'f5711', 'f5712', 'f5713', 'f5714', 'f5715', 'f5716', 'f5717', 'f5718', 'f5719', 'f5720', 'f5721', 'f5722', 'f5723', 'f5724', 'f5725', 'f5726', 'f5727', 'f5728', 'f5729', 'f5730', 'f5731', 'f5732', 'f5733', 'f5734', 'f5735', 'f5736', 'f5737', 'f5738', 'f5739', 'f5740', 'f5741', 'f5742', 'f5743', 'f5744', 'f5745', 'f5746', 'f5747', 'f5748', 'f5749', 'f5750', 'f5751', 'f5752', 'f5753', 'f5754', 'f5755', 'f5756', 'f5757', 'f5758', 'f5759', 'f5760', 'f5761', 'f5762', 'f5763', 'f5764', 'f5765', 'f5766', 'f5767', 'f5768', 'f5769', 'f5770', 'f5771', 'f5772', 'f5773', 'f5774', 'f5775', 'f5776', 'f5777', 'f5778', 'f5779', 'f5780', 'f5781', 'f5782', 'f5783', 'f5784', 'f5785', 'f5786', 'f5787', 'f5788', 'f5789', 'f5790', 'f5791', 'f5792', 'f5793', 'f5794', 'f5795', 'f5796', 'f5797', 'f5798', 'f5799', 'f5800', 'f5801', 'f5802', 'f5803', 'f5804', 'f5805', 'f5806', 'f5807', 'f5808', 'f5809', 'f5810', 'f5811', 'f5812', 'f5813', 'f5814', 'f5815', 'f5816', 'f5817', 'f5818', 'f5819', 'f5820', 'f5821', 'f5822', 'f5823', 'f5824', 'f5825', 'f5826', 'f5827', 'f5828', 'f5829', 'f5830', 'f5831', 'f5832', 'f5833', 'f5834', 'f5835', 'f5836', 'f5837', 'f5838', 'f5839', 'f5840', 'f5841', 'f5842', 'f5843', 'f5844', 'f5845', 'f5846', 'f5847', 'f5848', 'f5849', 'f5850', 'f5851', 'f5852', 'f5853', 'f5854', 'f5855', 'f5856', 'f5857', 'f5858', 'f5859', 'f5860', 'f5861', 'f5862', 'f5863', 'f5864', 'f5865', 'f5866', 'f5867', 'f5868', 'f5869', 'f5870', 'f5871', 'f5872', 'f5873', 'f5874', 'f5875', 'f5876', 'f5877', 'f5878', 'f5879', 'f5880', 'f5881', 'f5882', 'f5883', 'f5884', 'f5885', 'f5886', 'f5887', 'f5888', 'f5889', 'f5890', 'f5891', 'f5892', 'f5893', 'f5894', 'f5895', 'f5896', 'f5897', 'f5898', 'f5899', 'f5900', 'f5901', 'f5902', 'f5903', 'f5904', 'f5905', 'f5906', 'f5907', 'f5908', 'f5909', 'f5910', 'f5911', 'f5912', 'f5913', 'f5914', 'f5915', 'f5916', 'f5917', 'f5918', 'f5919', 'f5920', 'f5921', 'f5922', 'f5923', 'f5924', 'f5925', 'f5926', 'f5927', 'f5928', 'f5929', 'f5930', 'f5931', 'f5932', 'f5933', 'f5934', 'f5935', 'f5936', 'f5937', 'f5938', 'f5939', 'f5940', 'f5941', 'f5942', 'f5943', 'f5944', 'f5945', 'f5946', 'f5947', 'f5948', 'f5949', 'f5950', 'f5951', 'f5952', 'f5953', 'f5954', 'f5955', 'f5956', 'f5957', 'f5958', 'f5959', 'f5960', 'f5961', 'f5962', 'f5963', 'f5964', 'f5965', 'f5966', 'f5967', 'f5968', 'f5969', 'f5970', 'f5971', 'f5972', 'f5973', 'f5974', 'f5975', 'f5976', 'f5977', 'f5978', 'f5979', 'f5980', 'f5981', 'f5982', 'f5983', 'f5984', 'f5985', 'f5986', 'f5987', 'f5988', 'f5989', 'f5990', 'f5991', 'f5992', 'f5993', 'f5994', 'f5995', 'f5996', 'f5997', 'f5998', 'f5999', 'f6000', 'f6001', 'f6002', 'f6003', 'f6004', 'f6005', 'f6006', 'f6007', 'f6008', 'f6009', 'f6010', 'f6011', 'f6012', 'f6013', 'f6014', 'f6015', 'f6016', 'f6017', 'f6018', 'f6019', 'f6020', 'f6021', 'f6022', 'f6023', 'f6024', 'f6025', 'f6026', 'f6027', 'f6028', 'f6029', 'f6030', 'f6031', 'f6032', 'f6033', 'f6034', 'f6035', 'f6036', 'f6037', 'f6038', 'f6039', 'f6040', 'f6041', 'f6042', 'f6043', 'f6044', 'f6045', 'f6046', 'f6047', 'f6048', 'f6049', 'f6050', 'f6051', 'f6052', 'f6053', 'f6054', 'f6055', 'f6056', 'f6057', 'f6058', 'f6059', 'f6060', 'f6061', 'f6062', 'f6063', 'f6064', 'f6065', 'f6066', 'f6067', 'f6068', 'f6069', 'f6070', 'f6071', 'f6072', 'f6073', 'f6074', 'f6075', 'f6076', 'f6077', 'f6078', 'f6079', 'f6080', 'f6081', 'f6082', 'f6083', 'f6084', 'f6085', 'f6086', 'f6087', 'f6088', 'f6089', 'f6090', 'f6091', 'f6092', 'f6093', 'f6094', 'f6095', 'f6096', 'f6097', 'f6098', 'f6099', 'f6100', 'f6101', 'f6102', 'f6103', 'f6104', 'f6105', 'f6106', 'f6107', 'f6108', 'f6109', 'f6110', 'f6111', 'f6112', 'f6113', 'f6114', 'f6115', 'f6116', 'f6117', 'f6118', 'f6119', 'f6120', 'f6121', 'f6122', 'f6123', 'f6124', 'f6125', 'f6126', 'f6127', 'f6128', 'f6129', 'f6130', 'f6131', 'f6132', 'f6133', 'f6134', 'f6135', 'f6136', 'f6137', 'f6138', 'f6139', 'f6140', 'f6141', 'f6142', 'f6143', 'f6144', 'f6145', 'f6146', 'f6147', 'f6148', 'f6149', 'f6150', 'f6151', 'f6152', 'f6153', 'f6154', 'f6155', 'f6156', 'f6157', 'f6158', 'f6159', 'f6160', 'f6161', 'f6162', 'f6163', 'f6164', 'f6165', 'f6166', 'f6167', 'f6168', 'f6169', 'f6170', 'f6171', 'f6172', 'f6173', 'f6174', 'f6175', 'f6176', 'f6177', 'f6178', 'f6179', 'f6180', 'f6181', 'f6182', 'f6183', 'f6184', 'f6185', 'f6186', 'f6187', 'f6188', 'f6189', 'f6190', 'f6191', 'f6192', 'f6193', 'f6194', 'f6195', 'f6196', 'f6197', 'f6198', 'f6199', 'f6200', 'f6201', 'f6202', 'f6203', 'f6204', 'f6205', 'f6206', 'f6207', 'f6208', 'f6209', 'f6210', 'f6211', 'f6212', 'f6213', 'f6214', 'f6215', 'f6216', 'f6217', 'f6218', 'f6219', 'f6220', 'f6221', 'f6222', 'f6223', 'f6224', 'f6225', 'f6226', 'f6227', 'f6228', 'f6229', 'f6230', 'f6231', 'f6232', 'f6233', 'f6234', 'f6235', 'f6236', 'f6237', 'f6238', 'f6239', 'f6240', 'f6241', 'f6242', 'f6243', 'f6244', 'f6245', 'f6246', 'f6247', 'f6248', 'f6249', 'f6250', 'f6251', 'f6252', 'f6253', 'f6254', 'f6255', 'f6256', 'f6257', 'f6258', 'f6259', 'f6260', 'f6261', 'f6262', 'f6263', 'f6264', 'f6265', 'f6266', 'f6267', 'f6268', 'f6269', 'f6270', 'f6271', 'f6272', 'f6273', 'f6274', 'f6275', 'f6276', 'f6277', 'f6278', 'f6279', 'f6280', 'f6281', 'f6282', 'f6283', 'f6284', 'f6285', 'f6286', 'f6287', 'f6288', 'f6289', 'f6290', 'f6291', 'f6292', 'f6293', 'f6294', 'f6295', 'f6296', 'f6297', 'f6298', 'f6299', 'f6300', 'f6301', 'f6302', 'f6303', 'f6304', 'f6305', 'f6306', 'f6307', 'f6308', 'f6309', 'f6310', 'f6311', 'f6312', 'f6313', 'f6314', 'f6315', 'f6316', 'f6317', 'f6318', 'f6319', 'f6320', 'f6321', 'f6322', 'f6323', 'f6324', 'f6325', 'f6326', 'f6327', 'f6328', 'f6329', 'f6330', 'f6331', 'f6332', 'f6333', 'f6334', 'f6335', 'f6336', 'f6337', 'f6338', 'f6339', 'f6340', 'f6341', 'f6342', 'f6343', 'f6344', 'f6345', 'f6346', 'f6347', 'f6348', 'f6349', 'f6350', 'f6351', 'f6352', 'f6353', 'f6354', 'f6355', 'f6356', 'f6357', 'f6358', 'f6359', 'f6360', 'f6361', 'f6362', 'f6363', 'f6364', 'f6365', 'f6366', 'f6367', 'f6368', 'f6369', 'f6370', 'f6371', 'f6372', 'f6373', 'f6374', 'f6375', 'f6376', 'f6377', 'f6378', 'f6379', 'f6380', 'f6381', 'f6382', 'f6383', 'f6384', 'f6385', 'f6386', 'f6387', 'f6388', 'f6389', 'f6390', 'f6391', 'f6392', 'f6393', 'f6394', 'f6395', 'f6396', 'f6397', 'f6398', 'f6399', 'f6400', 'f6401', 'f6402', 'f6403', 'f6404', 'f6405', 'f6406', 'f6407', 'f6408', 'f6409', 'f6410', 'f6411', 'f6412', 'f6413', 'f6414', 'f6415', 'f6416', 'f6417', 'f6418', 'f6419', 'f6420', 'f6421', 'f6422', 'f6423', 'f6424', 'f6425', 'f6426', 'f6427', 'f6428', 'f6429', 'f6430', 'f6431', 'f6432', 'f6433', 'f6434', 'f6435', 'f6436', 'f6437', 'f6438', 'f6439', 'f6440', 'f6441', 'f6442', 'f6443', 'f6444', 'f6445', 'f6446', 'f6447', 'f6448', 'f6449', 'f6450', 'f6451', 'f6452', 'f6453', 'f6454', 'f6455', 'f6456', 'f6457', 'f6458', 'f6459', 'f6460', 'f6461', 'f6462', 'f6463', 'f6464', 'f6465', 'f6466', 'f6467', 'f6468', 'f6469', 'f6470', 'f6471', 'f6472', 'f6473', 'f6474', 'f6475', 'f6476', 'f6477', 'f6478', 'f6479', 'f6480', 'f6481', 'f6482', 'f6483', 'f6484', 'f6485', 'f6486', 'f6487', 'f6488', 'f6489', 'f6490', 'f6491', 'f6492', 'f6493', 'f6494', 'f6495', 'f6496', 'f6497', 'f6498', 'f6499', 'f6500', 'f6501', 'f6502', 'f6503', 'f6504', 'f6505', 'f6506', 'f6507', 'f6508', 'f6509', 'f6510', 'f6511', 'f6512', 'f6513', 'f6514', 'f6515', 'f6516', 'f6517', 'f6518', 'f6519', 'f6520', 'f6521', 'f6522', 'f6523', 'f6524', 'f6525', 'f6526', 'f6527', 'f6528', 'f6529', 'f6530', 'f6531', 'f6532', 'f6533', 'f6534', 'f6535', 'f6536', 'f6537', 'f6538', 'f6539', 'f6540', 'f6541', 'f6542', 'f6543', 'f6544', 'f6545', 'f6546', 'f6547', 'f6548', 'f6549', 'f6550', 'f6551', 'f6552', 'f6553', 'f6554', 'f6555', 'f6556', 'f6557', 'f6558', 'f6559', 'f6560', 'f6561', 'f6562', 'f6563', 'f6564', 'f6565', 'f6566', 'f6567', 'f6568', 'f6569', 'f6570', 'f6571', 'f6572', 'f6573', 'f6574', 'f6575', 'f6576', 'f6577', 'f6578', 'f6579', 'f6580', 'f6581', 'f6582', 'f6583', 'f6584', 'f6585', 'f6586', 'f6587', 'f6588', 'f6589', 'f6590', 'f6591', 'f6592', 'f6593', 'f6594', 'f6595', 'f6596', 'f6597', 'f6598', 'f6599', 'f6600', 'f6601', 'f6602', 'f6603', 'f6604', 'f6605', 'f6606', 'f6607', 'f6608', 'f6609', 'f6610', 'f6611', 'f6612', 'f6613', 'f6614', 'f6615', 'f6616', 'f6617', 'f6618', 'f6619', 'f6620', 'f6621', 'f6622', 'f6623', 'f6624', 'f6625', 'f6626', 'f6627', 'f6628', 'f6629', 'f6630', 'f6631', 'f6632', 'f6633', 'f6634', 'f6635', 'f6636', 'f6637', 'f6638', 'f6639', 'f6640', 'f6641', 'f6642', 'f6643', 'f6644', 'f6645', 'f6646', 'f6647', 'f6648', 'f6649', 'f6650', 'f6651', 'f6652', 'f6653', 'f6654', 'f6655', 'f6656', 'f6657', 'f6658', 'f6659', 'f6660', 'f6661', 'f6662', 'f6663', 'f6664', 'f6665', 'f6666', 'f6667', 'f6668', 'f6669', 'f6670', 'f6671', 'f6672', 'f6673', 'f6674', 'f6675', 'f6676', 'f6677', 'f6678', 'f6679', 'f6680', 'f6681', 'f6682', 'f6683', 'f6684', 'f6685', 'f6686', 'f6687', 'f6688', 'f6689', 'f6690', 'f6691', 'f6692', 'f6693', 'f6694', 'f6695', 'f6696', 'f6697', 'f6698', 'f6699', 'f6700', 'f6701', 'f6702', 'f6703', 'f6704', 'f6705', 'f6706', 'f6707', 'f6708', 'f6709', 'f6710', 'f6711', 'f6712', 'f6713', 'f6714', 'f6715', 'f6716', 'f6717', 'f6718', 'f6719', 'f6720', 'f6721', 'f6722', 'f6723', 'f6724', 'f6725', 'f6726', 'f6727', 'f6728', 'f6729', 'f6730', 'f6731', 'f6732', 'f6733', 'f6734', 'f6735', 'f6736', 'f6737', 'f6738', 'f6739', 'f6740', 'f6741', 'f6742', 'f6743', 'f6744', 'f6745', 'f6746', 'f6747', 'f6748', 'f6749', 'f6750', 'f6751', 'f6752', 'f6753', 'f6754', 'f6755', 'f6756', 'f6757', 'f6758', 'f6759', 'f6760', 'f6761', 'f6762', 'f6763', 'f6764', 'f6765', 'f6766', 'f6767', 'f6768', 'f6769', 'f6770', 'f6771', 'f6772', 'f6773', 'f6774', 'f6775', 'f6776', 'f6777', 'f6778', 'f6779', 'f6780', 'f6781', 'f6782', 'f6783', 'f6784', 'f6785', 'f6786', 'f6787', 'f6788', 'f6789', 'f6790', 'f6791', 'f6792', 'f6793', 'f6794', 'f6795', 'f6796', 'f6797', 'f6798', 'f6799', 'f6800', 'f6801', 'f6802', 'f6803', 'f6804', 'f6805', 'f6806', 'f6807', 'f6808', 'f6809', 'f6810', 'f6811', 'f6812', 'f6813', 'f6814', 'f6815', 'f6816', 'f6817', 'f6818', 'f6819', 'f6820', 'f6821', 'f6822', 'f6823', 'f6824', 'f6825', 'f6826', 'f6827', 'f6828', 'f6829', 'f6830', 'f6831', 'f6832', 'f6833', 'f6834', 'f6835', 'f6836', 'f6837', 'f6838', 'f6839', 'f6840', 'f6841', 'f6842', 'f6843', 'f6844', 'f6845', 'f6846', 'f6847', 'f6848', 'f6849', 'f6850', 'f6851', 'f6852', 'f6853', 'f6854', 'f6855', 'f6856', 'f6857', 'f6858', 'f6859', 'f6860', 'f6861', 'f6862', 'f6863', 'f6864', 'f6865', 'f6866', 'f6867', 'f6868', 'f6869', 'f6870', 'f6871', 'f6872', 'f6873', 'f6874', 'f6875', 'f6876', 'f6877', 'f6878', 'f6879', 'f6880', 'f6881', 'f6882', 'f6883', 'f6884', 'f6885', 'f6886', 'f6887', 'f6888', 'f6889', 'f6890', 'f6891', 'f6892', 'f6893', 'f6894', 'f6895', 'f6896', 'f6897', 'f6898', 'f6899', 'f6900', 'f6901', 'f6902', 'f6903', 'f6904', 'f6905', 'f6906', 'f6907', 'f6908', 'f6909', 'f6910', 'f6911', 'f6912', 'f6913', 'f6914', 'f6915', 'f6916', 'f6917', 'f6918', 'f6919', 'f6920', 'f6921', 'f6922', 'f6923', 'f6924', 'f6925', 'f6926', 'f6927', 'f6928', 'f6929', 'f6930', 'f6931', 'f6932', 'f6933', 'f6934', 'f6935', 'f6936', 'f6937', 'f6938', 'f6939', 'f6940', 'f6941', 'f6942', 'f6943', 'f6944', 'f6945', 'f6946', 'f6947', 'f6948', 'f6949', 'f6950', 'f6951', 'f6952', 'f6953', 'f6954', 'f6955', 'f6956', 'f6957', 'f6958', 'f6959', 'f6960', 'f6961', 'f6962', 'f6963', 'f6964', 'f6965', 'f6966', 'f6967', 'f6968', 'f6969', 'f6970', 'f6971', 'f6972', 'f6973', 'f6974', 'f6975', 'f6976', 'f6977', 'f6978', 'f6979', 'f6980', 'f6981', 'f6982', 'f6983', 'f6984', 'f6985', 'f6986', 'f6987', 'f6988', 'f6989', 'f6990', 'f6991', 'f6992', 'f6993', 'f6994', 'f6995', 'f6996', 'f6997', 'f6998', 'f6999', 'f7000', 'f7001', 'f7002', 'f7003', 'f7004', 'f7005', 'f7006', 'f7007', 'f7008', 'f7009', 'f7010', 'f7011', 'f7012', 'f7013', 'f7014', 'f7015', 'f7016', 'f7017', 'f7018', 'f7019', 'f7020', 'f7021', 'f7022', 'f7023', 'f7024', 'f7025', 'f7026', 'f7027', 'f7028', 'f7029', 'f7030', 'f7031', 'f7032', 'f7033', 'f7034', 'f7035', 'f7036', 'f7037', 'f7038', 'f7039', 'f7040', 'f7041', 'f7042', 'f7043', 'f7044', 'f7045', 'f7046', 'f7047', 'f7048', 'f7049', 'f7050', 'f7051', 'f7052', 'f7053', 'f7054', 'f7055', 'f7056', 'f7057', 'f7058', 'f7059', 'f7060', 'f7061', 'f7062', 'f7063', 'f7064', 'f7065', 'f7066', 'f7067', 'f7068', 'f7069', 'f7070', 'f7071', 'f7072', 'f7073', 'f7074', 'f7075', 'f7076', 'f7077', 'f7078', 'f7079', 'f7080', 'f7081', 'f7082', 'f7083', 'f7084', 'f7085', 'f7086', 'f7087', 'f7088', 'f7089', 'f7090', 'f7091', 'f7092', 'f7093', 'f7094', 'f7095', 'f7096', 'f7097', 'f7098', 'f7099', 'f7100', 'f7101', 'f7102', 'f7103', 'f7104', 'f7105', 'f7106', 'f7107', 'f7108', 'f7109', 'f7110', 'f7111', 'f7112', 'f7113', 'f7114', 'f7115', 'f7116', 'f7117', 'f7118', 'f7119', 'f7120', 'f7121', 'f7122', 'f7123', 'f7124', 'f7125', 'f7126', 'f7127', 'f7128', 'f7129', 'f7130', 'f7131', 'f7132', 'f7133', 'f7134', 'f7135', 'f7136', 'f7137', 'f7138', 'f7139', 'f7140', 'f7141', 'f7142', 'f7143', 'f7144', 'f7145', 'f7146', 'f7147', 'f7148', 'f7149', 'f7150', 'f7151', 'f7152', 'f7153', 'f7154', 'f7155', 'f7156', 'f7157', 'f7158', 'f7159', 'f7160', 'f7161', 'f7162', 'f7163', 'f7164', 'f7165', 'f7166', 'f7167', 'f7168', 'f7169', 'f7170', 'f7171', 'f7172', 'f7173', 'f7174', 'f7175', 'f7176', 'f7177', 'f7178', 'f7179', 'f7180', 'f7181', 'f7182', 'f7183', 'f7184', 'f7185', 'f7186', 'f7187', 'f7188', 'f7189', 'f7190', 'f7191', 'f7192', 'f7193', 'f7194', 'f7195', 'f7196', 'f7197', 'f7198', 'f7199', 'f7200', 'f7201', 'f7202', 'f7203', 'f7204', 'f7205', 'f7206', 'f7207', 'f7208', 'f7209', 'f7210', 'f7211', 'f7212', 'f7213', 'f7214', 'f7215', 'f7216', 'f7217', 'f7218', 'f7219', 'f7220', 'f7221', 'f7222', 'f7223', 'f7224', 'f7225', 'f7226', 'f7227', 'f7228', 'f7229', 'f7230', 'f7231', 'f7232', 'f7233', 'f7234', 'f7235', 'f7236', 'f7237', 'f7238', 'f7239', 'f7240', 'f7241', 'f7242', 'f7243', 'f7244', 'f7245', 'f7246', 'f7247', 'f7248', 'f7249', 'f7250', 'f7251', 'f7252', 'f7253', 'f7254', 'f7255', 'f7256', 'f7257', 'f7258', 'f7259', 'f7260', 'f7261', 'f7262', 'f7263', 'f7264', 'f7265', 'f7266', 'f7267', 'f7268', 'f7269', 'f7270', 'f7271', 'f7272', 'f7273', 'f7274', 'f7275', 'f7276', 'f7277', 'f7278', 'f7279', 'f7280', 'f7281', 'f7282', 'f7283', 'f7284', 'f7285', 'f7286', 'f7287', 'f7288', 'f7289', 'f7290', 'f7291', 'f7292', 'f7293', 'f7294', 'f7295', 'f7296', 'f7297', 'f7298', 'f7299', 'f7300', 'f7301', 'f7302', 'f7303', 'f7304', 'f7305', 'f7306', 'f7307', 'f7308', 'f7309', 'f7310', 'f7311', 'f7312', 'f7313', 'f7314', 'f7315', 'f7316', 'f7317', 'f7318', 'f7319', 'f7320', 'f7321', 'f7322', 'f7323', 'f7324', 'f7325', 'f7326', 'f7327', 'f7328', 'f7329', 'f7330', 'f7331', 'f7332', 'f7333', 'f7334', 'f7335', 'f7336', 'f7337', 'f7338', 'f7339', 'f7340', 'f7341', 'f7342', 'f7343', 'f7344', 'f7345', 'f7346', 'f7347', 'f7348', 'f7349', 'f7350', 'f7351', 'f7352', 'f7353', 'f7354', 'f7355', 'f7356', 'f7357', 'f7358', 'f7359', 'f7360', 'f7361', 'f7362', 'f7363', 'f7364', 'f7365', 'f7366', 'f7367', 'f7368', 'f7369', 'f7370', 'f7371', 'f7372', 'f7373', 'f7374', 'f7375', 'f7376', 'f7377', 'f7378', 'f7379', 'f7380', 'f7381', 'f7382', 'f7383', 'f7384', 'f7385', 'f7386', 'f7387', 'f7388', 'f7389', 'f7390', 'f7391', 'f7392', 'f7393', 'f7394', 'f7395', 'f7396', 'f7397', 'f7398', 'f7399', 'f7400', 'f7401', 'f7402', 'f7403', 'f7404', 'f7405', 'f7406', 'f7407', 'f7408', 'f7409', 'f7410', 'f7411', 'f7412', 'f7413', 'f7414', 'f7415', 'f7416', 'f7417', 'f7418', 'f7419', 'f7420', 'f7421', 'f7422', 'f7423', 'f7424', 'f7425', 'f7426', 'f7427', 'f7428', 'f7429', 'f7430', 'f7431', 'f7432', 'f7433', 'f7434', 'f7435', 'f7436', 'f7437', 'f7438', 'f7439', 'f7440', 'f7441', 'f7442', 'f7443', 'f7444', 'f7445', 'f7446', 'f7447', 'f7448', 'f7449', 'f7450', 'f7451', 'f7452', 'f7453', 'f7454', 'f7455', 'f7456', 'f7457', 'f7458', 'f7459', 'f7460', 'f7461', 'f7462', 'f7463', 'f7464', 'f7465', 'f7466', 'f7467', 'f7468', 'f7469', 'f7470', 'f7471', 'f7472', 'f7473', 'f7474', 'f7475', 'f7476', 'f7477', 'f7478', 'f7479', 'f7480', 'f7481', 'f7482', 'f7483', 'f7484', 'f7485', 'f7486', 'f7487', 'f7488', 'f7489', 'f7490', 'f7491', 'f7492', 'f7493', 'f7494', 'f7495', 'f7496', 'f7497', 'f7498', 'f7499', 'f7500', 'f7501', 'f7502', 'f7503', 'f7504', 'f7505', 'f7506', 'f7507', 'f7508', 'f7509', 'f7510', 'f7511', 'f7512', 'f7513', 'f7514', 'f7515', 'f7516', 'f7517', 'f7518', 'f7519', 'f7520', 'f7521', 'f7522', 'f7523', 'f7524', 'f7525', 'f7526', 'f7527', 'f7528', 'f7529', 'f7530', 'f7531', 'f7532', 'f7533', 'f7534', 'f7535', 'f7536', 'f7537', 'f7538', 'f7539', 'f7540', 'f7541', 'f7542', 'f7543', 'f7544', 'f7545', 'f7546', 'f7547', 'f7548', 'f7549', 'f7550', 'f7551', 'f7552', 'f7553', 'f7554', 'f7555', 'f7556', 'f7557', 'f7558', 'f7559', 'f7560', 'f7561', 'f7562', 'f7563', 'f7564', 'f7565', 'f7566', 'f7567', 'f7568', 'f7569', 'f7570', 'f7571', 'f7572', 'f7573', 'f7574', 'f7575', 'f7576', 'f7577', 'f7578', 'f7579', 'f7580', 'f7581', 'f7582', 'f7583', 'f7584', 'f7585', 'f7586', 'f7587', 'f7588', 'f7589', 'f7590', 'f7591', 'f7592', 'f7593', 'f7594', 'f7595', 'f7596', 'f7597', 'f7598', 'f7599', 'f7600', 'f7601', 'f7602', 'f7603', 'f7604', 'f7605', 'f7606', 'f7607', 'f7608', 'f7609', 'f7610', 'f7611', 'f7612', 'f7613', 'f7614', 'f7615', 'f7616', 'f7617', 'f7618', 'f7619', 'f7620', 'f7621', 'f7622', 'f7623', 'f7624', 'f7625', 'f7626', 'f7627', 'f7628', 'f7629', 'f7630', 'f7631', 'f7632', 'f7633', 'f7634', 'f7635', 'f7636', 'f7637', 'f7638', 'f7639', 'f7640', 'f7641', 'f7642', 'f7643', 'f7644', 'f7645', 'f7646', 'f7647', 'f7648', 'f7649', 'f7650', 'f7651', 'f7652', 'f7653', 'f7654', 'f7655', 'f7656', 'f7657', 'f7658', 'f7659', 'f7660', 'f7661', 'f7662', 'f7663', 'f7664', 'f7665', 'f7666', 'f7667', 'f7668', 'f7669']\ntraining data did not have the following fields: f4150, f4973, f6194, f485, f7638, f1666, f503, f5028, f681, f6698, f2837, f4385, f6002, f165, f4479, f4709, f7656, f2305, f4892, f1586, f1659, f2465, f6449, f7615, f3757, f5768, f1126, f4409, f7084, f4739, f1931, f1324, f1437, f2386, f6500, f4852, f4024, f1752, f6447, f4111, f4713, f4776, f4755, f3633, f104, f3963, f2909, f247, f1823, f1870, f7511, f2360, f4335, f6616, f3972, f5939, f3863, f5174, f6208, f4617, f1238, f2525, f121, f3680, f1855, f4445, f3644, f636, f4388, f5020, f2897, f6201, f4543, f4991, f6827, f2524, f3627, f678, f5633, f6536, f3111, f1142, f1201, f5858, f4927, f6311, f7273, f2291, f2420, f6099, f5220, f6927, f3065, f3895, f5648, f7245, f1284, f595, f4443, f979, f2933, f3295, f5245, f7064, f6807, f4662, f1128, f1787, f1647, f7249, f324, f1694, f2241, f1574, f6488, f5236, f1950, f3235, f5807, f7404, f535, f3196, f234, f5843, f567, f1066, f6463, f6747, f217, f1019, f2039, f2373, f4937, f220, f2738, f517, f6164, f1725, f7230, f3750, f6859, f2261, f5985, f2335, f6712, f5401, f3109, f572, f7536, f3921, f3845, f6881, f2401, f5163, f6595, f2317, f2753, f6313, f5849, f6503, f2331, f3671, f998, f302, f4684, f5505, f4426, f1488, f1495, f3515, f6715, f684, f4827, f4447, f40, f5732, f4863, f3159, f6046, f1815, f3385, f6471, f805, f7454, f2882, f3700, f2681, f4440, f6034, f2789, f5557, f7289, f5643, f5571, f5528, f2209, f6151, f2610, f7039, f6443, f3978, f5269, f4290, f4105, f5157, f6112, f3439, f4768, f2810, f281, f1955, f2229, f4403, f2040, f1456, f1339, f4042, f2653, f5999, f1319, f6946, f5766, f5671, f7208, f1643, f4605, f606, f5655, f5916, f5392, f5810, f290, f5244, f5121, f1463, f5389, f7148, f4421, f5475, f1017, f4361, f6097, f499, f5988, f1254, f6394, f4814, f7034, f1777, f1232, f2085, f5032, f2599, f2272, f6234, f7341, f5920, f3068, f3445, f3150, f6591, f2308, f7544, f561, f1365, f727, f7311, f7549, f5103, f6430, f7254, f2203, f2691, f218, f814, f3975, f2467, f4034, f6803, f1399, f6934, f4441, f6140, f1287, f871, f2744, f2564, f4700, f6656, f4710, f6768, f2456, f1934, f2024, f3979, f2748, f6109, f1920, f3796, f2735, f1190, f7196, f3599, f5733, f1993, f7460, f346, f494, f5838, f5750, f4880, f6936, f5316, f3855, f3166, f86, f1064, f3516, f6053, f4539, f242, f1748, f1938, f6336, f2246, f7569, f7326, f7543, f5964, f3301, f995, f3587, f3940, f1002, f3948, f434, f6497, f6224, f5680, f4822, f6177, f4744, f3311, f5951, f445, f2943, f6461, f6892, f2138, f6340, f6664, f5826, f2435, f2670, f3649, f765, f1550, f4212, f3527, f2973, f7014, f4221, f1636, f70, f5495, f6077, f6136, f1943, f4562, f2047, f4794, f4132, f4651, f7279, f3984, f4848, f6899, f1500, f5187, f2059, f7428, f2569, f2474, f6577, f6948, f2731, f6409, f3139, f6952, f5205, f7191, f5110, f4845, f3145, f3851, f4459, f6071, f2829, f1298, f3950, f5568, f4609, f1642, f3776, f4674, f186, f6603, f5330, f555, f3030, f5248, f3283, f1961, f3735, f1255, f4779, f5280, f7490, f2035, f5119, f2413, f1059, f318, f5503, f6021, f4793, f7025, f67, f4728, f5263, f2106, f3347, f4492, f6412, f3070, f3701, f5255, f1370, f731, f117, f5130, f6024, f2471, f3746, f5652, f2343, f2140, f7267, f2464, f5721, f5752, f1148, f2590, f2491, f4337, f1417, f1880, f7169, f6389, f6117, f812, f450, f2226, f2578, f546, f6360, f2081, f4405, f2530, f1667, f6068, f3899, f2005, f906, f3047, f6937, f2931, f4549, f1391, f5707, f479, f2450, f6763, f3448, f2636, f6477, f6855, f163, f310, f2149, f4520, f4274, f3607, f5063, f5573, f2617, f6933, f5087, f1661, f1029, f5806, f7621, f455, f7443, f2893, f1301, f6023, f7053, f3029, f5344, f5410, f5963, f1280, f3764, f3252, f6015, f4060, f4758, f6863, f2191, f5443, f122, f736, f1472, f6278, f2341, f852, f4619, f5595, f7263, f4905, f5271, f4981, f4245, f7093, f5549, f6264, f947, f1529, f2415, f7059, f2018, f6297, f5261, f7396, f6239, f6970, f553, f6589, f3596, f1080, f5957, f298, f390, f1251, f4691, f183, f2188, f6369, f901, f7015, f5364, f4541, f2536, f3635, f1329, f6685, f1626, f746, f5274, f1428, f1822, f4394, f7474, f2070, f1402, f6230, f7136, f6181, f3125, f1604, f285, f6755, f6784, f7330, f230, f774, f5493, f1448, f6373, f2953, f3102, f6390, f6884, f3436, f7627, f5375, f5161, f7412, f3696, f7163, f425, f3937, f6523, f320, f7211, f6165, f1761, f3629, f1275, f443, f3797, f3559, f1267, f6098, f4265, f327, f2510, f2779, f6821, f3648, f401, f5295, f1211, f2214, f7420, f2760, f3188, f1514, f6060, f5124, f7275, f5192, f4875, f2634, f1695, f523, f5413, f5817, f4861, f3050, f3903, f5490, f987, f5961, f6746, f2938, f5544, f3678, f1523, f7003, f6135, f6225, f6547, f3673, f829, f4341, f2640, f1594, f7001, f3811, f1874, f4410, f4185, f1834, f2796, f2067, f4462, f5341, f772, f944, f672, f5079, f4275, f7130, f6335, f7642, f1916, f5259, f785, f5705, f3380, f974, f3638, f3664, f6328, f903, f6945, f5602, f4704, f7076, f1751, f6918, f5299, f1036, f4292, f5153, f414, f6992, f387, f1085, f7120, f4083, f1376, f7131, f5551, f1903, f141, f2183, f2231, f1521, f5026, f3990, f1517, f1800, f5429, f4847, f377, f3014, f3484, f2781, f2819, f714, f3621, f2325, f3476, f1269, f5349, f1587, f2469, f2538, f2961, f5837, f675, f2570, f6883, f4810, f3397, f6759, f5059, f865, f4749, f3521, f6359, f5411, f5890, f2842, f4577, f3219, f5681, f2820, f404, f2719, f5512, f1348, f2114, f6570, f4355, f7229, f6669, f1337, f2885, f7068, f3160, f1418, f1818, f6923, f3931, f2788, f2817, f1138, f2368, f1883, f7200, f4285, f1999, f1680, f5997, f1180, f6131, f3023, f5992, f1194, f2752, f1018, f5500, f5787, f4305, f6909, f3552, f7109, f3650, f2049, f877, f6025, f615, f3394, f3268, f1259, f1161, f1459, f5899, f2733, f5281, f2625, f3489, f7612, f6690, f4377, f7080, f6865, f2944, f4707, f2771, f2946, f2757, f6510, f7366, f322, f7175, f2593, f4286, f362, f5247, f6610, f2400, f685, f2033, f4026, f6275, f2230, f3749, f6605, f5635, f488, f4732, f7170, f7240, f739, f4770, f3083, f2589, f1213, f6432, f4791, f3754, f5828, f3570, f3246, f6593, f2981, f6147, f569, f1867, f2126, f7622, f4419, f6337, f7304, f4500, f712, f2289, f3247, f5270, f6529, f816, f6066, f1891, f4738, f3915, f522, f4826, f4277, f4311, f7448, f1479, f5371, f1675, f2894, f5894, f291, f1097, f6446, f2727, f6253, f5795, f5547, f3995, f6420, f3600, f3523, f2848, f3755, f6427, f5599, f7295, f983, f3234, f5301, f1600, f2962, f3294, f4948, f1981, f637, f1638, f2635, f6445, f3284, f351, f6845, f3783, f7662, f2726, f7629, f648, f818, f3692, f6411, f6791, f6199, f2332, f5730, f3844, f5716, f3007, f3325, f348, f374, f3426, f6057, f478, f7393, f6741, f6761, f881, f658, f976, f4016, f6646, f6545, f1037, f2356, f4872, f3450, f5446, f2869, f6102, f1734, f2468, f5581, f4011, f2434, f5781, f1615, f2233, f3123, f5841, f6740, f5073, f7153, f451, f435, f5764, f5592, f6598, f1026, f7215, f3869, f4612, f7061, f257, f1962, f820, f1032, f5726, f2234, f6010, f1885, f5929, f299, f6167, f3428, f4883, f1566, f3919, f7124, f2304, f2811, f4987, f3099, f5579, f3654, f1144, f6031, f1406, f5260, f4649, f4877, f6459, f3291, f7259, f6720, f3866, f4027, f2706, f969, f3037, f4989, f6560, f1848, f791, f2707, f2427, f6295, f7434, f2611, f4977, f2813, f1020, f6967, f738, f6114, f786, f2892, f1293, f274, f5372, f5395, f6520, f5809, f5065, f5090, f6163, f1224, f827, f1779, f6783, f7573, f4509, f6410, f1701, f7552, f7586, f1497, f4757, f7287, f2402, f6913, f2449, f4701, f1486, f831, f4930, f3383, f4052, f3280, f1415, f6688, f1547, f6841, f7424, f5532, f4309, f3537, f7632, f5710, f6357, f6306, f4511, f6606, f2485, f1593, f5337, f2074, f7312, f3401, f4135, f2060, f790, f7195, f2766, f4115, f5519, f6539, f6928, f2969, f1782, f5434, f4474, f5844, f1139, f1958, f3263, f4013, f766, f7086, f557, f7020, f1409, f5088, f7234, f5034, f1655, f1616, f2746, f4559, f129, f1716, f7221, f4300, f7359, f5060, f6764, f1720, f1737, f5958, f3912, f869, f6207, f6038, f7135, f735, f6011, f1989, f3372, f3788, f3737, f806, f1951, f7374, f4425, f5700, f224, f2831, f3170, f6622, f4719, f4544, f7334, f5339, f5991, f2989, f520, f3117, f2561, f6506, f2912, f2245, f4841, f2295, f6091, f2516, f863, f4846, f5025, f573, f4792, f4259, f5914, f263, f6172, f5597, f3729, f2734, f2960, f7252, f1101, f7189, f6830, f1165, f99, f1141, f1430, f1932, f2349, f7042, f303, f2891, f4650, f437, f5722, f7425, f3790, f1306, f1225, f3296, f7553, f4947, f2190, f4272, f301, f7026, f647, f6126, f6938, f7574, f5433, f5740, f1024, f1888, f6076, f4686, f5334, f4808, f7416, f600, f6962, f652, f4001, f173, f6734, f7439, f838, f5238, f948, f6087, f4157, f91, f3699, f5134, f2728, f2970, f6481, f2704, f1654, f1746, f6079, f4374, f4767, f7470, f2914, f2851, f4490, f3679, f1094, f6035, f487, f3982, f1516, f4241, f4428, f1210, f469, f677, f384, f6961, f6362, f1487, f7472, f3782, f7508, f1570, f5229, f1576, f2756, f2244, f6501, f3955, f1107, f171, f7546, f2863, f5702, f3573, f1316, f3121, f3519, f4639, f3475, f797, f1122, f4340, f6402, f6585, f3452, f6460, f143, f4554, f3261, f6363, f7074, f7635, f7019, f4101, f4735, f5302, f6517, f253, f3248, f5741, f4491, f1689, f6662, f3486, f1536, f6058, f7595, f6032, f6778, f7037, f787, f5926, f841, f1992, f6073, f3586, f5881, f110, f3107, f3318, f5598, f4047, f4130, f956, f2107, f7305, f7409, f7344, f4560, f3536, f3971, f7468, f1878, f5139, f446, f3206, f4901, f7465, f920, f5830, f4731, f75, f3314, f5935, f6941, f1705, f6121, f3550, f2120, f5955, f7235, f1394, f1504, f3427, f7000, f6986, f2058, f6993, f3702, f6259, f1784, f2071, f4211, f6256, f1152, f2323, f2952, f625, f5345, f7090, f5650, f3806, f6493, f7616, f7075, f1621, f1727, f3286, f4314, f5213, f2591, f2668, f6766, f5406, f6671, f4983, f3429, f4950, f6492, f4854, f1918, f4885, f3223, f209, f7010, f69, f3212, f3453, f1359, f4110, f3526, f4079, f6729, f2242, f2486, f526, f510, f5804, f3366, f688, f7174, f840, f4165, f2563, f1270, f6947, f5962, f6244, f6022, f1935, f7030, f7377, f2515, f1637, f2998, f4621, f4477, f1693, f562, f3593, f5556, f5367, f2388, f5204, f3186, f6437, f4811, f6919, f3194, f356, f6960, f6128, f1170, f2259, f5268, f2437, f6006, f6872, f3468, f2073, f2718, f941, f2109, f5550, f2547, f909, f2256, f6989, f287, f6797, f2217, f7498, f5877, f1983, f3738, f6817, f5546, f2807, f5374, f493, f4754, f42, f4858, f1477, f108, f6889, f5972, f6894, f2751, f4062, f5171, f655, f2967, f2856, f6145, f6553, f2404, f1098, f3146, f60, f981, f1879, f2097, f5092, f268, f1358, f6557, f6062, f1853, f2721, f3260, f2148, f3059, f4505, f3350, f6388, f665, f1578, f4081, f3241, f587, f717, f3767, f6288, f4495, f370, f1092, f283, f3739, f889, f5208, f879, f5502, f5668, f2418, f1426, f4103, f6466, f2007, f6976, f1850, f5739, f2664, f2048, f2240, f5285, f2155, f4626, f6511, f1797, f929, f1710, f119, f1372, f481, f821, f2566, f1431, f5878, f4344, f6737, f4224, f1168, f6846, f2818, f4665, f6227, f2004, f7643, f1712, f7657, f354, f3421, f4363, f5435, f4616, f4451, f7477, f3815, f5399, f3026, f4769, f2622, f6753, f249, f3624, f7181, f686, f3710, f4692, f776, f1025, f6532, f6453, f1653, f2955, f2708, f3472, f2157, f2075, f6904, f4600, f4878, f355, f5451, f6044, f1749, f704, f6312, f2460, f2030, f1804, f293, f3278, f1939, f420, f132, f5989, f2890, f5202, f6122, f634, f5167, f1004, f7581, f4251, f6494, f3209, f6633, f2576, f5577, f5664, f6458, f4484, f5361, f380, f5514, f408, f2063, f3307, f870, f7028, f5075, f3103, f1474, f6187, f4943, f5353, f416, f4680, f4924, f432, f7641, f3708, f5523, f4598, f1106, f4460, f7316, f5331, f4386, f504, f6971, f1183, f4312, f6339, f3807, f5669, f2895, f2309, f1925, f5013, f1624, f7394, f271, f7407, f6343, f5586, f7224, f2898, f74, f41, f3645, f3888, f6440, f1462, f2755, f2072, f1635, f6195, f671, f4904, f4521, f3343, f4664, f7276, f6206, f1512, f1602, f1090, f1000, f1466, f6684, f7418, f7140, f3133, f3458, f4667, f6632, f890, f7110, f6627, f5017, f4759, f3493, f1119, f4053, f2934, f3097, f1738, f2394, f4988, f6975, f1577, f7503, f5101, f2099, f1583, f3001, f4012, f3565, f1940, f4743, f4851, f982, f1702, f3518, f5108, f6850, f1866, f4164, f7373, f5780, f6289, f57, f130, f6573, f3424, f6265, f5126, f1134, f1283, f5540, f5335, f259, f6939, f762, f4602, f826, f5127, f33, f3839, f6902, f1112, f6886, f2546, f6125, f4147, f5978, f3017, f1344, f2605, f2608, f4761, f7504, f7389, f3774, f1079, f5043, f2832, f5409, f4940, f5774, f4548, f4392, f1408, f470, f3718, f7426, f1295, f2102, f1485, f657, f7308, f3018, f308, f4746, f4043, f4071, f4054, f3626, f3713, f645, f2419, f6047, f1802, f3932, f6050, f7567, f1058, f2192, f6738, f4698, f1664, f4556, f6802, f410, f1596, f6849, f632, f4161, f834, f1877, f6780, f7119, f6220, f6413, f1440, f3558, f4968, f7601, f3101, f2440, f2784, f3929, f4508, f223, f5010, f452, f6659, f1786, f1371, f3935, f5670, f2884, f1309, f6875, f7035, f4519, f2514, f2446, f7339, f7440, f922, f3400, f4945, f7363, f4092, f4342, f1532, f3916, f4551, f3233, f2713, f5651, f6267, f3684, f3485, f4825, f4729, f4176, f679, f1468, f4102, f7431, f495, f7534, f5431, f882, f6905, f813, f3257, f4376, f3353, f7213, f1290, f7605, f3689, f6450, f2076, f3917, f3329, f3391, f5834, f4992, f6137, f3113, f5421, f4571, f1619, f6055, f7154, f1558, f4720, f3052, f4383, f3905, f873, f1528, f1392, f4304, f80, f6569, f1374, f4829, f2996, f6052, f2441, f7489, f892, f676, f7380, f5971, f6871, f103, f5082, f2694, f6027, f261, f3185, f2409, f7660, f3760, f6452, f1109, f1531, f314, f1582, f1422, f6269, f3203, f3769, f6958, f368, f1078, f1838, f1062, f2642, f457, f3202, f602, f5177, f5048, f3808, f6051, f4607, f4675, f5677, f1217, f2942, f3756, f4396, f895, f6604, f4040, f5241, f7072, f4579, f7435, f7422, f5689, f5056, f570, f2742, f4517, f5300, f3555, f3192, f6191, f769, f2313, f6272, f1527, f313, f5516, f4244, f3723, f4946, f6929, f3892, f6581, f1793, f7491, f7405, f2122, f1226, f5145, f1438, f7319, f651, f3198, f6857, f1470, f1785, f5105, f4740, f7185, f6341, f6609, f2700, f6666, f25, f106, f2506, f2500, f932, f1087, f2011, f7484, f1105, f144, f3698, f6906, f835, f5064, f5936, f6742, f631, f939, f4975, f4676, f5232, f3768, f4044, f2405, f372, f3169, f429, f207, f5640, f145, f2146, f339, f3306, f6815, f4850, f2971, f3751, f7248, f39, f4532, f7139, f4437, f1453, f5767, f6661, f2041, f5683, f489, f2358, f3524, f2173, f2399, f7142, f2119, f5861, f7459, f1239, f5214, f5200, f5588, f5928, f3512, f2251, f3691, f2086, f23, f5055, f5791, f5903, f5298, f5333, f5627, f1050, f1325, f4657, f1706, f2197, f159, f2463, f2492, f3408, f5501, f424, f1584, f6723, f1044, f1407, f279, f4655, f5694, f7559, f3534, f7522, f6219, f2522, f3959, f4726, f2690, f1230, f3180, f2865, f1091, f5977, f5799, f6831, f5362, f6216, f6029, f4420, f4178, f3615, f6349, f3412, f6564, f3389, f7623, f6004, f6526, f6279, f6150, f1984, f48, f1483, f2922, f3055, f917, f1237, f1007, f3460, f7521, f4035, f5449, f7228, f6408, f395, f3290, f2277, f5513, f412, f254, f2284, f1444, f1755, f2319, f571, f1629, f4963, f531, f2936, f1732, f5304, f6748, f897, f5520, f2042, f5776, f2827, f591, f2579, f5486, f5530, f109, f4677, f2397, f1592, f2370, f5460, f2436, f7528, f195, f4751, f2112, f2519, f7066, f5738, f2026, f2915, f4557, f3364, f3838, f4702, f4632, f4416, f796, f2371, f5041, f3094, f4803, f264, f2939, f7023, f5111, f2177, f2535, f185, f4359, f6424, f7192, f752, f4446, f4303, f5829, f5879, f7270, f7241, f5937, f6750, f2314, f7180, f1154, f5983, f3048, f5855, f55, f2129, f2861, f2390, f1404, f2926, f3269, f2395, f4198, f65, f7291, f5566, f5253, f6485, f7532, f4222, f1511, f6775, f72, f4273, f1030, f3207, f5785, f2003, f6406, f2032, f4226, f6774, f1320, f4073, f3197, f6535, f7518, f500, f1791, f6522, f7168, f4568, f4118, f4197, f3027, f951, f5481, f169, f4137, f5980, f1929, f4620, f849, f7433, f3930, f5150, f3728, f3491, f800, f4708, f2117, f402, f4009, f4112, f689, f7062, f6302, f4586, f1258, f3933, f4773, f888, f92, f5275, f2993, f4133, f694, f2555, f3148, f6714, f5061, f4628, f596, f1436, f659, f6300, f4706, f6824, f1350, f1001, f5950, f6344, f240, f1188, f990, f538, f638, f1640, f5035, f6296, f4688, f4331, f2408, f4965, f2143, f6505, f5966, f2131, f5363, f862, f6679, f4653, f418, f5803, f3341, f1723, f5112, f5835, f3322, f1901, f4408, f2182, f3430, f3663, f6454, f1318, f6950, f7609, f4210, f4640, f5679, f3328, f1591, f2247, f6628, f2208, f472, f3483, f1721, f1040, f1575, f1544, f3243, f1745, f3387, f7091, f7226, f1770, f3682, f2411, f3138, f2628, f1162, f6237, f1979, f6426, f191, f2329, f4075, f845, f4984, f883, f7266, f1729, f275, f3945, f6733, f5455, f7290, f3802, f6400, f3267, f6752, f6290, f1913, f3944, f7415, f5488, f5303, f1257, f4217, f1271, f2987, f1209, f4764, f149, f5603, f3368, f1423, f32, f5902, f2083, f4051, f3612, f2384, f3511, f1332, f5932, f6683, f5717, f4235, f4785, f5396, f4716, f6701, f2265, f2844, f4114, f5086, f2816, f4123, f4288, f4952, f6367, f4247, f203, f2053, f6268, f3356, f6994, f6384, f5639, f4072, f5792, f7243, f7336, f5329, f4887, f1733, f5478, f2606, f6039, f2347, f3707, f3315, f1843, f7329, f4797, f524, f1567, f2218, f2587, f6133, f6309, f2550, f3229, f5918, f7178, f4015, f1469, f4603, f4444, f4109, f5382, f4399, f4450, f3827, f5074, f7558, f1338, f3095, f5718, f1222, f2001, f3398, f3217, f3351, f1159, f770, f3741, f1089, f1620, f358, f5179, f7562, f4561, f3832, f966, f945, f6065, f1731, f2815, f5062, f2478, f2776, f5083, f1218, f3043, f1127, f5996, f1388, f6907, f3925, f7102, f775, f3744, f2421, f771, f5168, f1130, f1124, f2496, f473, f6142, f633, f1539, f6677, f5014, f2490, f4980, f1976, f1685, f527, f2504, f3369, f4696, f6985, f611, f1088, f5542, f743, f2488, f6558, f3008, f3072, f7204, f5152, f885, f1814, f4173, f4107, f4939, f5469, f7164, f7206, f1847, f1887, f1844, f102, f2924, f722, f3110, f3697, f7046, f3693, f6730, f508, f4522, f5587, f1346, f2900, f6673, f2963, f2043, f757, f3201, f413, f2676, f2333, f5497, f459, f156, f7596, f986, f2740, f3506, f1278, f5019, f1750, f1540, f5008, f2224, f5393, f1400, f3694, f5915, f5642, f3320, f3470, f7608, f3174, f2982, f1310, f3273, f1805, f1212, f2780, f2875, f3977, f7453, f4606, f1243, f6129, f3841, f4985, f4228, f5273, f6229, f6642, f1796, f4163, f6036, f1355, f2302, f5570, f6826, f5288, f2267, f4618, f6550, f579, f7348, f6689, f1995, f335, f7517, f3344, f3181, f2802, f188, f3128, f3522, f5468, f1234, f1104, f3297, f2692, f5480, f1378, f5350, f5575, f6867, f7547, f7430, f1340, f6878, f1753, f3630, f2326, f2714, f3722, f5322, f7013, f6054, f5296, f4174, f3249, f2666, f639, f3598, f6439, f5201, f3228, f4223, f4252, f6617, f6320, f1435, f7044, f3583, f4316, f6103, f7397, f5256, f6966, f4820, f2917, f3451, f537, f3423, f3965, f729, f6614, f1286, f2945, f1735, f6110, f2336, f7603, f1491, f221, f2127, f2054, f4753, f1767, f5368, f7481, f3572, f552, f6425, f4086, f7024, f5616, f2353, f7126, f2352, f2288, f5634, f497, f2156, f400, f388, f436, f5974, f4645, f5823, f1276, f2337, f1328, f3991, f4833, f6042, f1651, f1442, f5922, f6186, f6263, f965, f5773, f4842, f2381, f4146, f213, f5000, f2986, f5309, f5580, f6228, f6999, f6218, f2674, f1697, f3177, f6590, f5797, f502, f6757, f783, f614, f3255, f6601, f6308, f1182, f4534, f3885, f2956, f3390, f6696, f3089, f912, f3980, f7262, f4260, f4248, f3231, f3406, f1321, f4596, f61, f5457, f360, f4483, f1333, f5771, f6943, f4238, f3371, f5365, f664, f2407, f2484, f7427, f6979, f2880, f3355, f6910, f2260, f7246, f2268, f3337, f6722, f2930, f1657, f6072, f4974, f3554, f5219, f7351, f781, f5851, f3256, f4179, f2737, f5756, f586, f2995, f4498, f1167, f2364, f239, f7548, f1425, f4216, f5380, f2036, f4182, f5892, f5225, f4550, f630, f4891, f1457, f3941, f6280, f6930, f331, f4365, f7133, f1645, f6113, f6944, f1970, f2899, f1068, f4996, f1560, f6630, f1688, f560, f6371, f4136, f5354, f5593, f6096, f4000, f7482, f1336, f6870, f7056, f4476, f788, f938, f244, f778, f3440, f1421, f3407, f2425, f5458, f4427, f7387, f2110, f6108, f5456, f7342, f7545, f2044, f1671, f3734, f3467, f5886, f2236, f3974, f6196, f5584, f4170, f6474, f3928, f7137, f6215, f2013, f1501, f3547, f999, f4046, f4866, f4069, f415, f3936, f4801, f1633, f4821, f4384, f1508, f2669, f4354, f6404, f1412, f7585, f3242, f5183, f3482, f7554, f6345, f6767, f3137, f5077, f5907, f5312, f6211, f6005, f4280, f6346, f2854, f3271, f6431, f7156, f789, f4555, f5723, f7507, f2803, f6169, f146, f359, f4014, f3531, f5769, f7362, f3416, f4689, f1736, f5931, f3053, f3479, f3603, f5104, f5708, f6231, f5388, f2873, f2772, f5613, f4951, f2213, f5138, f5444, f4896, f7531, f300, f4614, f4004, f7357, f5113, f4802, f2683, f4082, f4281, f669, f7117, f2271, f6316, f4417, f480, f2144, f6672, f1908, f801, f1458, f4908, f5666, f6914, f4838, f4470, f2703, f7081, f6840, f6940, f4472, f3240, f6744, f3996, f3071, f5763, f6822, f4868, f6193, f4583, f6843, f3010, f4099, f507, f245, f2594, f1841, f3784, f3873, f2495, f5044, f5933, f4387, f378, f5632, f6825, f3920, f7411, f3381, f5889, f5981, f4404, f5839, f27, f2448, f6381, f2678, f6618, f409, f6908, f2158, f4839, f1832, f6828, f6860, f6968, f7210, f5518, f4623, f5672, f3049, f1873, f5845, f2659, f6956, f5211, f4020, f7277, f4188, f6697, f7337, f574, f4748, f6338, f5109, f6444, f1033, f4190, f5224, f2312, f992, f2299, f5018, f2618, f3813, f6001, f3858, f5888, f872, f2365, f1632, f4438, f4715, f4432, f6809, f5658, f6143, f7205, f4319, f937, f7340, f764, f7392, f93, f6246, f3662, f3084, f6048, f4828, f2596, f5759, f5206, f2459, f3140, f532, f1518, f7352, f718, f4912, f1249, f1323, f1986, f6299, f4333, f124, f5614, f2804, f3096, f5507, f4587, f168, f506, f7166, f4271, f5477, f4402, f2847, f949, f4967, f2612, f6242, f6760, f1307, f1057, f3825, f5947, f516, f6405, f2045, f2607, f5704, f7297, f5320, f7212, f4158, f6877, f3658, f5122, f1865, f5196, f2958, f2202, f6291, f5913, f3250, f6728, f2280, f2805, f2274, f5195, f1630, f2147, f2207, f6686, f399, f4630, f5420, f2442, f2763, f4345, f2656, f2094, f2366, f5866, f2296, f4512, f2768, f4144, f4297, f4349, f6286, f5908, f3962, f4250, f4066, f1053, f7395, f542, f4644, f363, f3510, f5123, f2889, f7537, f3088, f5762, f7309, f1260, f4608, f7315, f4391, f4415, f621, f4488, f6533, f1803, f4078, f7307, f1476, f5308, f6448, f1443, f7165, f4393, f6089, f1393, f2725, f1160, f1617, f88, f7272, f6717, f1054, f2639, f5482, f448, f6178, f575, f4986, f5348, f1519, f2743, f6749, f3810, f5137, f3309, f3562, f5267, f2812, f2481, f2509, f4199, f4873, f407, f3156, f3422, f6579, f251, f7152, f7619, f1252, f5529, f817, f5673, f5534, f5605, f1410, f6682, f6175, f1173, f385, f3923, f2794, f1911, f343, f350, f2913, f2972, f4679, f5847, f187, f227, f7461, f7475, f2009, f5194, f3449, f691, f179, f2108, f751, f5782, f896, f6785, f1982, f3033, f1031, f5470, f3277, f6116, f7655, f2210, f716, f6462, f1854, f7097, f6378, f2834, f3619, f1781, f7184, f3285, f4899, f7239, f1353, f4056, f7564, f3986, f3120, f5875, f1858, f7565, f1375, f4467, f1439, f4019, f2828, f6814, f5715, f1116, f3064, f7524, f326, f3411, f2216, f4029, f1764, f2497, f3987, f5071, f208, f7587, f3871, f6612, f6455, f2923, f4501, f1200, f4021, f7146, f1545, f2433, f4339, f2990, f5465, f167, f7282, f1322, f2947, f5811, f5825, f4721, f309, f6260, f2558, f2822, f3122, f4266, f2795, f3733, f6588, f5737, f3190, f5114, f3681, f4591, f5070, f2911, f6876, f3504, f3620, f994, f1707, f237, f2992, f4712, f7391, f1820, f37, f7251, f3566, f3695, f4610, f1679, f7302, f47, f3251, f3528, f5758, f5867, f5827, f697, f4874, f4592, f1228, f700, f7509, f3886, f1022, f3326, f6111, f693, f4299, f1171, f305, f511, f612, f5151, f236, f4893, f4237, f1446, f2797, f4373, f6433, f7197, f4486, f116, f4296, f2800, f3056, f4338, f5959, f6347, f1899, f7438, f7069, f2903, f6271, f2050, f5686, f4923, f2282, f3005, f4317, f2595, f2855, f5701, f924, f276, f2940, f4257, f4276, f4957, f3545, f5842, f2206, f5117, f1048, f2688, f200, f3711, f3551, f4518, f1869, f2219, f1789, f4406, f5859, f5712, f3549, f2698, f199, f2439, f2502, f3927, f3590, f4658, f3237, f1049, f3773, f7614, f7497, f2385, f3799, f5612, f7584, f4368, f3794, f3012, f5610, f4663, f4771, f5509, f2862, f5294, f2770, f6998, f7283, f2571, f6852, f6468, f2722, f4121, f282, f4457, f6508, f2616, f3880, f1294, f2430, f1743, f6866, f3418, f1949, f2239, f2806, f1524, f7121, f4717, f3173, f5770, f5129, f5574, f133, f7011, f3024, f534, f4412, f7634, f1241, f3864, f2906, f3105, f4215, f3305, f1571, f3218, f6953, f7258, f6504, f231, f297, f1113, f5979, f3220, f3178, f4329, f6991, f3800, f3777, f4690, f6660, f3670, f1368, f6773, f4038, f28, f5166, f2585, f3669, f6965, f5943, f5287, f6674, f7354, f3434, f3613, f2732, f5438, f5692, f3067, f3340, f5390, f155, f6277, f1341, f6973, f4925, f4673, f2785, f5216, f4760, f1272, f6176, f4588, f6528, f6890, f7533, f2014, f6823, f6095, f6980, f2438, f3836, f3889, f2255, f4323, f461, f667, f1849, f4806, f5217, f6710, f876, f2028, f5862, f3561, f5630, f3224, f5262, f1261, f3791, f899, f5840, f3038, f3914, f392, f7141, f7048, f5340, f5938, f7031, f3082, f2354, f4424, f6364, f6964, f6490, f138, f5719, f3465, f4155, f5895, f1589, f3580, f1449, f3079, f5266, f2194, f908, f426, f6153, f6776, f7122, f3606, f6915, f5080, f1790, f1639, f1055, f1914, f2145, f7265, f4654, f43, f7222, f853, f7630, f1933, f1966, f421, f6037, f2443, f5912, f36, f3270, f2037, f3106, f6708, f604, f6370, f7288, f1980, f6056, f1072, f1264, f7463, f4192, f2263, f6236, f7138, f846, f2475, f2250, f3312, f1698, f2215, f3118, f4033, f4357, f6711, f515, f5793, f5784, f925, f6942, f6607, f4023, f2747, f603, f5029, f3222, f1216, f4849, f3574, f5391, f1564, f2101, f2684, f3119, f3134, f6154, f915, f6451, f466, f978, f4960, f205, f5624, f3466, f5185, f1842, f5973, f6247, f2483, f2196, f3507, f3399, f3647, f5210, f4302, f1628, f3539, f1915, f6563, f2852, f2540, f1385, f1573, f2479, f6200, f6480, f3477, f2477, f4253, f332, f5941, f2769, f7314, f2932, f7469, f7506, f5545, f5644, f5541, f6836, f7157, f238, f6525, f1206, f3997, f4668, f4871, f1715, f5250, f1728, f3661, f3345, f698, f702, f3968, f7571, f2602, f2278, f2531, f1067, f753, f1535, f4553, f5775, f7144, f1455, f1542, f323, f5242, f3714, f3687, f3081, f4070, f6882, f661, f5638, f83, f7597, f1845, f3947, f1801, f2858, f521, f833, f4570, f2528, f1475, f1196, f6901, f7452, f6597, f5338, f3883, f980, f4134, f296, f1189, f6716, f3594, f5148, f7108, f5820, f4195, f5405, f6202, f3814, f2328, f6174, f568, f7401, f536, f1247, f1821, f1009, f6575, f2205, f4752, f2836, f2300, f4458, f456, f31, f7065, f1605, f544, f352, f3324, f854, f161, f2629, f3183, f5448, f4077, f1768, f1147, f6621, f7346, f4148, f2565, f7177, f26, f2115, f5115, f961, f3332, f7219, f158, f1599, f6799, f2273, f2472, f7012, f1086, f2761, f7045, f3221, f7593, f3463, f1771, f4088, f3021, f5560, f4168, f6546, f4455, f3973, f4124, f3200, f756, f3236, f6436, f3730, f1900, f430, f3265, f1585, f2428, f7006, f2604, f2002, f2872, f4328, f7458, f5162, f38, f5370, f6365, f6912, f936, f2710, f2391, f1102, f1711, f5816, f2866, f5001, f3377, f3275, f6602, f3816, f7236, f3674, f5748, f1525, f5885, f2711, f3918, f6538, f3720, f6951, f3563, f4104, f6955, f7388, f1988, f1250, f442, f696, f1662, f4236, f1312, f3388, f641, f1143, f1296, f1403, f2223, f4395, f1864, f6166, f7350, f2929, f1175, f2709, f6959, f1242, f6331, f3618, f1546, f76, f3066, f2586, f4031, f2808, f5783, f7594, f2749, f4671, f6401, f5198, f5016, f3232, f2554, f6731, f7060, f3032, f7325, f856, f3158, f2266, f4624, f6063, f5942, f4041, f7216, f3454, f7659, f4061, f2297, f3557, f2603, f1347, f3911, f1691, f4117, f5436, f4159, f1503, f5982, f4074, f4473, f1998, f3517, f2174, f4547, f5430, f1930, f3077, f913, f3216, f1674, f5007, f2677, f1424, f1975, f2620, f1759, f6721, f7327, f7281, f5583, f1389, f6262, f3204, f3431, f2750, f1397, f6896, f548, f306, f4193, f605, f6192, f2786, f5494, f1131, f5453, f1204, f2412, f1541, f1012, f1897, f3076, f3367, f5893, f2301, f7271, f4325, f608, f3690, f946, f5311, f6873, f2357, f1799, f7095, f1533, f5165, f1859, f266, f2864, f5272, f3276, f5535, f5623, f1304, f139, f1936, f5772, f7432, f5085, f2896, f5854, f7071, f6350, f3289, f1927, f5852, f3281, f2133, f4233, f3763, f2764, f4094, f533, f5548, f1047, f2362, f1890, f2152, f4711, f2307, f6067, f6372, f2720, f2559, f4322, f2773, f1905, f6080, f2444, f1649, f7455, f440, f190, f7654, f4084, f6354, f5040, f7260, f3480, f6374, f3640, f1686, f559, f837, f5141, f3253, f6635, f7361, f4762, f5442, f894, f202, f1484, f4116, f3897, f4824, f7225, f6329, f4231, f6475, f5343, f4816, f5626, f3211, f2482, f5749, f7449, f3683, f4318, f3352, f5181, f5279, f767, f955, f5459, f123, f7413, f2166, f4175, f476, f5517, f509, f3179, f4093, f1197, f1994, f243, f1263, f2950, f7669, f3175, f3992, f6423, f4641, f6704, f2098, f6134, f6779, f5326, f6509, f6805, f5836, f5186, f111, f3659, f1125, f2025, f4131, f295, f2556, f45, f5934, f4800, f2902, f1335, f7085, f3331, f4203, f5872, f6678, f315, f5355, f4916, f5558, f7530, f564, f7118, f2826, f662, f2532, f1069, f3259, f2575, f3834, f7636, f3455, f3591, f984, f329, f2745, f7450, f2557, f6417, f7478, f319, f3264, f4584, f1836, f2248, f1928, f3846, f4990, f3409, f4513, f3785, f5905, f2480, f7519, f1765, f5724, f4786, f3144, f484, f1959, f2100, f6592, f4306, f4647, f5798, f6084, f1416, f7651, f3812, f6572, f1248, f7128, f6645, f577, f2846, f5207, f321, f6996, f3469, f864, f1052, f97, f2948, f5373, f728, f1016, f4993, f5552, f792, f5492, f3308, f2626, f3442, f644, f860, f5383, f4269, f272, f2287, f5096, f3820, f3208, f4694, f5647, f1006, f6838, f3165, f6261, f5606, f6900, f1700, f1926, f6600, f2123, f6257, f5615, f4659, f5094, f265, f3969, f1719, f6179, f2613, f4232, f6639, f935, f5944, f5154, f5290, f1568, f3879, f1902, f3538, f5805, f2178, f1137, f2632, f3703, f1155, f2285, f1895, f4243, f5559, f6019, f7625, f3623, f3004, f1837, f212, f4747, f5015, f1692, f394, f286, f5212, f7306, f3022, f2498, f3358, f5012, f3313, f2254, f6270, f1839, f2783, f4461, f964, f585, f2541, f1672, f6631, f3913, f2104, f673, f3130, f3875, f5286, f5819, f6574, f1039, f5276, f7036, f2609, f5696, f2118, f5801, f2162, f5258, f6014, f491, f3393, f5743, f3954, f1714, f5418, f6240, f5489, f3508, f5883, f4184, f174, f2686, f6670, f4995, f4194, f5665, f5609, f842, f1551, f5264, f4972, f381, f5155, f3363, f288, f3459, f6893, f2169, f5591, f2372, f1846, f2249, f2321, f5021, f3495, f3161, f6706, f6888, f3956, f3556, f2164, f406, f4742, f5818, f3817, f3660, f950, f7171, f1451, f4907, f5452, f7186, f4638, f6987, f7588, f2382, f2087, f307, f3392, f5564, f6415, f4724, f1852, f3981, f4590, f7158, f328, f3856, f3709, f7515, f2252, f4037, f6777, f1537, f7525, f1909, f1973, f5140, f4249, f6629, f1499, f7487, f5358, f5567, f3384, f3054, f5876, f6496, f5305, f1187, f4139, f6885, f334, f7244, f695, f3775, f2403, f5178, f7094, f7107, f4730, f4143, f2389, f5078, f113, f7358, f7610, f1099, f6868, f3685, f6527, f4510, f361, f878, f4594, f7386, f3496, f1549, f2976, f3601, f3542, f1954, f1236, f528, f5069, f2517, f4661, f2641, f2588, f1611, f4736, f6059, f2876, f4917, f2655, f7466, f3894, f1886, f1184, f2090, f4637, f6542, f2927, f6326, f1342, f3494, f680, f1163, f5313, f2270, f2910, f2954, f4894, f1641, f5199, f4196, f5424, f1941, f3535, f6739, f7379, f1507, f5473, f3464, f4656, f4058, f267, f1481, f7104, f5427, f3417, f2696, f7004, f2258, f3062, f4961, f5631, f4242, f6090, f4218, f1708, f7644, f2918, f732, f1898, f5031, f2979, f2712, f5645, f2069, f2644, f4929, f963, f4778, f5967, f6377, f4429, f1601, f3003, f6650, f6180, f3266, f7560, f3826, f3898, f3608, f4267, f744, f5175, f4897, f4119, f6304, f6101, f44, f6457, f1684, f2663, f2949, f2850, f6984, f3141, f617, f2264, f7335, f1274, f3028, f1129, f5045, f6214, f7667, f7116, f6380, f6512, f5385, f376, f3226, f5107, f566, f710, f7323, f3688, f444, f4741, f1465, f5310, f2128, f304, f3686, f1202, f1433, f5649, f2019, f3060, f1075, f1042, f3575, f6680, f1199, f1923, f1110, f6932, f3525, f1740, f1788, f6713, f1609, f1205, f6045, f2339, f4122, f7218, f2310, f2598, f1556, f5467, f1445, f3327, f6524, f1623, f3789, f2793, f2065, f7423, f7087, f4142, f3292, f2431, f1739, f4585, f7529, f2046, f2673, f2600, f4262, f7134, f7016, f3338, f5636, f5778, f3073, f6472, f6808, f1730, f4298, f4966, f4127, f4018, f6026, f989, f131, f2857, f3147, f3162, f7017, f930, f2592, f1773, f5292, f3046, f518, f6924, f3804, f2627, f6848, f7599, f3860, f3787, f6654, f5788, f1473, f2175, f2367, f5824, f4201, f6392, f3487, f2520, f5381, f1595, f3589, f589, f5324, f3274, f403, f910, f1203, f3854, f6732, f933, f3085, f2374, f554, f1910, f1772, f4076, f6880, f598, f5454, f2221, f3374, f4006, f3742, f7512, f464, f6969, f954, f2658, f5046, f2705, f1021, f2318, f2023, f5537, f166, f819, f1652, f3214, f3569, f3435, f6615, f5697, f2121, f6330, f6361, f6637, f1331, f2638, f4599, f2871, f3993, f1413, f2269, f519, f4580, f4898, f4723, f6864, f7032, f5417, f5735, f3712, f7190, f3039, f6217, f5555, f7058, f2730, f843, f1492, f3870, f3492, f4431, f4482, f3778, f50, f2167, f6782, f289, f7237, f619, f3994, f4922, f1411, f1937, f7355, f3035, f1282, f7203, f1990, f4918, f2984, f7471, f7589, f3225, f594, f379, f5661, f3793, f839, f1863, f1223, f3457, f2298, f3298, f3830, f6534, f768, f6314, f4635, f1268, f6266, f1427, f3706, f4255, f1663, f6583, f2661, f5871, f1387, f2941, f4971, f7033, f1754, f3847, f3114, f7083, f4564, f3042, f7456, f4683, f884, f6000, f5173, f5147, f851, f7447, f3520, f6858, f583, f4528, f5608, f4725, f844, f1971, f5504, f5042, f3402, f66, f3013, f4313, f4369, f6580, f7390, f1776, f7539, f6793, f5850, f7162, f4206, f7476, f4530, f6442, f4569, f584, f4378, f2792, f312, f3868, f1383, f4888, f1045, f2184, f4687, f4106, f7176, f1829, f5674, f3395, f2350, f2453, f6086, f1709, f2031, f1807, f2170, f4913, f1083, f2687, f4239, f5815, f349, f3447, f4911, f7663, f1775, f7198, f4400, f7485, f1607, f5084, f2887, f1169, f4718, f5522, f7661, f1957, f4881, f7300, f7646, f419, f592, f4832, f4772, f5675, f4465, f5189, f6305, f7047, f6895, f5864, f5896, f1538, f193, f2736, f7364, f6352, f4057, f7372, f7051, f3509, f7637, f5346, f3716, f993, f2088, f811, f1997, f1279, f7242, f4745, f784, f5049, f7021, f4475, f4889, f5857, f1454, f3126, f5176, f2513, f1011, f1774, f3034, f3821, f960, f2487, f3195, f1490, f1313, f7479, f3437, f5620, f127, f4067, f1240, f2630, f5068, f7115, f3108, f6009, f1875, f454, f1074, f2225, f4154, f3080, f3461, f2814, f5684, f197, f490, f7052, f126, f2462, f6995, f1369, f6157, f5464, f1906, f229, f1889, f4538, f3884, f6541, f3396, f4080, f1562, f6104, f7451, f1096, f2782, f5221, f4682, f1851, f3075, f4733, f4558, f1360, f7233, f6124, f6692, f7280, f3824, f2723, f4435, f7027, f1942, f3942, f3382, f4805, f4807, f4096, f2503, f3360, f2361, f2702, f2667, f1118, f1543, f760, f5600, f2012, f2545, f3677, f5093, f3478, f4381, f7402, f6926, f2867, f3605, f292, f623, f4128, f101, f4321, f5869, f2778, f6788, f6107, f2637, f6144, f2874, f1185, f1246, f609, f1117, f5432, f1384, f4100, f3675, f958, f6325, f7666, f4857, f2518, f5428, f6879, f5297, f6887, f874, f5954, f3983, f4502, f2414, f2473, f6438, f3333, f344, f2052, f2447, f3801, f3842, f7274, f2839, f4784, f3610, f1696, f5814, f2257, f4699, f2455, f52, f2567, f5009, f1683, f2111, f4804, f6586, f482, f7429, f6366, f7483, f3637, f1150, f4536, f6198, f5315, f6233, f2056, f7179, f6530, f5257, f7576, f1722, f2983, f5619, f4208, f5215, f5536, f6235, f6478, f5531, f2470, f3877, f6391, f6465, f1612, f3641, f2647, f1682, f3191, f7106, f7317, f6935, f1028, f2454, f5786, f4049, f1354, f2968, f4750, f373, f887, f1289, f4595, f1061, f3961, f6251, f6587, f5347, f1665, f311, f4351, f3124, f3639, f3823, f6385, f7368, f2232, f269, f7445, f1812, f4230, f5998, f7631, f5714, f5693, f1315, f2380, f618, f2507, f2105, f3045, f4844, f180, f6691, f2020, f6020, f7523, f2715, f3548, f4890, f7419, f6467, f3354, f2511, f2907, f3896, f1660, f1273, f3798, f4390, f2461, f7284, f1396, f7540, f3652, f6322, f549, f6643, f7591, f1198, f7147, f6854, f2327, f815, f5182, f6770, f2762, f2499, f4994, f4087, f6298, f6699, f1996, f3890, f89, f1345, f7442, f7604, f2422, f2754, f4813, f51, f7098, f2151, f3473, f1103, f2211, f2977, f4090, f2662, f2650, f5251, f6613, f7338, f422, f2581, f4693, f4722, f6540, f4593, f4324, f7526, f3653, f6514, f6141, f6898, f96, f4436, f7520, f79, f2883, f2113, f6119, f5004, f2741, f5746, f3136, f4777, f337, f6705, f7370, f724, f1362, f4098, f1215, f3878, f1810, f5965, f1963, f2843, f6658, f4295, f7151, f7331, f7414, f5277, f6552, f1235, f2315, f7278, f967, f7444, f5146, f2774, f1534, f107, f7556, f4017, f3900, f2103, f148, f750, f5654, f711, f5641, f3419, f2693, f7557, f1505, f6725, f725, f4326, f3172, f3432, f4919, f501, f4831, f1687, f4289, f3011, f5487, f3759, f7188, f5585, f5637, f1035, f6282, f1678, f4514, f6513, f540, f1676, f6197, f226, f7227, f1132, f2330, f5882, f859, f2765, f463, f3828, f7406, f201, f3168, f6158, f687, f1522, f5203, f438, f4350, f1494, f5102, f660, f547, f5909, f4227, f5695, f1872, f6334, f6578, f6382, f6250, f3732, f2849, f666, f699, f2489, f5960, f1219, f5357, f5563, f7172, f3541, f2137, f1892, f3578, f4141, f6624, f3752, f1041, f2583, f333, f5047, f7322, f6988, f54, f105, f2821, f5254, f4050, f5246, f3636, f795, f347, f2398, f5479, f6375, f7018, f6321, f6064, f5924, f627, f4902, f3891, f428, f5596, f6421, f3736, f4867, f6028, f3704, f1285, f2424, f4003, f4790, f7541, f7527, f1157, f6333, f5846, f2410, f3949, f1552, f2574, f1795, f5191, f5131, f6718, f6435, f6287, f1356, f3592, f3809, f4864, f620, f4375, f7579, f3668, f6651, f7639, f2695, f1828, f4454, f1291, f458, f2964, f22, f861, f2838, f2068, f2991, f7378, f3115, f5450, f5994, f2879, f1366, f3157, f799, f6156, f3415, f6833, f3444, f3533, f5234, f4909, f7578, f3874, f1056, f7127, f5466, f7624, f4876, f6283, f3667, f6829, f4799, f2548, f3346, f5917, f3184, f7400, f4330, f7583, f3770, f5927, f5484, f6184, f3051, f2116, f4604, f1498, f3420, f6061, f4089, f7202, f642, f1835, f2176, f5091, f4045, f2868, f1614, f2553, f7333, f1569, f2533, f720, f6787, f4327, f4366, f7626, f1881, f6498, f825, f4160, f4565, f2562, f5897, f5159, f1766, f5678, f5218, f3036, f640, f2379, f1343, f3831, f3092, f1747, f6516, f4202, f6483, f4516, f2172, f5193, f4903, f3090, f3378, f3171, f431, f4869, f4371, f997, f7356, f386, f7303, f6649, f6210, f539, f6205, f4670, f6515, f1580, f759, f7513, f3334, f6255, f5317, f5709, f1515, f7575, f4812, f137, f794, f2508, f5930, f1308, f5744, f6916, f6386, f398, f2568, f4125, f4234, f6414, f6355, f5853, f7231, f3906, f2672, f6348, f5578, f1713, f7214, f7349, f2619, f4503, f6798, f1861, f340, f934, f4487, f3471, f4870, f196, f1798, f1192, f3230, f902, f6681, f5172, f1478, f6168, f1813, f4452, f2079, f2186, f7617, f2853, f486, f3404, f5987, f4364, f6869, f4636, f7193, f4958, f4166, f616, f4468, f4843, f898, f6070, f5526, f5576, f5463, f2645, f3924, f1668, f7628, f5491, f7173, f5976, f1763, f3960, f6771, f2311, f656, f2904, f3349, f809, f198, f576, f258, f4336, f1093, f3584, f1013, f4379, f2348, f5662, f4681, f713, f2552, f2387, f7514, f5975, f810, f7647, f1051, f4567, f3215, f6851, f5984, f3019, f6183, f5685, f7320, f7500, f3762, f719, f6695, f3665, f6765, f748, f2124, f6834, f6327, f6813, f3529, f3413, f1597, f808, f4915, f3625, f7310, f1717, f1357, f3319, f5760, f505, f6489, f7620, f1381, f3009, f3926, f622, f151, f3717, f6486, f4187, f3149, f4533, f5291, f5659, f1303, f1108, f5414, f1178, f2560, f2951, f3904, f5904, f3213, f4048, f7182, f1115, f6274, f5755, f7495, f6800, f6379, f3205, f7441, f5687, f2601, f5278, f3058, f7096, f4214, f170, f496, f2286, f6502, f2657, f1581, f6499, f7592, f371, f125, f5249, f6719, f7383, f5022, f6806, f7365, f530, f3462, f1991, f1985, f5005, f1352, f3998, f6519, f4934, f1648, f4284, f4398, f6648, f3530, f6663, f5423, f5891, f5539, f136, f4525, f7652, f2920, f427, f6173, f2181, f4523, f6790, f2886, f5037, f5986, f6786, f4734, f5447, f4597, f2153, f3676, f3631, f5379, f2423, f3922, f1181, f1613, f77, f5106, f3837, f4818, f7132, f6594, f6160, f7217, f6835, f1136, f6041, f1610, f6356, f5569, f3951, f512, f850, f6795, f3282, f6249, f4320, f6434, f4456, f4576, f64, f5462, f3131, f4648, f4666, f7199, f150, f5543, f6874, f4039, f2185, f214, f4531, f6781, f2758, f4976, f6238, f971, f6376, f3386, f823, f6130, f4633, f1964, f1967, f2908, f6758, f5243, f2878, f5169, f4172, f5653, f2717, f5993, f4766, f4652, f6479, f294, f2375, f3781, f4414, f1673, f807, f4933, f6853, f2432, f7648, f4629, f5058, f95, f1349, f316, f232, f2840, f683, f2061, f2078, f5711, f6507, f2204, f6397, f5439, f3152, f7473, f417, f3069, f7502, f2660, f6982, f2363, f2573, f5747, f7516, f905, f4481, f1969, f4497, f6293, f6115, f1945, f628, f6170, f1882, f7264, f5323, f977, f1288, f2179, f4672, f3310, f1405, f1377, f5621, f1414, f1065, f2824, f7223, f4964, f5948, f7600, f6751, f5011, f246, f3761, f3176, f2529, f3481, f4413, f6911, f3656, f6620, f3976, f4181, f4765, f5384, f1077, f4856, f1191, f1177, f2095, f2195, f7155, f6735, f7238, f5511, f6396, f5440, f4572, f6582, f4884, f1207, f1510, f3849, f7070, f1008, f2396, f5003, f4246, f3745, f2549, f3602, f5731, f58, f4840, f1965, f4191, f4032, f3061, f4660, f7063, f2512, f1003, f3098, f891, f6974, f1718, f6258, f82, f3020, f927, f741, f2648, f5307, f708, f6789, f5230, f6398, f3513, f6013, f5282, f1193, f7467, f7002, f3758, f3611, f4953, f2338, f5136, f6634, f653, f2830, f2132, f6470, f1974, f3786, f4774, f4348, f706, f4796, f5884, f4789, f6161, f1060, f7410, f7286, f3127, f2791, f5360, f7590, f6093, f2937, f6428, f3272, f692, f926, f7488, f563, f84, f1760, f2294, f4705, f1922, f643, f2150, f1214, f7201, f2615, f7462, f558, f4213, f7088, f3833, f6832, f6891, f2290, f1496, f7360, f1245, f5848, f6949, f6551, f7029, f6456, f2055, f6839, f7403, f2200, f2393, f235, f4149, f7611, f7313, f6429, f4263, f565, f4959, f6568, f3604, f4005, f5397, f4036, f1380, f2716, f7022, f3299, f2082, f1811, f1622, f847, f5868, f6862, f2451, f178, f4837, f6667, f471, f2093, f6756, f590, f4423, f6556, f6123, f5352, f2739, f2220, f7561, f5027, f5252, f1111, f690, f6641, f2877, f5325, f3582, f5995, f6189, f341, f7399, f907, f3970, f4389, f1699, f6920, f7123, f3446, f2091, f6419, f181, f5164, f7078, f3091, f1792, f3843, f5990, f6315, f3245, f441, f3622, f6726, f3433, f1302, f7570, f6301, f157, f6644, f90, f745, f918, f5690, f5946, f6017, f804, f7499, f423, f4542, f3988, f2542, f2881, f4763, f6190, f904, f3359, f4315, f5318, f6816, f2165, f2729, f2551, f3853, f7367, f6623, f5461, f7256, f2378, f2136, f6094, f1262, f6693, f6254, f4301, f6088, f7582, f2798, f6549, f215, f5713, f6441, f73, f4941, f5499, f262, f4183, f7005, f6387, f4936, f6223, f7398, f1034, f6736, f4282, f3795, f6810, f182, f7550, f2135, f663, f4879, f7055, f7111, f1015, f1364, f233, f4283, f4278, f5404, f6148, f921, f393, f1082, f4756, f4982, f6543, f3966, f5293, f5657, f1956, f5812, f6562, f4944, f3726, f5072, f7159, f5188, f7050, f1856, f5314, f134, f1071, f6040, f3498, f3588, f2935, f7261, f6078, f6963, f4573, f970, f6596, f1513, f2062, f4969, f1292, f6092, f4835, f1565, f2523, f2860, f6310, f5921, f6559, f1195, f3852, f2823, f6319, f7555, f3721, f7114, f4430, f6243, f7385, f5319, f5386, f5135, f154, f5076, f4433, f7129, f4499, f5940, f6083, f6796, f782, f2521, f1145, f1960, f4552, f5098, f7640, f6281, f114, f4145, f1840, f5729, f4186, f3543, f3403, f6043, f593, f204, f2809, f551, f6561, f3238, f2159, f6647, f7092, f5761, f3154, f6675, f1506, f6769, f4310, f4200, f87, f1121, f1297, f2787, f7375, f465, f3553, f4063, f1010, f3908, f7332, f1334, f1135, f4526, f2759, f6657, f2038, f3304, f1509, f601, f1548, f5180, f914, f7232, f5949, f2238, f7382, f6303, f4264, f317, f4367, f4177, f3155, f6972, f260, f6324, f578, f2089, f7187, f957, f6707, f1904, f6273, f3348, f3375, f4931, f248, f1744, f1894, f1742, f4352, f747, f2160, f7572, f4524, f6544, f1806, f3490, f5190, f7371, f6082, f3293, f7149, f1014, f1244, f1703, f4540, f4956, f4932, f1783, f1670, f597, f2187, f1172, f3167, f7082, f112, f5142, f6185, f2537, f4480, f1084, f2999, f7618, f1076, f7125, f1860, f225, f4489, f1588, f5900, f6342, f5067, f4685, f383, f6978, f3765, f940, f3766, f3187, f624, f6844, f3724, f3002, f6132, f6772, f7650, f6847, f6248, f4582, f4097, f7183, f6138, f194, f278, f1924, f3057, f7160, f867, f3262, f3163, f280, f2180, f2092, f3719, f3771, f514, f3503, f4529, f391, f529, f1825, f6418, f3819, f2340, f4439, f985, f1896, f7292, f6812, f3616, f2919, f210, f1756, f3300, f4138, f6931, f2077, f4546, f1311, f4401, f4358, f270, f7150, f2974, f5910, f3655, f5144, f1482, f2283, f7665, f1447, f991, f3376, f7535, f2997, f7099, f34, f7301, f4788, f2985, f5802, f5688, f2452, f4380, f7566, f4332, f3597, f2416, f2344, f4627, f3540, f5038, f7043, f4942, f6069, f2142, f4921, f6754, f7606, f6819, f6599, f7089, f830, f6521, f6395, f6653, f1401, f2679, f62, f5527, f1741, f758, f3867, f4189, f1884, f2901, f1572, f4703, f5625, f4091, f5227, f2201, f3031, f3748, f2526, f7421, f4798, f3316, f3727, f1704, f2279, f6482, f2699, f6100, f7353, f1382, f3957, f5030, f336, f3672, f98, f7381, f5562, f5594, f7649, f4563, f5622, f6665, f172, f5646, f6476, f5328, f581, f4209, f5970, f2429, f4625, f773, f1419, f3361, f824, f2921, f5366, f2080, f3967, f152, f5691, f160, f5607, f5239, f164, f1489, f5099, f382, f389, f4113, f5408, f723, f1978, f4999, f6709, f4817, f6566, f4494, f2767, f5051, f3303, f4372, f7658, f4347, f4270, f4362, f2163, f2134, f5813, f7049, f1769, f1808, f4478, f2925, f2243, f5394, f3779, f4254, f4795, f3560, f2377, f2445, f2235, f3567, f3985, f1826, f2015, f7038, f2584, f4781, f707, f2649, f3805, f5757, f4169, f7161, f5589, f3953, f1650, f2631, f5617, f3865, f4504, f4360, f7257, f6332, f3564, f798, f4229, f1317, f6120, f5604, f1724, f1917, f4578, f1862, f996, f228, f6703, f85, f1690, f2006, f6085, f5572, f3142, f4566, f338, f3772, f6652, f1046, f241, f543, f1114, f2199, f5618, f1367, f880, f6171, f4308, f6997, f761, f4493, f449, f7294, f3651, f3881, f7105, f3581, f2000, f3579, f2682, f701, f3910, f7268, f886, f2476, f3373, f5376, f1561, f1618, f273, f1351, f3044, f4205, f780, f6232, f1153, f5553, f4697, f5223, f2680, f1314, f4095, f916, f7568, f2870, f6820, f1553, f5725, f357, f754, f3577, f325, f3199, f3634, f4978, f7633, f7343, f2966, f6584, f115, f1390, f2527, f1156, f7008, f3302, f2227, f3876, f256, f3189, f4979, f447, f1502, f5698, f3571, f5874, f2021, f5789, f3848, f5053, f6075, f5050, f4151, f2057, f7009, f6252, f5870, f7298, f2359, f6554, f4287, f4507, f1081, f6655, f4928, f7145, f3514, f5095, f4180, f4646, f5415, f1471, f1681, f6842, f4485, f3488, f3323, f7542, f4496, f29, f453, f2406, f3132, f4954, f1140, f3365, f5416, f4356, f7457, f6762, f1395, f5471, f5054, f4634, f1758, f3474, f5808, f2543, f5856, f1658, f2580, f1005, f5143, f3999, f832, f175, f2646, f5953, f5422, f1299, f7496, f462, f1120, f3287, f6162, f1919, f4900, f375, f973, f3643, f4601, f6213, f6990, f6954, f4120, f5525, f2928, f3244, f219, f5403, f610, f3646, f1608, f6118, f6611, f6636, f4859, f4809, f4294, f4935, f6407, f3934, f7492, f3410, f498, f5398, f3861, f2544, f3456, f4631, f7369, f2833, f2493, f4418, f7250, f3532, f2383, f6081, f3016, f3279, f5476, f857, f5611, f943, f4613, f2303, f6571, f2466, f5800, f6724, f5682, f4695, f7207, f162, f68, f7103, f1164, f2978, f7493, f2346, f629, f3254, f7436, f6049, f6983, f6977, f7220, f5901, f2262, f4279, f7501, f1266, f777, f6531, f942, f1816, f5426, f367, f1557, f2643, f7510, f177, f1095, f3901, f4055, f4886, f5023, f6393, f2539, f5128, f7486, f7112, f1281, f1968, f4515, f5703, f4126, f4834, f6702, f4949, f635, f5425, f5006, f5265, f3357, f397, f4382, f5184, f550, f5656, f206, f4204, f1158, f6358, f6743, f6922, f7057, f140, f5437, f3958, f1603, f1070, f2171, f5565, f2916, f7041, f5821, f6464, f7324, f3288, f5100, f1363, f3989, f5472, f4906, f5968, f4727, f5474, f2505, f7607, f5865, f793, f5402, f953, f6188, f1824, f5197, f3829, f6152, f4463, f2994, f2859, f5407, f5445, f6555, f1598, f3362, f189, f5057, f5024, f3872, f7293, f1563, f3595, f3438, f3116, f63, f6694, f5158, f7645, f6127, f2292, f5919, f1256, f3740, f3666, f2198, f5412, f5906, f7296, f1819, f5790, f900, f1831, f1133, f1625, f3715, f411, f2623, f3317, f5561, f4471, f6903, f3443, f7321, f911, f2577, f3441, f2494, f2957, f3025, f4643, f556, f7505, f7668, f5120, f3862, f6182, f5351, f7664, f4207, f3859, f1972, f4453, f6284, f3258, f4970, f4895, f6294, f345, f4855, f5956, f7253, f7446, f3227, f5911, f1520, f6285, f4140, f5149, f1606, f4448, f1579, f1452, f7167, f1149, f3193, f5209, f5332, f7437, f4219, f3370, f7255, f6030, f7285, f6403, f6473, f5925, f513, f4152, f3505, f2342, f5952, f2125, f2777, f3747, f7040, f5284, f2458, f7100, f7077, f5233, f1871, f1669, f6351, f49, f2689, f682, f7194, f2139, f5751, f1151, f467, f5538, f5822, f2965, f5369, f2316, f6745, f4830, f3151, f6687, f59, f71, f1677, f6548, f4028, f6155, f6383, f46, f5515, f5601, f2010, f1555, f6625, f525, f3086, f2355, f460, f3379, f2799, f35, f4307, f1480, f2624, f5796, f705, f147, f5400, f7613, f3100, f3822, f2066, f3642, f4787, f6007, f3501, f2835, f1646, f3952, f1830, f3835, f6727, f7577, f923, f646, f6318, f5342, f1530, f2582, f1946, f4397, f6033, f4422, f868, f176, f5356, f142, f5554, f5880, f7113, f2975, f1123, f1233, f439, f4466, f2825, f252, f353, f2212, f3074, f1043, f4938, f2022, f216, f6323, f2775, f6204, f3725, f1907, f649, f1221, f7538, f1947, f6537, f4642, f5228, f4156, f5734, f5116, f5706, f6399, f2701, f4611, f53, f4167, f545, f7299, f3946, f6608, f5156, f492, f2237, f6619, f2685, f2096, f3705, f4998, f1817, f919, f1231, f1778, f2130, f962, f5699, f6804, f802, f822, f2417, f1227, f7408, f4819, f250, f6307, f1186, f6469, f5629, f1726, f1441, f5066, f3893, f5118, f5081, f4823, f7376, f959, f3792, f4997, f5628, f5779, f4737, f2392, f7101, f1229, f2276, f1868, f4574, f580, f3743, f369, f1762, f1305, f4059, f3063, f3614, f5667, f6074, f4469, f4920, f4853, f3502, f7653, f1326, f763, f5132, f1590, f5663, f828, f5753, f2029, f6008, f1166, f5508, f4153, f3330, f4910, f5336, f3964, f3857, f1038, f7209, f4464, f3112, f120, f2905, f4865, f582, f4022, f5728, f211, f1944, f3938, f848, f6012, f5036, f1379, f972, f2008, f3909, f4171, f5521, f6792, f654, f477, f4025, f4007, f1526, f541, f6567, f2322, f1373, f5898, f396, f2351, f5873, f6292, f2051, f222, f4411, f6416, f78, f5831, f135, f1429, f4442, f6105, f2534, f4008, f733, f2306, f1174, f128, f3497, f2652, f5321, f4678, f2027, f1027, f3078, f3902, f3006, f2228, f4537, f2888, f2724, f7143, f670, f6638, f7580, f855, f2376, f4622, f4780, f715, f588, f1912, f2334, f2621, f5097, f474, f1461, f4581, f3943, f7494, f366, f56, f3628, f674, f6668, f3143, f5582, f5727, f1300, f3907, f3850, f2633, f2675, f5720, f6700, f1398, f1434, f4535, f6317, f3731, f4775, f1467, f3336, f742, f6491, f2369, f3164, f2671, f5226, f2665, f5378, f803, f4346, f192, f5133, f5742, f2988, f1876, f5777, f365, f1827, f4268, f5923, f5306, f3568, f5002, f5754, f483, f2654, f6203, f94, f342, f4914, f21, f2320, f3040, f24, f2501, f6921, f737, f255, f4449, f1208, f3041, f3780, f6495, f5359, f6353, f4162, f5485, f858, f5860, f4407, f3015, f1220, f1023, f607, f184, f6917, f4293, f6241, f7598, f3544, f1921, f4002, f1794, f5524, f433, f4353, f6925, f4065, f2426, f893, f6897, f5533, f3657, f4506, f3882, f2253, f1330, f1493, f5736, f6245, f5483, f5832, f1644, f4225, f5887, f968, f3818, f836, f2016, f7563, f6221, f1361, f2457, f5506, f4291, f5231, f1420, f153, f1780, f5387, f928, f4589, f734, f6981, f7007, f6801, f5052, f7480, f5033, f2293, f2597, f6209, f875, f730, f6794, f7079, f364, f4030, f1977, f2064, f4815, f4575, f5160, f330, f1893, f3087, f2841, f4860, f5510, f4434, f2572, f1464, f5125, f1953, f650, f5283, f2084, f5794, f5441, f3182, f468, f5289, f3335, f4129, f988, f2790, f5327, f1809, f1656, f931, f2845, f6139, f3129, f4882, f4926, f3342, f3414, f7328, f4256, f3339, f3104, f3000, f3609, f6626, f4370, f81, f7384, f4085, f2017, f1554, f2801, f4258, f6565, f2275, f4527, f4836, f5676, f6276, f2193, f5969, f1265, f1073, f7602, f2324, f2980, f5089, f6106, f5039, f2959, f613, f599, f6640, f5240, f4064, f5377, f740, f1948, f4714, f3499, f3500, f4334, f779, f7417, f749, f6226, f7464, f1146, f5945, f1063, f5170, f6016, f6837, f475, f3632, f7269, f5833, f277, f5660, f1952, f4240, f6856, f3546, f6957, f2281, f3135, f1634, f721, f7347, f6811, f7345, f6676, f4068, f6018, f1627, f6003, f6487, f2154, f3939, f1253, f4220, f3840, f5590, f7073, f405, f1100, f1987, f2189, f2168, f4669, f4955, f1857, f2697, f1277, f6576, f7247, f3887, f6422, f6159, f6518, f3753, f118, f626, f6368, f7551, f2034, f5863, f6146, f3153, f6149, f1757, f3093, f1327, f4108, f1460, f30, f4343, f7054, f1386, f4615, f5237, f6818, f2614, f952, f4782, f4862, f284, f6484, f3617, f6212, f1631, f1559, f3803, f2345, f1432, f2651, f3585, f2222, f1450, f3576, f668, f4010, f5496, f100, f6222, f5745, f3321, f866, f3405, f5498, f6861, f4545, f1176, f726, f3210, f5419, f1179, f1833, f755, f709, f5222, f703, f3239, f7318, f4783, f2141, f5765, f2161, f975, f4261, f4962, f7067, f5235, f3425"
     ]
    }
   ],
   "source": [
    "y_pred=regressor.predict(y_train)"
   ]
  },
  {
   "cell_type": "code",
   "execution_count": 64,
   "metadata": {},
   "outputs": [
    {
     "name": "stdout",
     "output_type": "stream",
     "text": [
      "[ 1.36751775e+03  6.51517754e+02  8.26517754e+02  4.24964149e+03\n",
      "  3.39051775e+03  6.00517754e+02  4.70964149e+03  2.04501775e+03\n",
      "  1.36201775e+03  2.70951775e+03 -2.58482246e+02  2.07851775e+03\n",
      "  3.91351775e+03  9.52517754e+02  8.44517754e+02  4.29451775e+03\n",
      "  1.78651775e+03  1.88051775e+03  2.04251775e+03  3.18164149e+03\n",
      "  3.12551775e+03  2.66251775e+03  2.84851775e+03  2.45851775e+03\n",
      "  4.17051775e+03  2.26164149e+03  5.22517754e+02  3.73051775e+03\n",
      "  3.15751775e+03  3.78251775e+03  8.68517754e+02  2.78951775e+03\n",
      "  2.47251775e+03  3.06651775e+03  6.42517754e+02  1.46751775e+03\n",
      "  8.17517754e+02  2.08651775e+03  1.19851775e+03  2.89451775e+03\n",
      " -6.28482246e+02  2.20651775e+03  1.56851775e+03  1.55651775e+03\n",
      "  2.60251775e+03  1.47551775e+03  8.14517754e+02  8.89517754e+02\n",
      "  4.07251775e+03  1.97451775e+03  9.51517754e+02  2.43451775e+03\n",
      "  1.01051775e+03 -1.02148225e+03  6.70517754e+02  1.77251775e+03\n",
      "  3.05151775e+03  2.20151775e+03  7.02517754e+02  3.89751775e+03\n",
      "  9.38517754e+02  6.97517754e+02  2.36351775e+03  2.66964149e+03\n",
      "  3.34764149e+03  2.63051775e+03  7.54517754e+02  3.64651775e+03\n",
      "  8.54517754e+02  4.33551775e+03  1.01051775e+03  5.06517754e+02\n",
      "  4.13451775e+03  2.08951775e+03  1.60251775e+03  1.31651775e+03\n",
      "  2.84564149e+03  1.44151775e+03  2.89051775e+03  2.91151775e+03\n",
      "  8.76517754e+02  3.84164149e+03  3.94351775e+03  2.85764149e+03\n",
      "  2.87351775e+03  2.26851775e+03  3.43451775e+03  1.58151775e+03\n",
      "  3.26851775e+03  2.96164149e+03  4.96164149e+03  1.04951775e+03\n",
      "  8.38517754e+02  2.53351775e+03  8.35517754e+02  9.66517754e+02\n",
      "  1.08751775e+03  7.62517754e+02  1.21951775e+03 -1.13748225e+03\n",
      "  2.45851775e+03  3.93851775e+03  3.80701775e+03  8.19517754e+02\n",
      "  2.32751775e+03  1.04651775e+03  1.36851775e+03  2.91451775e+03\n",
      "  8.26517754e+02  1.68251775e+03  5.58517754e+02  2.44451775e+03\n",
      "  1.54051775e+03  2.94364149e+03  9.74517754e+02  8.58517754e+02\n",
      "  5.13164149e+03  1.44251775e+03  1.84951775e+03  2.90751775e+03\n",
      "  1.99651775e+03  3.73151775e+03  2.27051775e+03  1.08851775e+03\n",
      "  2.92251775e+03  1.94951775e+03 -3.38482246e+02  2.93851775e+03\n",
      "  8.02517754e+02  4.32251775e+03  1.35051775e+03  1.22051775e+03\n",
      "  1.89351775e+03  3.07651775e+03  2.05051775e+03  2.33564149e+03\n",
      "  1.89751775e+03  2.96251775e+03  2.97851775e+03  3.79451775e+03\n",
      "  4.54564149e+03  4.17751775e+03  1.59901775e+03  2.67851775e+03\n",
      "  2.53851775e+03  2.78551775e+03  2.09651775e+03  3.40451775e+03\n",
      "  2.83451775e+03  1.93151775e+03  9.82517754e+02  6.87517754e+02\n",
      "  9.22017754e+02  3.21051775e+03 -2.94482246e+02  3.01364149e+03\n",
      " -7.05482246e+02  3.95451775e+03  2.08451775e+03  2.55351775e+03\n",
      " -1.20548225e+03  1.59351775e+03  2.28651775e+03  1.91951775e+03\n",
      "  3.07964149e+03  4.39017754e+02  4.20564149e+03  1.19001775e+03\n",
      "  1.71201775e+03  1.93551775e+03  2.87964149e+03  1.86851775e+03\n",
      "  2.10201775e+03  1.73051775e+03  3.00951775e+03  3.23364149e+03\n",
      "  1.28551775e+03  2.87051775e+03  3.57751775e+03  7.79517754e+02\n",
      "  2.06151775e+03 -1.01748225e+03  1.64251775e+03  2.94964149e+03\n",
      "  1.78251775e+03  3.19564149e+03  9.63517754e+02  7.40517754e+02\n",
      "  3.70764149e+03  6.16517754e+02  1.45051775e+03  2.44151775e+03\n",
      "  2.99951775e+03  8.52517754e+02  1.77451775e+03  1.74251775e+03\n",
      "  2.42851775e+03  1.49251775e+03  2.53651775e+03  1.84051775e+03\n",
      "  2.67651775e+03  1.75051775e+03  3.48651775e+03  3.08764149e+03\n",
      "  1.82551775e+03  2.14551775e+03  5.69517754e+02  1.43851775e+03\n",
      "  1.47751775e+03  2.88251775e+03  2.96051775e+03  1.46851775e+03\n",
      "  1.39051775e+03  1.81051775e+03  1.41051775e+03 -3.29482246e+02\n",
      "  4.29851775e+03  3.83364149e+03  1.87451775e+03  3.85164149e+03\n",
      "  1.99251775e+03  3.34051775e+03  3.39164149e+03  8.48517754e+02\n",
      "  1.30301775e+03  4.77164149e+03  2.93151775e+03  3.03251775e+03\n",
      "  9.74517754e+02  4.13764149e+03  3.54051775e+03  1.73251775e+03\n",
      "  2.59851775e+03  7.04517754e+02  4.25151775e+03  1.94251775e+03\n",
      "  1.63951775e+03  2.02351775e+03  2.20251775e+03  2.83851775e+03\n",
      "  2.04651775e+03  1.93451775e+03  2.45751775e+03  1.31151775e+03\n",
      "  3.24651775e+03  3.09651775e+03  2.52251775e+03 -1.10048225e+03\n",
      "  2.93164149e+03  5.51517754e+02  1.20251775e+03  2.51801775e+03\n",
      "  3.92764149e+03  7.01517754e+02  2.48951775e+03  2.83051775e+03\n",
      "  3.87364149e+03  1.54251775e+03  1.65251775e+03 -2.33482246e+02\n",
      "  3.02851775e+03  3.91764149e+03  2.97451775e+03  1.10651775e+03\n",
      "  1.87351775e+03  7.57517754e+02  1.72851775e+03  2.55051775e+03\n",
      "  3.09251775e+03  3.15164149e+03  2.39851775e+03  2.13764149e+03\n",
      "  3.86651775e+03 -1.19848225e+03  2.45551775e+03  2.88651775e+03\n",
      "  4.49517754e+02  2.88551775e+03  2.75051775e+03  8.30517754e+02\n",
      "  4.14251775e+03  3.54051775e+03  3.14601775e+03  1.42601775e+03\n",
      "  3.29251775e+03  1.82251775e+03  1.83851775e+03  1.97251775e+03\n",
      "  1.03751775e+03  2.51251775e+03  4.23851775e+03  1.27451775e+03\n",
      "  5.35564149e+03  1.67951775e+03  2.11951775e+03  3.01551775e+03\n",
      " -1.05482246e+02  2.53851775e+03 -1.53482246e+02  1.38151775e+03\n",
      "  1.95177536e+01  1.52151775e+03  3.77764149e+03  2.75301775e+03\n",
      "  2.45651775e+03  2.83051775e+03  1.09651775e+03  8.05517754e+02\n",
      "  1.93651775e+03  8.86517754e+02  3.79764149e+03  2.38651775e+03\n",
      "  1.16951775e+03  1.51451775e+03  4.35517754e+02  1.79251775e+03\n",
      "  3.33564149e+03  1.00851775e+03  1.69051775e+03  1.69851775e+03\n",
      "  3.02851775e+03 -9.81482246e+02  1.53351775e+03  2.34651775e+03\n",
      "  1.65901775e+03  2.92164149e+03  2.50851775e+03  3.83451775e+03\n",
      "  1.85651775e+03  1.26651775e+03  6.62517754e+02  4.32164149e+03\n",
      "  1.10251775e+03  2.10651775e+03  9.82517754e+02  1.94951775e+03\n",
      "  2.01051775e+03  4.20051775e+03 -5.96482246e+02  5.53964149e+03\n",
      "  3.43451775e+03  2.05951775e+03  6.90517754e+02  8.16517754e+02\n",
      "  4.20051775e+03  3.21451775e+03  4.21351775e+03  5.51517754e+02\n",
      "  4.25964149e+03  8.24517754e+02  6.70017754e+02  2.29751775e+03\n",
      "  1.11451775e+03  1.56751775e+03  1.95951775e+03 -1.33482246e+02\n",
      "  1.28251775e+03 -8.89482246e+02  2.19151775e+03  1.51651775e+03\n",
      "  2.23051775e+03  1.48501775e+03  7.96517754e+02  2.28251775e+03\n",
      "  1.75451775e+03  1.57701775e+03  3.76164149e+03  7.51775360e+00\n",
      "  5.21764149e+03  3.29451775e+03  3.65251775e+03  1.49451775e+03\n",
      "  1.32551775e+03  2.04051775e+03  1.62251775e+03  1.37801775e+03\n",
      "  2.78051775e+03  2.98151775e+03  1.63751775e+03  3.33564149e+03\n",
      "  2.86251775e+03  2.91564149e+03  3.59051775e+03  5.17564149e+03\n",
      "  3.30751775e+03  9.47517754e+02  3.89051775e+03  3.11551775e+03\n",
      "  2.15564149e+03  2.86964149e+03  9.99517754e+02  7.26517754e+02\n",
      "  2.73451775e+03  1.44251775e+03  4.01751775e+03  2.14151775e+03\n",
      "  3.46764149e+03  4.06651775e+03 -1.02148225e+03  2.38551775e+03\n",
      "  1.21851775e+03  2.52651775e+03  2.48364149e+03  2.25951775e+03\n",
      " -1.32848225e+03  2.63201775e+03 -1.17648225e+03  3.95851775e+03\n",
      "  1.91951775e+03  2.79501775e+03  2.36651775e+03  2.74151775e+03\n",
      "  1.60251775e+03  1.03451775e+03  2.96651775e+03  2.85351775e+03\n",
      "  2.52901775e+03  3.41351775e+03  4.41364149e+03  3.90251775e+03\n",
      "  3.81201775e+03  3.85164149e+03  1.22051775e+03  1.09051775e+03\n",
      "  1.89351775e+03  2.69651775e+03  1.55851775e+03  5.21017754e+02\n",
      "  8.89517754e+02  3.94251775e+03  2.54151775e+03  1.89851775e+03\n",
      "  3.76451775e+03  2.89451775e+03  1.98551775e+03  1.33851775e+03\n",
      "  4.47764149e+03  2.32251775e+03  1.18151775e+03  3.82051775e+03\n",
      "  2.04364149e+03  2.48251775e+03 -1.00648225e+03  1.61301775e+03\n",
      "  4.33364149e+03  6.65517754e+02  7.70517754e+02 -1.19648225e+03\n",
      "  2.04851775e+03  6.98517754e+02  1.91601775e+03  2.09651775e+03\n",
      "  4.42764149e+03  2.90051775e+03  3.04651775e+03  1.95051775e+03\n",
      "  4.92564149e+03  3.25251775e+03  3.98517754e+02  2.30951775e+03\n",
      " -1.31748225e+03  8.03517754e+02  2.45051775e+03  2.87451775e+03\n",
      "  3.05851775e+03  1.84351775e+03  1.41451775e+03  2.85751775e+03\n",
      "  1.94251775e+03  2.46551775e+03  3.12651775e+03  1.65751775e+03\n",
      "  1.45051775e+03  2.81851775e+03  3.26564149e+03  4.18651775e+03\n",
      "  3.82017754e+02  9.94517754e+02  3.89051775e+03  3.30251775e+03\n",
      " -2.93482246e+02  1.39451775e+03  4.70017754e+02 -6.53482246e+02\n",
      "  9.58517754e+02  3.52951775e+03  3.50901775e+03  3.81651775e+03\n",
      "  8.12517754e+02  1.15051775e+03  1.76851775e+03  1.33051775e+03\n",
      "  3.66351775e+03  3.05951775e+03  3.03351775e+03  9.16517754e+02\n",
      "  2.10851775e+03  3.02651775e+03  3.50601775e+03  2.78251775e+03\n",
      "  4.14451775e+03  2.89651775e+03  2.05151775e+03  2.56401775e+03\n",
      "  1.85451775e+03 -1.06648225e+03  1.39451775e+03  8.24517754e+02\n",
      "  1.83451775e+03 -2.73482246e+02  1.53851775e+03  1.82251775e+03\n",
      "  7.76517754e+02  2.51851775e+03  4.22517754e+02  1.30651775e+03\n",
      "  1.15701775e+03  1.85151775e+03 -2.22482246e+02  2.18964149e+03\n",
      "  1.58851775e+03  1.90051775e+03  5.53964149e+03  2.57451775e+03\n",
      "  3.98251775e+03  1.51151775e+03  2.64451775e+03  3.41964149e+03\n",
      "  2.35451775e+03  2.35451775e+03  2.55851775e+03  3.90164149e+03\n",
      " -1.12548225e+03  5.34964149e+03  2.53164149e+03  1.97451775e+03\n",
      "  8.62517754e+02  1.66151775e+03  1.01001775e+03  2.90001775e+03\n",
      "  2.54651775e+03  3.03751775e+03  1.55151775e+03 -5.28482246e+02\n",
      "  3.29551775e+03  1.71051775e+03  1.60851775e+03  3.13251775e+03\n",
      "  2.81351775e+03  2.47051775e+03  2.15051775e+03  1.55051775e+03\n",
      "  2.00701775e+03  7.06017754e+02  4.10517754e+02  8.39517754e+02\n",
      "  3.83451775e+03  1.20251775e+03  1.46351775e+03  2.44251775e+03\n",
      "  2.51451775e+03  2.87851775e+03  1.59051775e+03  4.13551775e+03\n",
      "  3.53851775e+03  3.88051775e+03  2.48351775e+03  2.06251775e+03\n",
      "  1.93051775e+03  3.01451775e+03  2.51851775e+03  7.32517754e+02\n",
      " -1.93482246e+02  1.80851775e+03  9.97517754e+02  2.08651775e+03\n",
      "  1.02651775e+03  3.34564149e+03  1.05051775e+03  3.12651775e+03\n",
      "  3.58251775e+03  6.20017754e+02  9.28517754e+02  4.31851775e+03\n",
      "  4.34964149e+03  3.43751775e+03  3.52551775e+03  1.42517754e+02\n",
      "  2.94764149e+03  3.63851775e+03  2.57951775e+03  1.95951775e+03\n",
      "  1.54351775e+03  4.86964149e+03  8.07517754e+02  8.20517754e+02\n",
      "  2.55051775e+03  2.45851775e+03  1.99751775e+03  2.39851775e+03\n",
      "  7.46017754e+02  4.27764149e+03  1.97151775e+03  2.65051775e+03\n",
      "  2.93051775e+03  1.76551775e+03  3.09364149e+03  2.20651775e+03\n",
      "  1.99051775e+03  2.32851775e+03  8.03517754e+02  3.88251775e+03\n",
      "  6.14517754e+02  2.95251775e+03  2.65951775e+03  2.92251775e+03\n",
      " -1.15448225e+03  2.11851775e+03  1.51051775e+03  2.96651775e+03\n",
      "  3.39551775e+03  3.23251775e+03  2.70564149e+03  1.27351775e+03\n",
      "  2.04351775e+03  3.22164149e+03  2.06901775e+03  1.76051775e+03\n",
      "  3.37701775e+03  3.28551775e+03  3.79964149e+03  7.08017754e+02\n",
      "  1.61651775e+03  1.41701775e+03  3.21751775e+03  1.33901775e+03\n",
      "  1.77451775e+03  8.86517754e+02  2.26151775e+03 -6.65482246e+02\n",
      "  2.81351775e+03 -6.36482246e+02  2.54151775e+03  4.89364149e+03\n",
      "  2.41517754e+02  1.42851775e+03  3.95851775e+03 -2.56482246e+02\n",
      " -1.37448225e+03  2.06451775e+03  3.81151775e+03  1.55951775e+03\n",
      "  1.70251775e+03  3.27851775e+03  7.29517754e+02  1.00201775e+03\n",
      "  2.10601775e+03  1.83251775e+03  3.78751775e+03  6.94517754e+02\n",
      " -8.58482246e+02  4.29164149e+03  1.85051775e+03  1.93551775e+03\n",
      "  1.44851775e+03  1.85851775e+03  1.67251775e+03  2.41251775e+03\n",
      "  1.78451775e+03  6.97517754e+02  5.94517754e+02  7.58517754e+02\n",
      "  2.45551775e+03  1.42251775e+03  4.18564149e+03  2.49851775e+03\n",
      "  1.11851775e+03  1.69851775e+03  1.76351775e+03  3.18851775e+03\n",
      "  2.68251775e+03  2.54451775e+03  1.72151775e+03  1.74851775e+03\n",
      "  3.78364149e+03  1.84051775e+03  1.45051775e+03  2.84964149e+03\n",
      "  2.09851775e+03  2.29451775e+03  5.45177536e+01  2.93851775e+03\n",
      "  2.65851775e+03 -4.33482246e+02  1.73051775e+03  8.03517754e+02\n",
      "  2.94251775e+03  3.16351775e+03  1.57301775e+03  3.24251775e+03\n",
      "  2.16651775e+03  2.96751775e+03  3.57351775e+03  2.15051775e+03\n",
      "  3.06651775e+03  7.05177536e+01  1.46601775e+03  1.37551775e+03\n",
      " -6.89482246e+02  6.72517754e+02  1.68251775e+03  5.61517754e+02\n",
      "  5.84017754e+02  4.54764149e+03  2.88651775e+03  3.36551775e+03\n",
      "  7.12017754e+02  1.30851775e+03  7.25517754e+02  1.87751775e+03\n",
      "  3.00251775e+03  2.44551775e+03  3.88401775e+03  4.99017754e+02\n",
      " -5.24822464e+01  1.26551775e+03  4.08851775e+03  1.97151775e+03\n",
      "  2.04951775e+03  2.08651775e+03  1.86251775e+03  5.05364149e+03\n",
      "  1.62051775e+03  5.24964149e+03  2.07851775e+03  1.97851775e+03\n",
      " -4.96482246e+02  2.97451775e+03  2.19951775e+03  9.57517754e+02\n",
      " -2.24482246e+02  4.18851775e+03  4.33764149e+03  3.45517754e+02\n",
      "  6.90517754e+02  3.29251775e+03  2.62401775e+03  9.23017754e+02\n",
      "  3.35851775e+03  1.67451775e+03  1.40751775e+03  4.41764149e+03\n",
      "  1.46851775e+03  3.63851775e+03  2.01301775e+03 -8.52482246e+02\n",
      "  2.29151775e+03  3.17051775e+03  3.26251775e+03  1.18551775e+03\n",
      "  2.95451775e+03  1.62851775e+03  4.15851775e+03  2.18651775e+03\n",
      "  1.61451775e+03  2.01251775e+03  8.86517754e+02  2.30251775e+03\n",
      "  5.02164149e+03  1.18551775e+03  1.47101775e+03  4.53764149e+03\n",
      "  2.04651775e+03  1.85851775e+03  3.32451775e+03  1.23551775e+03\n",
      "  2.97451775e+03  8.50517754e+02  8.38517754e+02  9.10517754e+02\n",
      "  2.06564149e+03  2.68751775e+03  3.12251775e+03  4.62517754e+02\n",
      "  2.69764149e+03  1.25051775e+03  3.89051775e+03  1.50651775e+03\n",
      "  1.67451775e+03  2.93364149e+03  2.06251775e+03  1.20351775e+03\n",
      "  2.63364149e+03  2.05251775e+03  5.32364149e+03  4.17564149e+03\n",
      " -1.13648225e+03  3.85651775e+03 -3.97482246e+02  1.46517754e+02\n",
      "  6.03517754e+02  4.55364149e+03  2.31051775e+03  3.72851775e+03\n",
      "  2.02351775e+03  3.13751775e+03  2.48051775e+03 -3.29482246e+02\n",
      "  3.91751775e+03  3.81364149e+03  1.75517754e+02  2.90351775e+03\n",
      "  2.16551775e+03  3.96651775e+03  1.84851775e+03  1.66451775e+03\n",
      "  4.19251775e+03  2.73451775e+03  4.19951775e+03  3.18251775e+03\n",
      "  1.43451775e+03  1.85351775e+03  2.55751775e+03  1.47851775e+03\n",
      "  1.60351775e+03  1.42151775e+03  2.13451775e+03  1.02751775e+03\n",
      "  1.23051775e+03 -1.48224640e+00  2.83364149e+03  1.19901775e+03\n",
      " -8.33482246e+02  1.71851775e+03  3.21451775e+03  3.12951775e+03\n",
      "  1.59851775e+03  2.51517754e+02  2.84251775e+03  1.41051775e+03\n",
      "  8.70517754e+02  2.19051775e+03  1.69451775e+03  6.39517754e+02\n",
      "  4.02764149e+03  7.83517754e+02  4.39251775e+03  3.70051775e+03\n",
      "  3.71951775e+03  2.51051775e+03  2.42051775e+03  9.82517754e+02\n",
      "  1.39451775e+03]\n"
     ]
    }
   ],
   "source": [
    "predict=lm.predict(x_val)\n",
    "print(predict)"
   ]
  },
  {
   "cell_type": "code",
   "execution_count": 65,
   "metadata": {},
   "outputs": [
    {
     "data": {
      "text/plain": [
       "0.5615142854620497"
      ]
     },
     "execution_count": 65,
     "metadata": {},
     "output_type": "execute_result"
    }
   ],
   "source": [
    "lm.score(x_train,y_train)"
   ]
  },
  {
   "cell_type": "code",
   "execution_count": 70,
   "metadata": {},
   "outputs": [
    {
     "data": {
      "text/plain": [
       "XGBRegressor(base_score=0.5, booster='gbtree', colsample_bylevel=1,\n",
       "             colsample_bynode=1, colsample_bytree=1, gamma=0, gpu_id=-1,\n",
       "             importance_type='gain', interaction_constraints='',\n",
       "             learning_rate=0.300000012, max_delta_step=0, max_depth=6,\n",
       "             min_child_weight=1, missing=nan, monotone_constraints='()',\n",
       "             n_estimators=100, n_jobs=0, num_parallel_tree=1, random_state=0,\n",
       "             reg_alpha=0, reg_lambda=1, scale_pos_weight=1, subsample=1,\n",
       "             tree_method='exact', validate_parameters=1, verbosity=None)"
      ]
     },
     "execution_count": 70,
     "metadata": {},
     "output_type": "execute_result"
    }
   ],
   "source": [
    "from xgboost import XGBRegressor\n",
    "regressor=XGBRegressor()\n",
    "regressor.fit(x_train,y_train)"
   ]
  },
  {
   "cell_type": "code",
   "execution_count": 71,
   "metadata": {},
   "outputs": [
    {
     "name": "stdout",
     "output_type": "stream",
     "text": [
      "[ 1.08188867e+03  6.43390259e+02  8.00606018e+02  4.76854736e+03\n",
      "  1.95154016e+03  5.91191589e+02  6.01784863e+03  1.53535950e+03\n",
      "  1.30913403e+03  3.54556201e+03  1.00418030e+02  1.21366138e+03\n",
      "  4.65248584e+03  7.05703064e+02  8.22574219e+02  5.83602441e+03\n",
      "  1.66284912e+03  2.06961865e+03  2.13744678e+03  2.72125781e+03\n",
      "  3.15712817e+03  2.97778198e+03  3.58097681e+03  2.22224927e+03\n",
      "  3.18457324e+03  1.49115234e+03  3.21189758e+02  4.74977100e+03\n",
      "  3.48299634e+03  4.97637158e+03  5.22920471e+02  2.63935938e+03\n",
      "  2.11359473e+03  2.30600195e+03  2.74222839e+02  1.39372913e+03\n",
      "  9.51813782e+02  2.30183325e+03  1.39229553e+03  2.23137744e+03\n",
      "  2.38917923e+02  2.20056812e+03  1.48711108e+03  1.50152466e+03\n",
      "  2.56779907e+03  1.35942126e+03  8.05586121e+02  9.16114319e+02\n",
      "  4.23693652e+03  2.22035620e+03  9.09771118e+02  2.13693384e+03\n",
      "  8.38225342e+02  2.12141205e+02  4.26214203e+02  1.95203247e+03\n",
      "  2.96183911e+03  1.72493628e+03  3.43590027e+02  4.49198535e+03\n",
      "  1.04722949e+03  7.64197998e+02  2.20471094e+03  2.09424487e+03\n",
      "  3.04812061e+03  2.39918774e+03  5.48433716e+02  4.35200049e+03\n",
      "  5.29762878e+02  1.85313025e+03  8.61072205e+02  2.57746613e+02\n",
      "  4.31265674e+03  2.60847266e+03  1.45831104e+03  1.26314734e+03\n",
      "  2.59788916e+03  1.34636108e+03  2.95296265e+03  2.65485767e+03\n",
      "  6.75029724e+02  3.54533911e+03  3.23828931e+03  2.29171948e+03\n",
      "  3.27834497e+03  2.75516235e+03  3.08144531e+03  1.81530884e+03\n",
      "  3.10264673e+03  2.57545581e+03  5.07595801e+03  9.40067688e+02\n",
      "  1.13228467e+03  1.76848425e+03  7.52078735e+02  7.72036682e+02\n",
      "  6.78509399e+02  5.34621521e+02  1.31756665e+03 -1.66547501e+02\n",
      "  2.75361328e+03  4.10429932e+03  3.11895044e+03  7.60105591e+02\n",
      "  2.42449829e+03  1.01609729e+03  1.14908337e+03  3.12915649e+03\n",
      "  7.44401306e+02  1.45873132e+03  6.15476074e+02  2.74951636e+03\n",
      "  1.43653650e+03  2.58106519e+03  1.51437881e+02  6.28040710e+02\n",
      "  6.46376562e+03  6.71222229e+02  1.86445276e+03  3.06163745e+03\n",
      "  2.60655225e+03  3.35713867e+03  2.01194983e+03  9.95081909e+02\n",
      "  3.37321753e+03  1.71677075e+03 -3.18309212e+01  2.98814307e+03\n",
      "  5.69997803e+02  4.04048877e+03  7.64959229e+02  1.00517804e+03\n",
      "  1.84276831e+03  3.13228784e+03  1.86252209e+03  1.78559265e+03\n",
      "  1.97857373e+03  3.84697852e+03  2.23347974e+03  3.57478174e+03\n",
      "  4.75567969e+03  4.55078027e+03  1.82721240e+03  2.67604468e+03\n",
      "  2.49150122e+03  2.40275122e+03  2.47947900e+03  3.59741064e+03\n",
      "  2.51533716e+03  2.02667859e+03  4.43710968e+02  5.61543518e+02\n",
      "  9.30799805e+02  2.77906348e+03  1.72712570e+02  2.74341431e+03\n",
      "  7.79618225e+01  4.04416211e+03  2.29432959e+03  2.98930151e+03\n",
      "  9.96652679e+01  1.75096838e+03  2.16591064e+03  2.06806421e+03\n",
      "  2.85014844e+03  4.17898193e+02  5.22946045e+03  8.93924133e+02\n",
      "  1.50376404e+03  1.79682275e+03  2.66423999e+03  1.73118945e+03\n",
      "  2.57804858e+03  5.63750122e+02  2.07086548e+03  2.91131665e+03\n",
      "  1.46197070e+03  2.80877051e+03  3.42427612e+03  7.29637878e+02\n",
      "  7.66588135e+02  1.96904816e+02  1.46578052e+03  2.62002588e+03\n",
      "  1.70761169e+03  2.62096265e+03  3.89735291e+02  6.33223999e+02\n",
      "  3.16467944e+03  4.54407318e+02  1.14531055e+03  2.55476978e+03\n",
      "  2.81663672e+03  8.06847290e+02  1.91189819e+03  1.89826611e+03\n",
      "  2.46356030e+03  1.87539197e+03  3.10492798e+03  2.26400854e+03\n",
      "  2.76786987e+03  1.88894617e+03  2.55760742e+03  2.53262500e+03\n",
      "  1.75958521e+03  2.23017749e+03  6.52735596e+02  1.40599939e+03\n",
      "  1.44452332e+03  3.14980054e+03  2.38838696e+03  1.26492920e+03\n",
      "  1.55182935e+03  1.51051111e+03  1.18518677e+03  1.60386551e+02\n",
      "  4.46025098e+03  3.76034619e+03  1.20478271e+03  3.77063330e+03\n",
      "  2.02202112e+03  3.92204053e+03  3.58232007e+03  1.18017224e+03\n",
      "  1.48529565e+03  5.22136670e+03  2.45646265e+03  3.74356689e+03\n",
      "  1.21020630e+03  4.37318018e+03  3.72224609e+03  1.43887476e+03\n",
      "  1.85399292e+03  5.00412903e+02  4.47424463e+03  1.94291016e+03\n",
      "  1.41473914e+03  1.79691748e+03  1.86919214e+03  2.48163867e+03\n",
      "  2.01408264e+03  1.89277307e+03  1.86776025e+03  6.43711365e+02\n",
      "  3.15028833e+03  2.94816016e+03  1.74594604e+03  1.36655930e+02\n",
      "  3.11287769e+03  6.10646790e+02  1.04976270e+03  1.98624414e+03\n",
      "  3.88266235e+03  6.88492798e+02  1.95810669e+03  3.27847876e+03\n",
      "  4.39917236e+03  9.63825195e+02  1.46181030e+03  3.35370880e+02\n",
      "  2.50150171e+03  4.79527051e+03  3.06966357e+03  2.38458740e+02\n",
      "  1.94363660e+03  5.89703003e+02  1.72725159e+03  2.12455518e+03\n",
      "  1.94995935e+03  2.75518359e+03  2.42085986e+03  1.04995251e+03\n",
      "  3.59107520e+03  1.14668739e+02  2.61166724e+03  2.48370825e+03\n",
      "  2.62856018e+02  3.01196289e+03  3.19722974e+03  8.79082886e+02\n",
      "  3.11737573e+03  3.39860864e+03  4.89104980e+03  1.82794495e+03\n",
      "  3.53053027e+03  1.73550989e+03  5.42549683e+02  2.33359863e+03\n",
      "  6.51928040e+02  2.01181824e+03  5.02029004e+03  1.27658582e+03\n",
      "  7.13973193e+03  1.57519885e+03  2.17015234e+03  3.17644775e+03\n",
      "  6.80751953e+02  2.78422095e+03  2.38606491e+02  1.36620605e+03\n",
      "  1.94376099e+02  1.47247266e+03  3.84591846e+03  3.45925342e+03\n",
      "  2.71837085e+03  3.06425830e+03  2.33068024e+02  5.48722107e+02\n",
      "  1.68037781e+03  7.40240784e+01  3.65968433e+03  2.50994507e+03\n",
      "  3.04708710e+02  2.50934189e+02  2.52616333e+02  2.37537427e+03\n",
      "  3.01920386e+03  8.89036316e+02  1.41983374e+03  1.33140332e+03\n",
      "  2.85573584e+03 -2.50249825e+01  3.60745621e+01  1.65560718e+03\n",
      "  1.50663818e+03  2.48957129e+03  2.65061572e+03  5.06859229e+03\n",
      "  1.85425623e+03  1.19122742e+03  3.35646301e+02  4.76367432e+03\n",
      "  1.06227710e+03  1.97065503e+03  3.00751221e+02  1.93248730e+03\n",
      "  2.25279077e+03  3.18453076e+03  3.74111237e+02  5.85198242e+03\n",
      "  3.20676782e+03  2.08024609e+03  8.67953491e+02  6.58931824e+02\n",
      "  4.96299902e+03  3.69950928e+03  4.16163525e+03  3.71920105e+02\n",
      "  4.92649414e+03  7.78921509e+02  6.75849304e+02  1.60982190e+03\n",
      "  8.90511719e+02  1.84676575e+03  1.92343311e+03  5.14980164e+02\n",
      "  1.25820300e+03  1.29299026e+02  2.13654419e+03  1.34166431e+03\n",
      " -4.68602753e+00  1.54670386e+03  8.40122803e+02  2.44263867e+03\n",
      "  1.68408508e+03  2.33024634e+03  3.24789526e+03  4.04419159e+02\n",
      "  4.37056641e+03  3.11271143e+03  3.57459961e+03  1.37562219e+03\n",
      "  1.42880396e+03  2.18243652e+03  1.56653503e+03  1.38641382e+03\n",
      "  2.90791650e+03  2.81671606e+03  1.54863086e+03  2.83022607e+03\n",
      "  3.00003198e+03  2.61924023e+03  4.24329004e+03  5.65275732e+03\n",
      "  2.96687866e+03  7.92244568e+02  4.85727637e+03  3.51876587e+03\n",
      "  1.05929041e+03  2.32370093e+03  9.88737244e+02  6.74984680e+02\n",
      "  3.01482080e+03  1.25285303e+03  4.49385742e+03  2.15706250e+03\n",
      "  3.34832959e+03  3.85966650e+03  1.45665222e+02  2.25520093e+03\n",
      "  9.17920410e+02  2.61781055e+03  1.75567139e+03  1.41001526e+02\n",
      " -3.18930626e+01  2.69456494e+03  7.30901489e+01  2.22485010e+03\n",
      "  2.51728442e+03  2.22375781e+03  1.95317688e+03  2.92641406e+03\n",
      "  1.23265186e+03  7.62894470e+02  2.85871899e+03  3.81898608e+03\n",
      "  2.57182129e+03  1.95453210e+03  5.54162646e+03  4.17341943e+03\n",
      "  2.61480298e+03  4.39917236e+03  1.16292944e+03  3.63424469e+02\n",
      "  3.72922668e+02  2.61396924e+03  1.47133240e+03  6.39343933e+02\n",
      "  1.04657764e+03  2.82204053e+03  2.45731934e+03  1.74584949e+03\n",
      "  3.98562231e+03  3.38851025e+03  1.51716782e+02  1.46966968e+03\n",
      "  5.10003564e+03  2.25988647e+03  3.04408478e+02  2.81555884e+03\n",
      "  1.03669666e+03  2.96652075e+03  7.53664551e+01  1.82601123e+03\n",
      "  4.63662598e+03  5.54776428e+02  5.52443604e+02  1.26178598e+01\n",
      "  2.11144995e+03  2.40230103e+02  2.68650488e+03  1.91852502e+03\n",
      "  4.86858398e+03  2.65648096e+03  2.44324585e+03  1.71433398e+03\n",
      "  6.56940137e+03  3.09220483e+03  5.10228027e+02  1.85721326e+03\n",
      "  1.52994452e+01  6.00953674e+02  2.05183594e+03  2.28436182e+03\n",
      "  4.90156787e+03  2.06318701e+03  1.34014185e+03  2.92633984e+03\n",
      "  1.90818896e+03  2.56360327e+03  3.07990649e+03  1.72330847e+03\n",
      "  1.28682959e+03  2.62199072e+03  3.38839282e+03  4.21214697e+03\n",
      "  3.62740112e+02  1.15279382e+03  6.30969336e+03  4.04292847e+03\n",
      "  3.06254364e+02  1.36728467e+03  7.92800476e+02  3.80749664e+02\n",
      "  8.72622375e+02  3.63712915e+03  3.73155640e+03  3.21031470e+03\n",
      "  7.22333313e+02  5.83690369e+02  1.39516504e+03  1.18330493e+03\n",
      "  5.59132324e+03  2.71078052e+03  2.60482812e+03  7.96686340e+02\n",
      "  1.65272815e+03  3.58670264e+03  4.08522485e+03  2.66406665e+03\n",
      "  4.26250830e+03  2.64147095e+03  2.15547656e+03  2.73798511e+03\n",
      "  1.90640222e+03 -2.57951145e+01  1.54050867e+03  4.78756989e+02\n",
      "  1.85150391e+03  3.15781342e+02  1.42176929e+03  2.01219995e+03\n",
      "  6.47158020e+02  2.39358081e+03  5.62484863e+02  1.29062439e+03\n",
      "  1.07207642e+03  1.01403284e+03  2.77956970e+02  1.15257849e+03\n",
      "  1.34757446e+03  1.64999719e+03  4.28023486e+03  2.59185986e+03\n",
      "  4.65536670e+03  1.37926636e+03  2.46475024e+03  3.11336206e+03\n",
      "  2.85307764e+03  2.16276929e+03  2.28790674e+03  3.97454468e+03\n",
      "  9.40562057e+01  5.90083545e+03  2.07841187e+03  1.66079272e+03\n",
      "  7.35482056e+02  1.47544116e+03  1.13066687e+03  2.69597070e+03\n",
      "  3.04070435e+03  3.08637231e+03  1.10089758e+03  1.18720215e+02\n",
      "  3.41830444e+03  1.44059778e+03  1.53067090e+03  3.28356616e+03\n",
      "  3.15904028e+03  2.60069507e+03  2.08518652e+03  5.63413147e+02\n",
      "  2.48377563e+03  5.12327393e+02  6.51921082e+02  9.81301025e+02\n",
      "  2.87707471e+03  1.03412036e+03  1.77627454e+03  2.64506250e+03\n",
      "  2.53285840e+03  2.82344336e+03  1.48706421e+03  3.41717383e+03\n",
      "  3.12802759e+03  5.33664795e+03  2.54761914e+03  2.16163843e+03\n",
      "  2.18181299e+03  3.53347339e+03  2.07053003e+03  4.16583069e+02\n",
      "  2.55582733e+02  2.10360962e+03  6.21343201e+02  2.07768750e+03\n",
      "  6.79023682e+02  2.91647412e+03 -1.68760025e+02  3.17854663e+03\n",
      "  4.61184277e+03  1.34790125e+03  9.16575500e+02  4.32369727e+03\n",
      "  5.31913721e+03  3.87887183e+03  3.03431763e+03  2.91675354e+02\n",
      "  2.51638037e+03  2.97146069e+03  2.62959082e+03  2.07674683e+03\n",
      "  1.58666296e+03  5.60275195e+03  1.02843604e+03  9.37610474e+02\n",
      "  3.36760889e+03  2.64946411e+03  2.01942517e+03  2.42087231e+03\n",
      "  9.39534851e+02  5.15080469e+03  1.39032715e+03  2.35071509e+03\n",
      "  3.35351074e+03  1.72301318e+03  2.85543164e+03  1.91403503e+03\n",
      "  1.74385791e+03  2.63461157e+03  9.51203857e+02  2.95072656e+03\n",
      "  8.96042114e+02  3.13752759e+03  2.74772217e+03  3.40486450e+03\n",
      " -3.77382774e+01  2.12939258e+03  1.26447498e+03  2.89031055e+03\n",
      "  2.58063940e+03  2.79697803e+03  2.08788525e+03  1.14707153e+03\n",
      "  2.15785303e+03  2.73306836e+03  2.03268262e+03  1.36336499e+03\n",
      "  2.78969775e+03  3.10875806e+03  4.28513965e+03  1.62040625e+03\n",
      "  1.60697339e+03  1.27064722e+03  3.45590649e+03  1.38345874e+03\n",
      "  2.04537878e+03  7.57973999e+02  2.78568512e+02  2.88791443e+02\n",
      "  2.78409717e+03  2.15494675e+02  2.30898364e+03  5.35564600e+03\n",
      "  2.31222977e+02  1.49701489e+03  3.38910596e+03 -1.73649235e+01\n",
      " -8.90380173e+01  2.04610583e+03  5.14766113e+03  2.35870532e+03\n",
      "  1.57292065e+03  2.82476758e+03  6.20538879e+02  1.02339117e+03\n",
      "  1.96228699e+03  1.85906543e+03  3.09619067e+03  6.25875122e+02\n",
      " -1.00406723e+01  5.35023340e+03  1.85917749e+03  2.05811304e+03\n",
      "  1.43646582e+03  1.63740759e+03  1.56635242e+03  2.10161353e+03\n",
      "  1.81211450e+03  5.75996216e+02  3.26223358e+02  6.65804321e+02\n",
      "  2.56601099e+03  1.52115198e+03  4.71014258e+03  2.55049121e+03\n",
      "  5.06033356e+02  1.58705054e+03  2.00866675e+03  4.50811084e+03\n",
      "  2.28730347e+03  2.56466992e+03  1.23208240e+03  1.48252734e+03\n",
      "  3.85472095e+03  1.74515466e+03  1.28602441e+03  2.58445898e+03\n",
      "  1.75746448e+03  1.95185059e+03  1.89809631e+02  2.41058325e+03\n",
      "  2.44317432e+03  2.43968170e+02  1.59913574e+03  8.41448547e+02\n",
      "  2.98587158e+03  3.02060547e+03  1.49765576e+03  2.71166772e+03\n",
      "  2.06957153e+03  4.55012158e+03  3.40890625e+03  1.87397156e+03\n",
      "  4.01329614e+03  2.76697052e+02  1.53729358e+03  1.36766638e+03\n",
      "  4.61956696e+02  6.84129700e+02  1.69728577e+03  6.02725098e+02\n",
      "  7.99981567e+02  5.24067188e+03  3.46516040e+03  3.51412793e+03\n",
      "  6.92753845e+02  1.96635254e+03  7.16458923e+02  2.12518823e+03\n",
      "  2.20560596e+03  2.21360474e+03  3.16701245e+03  4.85124359e+02\n",
      "  2.42898926e+02  1.16524426e+03  3.03629492e+03  1.81723853e+03\n",
      "  2.20943945e+03  2.70594165e+03  1.71850378e+03  6.70763184e+03\n",
      "  1.86273669e+03  6.04795947e+03  2.08503955e+03  2.15457544e+03\n",
      "  1.64749268e+02  2.70201562e+03  2.35343994e+03  3.45963257e+02\n",
      "  2.32938126e+02  4.53954053e+03  4.64838330e+03  2.61769440e+02\n",
      "  6.17388489e+02  2.44062817e+03  2.89513599e+03  1.05917981e+03\n",
      "  3.53491382e+03  1.57860632e+03  1.44886633e+03  6.88407910e+03\n",
      "  1.40585144e+03  4.07374487e+03  2.42217114e+03  7.14123154e+01\n",
      "  2.32469482e+03  3.12329175e+03  3.21126929e+03 -9.65126419e+01\n",
      "  3.67842358e+03  1.45549695e+03  4.23514795e+03  1.78566614e+03\n",
      "  1.71230237e+03  1.92403931e+03  6.35377930e+02  2.40969995e+03\n",
      "  5.98645459e+03  2.52936874e+02  1.41910278e+03  5.18360059e+03\n",
      "  2.22511987e+03  1.69245435e+03  3.16137769e+03  1.20321765e+03\n",
      "  3.21800903e+03  3.34877838e+02  8.72482666e+02  8.38175232e+02\n",
      "  1.05555286e+03  2.06900415e+03  3.31827734e+03  2.70537628e+02\n",
      "  2.06011157e+03  9.81595703e+02  4.30675146e+03  1.62186377e+03\n",
      "  2.44743970e+03  2.55007666e+03  2.03852490e+03  1.13924475e+03\n",
      "  2.21766528e+03  2.38203906e+03  7.27721875e+03  5.00934668e+03\n",
      "  4.54772530e+01  4.17134814e+03  1.54005035e+02  3.44021301e+02\n",
      "  4.32042023e+02  5.22495703e+03  2.26111914e+03  3.61980371e+03\n",
      "  2.05370972e+03  3.12143945e+03  1.78906604e+03  3.78041351e+02\n",
      "  4.26671729e+03  3.11007690e+03  1.65315342e+01  2.21576025e+03\n",
      "  2.30505591e+03  4.22051318e+03  1.59796606e+03  1.40738452e+03\n",
      "  3.53490308e+03  2.61581152e+03  3.40805127e+03  3.31079053e+03\n",
      "  9.64099915e+02  1.78738550e+03  2.50842554e+03  1.67370947e+03\n",
      "  1.60405652e+03  1.57880786e+03  2.06744263e+03  8.43143677e+02\n",
      "  9.65382019e+02  3.39794464e+02  2.73933301e+03  1.16071118e+03\n",
      "  1.38480789e+02  1.68282703e+03  1.94128564e+03  2.90088794e+03\n",
      "  1.65268701e+03  3.57131165e+02  2.84146094e+03  1.39129260e+03\n",
      "  7.57541138e+02  2.04242310e+03  4.28948669e+02 -1.91512543e+02\n",
      "  3.24498999e+03  6.60245361e+02  4.87066699e+03  3.58625439e+03\n",
      "  4.51312256e+03  2.42414014e+03  2.53940308e+03  9.80273865e+02\n",
      "  1.30248779e+03]\n"
     ]
    }
   ],
   "source": [
    "pred=regressor.predict(x_val)\n",
    "print(pred)"
   ]
  },
  {
   "cell_type": "code",
   "execution_count": 72,
   "metadata": {},
   "outputs": [
    {
     "name": "stdout",
     "output_type": "stream",
     "text": [
      "[ 1.08188867e+03  6.43390259e+02  8.00606018e+02  4.76854736e+03\n",
      "  1.95154016e+03  5.91191589e+02  6.01784863e+03  1.53535950e+03\n",
      "  1.30913403e+03  3.54556201e+03  1.00418030e+02  1.21366138e+03\n",
      "  4.65248584e+03  7.05703064e+02  8.22574219e+02  5.83602441e+03\n",
      "  1.66284912e+03  2.06961865e+03  2.13744678e+03  2.72125781e+03\n",
      "  3.15712817e+03  2.97778198e+03  3.58097681e+03  2.22224927e+03\n",
      "  3.18457324e+03  1.49115234e+03  3.21189758e+02  4.74977100e+03\n",
      "  3.48299634e+03  4.97637158e+03  5.22920471e+02  2.63935938e+03\n",
      "  2.11359473e+03  2.30600195e+03  2.74222839e+02  1.39372913e+03\n",
      "  9.51813782e+02  2.30183325e+03  1.39229553e+03  2.23137744e+03\n",
      "  2.38917923e+02  2.20056812e+03  1.48711108e+03  1.50152466e+03\n",
      "  2.56779907e+03  1.35942126e+03  8.05586121e+02  9.16114319e+02\n",
      "  4.23693652e+03  2.22035620e+03  9.09771118e+02  2.13693384e+03\n",
      "  8.38225342e+02  2.12141205e+02  4.26214203e+02  1.95203247e+03\n",
      "  2.96183911e+03  1.72493628e+03  3.43590027e+02  4.49198535e+03\n",
      "  1.04722949e+03  7.64197998e+02  2.20471094e+03  2.09424487e+03\n",
      "  3.04812061e+03  2.39918774e+03  5.48433716e+02  4.35200049e+03\n",
      "  5.29762878e+02  1.85313025e+03  8.61072205e+02  2.57746613e+02\n",
      "  4.31265674e+03  2.60847266e+03  1.45831104e+03  1.26314734e+03\n",
      "  2.59788916e+03  1.34636108e+03  2.95296265e+03  2.65485767e+03\n",
      "  6.75029724e+02  3.54533911e+03  3.23828931e+03  2.29171948e+03\n",
      "  3.27834497e+03  2.75516235e+03  3.08144531e+03  1.81530884e+03\n",
      "  3.10264673e+03  2.57545581e+03  5.07595801e+03  9.40067688e+02\n",
      "  1.13228467e+03  1.76848425e+03  7.52078735e+02  7.72036682e+02\n",
      "  6.78509399e+02  5.34621521e+02  1.31756665e+03 -1.66547501e+02\n",
      "  2.75361328e+03  4.10429932e+03  3.11895044e+03  7.60105591e+02\n",
      "  2.42449829e+03  1.01609729e+03  1.14908337e+03  3.12915649e+03\n",
      "  7.44401306e+02  1.45873132e+03  6.15476074e+02  2.74951636e+03\n",
      "  1.43653650e+03  2.58106519e+03  1.51437881e+02  6.28040710e+02\n",
      "  6.46376562e+03  6.71222229e+02  1.86445276e+03  3.06163745e+03\n",
      "  2.60655225e+03  3.35713867e+03  2.01194983e+03  9.95081909e+02\n",
      "  3.37321753e+03  1.71677075e+03 -3.18309212e+01  2.98814307e+03\n",
      "  5.69997803e+02  4.04048877e+03  7.64959229e+02  1.00517804e+03\n",
      "  1.84276831e+03  3.13228784e+03  1.86252209e+03  1.78559265e+03\n",
      "  1.97857373e+03  3.84697852e+03  2.23347974e+03  3.57478174e+03\n",
      "  4.75567969e+03  4.55078027e+03  1.82721240e+03  2.67604468e+03\n",
      "  2.49150122e+03  2.40275122e+03  2.47947900e+03  3.59741064e+03\n",
      "  2.51533716e+03  2.02667859e+03  4.43710968e+02  5.61543518e+02\n",
      "  9.30799805e+02  2.77906348e+03  1.72712570e+02  2.74341431e+03\n",
      "  7.79618225e+01  4.04416211e+03  2.29432959e+03  2.98930151e+03\n",
      "  9.96652679e+01  1.75096838e+03  2.16591064e+03  2.06806421e+03\n",
      "  2.85014844e+03  4.17898193e+02  5.22946045e+03  8.93924133e+02\n",
      "  1.50376404e+03  1.79682275e+03  2.66423999e+03  1.73118945e+03\n",
      "  2.57804858e+03  5.63750122e+02  2.07086548e+03  2.91131665e+03\n",
      "  1.46197070e+03  2.80877051e+03  3.42427612e+03  7.29637878e+02\n",
      "  7.66588135e+02  1.96904816e+02  1.46578052e+03  2.62002588e+03\n",
      "  1.70761169e+03  2.62096265e+03  3.89735291e+02  6.33223999e+02\n",
      "  3.16467944e+03  4.54407318e+02  1.14531055e+03  2.55476978e+03\n",
      "  2.81663672e+03  8.06847290e+02  1.91189819e+03  1.89826611e+03\n",
      "  2.46356030e+03  1.87539197e+03  3.10492798e+03  2.26400854e+03\n",
      "  2.76786987e+03  1.88894617e+03  2.55760742e+03  2.53262500e+03\n",
      "  1.75958521e+03  2.23017749e+03  6.52735596e+02  1.40599939e+03\n",
      "  1.44452332e+03  3.14980054e+03  2.38838696e+03  1.26492920e+03\n",
      "  1.55182935e+03  1.51051111e+03  1.18518677e+03  1.60386551e+02\n",
      "  4.46025098e+03  3.76034619e+03  1.20478271e+03  3.77063330e+03\n",
      "  2.02202112e+03  3.92204053e+03  3.58232007e+03  1.18017224e+03\n",
      "  1.48529565e+03  5.22136670e+03  2.45646265e+03  3.74356689e+03\n",
      "  1.21020630e+03  4.37318018e+03  3.72224609e+03  1.43887476e+03\n",
      "  1.85399292e+03  5.00412903e+02  4.47424463e+03  1.94291016e+03\n",
      "  1.41473914e+03  1.79691748e+03  1.86919214e+03  2.48163867e+03\n",
      "  2.01408264e+03  1.89277307e+03  1.86776025e+03  6.43711365e+02\n",
      "  3.15028833e+03  2.94816016e+03  1.74594604e+03  1.36655930e+02\n",
      "  3.11287769e+03  6.10646790e+02  1.04976270e+03  1.98624414e+03\n",
      "  3.88266235e+03  6.88492798e+02  1.95810669e+03  3.27847876e+03\n",
      "  4.39917236e+03  9.63825195e+02  1.46181030e+03  3.35370880e+02\n",
      "  2.50150171e+03  4.79527051e+03  3.06966357e+03  2.38458740e+02\n",
      "  1.94363660e+03  5.89703003e+02  1.72725159e+03  2.12455518e+03\n",
      "  1.94995935e+03  2.75518359e+03  2.42085986e+03  1.04995251e+03\n",
      "  3.59107520e+03  1.14668739e+02  2.61166724e+03  2.48370825e+03\n",
      "  2.62856018e+02  3.01196289e+03  3.19722974e+03  8.79082886e+02\n",
      "  3.11737573e+03  3.39860864e+03  4.89104980e+03  1.82794495e+03\n",
      "  3.53053027e+03  1.73550989e+03  5.42549683e+02  2.33359863e+03\n",
      "  6.51928040e+02  2.01181824e+03  5.02029004e+03  1.27658582e+03\n",
      "  7.13973193e+03  1.57519885e+03  2.17015234e+03  3.17644775e+03\n",
      "  6.80751953e+02  2.78422095e+03  2.38606491e+02  1.36620605e+03\n",
      "  1.94376099e+02  1.47247266e+03  3.84591846e+03  3.45925342e+03\n",
      "  2.71837085e+03  3.06425830e+03  2.33068024e+02  5.48722107e+02\n",
      "  1.68037781e+03  7.40240784e+01  3.65968433e+03  2.50994507e+03\n",
      "  3.04708710e+02  2.50934189e+02  2.52616333e+02  2.37537427e+03\n",
      "  3.01920386e+03  8.89036316e+02  1.41983374e+03  1.33140332e+03\n",
      "  2.85573584e+03 -2.50249825e+01  3.60745621e+01  1.65560718e+03\n",
      "  1.50663818e+03  2.48957129e+03  2.65061572e+03  5.06859229e+03\n",
      "  1.85425623e+03  1.19122742e+03  3.35646301e+02  4.76367432e+03\n",
      "  1.06227710e+03  1.97065503e+03  3.00751221e+02  1.93248730e+03\n",
      "  2.25279077e+03  3.18453076e+03  3.74111237e+02  5.85198242e+03\n",
      "  3.20676782e+03  2.08024609e+03  8.67953491e+02  6.58931824e+02\n",
      "  4.96299902e+03  3.69950928e+03  4.16163525e+03  3.71920105e+02\n",
      "  4.92649414e+03  7.78921509e+02  6.75849304e+02  1.60982190e+03\n",
      "  8.90511719e+02  1.84676575e+03  1.92343311e+03  5.14980164e+02\n",
      "  1.25820300e+03  1.29299026e+02  2.13654419e+03  1.34166431e+03\n",
      " -4.68602753e+00  1.54670386e+03  8.40122803e+02  2.44263867e+03\n",
      "  1.68408508e+03  2.33024634e+03  3.24789526e+03  4.04419159e+02\n",
      "  4.37056641e+03  3.11271143e+03  3.57459961e+03  1.37562219e+03\n",
      "  1.42880396e+03  2.18243652e+03  1.56653503e+03  1.38641382e+03\n",
      "  2.90791650e+03  2.81671606e+03  1.54863086e+03  2.83022607e+03\n",
      "  3.00003198e+03  2.61924023e+03  4.24329004e+03  5.65275732e+03\n",
      "  2.96687866e+03  7.92244568e+02  4.85727637e+03  3.51876587e+03\n",
      "  1.05929041e+03  2.32370093e+03  9.88737244e+02  6.74984680e+02\n",
      "  3.01482080e+03  1.25285303e+03  4.49385742e+03  2.15706250e+03\n",
      "  3.34832959e+03  3.85966650e+03  1.45665222e+02  2.25520093e+03\n",
      "  9.17920410e+02  2.61781055e+03  1.75567139e+03  1.41001526e+02\n",
      " -3.18930626e+01  2.69456494e+03  7.30901489e+01  2.22485010e+03\n",
      "  2.51728442e+03  2.22375781e+03  1.95317688e+03  2.92641406e+03\n",
      "  1.23265186e+03  7.62894470e+02  2.85871899e+03  3.81898608e+03\n",
      "  2.57182129e+03  1.95453210e+03  5.54162646e+03  4.17341943e+03\n",
      "  2.61480298e+03  4.39917236e+03  1.16292944e+03  3.63424469e+02\n",
      "  3.72922668e+02  2.61396924e+03  1.47133240e+03  6.39343933e+02\n",
      "  1.04657764e+03  2.82204053e+03  2.45731934e+03  1.74584949e+03\n",
      "  3.98562231e+03  3.38851025e+03  1.51716782e+02  1.46966968e+03\n",
      "  5.10003564e+03  2.25988647e+03  3.04408478e+02  2.81555884e+03\n",
      "  1.03669666e+03  2.96652075e+03  7.53664551e+01  1.82601123e+03\n",
      "  4.63662598e+03  5.54776428e+02  5.52443604e+02  1.26178598e+01\n",
      "  2.11144995e+03  2.40230103e+02  2.68650488e+03  1.91852502e+03\n",
      "  4.86858398e+03  2.65648096e+03  2.44324585e+03  1.71433398e+03\n",
      "  6.56940137e+03  3.09220483e+03  5.10228027e+02  1.85721326e+03\n",
      "  1.52994452e+01  6.00953674e+02  2.05183594e+03  2.28436182e+03\n",
      "  4.90156787e+03  2.06318701e+03  1.34014185e+03  2.92633984e+03\n",
      "  1.90818896e+03  2.56360327e+03  3.07990649e+03  1.72330847e+03\n",
      "  1.28682959e+03  2.62199072e+03  3.38839282e+03  4.21214697e+03\n",
      "  3.62740112e+02  1.15279382e+03  6.30969336e+03  4.04292847e+03\n",
      "  3.06254364e+02  1.36728467e+03  7.92800476e+02  3.80749664e+02\n",
      "  8.72622375e+02  3.63712915e+03  3.73155640e+03  3.21031470e+03\n",
      "  7.22333313e+02  5.83690369e+02  1.39516504e+03  1.18330493e+03\n",
      "  5.59132324e+03  2.71078052e+03  2.60482812e+03  7.96686340e+02\n",
      "  1.65272815e+03  3.58670264e+03  4.08522485e+03  2.66406665e+03\n",
      "  4.26250830e+03  2.64147095e+03  2.15547656e+03  2.73798511e+03\n",
      "  1.90640222e+03 -2.57951145e+01  1.54050867e+03  4.78756989e+02\n",
      "  1.85150391e+03  3.15781342e+02  1.42176929e+03  2.01219995e+03\n",
      "  6.47158020e+02  2.39358081e+03  5.62484863e+02  1.29062439e+03\n",
      "  1.07207642e+03  1.01403284e+03  2.77956970e+02  1.15257849e+03\n",
      "  1.34757446e+03  1.64999719e+03  4.28023486e+03  2.59185986e+03\n",
      "  4.65536670e+03  1.37926636e+03  2.46475024e+03  3.11336206e+03\n",
      "  2.85307764e+03  2.16276929e+03  2.28790674e+03  3.97454468e+03\n",
      "  9.40562057e+01  5.90083545e+03  2.07841187e+03  1.66079272e+03\n",
      "  7.35482056e+02  1.47544116e+03  1.13066687e+03  2.69597070e+03\n",
      "  3.04070435e+03  3.08637231e+03  1.10089758e+03  1.18720215e+02\n",
      "  3.41830444e+03  1.44059778e+03  1.53067090e+03  3.28356616e+03\n",
      "  3.15904028e+03  2.60069507e+03  2.08518652e+03  5.63413147e+02\n",
      "  2.48377563e+03  5.12327393e+02  6.51921082e+02  9.81301025e+02\n",
      "  2.87707471e+03  1.03412036e+03  1.77627454e+03  2.64506250e+03\n",
      "  2.53285840e+03  2.82344336e+03  1.48706421e+03  3.41717383e+03\n",
      "  3.12802759e+03  5.33664795e+03  2.54761914e+03  2.16163843e+03\n",
      "  2.18181299e+03  3.53347339e+03  2.07053003e+03  4.16583069e+02\n",
      "  2.55582733e+02  2.10360962e+03  6.21343201e+02  2.07768750e+03\n",
      "  6.79023682e+02  2.91647412e+03 -1.68760025e+02  3.17854663e+03\n",
      "  4.61184277e+03  1.34790125e+03  9.16575500e+02  4.32369727e+03\n",
      "  5.31913721e+03  3.87887183e+03  3.03431763e+03  2.91675354e+02\n",
      "  2.51638037e+03  2.97146069e+03  2.62959082e+03  2.07674683e+03\n",
      "  1.58666296e+03  5.60275195e+03  1.02843604e+03  9.37610474e+02\n",
      "  3.36760889e+03  2.64946411e+03  2.01942517e+03  2.42087231e+03\n",
      "  9.39534851e+02  5.15080469e+03  1.39032715e+03  2.35071509e+03\n",
      "  3.35351074e+03  1.72301318e+03  2.85543164e+03  1.91403503e+03\n",
      "  1.74385791e+03  2.63461157e+03  9.51203857e+02  2.95072656e+03\n",
      "  8.96042114e+02  3.13752759e+03  2.74772217e+03  3.40486450e+03\n",
      " -3.77382774e+01  2.12939258e+03  1.26447498e+03  2.89031055e+03\n",
      "  2.58063940e+03  2.79697803e+03  2.08788525e+03  1.14707153e+03\n",
      "  2.15785303e+03  2.73306836e+03  2.03268262e+03  1.36336499e+03\n",
      "  2.78969775e+03  3.10875806e+03  4.28513965e+03  1.62040625e+03\n",
      "  1.60697339e+03  1.27064722e+03  3.45590649e+03  1.38345874e+03\n",
      "  2.04537878e+03  7.57973999e+02  2.78568512e+02  2.88791443e+02\n",
      "  2.78409717e+03  2.15494675e+02  2.30898364e+03  5.35564600e+03\n",
      "  2.31222977e+02  1.49701489e+03  3.38910596e+03 -1.73649235e+01\n",
      " -8.90380173e+01  2.04610583e+03  5.14766113e+03  2.35870532e+03\n",
      "  1.57292065e+03  2.82476758e+03  6.20538879e+02  1.02339117e+03\n",
      "  1.96228699e+03  1.85906543e+03  3.09619067e+03  6.25875122e+02\n",
      " -1.00406723e+01  5.35023340e+03  1.85917749e+03  2.05811304e+03\n",
      "  1.43646582e+03  1.63740759e+03  1.56635242e+03  2.10161353e+03\n",
      "  1.81211450e+03  5.75996216e+02  3.26223358e+02  6.65804321e+02\n",
      "  2.56601099e+03  1.52115198e+03  4.71014258e+03  2.55049121e+03\n",
      "  5.06033356e+02  1.58705054e+03  2.00866675e+03  4.50811084e+03\n",
      "  2.28730347e+03  2.56466992e+03  1.23208240e+03  1.48252734e+03\n",
      "  3.85472095e+03  1.74515466e+03  1.28602441e+03  2.58445898e+03\n",
      "  1.75746448e+03  1.95185059e+03  1.89809631e+02  2.41058325e+03\n",
      "  2.44317432e+03  2.43968170e+02  1.59913574e+03  8.41448547e+02\n",
      "  2.98587158e+03  3.02060547e+03  1.49765576e+03  2.71166772e+03\n",
      "  2.06957153e+03  4.55012158e+03  3.40890625e+03  1.87397156e+03\n",
      "  4.01329614e+03  2.76697052e+02  1.53729358e+03  1.36766638e+03\n",
      "  4.61956696e+02  6.84129700e+02  1.69728577e+03  6.02725098e+02\n",
      "  7.99981567e+02  5.24067188e+03  3.46516040e+03  3.51412793e+03\n",
      "  6.92753845e+02  1.96635254e+03  7.16458923e+02  2.12518823e+03\n",
      "  2.20560596e+03  2.21360474e+03  3.16701245e+03  4.85124359e+02\n",
      "  2.42898926e+02  1.16524426e+03  3.03629492e+03  1.81723853e+03\n",
      "  2.20943945e+03  2.70594165e+03  1.71850378e+03  6.70763184e+03\n",
      "  1.86273669e+03  6.04795947e+03  2.08503955e+03  2.15457544e+03\n",
      "  1.64749268e+02  2.70201562e+03  2.35343994e+03  3.45963257e+02\n",
      "  2.32938126e+02  4.53954053e+03  4.64838330e+03  2.61769440e+02\n",
      "  6.17388489e+02  2.44062817e+03  2.89513599e+03  1.05917981e+03\n",
      "  3.53491382e+03  1.57860632e+03  1.44886633e+03  6.88407910e+03\n",
      "  1.40585144e+03  4.07374487e+03  2.42217114e+03  7.14123154e+01\n",
      "  2.32469482e+03  3.12329175e+03  3.21126929e+03 -9.65126419e+01\n",
      "  3.67842358e+03  1.45549695e+03  4.23514795e+03  1.78566614e+03\n",
      "  1.71230237e+03  1.92403931e+03  6.35377930e+02  2.40969995e+03\n",
      "  5.98645459e+03  2.52936874e+02  1.41910278e+03  5.18360059e+03\n",
      "  2.22511987e+03  1.69245435e+03  3.16137769e+03  1.20321765e+03\n",
      "  3.21800903e+03  3.34877838e+02  8.72482666e+02  8.38175232e+02\n",
      "  1.05555286e+03  2.06900415e+03  3.31827734e+03  2.70537628e+02\n",
      "  2.06011157e+03  9.81595703e+02  4.30675146e+03  1.62186377e+03\n",
      "  2.44743970e+03  2.55007666e+03  2.03852490e+03  1.13924475e+03\n",
      "  2.21766528e+03  2.38203906e+03  7.27721875e+03  5.00934668e+03\n",
      "  4.54772530e+01  4.17134814e+03  1.54005035e+02  3.44021301e+02\n",
      "  4.32042023e+02  5.22495703e+03  2.26111914e+03  3.61980371e+03\n",
      "  2.05370972e+03  3.12143945e+03  1.78906604e+03  3.78041351e+02\n",
      "  4.26671729e+03  3.11007690e+03  1.65315342e+01  2.21576025e+03\n",
      "  2.30505591e+03  4.22051318e+03  1.59796606e+03  1.40738452e+03\n",
      "  3.53490308e+03  2.61581152e+03  3.40805127e+03  3.31079053e+03\n",
      "  9.64099915e+02  1.78738550e+03  2.50842554e+03  1.67370947e+03\n",
      "  1.60405652e+03  1.57880786e+03  2.06744263e+03  8.43143677e+02\n",
      "  9.65382019e+02  3.39794464e+02  2.73933301e+03  1.16071118e+03\n",
      "  1.38480789e+02  1.68282703e+03  1.94128564e+03  2.90088794e+03\n",
      "  1.65268701e+03  3.57131165e+02  2.84146094e+03  1.39129260e+03\n",
      "  7.57541138e+02  2.04242310e+03  4.28948669e+02 -1.91512543e+02\n",
      "  3.24498999e+03  6.60245361e+02  4.87066699e+03  3.58625439e+03\n",
      "  4.51312256e+03  2.42414014e+03  2.53940308e+03  9.80273865e+02\n",
      "  1.30248779e+03]\n"
     ]
    }
   ],
   "source": [
    "print(pred)"
   ]
  },
  {
   "cell_type": "code",
   "execution_count": 73,
   "metadata": {},
   "outputs": [
    {
     "data": {
      "text/plain": [
       "0.8276800021877323"
      ]
     },
     "execution_count": 73,
     "metadata": {},
     "output_type": "execute_result"
    }
   ],
   "source": [
    "regressor.score(x_train,y_train)"
   ]
  },
  {
   "cell_type": "code",
   "execution_count": null,
   "metadata": {},
   "outputs": [],
   "source": []
  }
 ],
 "metadata": {
  "accelerator": "GPU",
  "colab": {
   "collapsed_sections": [],
   "include_colab_link": true,
   "name": " Big Mart Sales Prediction.ipynb",
   "provenance": [],
   "version": "0.3.2"
  },
  "kernelspec": {
   "display_name": "Python 3",
   "language": "python",
   "name": "python3"
  },
  "language_info": {
   "codemirror_mode": {
    "name": "ipython",
    "version": 3
   },
   "file_extension": ".py",
   "mimetype": "text/x-python",
   "name": "python",
   "nbconvert_exporter": "python",
   "pygments_lexer": "ipython3",
   "version": "3.6.9"
  }
 },
 "nbformat": 4,
 "nbformat_minor": 1
}
